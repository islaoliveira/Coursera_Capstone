{
 "cells": [
  {
   "cell_type": "markdown",
   "metadata": {},
   "source": [
    "# Segmenting and Clustering Neighborhoods in Toronto"
   ]
  },
  {
   "cell_type": "markdown",
   "metadata": {},
   "source": [
    "## Part 1"
   ]
  },
  {
   "cell_type": "code",
   "execution_count": 90,
   "metadata": {},
   "outputs": [],
   "source": [
    "import pandas as pd\n",
    "import numpy as np"
   ]
  },
  {
   "cell_type": "code",
   "execution_count": 91,
   "metadata": {},
   "outputs": [
    {
     "data": {
      "text/html": [
       "<div>\n",
       "<style scoped>\n",
       "    .dataframe tbody tr th:only-of-type {\n",
       "        vertical-align: middle;\n",
       "    }\n",
       "\n",
       "    .dataframe tbody tr th {\n",
       "        vertical-align: top;\n",
       "    }\n",
       "\n",
       "    .dataframe thead th {\n",
       "        text-align: right;\n",
       "    }\n",
       "</style>\n",
       "<table border=\"1\" class=\"dataframe\">\n",
       "  <thead>\n",
       "    <tr style=\"text-align: right;\">\n",
       "      <th></th>\n",
       "      <th>Postcode</th>\n",
       "      <th>Borough</th>\n",
       "      <th>Neighbourhood</th>\n",
       "    </tr>\n",
       "  </thead>\n",
       "  <tbody>\n",
       "    <tr>\n",
       "      <th>0</th>\n",
       "      <td>M1A</td>\n",
       "      <td>Not assigned</td>\n",
       "      <td>Not assigned</td>\n",
       "    </tr>\n",
       "    <tr>\n",
       "      <th>1</th>\n",
       "      <td>M2A</td>\n",
       "      <td>Not assigned</td>\n",
       "      <td>Not assigned</td>\n",
       "    </tr>\n",
       "    <tr>\n",
       "      <th>2</th>\n",
       "      <td>M3A</td>\n",
       "      <td>North York</td>\n",
       "      <td>Parkwoods</td>\n",
       "    </tr>\n",
       "    <tr>\n",
       "      <th>3</th>\n",
       "      <td>M4A</td>\n",
       "      <td>North York</td>\n",
       "      <td>Victoria Village</td>\n",
       "    </tr>\n",
       "    <tr>\n",
       "      <th>4</th>\n",
       "      <td>M5A</td>\n",
       "      <td>Downtown Toronto</td>\n",
       "      <td>Harbourfront</td>\n",
       "    </tr>\n",
       "  </tbody>\n",
       "</table>\n",
       "</div>"
      ],
      "text/plain": [
       "  Postcode           Borough     Neighbourhood\n",
       "0      M1A      Not assigned      Not assigned\n",
       "1      M2A      Not assigned      Not assigned\n",
       "2      M3A        North York         Parkwoods\n",
       "3      M4A        North York  Victoria Village\n",
       "4      M5A  Downtown Toronto      Harbourfront"
      ]
     },
     "execution_count": 91,
     "metadata": {},
     "output_type": "execute_result"
    }
   ],
   "source": [
    "raw_df = pd.read_html('https://en.wikipedia.org/w/index.php?title=List_of_postal_codes_of_Canada:_M&direction=next&oldid=942655364')\n",
    "df=raw_df[0]\n",
    "df.head(5)"
   ]
  },
  {
   "cell_type": "code",
   "execution_count": 92,
   "metadata": {},
   "outputs": [
    {
     "data": {
      "text/html": [
       "<div>\n",
       "<style scoped>\n",
       "    .dataframe tbody tr th:only-of-type {\n",
       "        vertical-align: middle;\n",
       "    }\n",
       "\n",
       "    .dataframe tbody tr th {\n",
       "        vertical-align: top;\n",
       "    }\n",
       "\n",
       "    .dataframe thead th {\n",
       "        text-align: right;\n",
       "    }\n",
       "</style>\n",
       "<table border=\"1\" class=\"dataframe\">\n",
       "  <thead>\n",
       "    <tr style=\"text-align: right;\">\n",
       "      <th></th>\n",
       "      <th>Postcode</th>\n",
       "      <th>Borough</th>\n",
       "      <th>Neighbourhood</th>\n",
       "    </tr>\n",
       "  </thead>\n",
       "  <tbody>\n",
       "    <tr>\n",
       "      <th>0</th>\n",
       "      <td>M3A</td>\n",
       "      <td>North York</td>\n",
       "      <td>Parkwoods</td>\n",
       "    </tr>\n",
       "    <tr>\n",
       "      <th>1</th>\n",
       "      <td>M4A</td>\n",
       "      <td>North York</td>\n",
       "      <td>Victoria Village</td>\n",
       "    </tr>\n",
       "    <tr>\n",
       "      <th>2</th>\n",
       "      <td>M5A</td>\n",
       "      <td>Downtown Toronto</td>\n",
       "      <td>Harbourfront</td>\n",
       "    </tr>\n",
       "    <tr>\n",
       "      <th>3</th>\n",
       "      <td>M6A</td>\n",
       "      <td>North York</td>\n",
       "      <td>Lawrence Heights</td>\n",
       "    </tr>\n",
       "    <tr>\n",
       "      <th>4</th>\n",
       "      <td>M6A</td>\n",
       "      <td>North York</td>\n",
       "      <td>Lawrence Manor</td>\n",
       "    </tr>\n",
       "  </tbody>\n",
       "</table>\n",
       "</div>"
      ],
      "text/plain": [
       "  Postcode           Borough     Neighbourhood\n",
       "0      M3A        North York         Parkwoods\n",
       "1      M4A        North York  Victoria Village\n",
       "2      M5A  Downtown Toronto      Harbourfront\n",
       "3      M6A        North York  Lawrence Heights\n",
       "4      M6A        North York    Lawrence Manor"
      ]
     },
     "execution_count": 92,
     "metadata": {},
     "output_type": "execute_result"
    }
   ],
   "source": [
    "df_cleaned = df[df['Borough'] != 'Not assigned'].reset_index(drop=True)\n",
    "df_cleaned.head(5)"
   ]
  },
  {
   "cell_type": "code",
   "execution_count": 93,
   "metadata": {},
   "outputs": [
    {
     "data": {
      "text/html": [
       "<div>\n",
       "<style scoped>\n",
       "    .dataframe tbody tr th:only-of-type {\n",
       "        vertical-align: middle;\n",
       "    }\n",
       "\n",
       "    .dataframe tbody tr th {\n",
       "        vertical-align: top;\n",
       "    }\n",
       "\n",
       "    .dataframe thead th {\n",
       "        text-align: right;\n",
       "    }\n",
       "</style>\n",
       "<table border=\"1\" class=\"dataframe\">\n",
       "  <thead>\n",
       "    <tr style=\"text-align: right;\">\n",
       "      <th></th>\n",
       "      <th>Postcode</th>\n",
       "      <th>Borough</th>\n",
       "      <th>Neighbourhood</th>\n",
       "    </tr>\n",
       "  </thead>\n",
       "  <tbody>\n",
       "    <tr>\n",
       "      <th>0</th>\n",
       "      <td>M3A</td>\n",
       "      <td>North York</td>\n",
       "      <td>Parkwoods</td>\n",
       "    </tr>\n",
       "    <tr>\n",
       "      <th>1</th>\n",
       "      <td>M4A</td>\n",
       "      <td>North York</td>\n",
       "      <td>Victoria Village</td>\n",
       "    </tr>\n",
       "    <tr>\n",
       "      <th>2</th>\n",
       "      <td>M5A</td>\n",
       "      <td>Downtown Toronto</td>\n",
       "      <td>Harbourfront</td>\n",
       "    </tr>\n",
       "    <tr>\n",
       "      <th>3</th>\n",
       "      <td>M6A</td>\n",
       "      <td>North York</td>\n",
       "      <td>Lawrence Heights, Lawrence Manor</td>\n",
       "    </tr>\n",
       "    <tr>\n",
       "      <th>4</th>\n",
       "      <td>M7A</td>\n",
       "      <td>Downtown Toronto</td>\n",
       "      <td>Queen's Park</td>\n",
       "    </tr>\n",
       "  </tbody>\n",
       "</table>\n",
       "</div>"
      ],
      "text/plain": [
       "  Postcode           Borough                     Neighbourhood\n",
       "0      M3A        North York                         Parkwoods\n",
       "1      M4A        North York                  Victoria Village\n",
       "2      M5A  Downtown Toronto                      Harbourfront\n",
       "3      M6A        North York  Lawrence Heights, Lawrence Manor\n",
       "4      M7A  Downtown Toronto                      Queen's Park"
      ]
     },
     "execution_count": 93,
     "metadata": {},
     "output_type": "execute_result"
    }
   ],
   "source": [
    "df_cleaned = df_cleaned.groupby(['Postcode', 'Borough'], sort = False).agg(lambda x: ', '.join(x))\n",
    "df_cleaned = df_cleaned.reset_index()\n",
    "df_cleaned.head(5)"
   ]
  },
  {
   "cell_type": "code",
   "execution_count": 94,
   "metadata": {},
   "outputs": [
    {
     "data": {
      "text/plain": [
       "(103, 3)"
      ]
     },
     "execution_count": 94,
     "metadata": {},
     "output_type": "execute_result"
    }
   ],
   "source": [
    "df_cleaned.shape"
   ]
  },
  {
   "cell_type": "markdown",
   "metadata": {},
   "source": [
    "## Part 2"
   ]
  },
  {
   "cell_type": "code",
   "execution_count": 95,
   "metadata": {},
   "outputs": [
    {
     "data": {
      "text/html": [
       "<div>\n",
       "<style scoped>\n",
       "    .dataframe tbody tr th:only-of-type {\n",
       "        vertical-align: middle;\n",
       "    }\n",
       "\n",
       "    .dataframe tbody tr th {\n",
       "        vertical-align: top;\n",
       "    }\n",
       "\n",
       "    .dataframe thead th {\n",
       "        text-align: right;\n",
       "    }\n",
       "</style>\n",
       "<table border=\"1\" class=\"dataframe\">\n",
       "  <thead>\n",
       "    <tr style=\"text-align: right;\">\n",
       "      <th></th>\n",
       "      <th>Postal Code</th>\n",
       "      <th>Latitude</th>\n",
       "      <th>Longitude</th>\n",
       "    </tr>\n",
       "  </thead>\n",
       "  <tbody>\n",
       "    <tr>\n",
       "      <th>0</th>\n",
       "      <td>M1B</td>\n",
       "      <td>43.806686</td>\n",
       "      <td>-79.194353</td>\n",
       "    </tr>\n",
       "    <tr>\n",
       "      <th>1</th>\n",
       "      <td>M1C</td>\n",
       "      <td>43.784535</td>\n",
       "      <td>-79.160497</td>\n",
       "    </tr>\n",
       "    <tr>\n",
       "      <th>2</th>\n",
       "      <td>M1E</td>\n",
       "      <td>43.763573</td>\n",
       "      <td>-79.188711</td>\n",
       "    </tr>\n",
       "    <tr>\n",
       "      <th>3</th>\n",
       "      <td>M1G</td>\n",
       "      <td>43.770992</td>\n",
       "      <td>-79.216917</td>\n",
       "    </tr>\n",
       "    <tr>\n",
       "      <th>4</th>\n",
       "      <td>M1H</td>\n",
       "      <td>43.773136</td>\n",
       "      <td>-79.239476</td>\n",
       "    </tr>\n",
       "  </tbody>\n",
       "</table>\n",
       "</div>"
      ],
      "text/plain": [
       "  Postal Code   Latitude  Longitude\n",
       "0         M1B  43.806686 -79.194353\n",
       "1         M1C  43.784535 -79.160497\n",
       "2         M1E  43.763573 -79.188711\n",
       "3         M1G  43.770992 -79.216917\n",
       "4         M1H  43.773136 -79.239476"
      ]
     },
     "execution_count": 95,
     "metadata": {},
     "output_type": "execute_result"
    }
   ],
   "source": [
    "location = pd.read_csv('http://cocl.us/Geospatial_data')\n",
    "location.head()"
   ]
  },
  {
   "cell_type": "code",
   "execution_count": 96,
   "metadata": {},
   "outputs": [
    {
     "data": {
      "text/html": [
       "<div>\n",
       "<style scoped>\n",
       "    .dataframe tbody tr th:only-of-type {\n",
       "        vertical-align: middle;\n",
       "    }\n",
       "\n",
       "    .dataframe tbody tr th {\n",
       "        vertical-align: top;\n",
       "    }\n",
       "\n",
       "    .dataframe thead th {\n",
       "        text-align: right;\n",
       "    }\n",
       "</style>\n",
       "<table border=\"1\" class=\"dataframe\">\n",
       "  <thead>\n",
       "    <tr style=\"text-align: right;\">\n",
       "      <th></th>\n",
       "      <th>Postcode</th>\n",
       "      <th>Borough</th>\n",
       "      <th>Neighbourhood</th>\n",
       "      <th>Latitude</th>\n",
       "      <th>Longitude</th>\n",
       "    </tr>\n",
       "  </thead>\n",
       "  <tbody>\n",
       "    <tr>\n",
       "      <th>0</th>\n",
       "      <td>M3A</td>\n",
       "      <td>North York</td>\n",
       "      <td>Parkwoods</td>\n",
       "      <td>43.753259</td>\n",
       "      <td>-79.329656</td>\n",
       "    </tr>\n",
       "    <tr>\n",
       "      <th>1</th>\n",
       "      <td>M4A</td>\n",
       "      <td>North York</td>\n",
       "      <td>Victoria Village</td>\n",
       "      <td>43.725882</td>\n",
       "      <td>-79.315572</td>\n",
       "    </tr>\n",
       "    <tr>\n",
       "      <th>2</th>\n",
       "      <td>M5A</td>\n",
       "      <td>Downtown Toronto</td>\n",
       "      <td>Harbourfront</td>\n",
       "      <td>43.654260</td>\n",
       "      <td>-79.360636</td>\n",
       "    </tr>\n",
       "    <tr>\n",
       "      <th>3</th>\n",
       "      <td>M6A</td>\n",
       "      <td>North York</td>\n",
       "      <td>Lawrence Heights, Lawrence Manor</td>\n",
       "      <td>43.718518</td>\n",
       "      <td>-79.464763</td>\n",
       "    </tr>\n",
       "    <tr>\n",
       "      <th>4</th>\n",
       "      <td>M7A</td>\n",
       "      <td>Downtown Toronto</td>\n",
       "      <td>Queen's Park</td>\n",
       "      <td>43.662301</td>\n",
       "      <td>-79.389494</td>\n",
       "    </tr>\n",
       "    <tr>\n",
       "      <th>5</th>\n",
       "      <td>M9A</td>\n",
       "      <td>Etobicoke</td>\n",
       "      <td>Islington Avenue</td>\n",
       "      <td>43.667856</td>\n",
       "      <td>-79.532242</td>\n",
       "    </tr>\n",
       "    <tr>\n",
       "      <th>6</th>\n",
       "      <td>M1B</td>\n",
       "      <td>Scarborough</td>\n",
       "      <td>Rouge, Malvern</td>\n",
       "      <td>43.806686</td>\n",
       "      <td>-79.194353</td>\n",
       "    </tr>\n",
       "    <tr>\n",
       "      <th>7</th>\n",
       "      <td>M3B</td>\n",
       "      <td>North York</td>\n",
       "      <td>Don Mills North</td>\n",
       "      <td>43.745906</td>\n",
       "      <td>-79.352188</td>\n",
       "    </tr>\n",
       "    <tr>\n",
       "      <th>8</th>\n",
       "      <td>M4B</td>\n",
       "      <td>East York</td>\n",
       "      <td>Woodbine Gardens, Parkview Hill</td>\n",
       "      <td>43.706397</td>\n",
       "      <td>-79.309937</td>\n",
       "    </tr>\n",
       "    <tr>\n",
       "      <th>9</th>\n",
       "      <td>M5B</td>\n",
       "      <td>Downtown Toronto</td>\n",
       "      <td>Ryerson, Garden District</td>\n",
       "      <td>43.657162</td>\n",
       "      <td>-79.378937</td>\n",
       "    </tr>\n",
       "  </tbody>\n",
       "</table>\n",
       "</div>"
      ],
      "text/plain": [
       "  Postcode           Borough                     Neighbourhood   Latitude  \\\n",
       "0      M3A        North York                         Parkwoods  43.753259   \n",
       "1      M4A        North York                  Victoria Village  43.725882   \n",
       "2      M5A  Downtown Toronto                      Harbourfront  43.654260   \n",
       "3      M6A        North York  Lawrence Heights, Lawrence Manor  43.718518   \n",
       "4      M7A  Downtown Toronto                      Queen's Park  43.662301   \n",
       "5      M9A         Etobicoke                  Islington Avenue  43.667856   \n",
       "6      M1B       Scarborough                    Rouge, Malvern  43.806686   \n",
       "7      M3B        North York                   Don Mills North  43.745906   \n",
       "8      M4B         East York   Woodbine Gardens, Parkview Hill  43.706397   \n",
       "9      M5B  Downtown Toronto          Ryerson, Garden District  43.657162   \n",
       "\n",
       "   Longitude  \n",
       "0 -79.329656  \n",
       "1 -79.315572  \n",
       "2 -79.360636  \n",
       "3 -79.464763  \n",
       "4 -79.389494  \n",
       "5 -79.532242  \n",
       "6 -79.194353  \n",
       "7 -79.352188  \n",
       "8 -79.309937  \n",
       "9 -79.378937  "
      ]
     },
     "execution_count": 96,
     "metadata": {},
     "output_type": "execute_result"
    }
   ],
   "source": [
    "df_w_location = df_cleaned.merge(location,left_on='Postcode',right_on='Postal Code')\n",
    "new_df = df_w_location.drop(['Postal Code'], axis = 1)\n",
    "new_df.head(10)"
   ]
  },
  {
   "cell_type": "markdown",
   "metadata": {},
   "source": [
    "## Part 3"
   ]
  },
  {
   "cell_type": "code",
   "execution_count": 97,
   "metadata": {},
   "outputs": [
    {
     "data": {
      "text/plain": [
       "array(['North York', 'Downtown Toronto', 'Etobicoke', 'Scarborough',\n",
       "       'East York', 'York', 'East Toronto', 'West Toronto',\n",
       "       'Central Toronto', 'Mississauga'], dtype=object)"
      ]
     },
     "execution_count": 97,
     "metadata": {},
     "output_type": "execute_result"
    }
   ],
   "source": [
    "new_df['Borough'].unique()"
   ]
  },
  {
   "cell_type": "code",
   "execution_count": 98,
   "metadata": {},
   "outputs": [
    {
     "data": {
      "text/html": [
       "<div>\n",
       "<style scoped>\n",
       "    .dataframe tbody tr th:only-of-type {\n",
       "        vertical-align: middle;\n",
       "    }\n",
       "\n",
       "    .dataframe tbody tr th {\n",
       "        vertical-align: top;\n",
       "    }\n",
       "\n",
       "    .dataframe thead th {\n",
       "        text-align: right;\n",
       "    }\n",
       "</style>\n",
       "<table border=\"1\" class=\"dataframe\">\n",
       "  <thead>\n",
       "    <tr style=\"text-align: right;\">\n",
       "      <th></th>\n",
       "      <th>Postcode</th>\n",
       "      <th>Borough</th>\n",
       "      <th>Neighbourhood</th>\n",
       "      <th>Latitude</th>\n",
       "      <th>Longitude</th>\n",
       "    </tr>\n",
       "  </thead>\n",
       "  <tbody>\n",
       "    <tr>\n",
       "      <th>2</th>\n",
       "      <td>M5A</td>\n",
       "      <td>Downtown Toronto</td>\n",
       "      <td>Harbourfront</td>\n",
       "      <td>43.654260</td>\n",
       "      <td>-79.360636</td>\n",
       "    </tr>\n",
       "    <tr>\n",
       "      <th>4</th>\n",
       "      <td>M7A</td>\n",
       "      <td>Downtown Toronto</td>\n",
       "      <td>Queen's Park</td>\n",
       "      <td>43.662301</td>\n",
       "      <td>-79.389494</td>\n",
       "    </tr>\n",
       "    <tr>\n",
       "      <th>9</th>\n",
       "      <td>M5B</td>\n",
       "      <td>Downtown Toronto</td>\n",
       "      <td>Ryerson, Garden District</td>\n",
       "      <td>43.657162</td>\n",
       "      <td>-79.378937</td>\n",
       "    </tr>\n",
       "    <tr>\n",
       "      <th>15</th>\n",
       "      <td>M5C</td>\n",
       "      <td>Downtown Toronto</td>\n",
       "      <td>St. James Town</td>\n",
       "      <td>43.651494</td>\n",
       "      <td>-79.375418</td>\n",
       "    </tr>\n",
       "    <tr>\n",
       "      <th>19</th>\n",
       "      <td>M4E</td>\n",
       "      <td>East Toronto</td>\n",
       "      <td>The Beaches</td>\n",
       "      <td>43.676357</td>\n",
       "      <td>-79.293031</td>\n",
       "    </tr>\n",
       "  </tbody>\n",
       "</table>\n",
       "</div>"
      ],
      "text/plain": [
       "   Postcode           Borough             Neighbourhood   Latitude  Longitude\n",
       "2       M5A  Downtown Toronto              Harbourfront  43.654260 -79.360636\n",
       "4       M7A  Downtown Toronto              Queen's Park  43.662301 -79.389494\n",
       "9       M5B  Downtown Toronto  Ryerson, Garden District  43.657162 -79.378937\n",
       "15      M5C  Downtown Toronto            St. James Town  43.651494 -79.375418\n",
       "19      M4E      East Toronto               The Beaches  43.676357 -79.293031"
      ]
     },
     "execution_count": 98,
     "metadata": {},
     "output_type": "execute_result"
    }
   ],
   "source": [
    "new_df[new_df['Borough'].astype(str).str.contains('Toronto')].head()"
   ]
  },
  {
   "cell_type": "code",
   "execution_count": 99,
   "metadata": {},
   "outputs": [
    {
     "data": {
      "text/html": [
       "<div>\n",
       "<style scoped>\n",
       "    .dataframe tbody tr th:only-of-type {\n",
       "        vertical-align: middle;\n",
       "    }\n",
       "\n",
       "    .dataframe tbody tr th {\n",
       "        vertical-align: top;\n",
       "    }\n",
       "\n",
       "    .dataframe thead th {\n",
       "        text-align: right;\n",
       "    }\n",
       "</style>\n",
       "<table border=\"1\" class=\"dataframe\">\n",
       "  <thead>\n",
       "    <tr style=\"text-align: right;\">\n",
       "      <th></th>\n",
       "      <th>Postcode</th>\n",
       "      <th>Borough</th>\n",
       "      <th>Neighbourhood</th>\n",
       "      <th>Latitude</th>\n",
       "      <th>Longitude</th>\n",
       "    </tr>\n",
       "  </thead>\n",
       "  <tbody>\n",
       "    <tr>\n",
       "      <th>0</th>\n",
       "      <td>M3A</td>\n",
       "      <td>North York</td>\n",
       "      <td>Parkwoods</td>\n",
       "      <td>43.753259</td>\n",
       "      <td>-79.329656</td>\n",
       "    </tr>\n",
       "    <tr>\n",
       "      <th>1</th>\n",
       "      <td>M4A</td>\n",
       "      <td>North York</td>\n",
       "      <td>Victoria Village</td>\n",
       "      <td>43.725882</td>\n",
       "      <td>-79.315572</td>\n",
       "    </tr>\n",
       "    <tr>\n",
       "      <th>2</th>\n",
       "      <td>M5A</td>\n",
       "      <td>Downtown Toronto</td>\n",
       "      <td>Harbourfront</td>\n",
       "      <td>43.654260</td>\n",
       "      <td>-79.360636</td>\n",
       "    </tr>\n",
       "    <tr>\n",
       "      <th>3</th>\n",
       "      <td>M6A</td>\n",
       "      <td>North York</td>\n",
       "      <td>Lawrence Heights, Lawrence Manor</td>\n",
       "      <td>43.718518</td>\n",
       "      <td>-79.464763</td>\n",
       "    </tr>\n",
       "    <tr>\n",
       "      <th>4</th>\n",
       "      <td>M7A</td>\n",
       "      <td>Downtown Toronto</td>\n",
       "      <td>Queen's Park</td>\n",
       "      <td>43.662301</td>\n",
       "      <td>-79.389494</td>\n",
       "    </tr>\n",
       "  </tbody>\n",
       "</table>\n",
       "</div>"
      ],
      "text/plain": [
       "  Postcode           Borough                     Neighbourhood   Latitude  \\\n",
       "0      M3A        North York                         Parkwoods  43.753259   \n",
       "1      M4A        North York                  Victoria Village  43.725882   \n",
       "2      M5A  Downtown Toronto                      Harbourfront  43.654260   \n",
       "3      M6A        North York  Lawrence Heights, Lawrence Manor  43.718518   \n",
       "4      M7A  Downtown Toronto                      Queen's Park  43.662301   \n",
       "\n",
       "   Longitude  \n",
       "0 -79.329656  \n",
       "1 -79.315572  \n",
       "2 -79.360636  \n",
       "3 -79.464763  \n",
       "4 -79.389494  "
      ]
     },
     "execution_count": 99,
     "metadata": {},
     "output_type": "execute_result"
    }
   ],
   "source": [
    "new_df.reset_index()\n",
    "new_df.head()"
   ]
  },
  {
   "cell_type": "code",
   "execution_count": 100,
   "metadata": {},
   "outputs": [],
   "source": [
    "import folium"
   ]
  },
  {
   "cell_type": "code",
   "execution_count": 101,
   "metadata": {},
   "outputs": [],
   "source": [
    "latitude = 43.651070\n",
    "longitude = -79.347015\n",
    "map_toronto = folium.Map(location=[latitude, longitude], zoom_start=11)"
   ]
  },
  {
   "cell_type": "code",
   "execution_count": 102,
   "metadata": {},
   "outputs": [
    {
     "data": {
      "text/html": [
       "<div style=\"width:100%;\"><div style=\"position:relative;width:100%;height:0;padding-bottom:60%;\"><span style=\"color:#565656\">Make this Notebook Trusted to load map: File -> Trust Notebook</span><iframe src=\"about:blank\" style=\"position:absolute;width:100%;height:100%;left:0;top:0;border:none !important;\" data-html=PCFET0NUWVBFIGh0bWw+CjxoZWFkPiAgICAKICAgIDxtZXRhIGh0dHAtZXF1aXY9ImNvbnRlbnQtdHlwZSIgY29udGVudD0idGV4dC9odG1sOyBjaGFyc2V0PVVURi04IiAvPgogICAgCiAgICAgICAgPHNjcmlwdD4KICAgICAgICAgICAgTF9OT19UT1VDSCA9IGZhbHNlOwogICAgICAgICAgICBMX0RJU0FCTEVfM0QgPSBmYWxzZTsKICAgICAgICA8L3NjcmlwdD4KICAgIAogICAgPHNjcmlwdCBzcmM9Imh0dHBzOi8vY2RuLmpzZGVsaXZyLm5ldC9ucG0vbGVhZmxldEAxLjYuMC9kaXN0L2xlYWZsZXQuanMiPjwvc2NyaXB0PgogICAgPHNjcmlwdCBzcmM9Imh0dHBzOi8vY29kZS5qcXVlcnkuY29tL2pxdWVyeS0xLjEyLjQubWluLmpzIj48L3NjcmlwdD4KICAgIDxzY3JpcHQgc3JjPSJodHRwczovL21heGNkbi5ib290c3RyYXBjZG4uY29tL2Jvb3RzdHJhcC8zLjIuMC9qcy9ib290c3RyYXAubWluLmpzIj48L3NjcmlwdD4KICAgIDxzY3JpcHQgc3JjPSJodHRwczovL2NkbmpzLmNsb3VkZmxhcmUuY29tL2FqYXgvbGlicy9MZWFmbGV0LmF3ZXNvbWUtbWFya2Vycy8yLjAuMi9sZWFmbGV0LmF3ZXNvbWUtbWFya2Vycy5qcyI+PC9zY3JpcHQ+CiAgICA8bGluayByZWw9InN0eWxlc2hlZXQiIGhyZWY9Imh0dHBzOi8vY2RuLmpzZGVsaXZyLm5ldC9ucG0vbGVhZmxldEAxLjYuMC9kaXN0L2xlYWZsZXQuY3NzIi8+CiAgICA8bGluayByZWw9InN0eWxlc2hlZXQiIGhyZWY9Imh0dHBzOi8vbWF4Y2RuLmJvb3RzdHJhcGNkbi5jb20vYm9vdHN0cmFwLzMuMi4wL2Nzcy9ib290c3RyYXAubWluLmNzcyIvPgogICAgPGxpbmsgcmVsPSJzdHlsZXNoZWV0IiBocmVmPSJodHRwczovL21heGNkbi5ib290c3RyYXBjZG4uY29tL2Jvb3RzdHJhcC8zLjIuMC9jc3MvYm9vdHN0cmFwLXRoZW1lLm1pbi5jc3MiLz4KICAgIDxsaW5rIHJlbD0ic3R5bGVzaGVldCIgaHJlZj0iaHR0cHM6Ly9tYXhjZG4uYm9vdHN0cmFwY2RuLmNvbS9mb250LWF3ZXNvbWUvNC42LjMvY3NzL2ZvbnQtYXdlc29tZS5taW4uY3NzIi8+CiAgICA8bGluayByZWw9InN0eWxlc2hlZXQiIGhyZWY9Imh0dHBzOi8vY2RuanMuY2xvdWRmbGFyZS5jb20vYWpheC9saWJzL0xlYWZsZXQuYXdlc29tZS1tYXJrZXJzLzIuMC4yL2xlYWZsZXQuYXdlc29tZS1tYXJrZXJzLmNzcyIvPgogICAgPGxpbmsgcmVsPSJzdHlsZXNoZWV0IiBocmVmPSJodHRwczovL3Jhd2Nkbi5naXRoYWNrLmNvbS9weXRob24tdmlzdWFsaXphdGlvbi9mb2xpdW0vbWFzdGVyL2ZvbGl1bS90ZW1wbGF0ZXMvbGVhZmxldC5hd2Vzb21lLnJvdGF0ZS5jc3MiLz4KICAgIDxzdHlsZT5odG1sLCBib2R5IHt3aWR0aDogMTAwJTtoZWlnaHQ6IDEwMCU7bWFyZ2luOiAwO3BhZGRpbmc6IDA7fTwvc3R5bGU+CiAgICA8c3R5bGU+I21hcCB7cG9zaXRpb246YWJzb2x1dGU7dG9wOjA7Ym90dG9tOjA7cmlnaHQ6MDtsZWZ0OjA7fTwvc3R5bGU+CiAgICAKICAgICAgICAgICAgPG1ldGEgbmFtZT0idmlld3BvcnQiIGNvbnRlbnQ9IndpZHRoPWRldmljZS13aWR0aCwKICAgICAgICAgICAgICAgIGluaXRpYWwtc2NhbGU9MS4wLCBtYXhpbXVtLXNjYWxlPTEuMCwgdXNlci1zY2FsYWJsZT1ubyIgLz4KICAgICAgICAgICAgPHN0eWxlPgogICAgICAgICAgICAgICAgI21hcF84ODhmYjEyODM5MmM0ZTE4ODQ1YTEzMmNiNDViZWM4ZiB7CiAgICAgICAgICAgICAgICAgICAgcG9zaXRpb246IHJlbGF0aXZlOwogICAgICAgICAgICAgICAgICAgIHdpZHRoOiAxMDAuMCU7CiAgICAgICAgICAgICAgICAgICAgaGVpZ2h0OiAxMDAuMCU7CiAgICAgICAgICAgICAgICAgICAgbGVmdDogMC4wJTsKICAgICAgICAgICAgICAgICAgICB0b3A6IDAuMCU7CiAgICAgICAgICAgICAgICB9CiAgICAgICAgICAgIDwvc3R5bGU+CiAgICAgICAgCjwvaGVhZD4KPGJvZHk+ICAgIAogICAgCiAgICAgICAgICAgIDxkaXYgY2xhc3M9ImZvbGl1bS1tYXAiIGlkPSJtYXBfODg4ZmIxMjgzOTJjNGUxODg0NWExMzJjYjQ1YmVjOGYiID48L2Rpdj4KICAgICAgICAKPC9ib2R5Pgo8c2NyaXB0PiAgICAKICAgIAogICAgICAgICAgICB2YXIgbWFwXzg4OGZiMTI4MzkyYzRlMTg4NDVhMTMyY2I0NWJlYzhmID0gTC5tYXAoCiAgICAgICAgICAgICAgICAibWFwXzg4OGZiMTI4MzkyYzRlMTg4NDVhMTMyY2I0NWJlYzhmIiwKICAgICAgICAgICAgICAgIHsKICAgICAgICAgICAgICAgICAgICBjZW50ZXI6IFs0My42NTEwNywgLTc5LjM0NzAxNV0sCiAgICAgICAgICAgICAgICAgICAgY3JzOiBMLkNSUy5FUFNHMzg1NywKICAgICAgICAgICAgICAgICAgICB6b29tOiAxMSwKICAgICAgICAgICAgICAgICAgICB6b29tQ29udHJvbDogdHJ1ZSwKICAgICAgICAgICAgICAgICAgICBwcmVmZXJDYW52YXM6IGZhbHNlLAogICAgICAgICAgICAgICAgfQogICAgICAgICAgICApOwoKICAgICAgICAgICAgCgogICAgICAgIAogICAgCiAgICAgICAgICAgIHZhciB0aWxlX2xheWVyX2ZhOGU1MWJkZWVjNzRmM2Q5NzY4NDRiMDdiYWZlMmE5ID0gTC50aWxlTGF5ZXIoCiAgICAgICAgICAgICAgICAiaHR0cHM6Ly97c30udGlsZS5vcGVuc3RyZWV0bWFwLm9yZy97en0ve3h9L3t5fS5wbmciLAogICAgICAgICAgICAgICAgeyJhdHRyaWJ1dGlvbiI6ICJEYXRhIGJ5IFx1MDAyNmNvcHk7IFx1MDAzY2EgaHJlZj1cImh0dHA6Ly9vcGVuc3RyZWV0bWFwLm9yZ1wiXHUwMDNlT3BlblN0cmVldE1hcFx1MDAzYy9hXHUwMDNlLCB1bmRlciBcdTAwM2NhIGhyZWY9XCJodHRwOi8vd3d3Lm9wZW5zdHJlZXRtYXAub3JnL2NvcHlyaWdodFwiXHUwMDNlT0RiTFx1MDAzYy9hXHUwMDNlLiIsICJkZXRlY3RSZXRpbmEiOiBmYWxzZSwgIm1heE5hdGl2ZVpvb20iOiAxOCwgIm1heFpvb20iOiAxOCwgIm1pblpvb20iOiAwLCAibm9XcmFwIjogZmFsc2UsICJvcGFjaXR5IjogMSwgInN1YmRvbWFpbnMiOiAiYWJjIiwgInRtcyI6IGZhbHNlfQogICAgICAgICAgICApLmFkZFRvKG1hcF84ODhmYjEyODM5MmM0ZTE4ODQ1YTEzMmNiNDViZWM4Zik7CiAgICAgICAgCiAgICAKICAgICAgICAgICAgdmFyIGNpcmNsZV9tYXJrZXJfNTkwZmUxZDNiN2E5NDRkZjhlZWJmZTgwY2JhMGFkNzMgPSBMLmNpcmNsZU1hcmtlcigKICAgICAgICAgICAgICAgIFs0My43NTMyNTg2LCAtNzkuMzI5NjU2NV0sCiAgICAgICAgICAgICAgICB7ImJ1YmJsaW5nTW91c2VFdmVudHMiOiB0cnVlLCAiY29sb3IiOiAiYmx1ZSIsICJkYXNoQXJyYXkiOiBudWxsLCAiZGFzaE9mZnNldCI6IG51bGwsICJmaWxsIjogdHJ1ZSwgImZpbGxDb2xvciI6ICIjMzE4NmNjIiwgImZpbGxPcGFjaXR5IjogMC43LCAiZmlsbFJ1bGUiOiAiZXZlbm9kZCIsICJsaW5lQ2FwIjogInJvdW5kIiwgImxpbmVKb2luIjogInJvdW5kIiwgIm9wYWNpdHkiOiAxLjAsICJyYWRpdXMiOiA1LCAic3Ryb2tlIjogdHJ1ZSwgIndlaWdodCI6IDN9CiAgICAgICAgICAgICkuYWRkVG8obWFwXzg4OGZiMTI4MzkyYzRlMTg4NDVhMTMyY2I0NWJlYzhmKTsKICAgICAgICAKICAgIAogICAgICAgIHZhciBwb3B1cF8yNTFkMzYxODllYmI0MWYxYTBiYmEzN2MyYTBhNmVlOCA9IEwucG9wdXAoeyJtYXhXaWR0aCI6ICIxMDAlIn0pOwoKICAgICAgICAKICAgICAgICAgICAgdmFyIGh0bWxfZWE0ZTdlZGMwYzc3NDE3YmE5ZTEwMDA0MWYwN2E2YzEgPSAkKGA8ZGl2IGlkPSJodG1sX2VhNGU3ZWRjMGM3NzQxN2JhOWUxMDAwNDFmMDdhNmMxIiBzdHlsZT0id2lkdGg6IDEwMC4wJTsgaGVpZ2h0OiAxMDAuMCU7Ij5QYXJrd29vZHMsIE5vcnRoIFlvcms8L2Rpdj5gKVswXTsKICAgICAgICAgICAgcG9wdXBfMjUxZDM2MTg5ZWJiNDFmMWEwYmJhMzdjMmEwYTZlZTguc2V0Q29udGVudChodG1sX2VhNGU3ZWRjMGM3NzQxN2JhOWUxMDAwNDFmMDdhNmMxKTsKICAgICAgICAKCiAgICAgICAgY2lyY2xlX21hcmtlcl81OTBmZTFkM2I3YTk0NGRmOGVlYmZlODBjYmEwYWQ3My5iaW5kUG9wdXAocG9wdXBfMjUxZDM2MTg5ZWJiNDFmMWEwYmJhMzdjMmEwYTZlZTgpCiAgICAgICAgOwoKICAgICAgICAKICAgIAogICAgCiAgICAgICAgICAgIHZhciBjaXJjbGVfbWFya2VyXzQ5ODkxZDA5NzkyMzRlZDg4M2MwZmFhNzJkOGI1YzY2ID0gTC5jaXJjbGVNYXJrZXIoCiAgICAgICAgICAgICAgICBbNDMuNzI1ODgyMjk5OTk5OTk1LCAtNzkuMzE1NTcxNTk5OTk5OThdLAogICAgICAgICAgICAgICAgeyJidWJibGluZ01vdXNlRXZlbnRzIjogdHJ1ZSwgImNvbG9yIjogImJsdWUiLCAiZGFzaEFycmF5IjogbnVsbCwgImRhc2hPZmZzZXQiOiBudWxsLCAiZmlsbCI6IHRydWUsICJmaWxsQ29sb3IiOiAiIzMxODZjYyIsICJmaWxsT3BhY2l0eSI6IDAuNywgImZpbGxSdWxlIjogImV2ZW5vZGQiLCAibGluZUNhcCI6ICJyb3VuZCIsICJsaW5lSm9pbiI6ICJyb3VuZCIsICJvcGFjaXR5IjogMS4wLCAicmFkaXVzIjogNSwgInN0cm9rZSI6IHRydWUsICJ3ZWlnaHQiOiAzfQogICAgICAgICAgICApLmFkZFRvKG1hcF84ODhmYjEyODM5MmM0ZTE4ODQ1YTEzMmNiNDViZWM4Zik7CiAgICAgICAgCiAgICAKICAgICAgICB2YXIgcG9wdXBfMTcxZDg3NWNmNjFkNDQ5ZGIzMmJiYzhhOThkZDZjZTUgPSBMLnBvcHVwKHsibWF4V2lkdGgiOiAiMTAwJSJ9KTsKCiAgICAgICAgCiAgICAgICAgICAgIHZhciBodG1sX2IzYmQzOWIzMDQ5ODQxYzI5MTU0YzEzNTY5MzJkN2U3ID0gJChgPGRpdiBpZD0iaHRtbF9iM2JkMzliMzA0OTg0MWMyOTE1NGMxMzU2OTMyZDdlNyIgc3R5bGU9IndpZHRoOiAxMDAuMCU7IGhlaWdodDogMTAwLjAlOyI+VmljdG9yaWEgVmlsbGFnZSwgTm9ydGggWW9yazwvZGl2PmApWzBdOwogICAgICAgICAgICBwb3B1cF8xNzFkODc1Y2Y2MWQ0NDlkYjMyYmJjOGE5OGRkNmNlNS5zZXRDb250ZW50KGh0bWxfYjNiZDM5YjMwNDk4NDFjMjkxNTRjMTM1NjkzMmQ3ZTcpOwogICAgICAgIAoKICAgICAgICBjaXJjbGVfbWFya2VyXzQ5ODkxZDA5NzkyMzRlZDg4M2MwZmFhNzJkOGI1YzY2LmJpbmRQb3B1cChwb3B1cF8xNzFkODc1Y2Y2MWQ0NDlkYjMyYmJjOGE5OGRkNmNlNSkKICAgICAgICA7CgogICAgICAgIAogICAgCiAgICAKICAgICAgICAgICAgdmFyIGNpcmNsZV9tYXJrZXJfZThiYzJmMTNjYzY5NDc4NWIyNmU5MDI2NDViOGJlOWMgPSBMLmNpcmNsZU1hcmtlcigKICAgICAgICAgICAgICAgIFs0My42NTQyNTk5LCAtNzkuMzYwNjM1OV0sCiAgICAgICAgICAgICAgICB7ImJ1YmJsaW5nTW91c2VFdmVudHMiOiB0cnVlLCAiY29sb3IiOiAiYmx1ZSIsICJkYXNoQXJyYXkiOiBudWxsLCAiZGFzaE9mZnNldCI6IG51bGwsICJmaWxsIjogdHJ1ZSwgImZpbGxDb2xvciI6ICIjMzE4NmNjIiwgImZpbGxPcGFjaXR5IjogMC43LCAiZmlsbFJ1bGUiOiAiZXZlbm9kZCIsICJsaW5lQ2FwIjogInJvdW5kIiwgImxpbmVKb2luIjogInJvdW5kIiwgIm9wYWNpdHkiOiAxLjAsICJyYWRpdXMiOiA1LCAic3Ryb2tlIjogdHJ1ZSwgIndlaWdodCI6IDN9CiAgICAgICAgICAgICkuYWRkVG8obWFwXzg4OGZiMTI4MzkyYzRlMTg4NDVhMTMyY2I0NWJlYzhmKTsKICAgICAgICAKICAgIAogICAgICAgIHZhciBwb3B1cF8zMzhmNzIxNzJiY2Q0ZWExODE1ZjZlNmVjNzI0ZDMyNyA9IEwucG9wdXAoeyJtYXhXaWR0aCI6ICIxMDAlIn0pOwoKICAgICAgICAKICAgICAgICAgICAgdmFyIGh0bWxfYzZiZTYxZjkxNzFjNDNjMTk5YWI0Y2ZlOGZiMjY2ZmEgPSAkKGA8ZGl2IGlkPSJodG1sX2M2YmU2MWY5MTcxYzQzYzE5OWFiNGNmZThmYjI2NmZhIiBzdHlsZT0id2lkdGg6IDEwMC4wJTsgaGVpZ2h0OiAxMDAuMCU7Ij5IYXJib3VyZnJvbnQsIERvd250b3duIFRvcm9udG88L2Rpdj5gKVswXTsKICAgICAgICAgICAgcG9wdXBfMzM4ZjcyMTcyYmNkNGVhMTgxNWY2ZTZlYzcyNGQzMjcuc2V0Q29udGVudChodG1sX2M2YmU2MWY5MTcxYzQzYzE5OWFiNGNmZThmYjI2NmZhKTsKICAgICAgICAKCiAgICAgICAgY2lyY2xlX21hcmtlcl9lOGJjMmYxM2NjNjk0Nzg1YjI2ZTkwMjY0NWI4YmU5Yy5iaW5kUG9wdXAocG9wdXBfMzM4ZjcyMTcyYmNkNGVhMTgxNWY2ZTZlYzcyNGQzMjcpCiAgICAgICAgOwoKICAgICAgICAKICAgIAogICAgCiAgICAgICAgICAgIHZhciBjaXJjbGVfbWFya2VyX2QxNzYwOGYzYWExMDQyMTk4NDg0OWU4NWQ5YzcwMmJhID0gTC5jaXJjbGVNYXJrZXIoCiAgICAgICAgICAgICAgICBbNDMuNzE4NTE3OTk5OTk5OTk2LCAtNzkuNDY0NzYzMjk5OTk5OTldLAogICAgICAgICAgICAgICAgeyJidWJibGluZ01vdXNlRXZlbnRzIjogdHJ1ZSwgImNvbG9yIjogImJsdWUiLCAiZGFzaEFycmF5IjogbnVsbCwgImRhc2hPZmZzZXQiOiBudWxsLCAiZmlsbCI6IHRydWUsICJmaWxsQ29sb3IiOiAiIzMxODZjYyIsICJmaWxsT3BhY2l0eSI6IDAuNywgImZpbGxSdWxlIjogImV2ZW5vZGQiLCAibGluZUNhcCI6ICJyb3VuZCIsICJsaW5lSm9pbiI6ICJyb3VuZCIsICJvcGFjaXR5IjogMS4wLCAicmFkaXVzIjogNSwgInN0cm9rZSI6IHRydWUsICJ3ZWlnaHQiOiAzfQogICAgICAgICAgICApLmFkZFRvKG1hcF84ODhmYjEyODM5MmM0ZTE4ODQ1YTEzMmNiNDViZWM4Zik7CiAgICAgICAgCiAgICAKICAgICAgICB2YXIgcG9wdXBfYWVjM2M3Zjg0OWQ5NDUyNmJiYjAzYjk5MTZkYmRjZTggPSBMLnBvcHVwKHsibWF4V2lkdGgiOiAiMTAwJSJ9KTsKCiAgICAgICAgCiAgICAgICAgICAgIHZhciBodG1sX2Q4MjY4MTQ2NzVmZjQyOWI5NThkODcyMWUzYjRmZjZmID0gJChgPGRpdiBpZD0iaHRtbF9kODI2ODE0Njc1ZmY0MjliOTU4ZDg3MjFlM2I0ZmY2ZiIgc3R5bGU9IndpZHRoOiAxMDAuMCU7IGhlaWdodDogMTAwLjAlOyI+TGF3cmVuY2UgSGVpZ2h0cywgTGF3cmVuY2UgTWFub3IsIE5vcnRoIFlvcms8L2Rpdj5gKVswXTsKICAgICAgICAgICAgcG9wdXBfYWVjM2M3Zjg0OWQ5NDUyNmJiYjAzYjk5MTZkYmRjZTguc2V0Q29udGVudChodG1sX2Q4MjY4MTQ2NzVmZjQyOWI5NThkODcyMWUzYjRmZjZmKTsKICAgICAgICAKCiAgICAgICAgY2lyY2xlX21hcmtlcl9kMTc2MDhmM2FhMTA0MjE5ODQ4NDllODVkOWM3MDJiYS5iaW5kUG9wdXAocG9wdXBfYWVjM2M3Zjg0OWQ5NDUyNmJiYjAzYjk5MTZkYmRjZTgpCiAgICAgICAgOwoKICAgICAgICAKICAgIAogICAgCiAgICAgICAgICAgIHZhciBjaXJjbGVfbWFya2VyXzdlMDUwMTk1MjhjYzQ3YTA4MDEyYWY4OGNiNWIyYzQyID0gTC5jaXJjbGVNYXJrZXIoCiAgICAgICAgICAgICAgICBbNDMuNjYyMzAxNSwgLTc5LjM4OTQ5MzhdLAogICAgICAgICAgICAgICAgeyJidWJibGluZ01vdXNlRXZlbnRzIjogdHJ1ZSwgImNvbG9yIjogImJsdWUiLCAiZGFzaEFycmF5IjogbnVsbCwgImRhc2hPZmZzZXQiOiBudWxsLCAiZmlsbCI6IHRydWUsICJmaWxsQ29sb3IiOiAiIzMxODZjYyIsICJmaWxsT3BhY2l0eSI6IDAuNywgImZpbGxSdWxlIjogImV2ZW5vZGQiLCAibGluZUNhcCI6ICJyb3VuZCIsICJsaW5lSm9pbiI6ICJyb3VuZCIsICJvcGFjaXR5IjogMS4wLCAicmFkaXVzIjogNSwgInN0cm9rZSI6IHRydWUsICJ3ZWlnaHQiOiAzfQogICAgICAgICAgICApLmFkZFRvKG1hcF84ODhmYjEyODM5MmM0ZTE4ODQ1YTEzMmNiNDViZWM4Zik7CiAgICAgICAgCiAgICAKICAgICAgICB2YXIgcG9wdXBfYmNkZjE5NTJhYWUwNGMyMDgyZDRjYjliNjI0MWRkMzUgPSBMLnBvcHVwKHsibWF4V2lkdGgiOiAiMTAwJSJ9KTsKCiAgICAgICAgCiAgICAgICAgICAgIHZhciBodG1sX2Q4MDUwM2MwODBlMTQxYjlhMTQwY2QyMjMzOGY2NDdmID0gJChgPGRpdiBpZD0iaHRtbF9kODA1MDNjMDgwZTE0MWI5YTE0MGNkMjIzMzhmNjQ3ZiIgc3R5bGU9IndpZHRoOiAxMDAuMCU7IGhlaWdodDogMTAwLjAlOyI+UXVlZW4mIzM5O3MgUGFyaywgRG93bnRvd24gVG9yb250bzwvZGl2PmApWzBdOwogICAgICAgICAgICBwb3B1cF9iY2RmMTk1MmFhZTA0YzIwODJkNGNiOWI2MjQxZGQzNS5zZXRDb250ZW50KGh0bWxfZDgwNTAzYzA4MGUxNDFiOWExNDBjZDIyMzM4ZjY0N2YpOwogICAgICAgIAoKICAgICAgICBjaXJjbGVfbWFya2VyXzdlMDUwMTk1MjhjYzQ3YTA4MDEyYWY4OGNiNWIyYzQyLmJpbmRQb3B1cChwb3B1cF9iY2RmMTk1MmFhZTA0YzIwODJkNGNiOWI2MjQxZGQzNSkKICAgICAgICA7CgogICAgICAgIAogICAgCiAgICAKICAgICAgICAgICAgdmFyIGNpcmNsZV9tYXJrZXJfNGIzMWIwMjEwZjA1NGE5ZDg4ZWI0ZGEzMzQ1NWI2ZGUgPSBMLmNpcmNsZU1hcmtlcigKICAgICAgICAgICAgICAgIFs0My42Njc4NTU2LCAtNzkuNTMyMjQyNDAwMDAwMDJdLAogICAgICAgICAgICAgICAgeyJidWJibGluZ01vdXNlRXZlbnRzIjogdHJ1ZSwgImNvbG9yIjogImJsdWUiLCAiZGFzaEFycmF5IjogbnVsbCwgImRhc2hPZmZzZXQiOiBudWxsLCAiZmlsbCI6IHRydWUsICJmaWxsQ29sb3IiOiAiIzMxODZjYyIsICJmaWxsT3BhY2l0eSI6IDAuNywgImZpbGxSdWxlIjogImV2ZW5vZGQiLCAibGluZUNhcCI6ICJyb3VuZCIsICJsaW5lSm9pbiI6ICJyb3VuZCIsICJvcGFjaXR5IjogMS4wLCAicmFkaXVzIjogNSwgInN0cm9rZSI6IHRydWUsICJ3ZWlnaHQiOiAzfQogICAgICAgICAgICApLmFkZFRvKG1hcF84ODhmYjEyODM5MmM0ZTE4ODQ1YTEzMmNiNDViZWM4Zik7CiAgICAgICAgCiAgICAKICAgICAgICB2YXIgcG9wdXBfODczZjhkYmRlZGVjNDYxMDgyZjRhNTE0Y2RmM2E5YmUgPSBMLnBvcHVwKHsibWF4V2lkdGgiOiAiMTAwJSJ9KTsKCiAgICAgICAgCiAgICAgICAgICAgIHZhciBodG1sX2IwYjE0MzgyNjhiZDRiYTBhZTQ4ZTAxYTBjZmE3ZWIxID0gJChgPGRpdiBpZD0iaHRtbF9iMGIxNDM4MjY4YmQ0YmEwYWU0OGUwMWEwY2ZhN2ViMSIgc3R5bGU9IndpZHRoOiAxMDAuMCU7IGhlaWdodDogMTAwLjAlOyI+SXNsaW5ndG9uIEF2ZW51ZSwgRXRvYmljb2tlPC9kaXY+YClbMF07CiAgICAgICAgICAgIHBvcHVwXzg3M2Y4ZGJkZWRlYzQ2MTA4MmY0YTUxNGNkZjNhOWJlLnNldENvbnRlbnQoaHRtbF9iMGIxNDM4MjY4YmQ0YmEwYWU0OGUwMWEwY2ZhN2ViMSk7CiAgICAgICAgCgogICAgICAgIGNpcmNsZV9tYXJrZXJfNGIzMWIwMjEwZjA1NGE5ZDg4ZWI0ZGEzMzQ1NWI2ZGUuYmluZFBvcHVwKHBvcHVwXzg3M2Y4ZGJkZWRlYzQ2MTA4MmY0YTUxNGNkZjNhOWJlKQogICAgICAgIDsKCiAgICAgICAgCiAgICAKICAgIAogICAgICAgICAgICB2YXIgY2lyY2xlX21hcmtlcl8zYmFmNjU3YTkwZGE0ZWVkODc1YjFmZTc2NjFlYjYzYSA9IEwuY2lyY2xlTWFya2VyKAogICAgICAgICAgICAgICAgWzQzLjgwNjY4NjI5OTk5OTk5NiwgLTc5LjE5NDM1MzQwMDAwMDAxXSwKICAgICAgICAgICAgICAgIHsiYnViYmxpbmdNb3VzZUV2ZW50cyI6IHRydWUsICJjb2xvciI6ICJibHVlIiwgImRhc2hBcnJheSI6IG51bGwsICJkYXNoT2Zmc2V0IjogbnVsbCwgImZpbGwiOiB0cnVlLCAiZmlsbENvbG9yIjogIiMzMTg2Y2MiLCAiZmlsbE9wYWNpdHkiOiAwLjcsICJmaWxsUnVsZSI6ICJldmVub2RkIiwgImxpbmVDYXAiOiAicm91bmQiLCAibGluZUpvaW4iOiAicm91bmQiLCAib3BhY2l0eSI6IDEuMCwgInJhZGl1cyI6IDUsICJzdHJva2UiOiB0cnVlLCAid2VpZ2h0IjogM30KICAgICAgICAgICAgKS5hZGRUbyhtYXBfODg4ZmIxMjgzOTJjNGUxODg0NWExMzJjYjQ1YmVjOGYpOwogICAgICAgIAogICAgCiAgICAgICAgdmFyIHBvcHVwX2UxZGFiYjRhMWI3YzRhNjQ4M2E1MTlmMWFkM2M2ZGEwID0gTC5wb3B1cCh7Im1heFdpZHRoIjogIjEwMCUifSk7CgogICAgICAgIAogICAgICAgICAgICB2YXIgaHRtbF9hNzYyODNiZmI5YjE0YjVjODBkZDNmNmY3NDc3MTA1YiA9ICQoYDxkaXYgaWQ9Imh0bWxfYTc2MjgzYmZiOWIxNGI1YzgwZGQzZjZmNzQ3NzEwNWIiIHN0eWxlPSJ3aWR0aDogMTAwLjAlOyBoZWlnaHQ6IDEwMC4wJTsiPlJvdWdlLCBNYWx2ZXJuLCBTY2FyYm9yb3VnaDwvZGl2PmApWzBdOwogICAgICAgICAgICBwb3B1cF9lMWRhYmI0YTFiN2M0YTY0ODNhNTE5ZjFhZDNjNmRhMC5zZXRDb250ZW50KGh0bWxfYTc2MjgzYmZiOWIxNGI1YzgwZGQzZjZmNzQ3NzEwNWIpOwogICAgICAgIAoKICAgICAgICBjaXJjbGVfbWFya2VyXzNiYWY2NTdhOTBkYTRlZWQ4NzViMWZlNzY2MWViNjNhLmJpbmRQb3B1cChwb3B1cF9lMWRhYmI0YTFiN2M0YTY0ODNhNTE5ZjFhZDNjNmRhMCkKICAgICAgICA7CgogICAgICAgIAogICAgCiAgICAKICAgICAgICAgICAgdmFyIGNpcmNsZV9tYXJrZXJfZjdhYzNkYjk2MzVlNGRjMTkwZjQ1MmY4MmIzOTI0ZGUgPSBMLmNpcmNsZU1hcmtlcigKICAgICAgICAgICAgICAgIFs0My43NDU5MDU3OTk5OTk5OTYsIC03OS4zNTIxODhdLAogICAgICAgICAgICAgICAgeyJidWJibGluZ01vdXNlRXZlbnRzIjogdHJ1ZSwgImNvbG9yIjogImJsdWUiLCAiZGFzaEFycmF5IjogbnVsbCwgImRhc2hPZmZzZXQiOiBudWxsLCAiZmlsbCI6IHRydWUsICJmaWxsQ29sb3IiOiAiIzMxODZjYyIsICJmaWxsT3BhY2l0eSI6IDAuNywgImZpbGxSdWxlIjogImV2ZW5vZGQiLCAibGluZUNhcCI6ICJyb3VuZCIsICJsaW5lSm9pbiI6ICJyb3VuZCIsICJvcGFjaXR5IjogMS4wLCAicmFkaXVzIjogNSwgInN0cm9rZSI6IHRydWUsICJ3ZWlnaHQiOiAzfQogICAgICAgICAgICApLmFkZFRvKG1hcF84ODhmYjEyODM5MmM0ZTE4ODQ1YTEzMmNiNDViZWM4Zik7CiAgICAgICAgCiAgICAKICAgICAgICB2YXIgcG9wdXBfZTk4OTIzMWIwYzU2NDQ2MGIxODgzZTQ0ZTkyMWZkN2EgPSBMLnBvcHVwKHsibWF4V2lkdGgiOiAiMTAwJSJ9KTsKCiAgICAgICAgCiAgICAgICAgICAgIHZhciBodG1sX2ZkNjdiNGE2YmU2OTQ0Yzk4ZWU0ZGUyODdlMzJmMjhkID0gJChgPGRpdiBpZD0iaHRtbF9mZDY3YjRhNmJlNjk0NGM5OGVlNGRlMjg3ZTMyZjI4ZCIgc3R5bGU9IndpZHRoOiAxMDAuMCU7IGhlaWdodDogMTAwLjAlOyI+RG9uIE1pbGxzIE5vcnRoLCBOb3J0aCBZb3JrPC9kaXY+YClbMF07CiAgICAgICAgICAgIHBvcHVwX2U5ODkyMzFiMGM1NjQ0NjBiMTg4M2U0NGU5MjFmZDdhLnNldENvbnRlbnQoaHRtbF9mZDY3YjRhNmJlNjk0NGM5OGVlNGRlMjg3ZTMyZjI4ZCk7CiAgICAgICAgCgogICAgICAgIGNpcmNsZV9tYXJrZXJfZjdhYzNkYjk2MzVlNGRjMTkwZjQ1MmY4MmIzOTI0ZGUuYmluZFBvcHVwKHBvcHVwX2U5ODkyMzFiMGM1NjQ0NjBiMTg4M2U0NGU5MjFmZDdhKQogICAgICAgIDsKCiAgICAgICAgCiAgICAKICAgIAogICAgICAgICAgICB2YXIgY2lyY2xlX21hcmtlcl8yMzA4ZjUwNjc5MWI0Yjk1YTM4ZjM2ZGZkOTI0ZTcyZiA9IEwuY2lyY2xlTWFya2VyKAogICAgICAgICAgICAgICAgWzQzLjcwNjM5NzIsIC03OS4zMDk5MzddLAogICAgICAgICAgICAgICAgeyJidWJibGluZ01vdXNlRXZlbnRzIjogdHJ1ZSwgImNvbG9yIjogImJsdWUiLCAiZGFzaEFycmF5IjogbnVsbCwgImRhc2hPZmZzZXQiOiBudWxsLCAiZmlsbCI6IHRydWUsICJmaWxsQ29sb3IiOiAiIzMxODZjYyIsICJmaWxsT3BhY2l0eSI6IDAuNywgImZpbGxSdWxlIjogImV2ZW5vZGQiLCAibGluZUNhcCI6ICJyb3VuZCIsICJsaW5lSm9pbiI6ICJyb3VuZCIsICJvcGFjaXR5IjogMS4wLCAicmFkaXVzIjogNSwgInN0cm9rZSI6IHRydWUsICJ3ZWlnaHQiOiAzfQogICAgICAgICAgICApLmFkZFRvKG1hcF84ODhmYjEyODM5MmM0ZTE4ODQ1YTEzMmNiNDViZWM4Zik7CiAgICAgICAgCiAgICAKICAgICAgICB2YXIgcG9wdXBfMWVmM2RlNjAzN2EwNDgzOWE0NzVmNDk2N2JkYmY2YTAgPSBMLnBvcHVwKHsibWF4V2lkdGgiOiAiMTAwJSJ9KTsKCiAgICAgICAgCiAgICAgICAgICAgIHZhciBodG1sXzIyYmM5OTcwMWE5ZTRhMDZiMDJiMWMyYWI0YzdmYzgzID0gJChgPGRpdiBpZD0iaHRtbF8yMmJjOTk3MDFhOWU0YTA2YjAyYjFjMmFiNGM3ZmM4MyIgc3R5bGU9IndpZHRoOiAxMDAuMCU7IGhlaWdodDogMTAwLjAlOyI+V29vZGJpbmUgR2FyZGVucywgUGFya3ZpZXcgSGlsbCwgRWFzdCBZb3JrPC9kaXY+YClbMF07CiAgICAgICAgICAgIHBvcHVwXzFlZjNkZTYwMzdhMDQ4MzlhNDc1ZjQ5NjdiZGJmNmEwLnNldENvbnRlbnQoaHRtbF8yMmJjOTk3MDFhOWU0YTA2YjAyYjFjMmFiNGM3ZmM4Myk7CiAgICAgICAgCgogICAgICAgIGNpcmNsZV9tYXJrZXJfMjMwOGY1MDY3OTFiNGI5NWEzOGYzNmRmZDkyNGU3MmYuYmluZFBvcHVwKHBvcHVwXzFlZjNkZTYwMzdhMDQ4MzlhNDc1ZjQ5NjdiZGJmNmEwKQogICAgICAgIDsKCiAgICAgICAgCiAgICAKICAgIAogICAgICAgICAgICB2YXIgY2lyY2xlX21hcmtlcl8zNDc0NmJlZjFlY2M0OWI1Yjc4OTdkODcxNjkxOGJlZSA9IEwuY2lyY2xlTWFya2VyKAogICAgICAgICAgICAgICAgWzQzLjY1NzE2MTgsIC03OS4zNzg5MzcwOTk5OTk5OV0sCiAgICAgICAgICAgICAgICB7ImJ1YmJsaW5nTW91c2VFdmVudHMiOiB0cnVlLCAiY29sb3IiOiAiYmx1ZSIsICJkYXNoQXJyYXkiOiBudWxsLCAiZGFzaE9mZnNldCI6IG51bGwsICJmaWxsIjogdHJ1ZSwgImZpbGxDb2xvciI6ICIjMzE4NmNjIiwgImZpbGxPcGFjaXR5IjogMC43LCAiZmlsbFJ1bGUiOiAiZXZlbm9kZCIsICJsaW5lQ2FwIjogInJvdW5kIiwgImxpbmVKb2luIjogInJvdW5kIiwgIm9wYWNpdHkiOiAxLjAsICJyYWRpdXMiOiA1LCAic3Ryb2tlIjogdHJ1ZSwgIndlaWdodCI6IDN9CiAgICAgICAgICAgICkuYWRkVG8obWFwXzg4OGZiMTI4MzkyYzRlMTg4NDVhMTMyY2I0NWJlYzhmKTsKICAgICAgICAKICAgIAogICAgICAgIHZhciBwb3B1cF8wMDRiMThhMTAyZDg0NTA3YjU4ZDY1YjlhOGRjZDc5NCA9IEwucG9wdXAoeyJtYXhXaWR0aCI6ICIxMDAlIn0pOwoKICAgICAgICAKICAgICAgICAgICAgdmFyIGh0bWxfNzBiNzhlNDZhMmMzNDUwZWJjMmYzMjViZjA1NmVjYjUgPSAkKGA8ZGl2IGlkPSJodG1sXzcwYjc4ZTQ2YTJjMzQ1MGViYzJmMzI1YmYwNTZlY2I1IiBzdHlsZT0id2lkdGg6IDEwMC4wJTsgaGVpZ2h0OiAxMDAuMCU7Ij5SeWVyc29uLCBHYXJkZW4gRGlzdHJpY3QsIERvd250b3duIFRvcm9udG88L2Rpdj5gKVswXTsKICAgICAgICAgICAgcG9wdXBfMDA0YjE4YTEwMmQ4NDUwN2I1OGQ2NWI5YThkY2Q3OTQuc2V0Q29udGVudChodG1sXzcwYjc4ZTQ2YTJjMzQ1MGViYzJmMzI1YmYwNTZlY2I1KTsKICAgICAgICAKCiAgICAgICAgY2lyY2xlX21hcmtlcl8zNDc0NmJlZjFlY2M0OWI1Yjc4OTdkODcxNjkxOGJlZS5iaW5kUG9wdXAocG9wdXBfMDA0YjE4YTEwMmQ4NDUwN2I1OGQ2NWI5YThkY2Q3OTQpCiAgICAgICAgOwoKICAgICAgICAKICAgIAogICAgCiAgICAgICAgICAgIHZhciBjaXJjbGVfbWFya2VyX2FkZDNlZTA0MjBlNzRlNjFiYmUyZDMzOTEzNDI0MTUyID0gTC5jaXJjbGVNYXJrZXIoCiAgICAgICAgICAgICAgICBbNDMuNzA5NTc3LCAtNzkuNDQ1MDcyNTk5OTk5OTldLAogICAgICAgICAgICAgICAgeyJidWJibGluZ01vdXNlRXZlbnRzIjogdHJ1ZSwgImNvbG9yIjogImJsdWUiLCAiZGFzaEFycmF5IjogbnVsbCwgImRhc2hPZmZzZXQiOiBudWxsLCAiZmlsbCI6IHRydWUsICJmaWxsQ29sb3IiOiAiIzMxODZjYyIsICJmaWxsT3BhY2l0eSI6IDAuNywgImZpbGxSdWxlIjogImV2ZW5vZGQiLCAibGluZUNhcCI6ICJyb3VuZCIsICJsaW5lSm9pbiI6ICJyb3VuZCIsICJvcGFjaXR5IjogMS4wLCAicmFkaXVzIjogNSwgInN0cm9rZSI6IHRydWUsICJ3ZWlnaHQiOiAzfQogICAgICAgICAgICApLmFkZFRvKG1hcF84ODhmYjEyODM5MmM0ZTE4ODQ1YTEzMmNiNDViZWM4Zik7CiAgICAgICAgCiAgICAKICAgICAgICB2YXIgcG9wdXBfN2IxMjk2N2U2MzBjNGFlNGE3MDI1NTQ1ZjlmZGZjMDcgPSBMLnBvcHVwKHsibWF4V2lkdGgiOiAiMTAwJSJ9KTsKCiAgICAgICAgCiAgICAgICAgICAgIHZhciBodG1sX2ZkODc4ZGZlYmZhNjQ0NmZhYmI4Yzk3MThlYTMwMDgzID0gJChgPGRpdiBpZD0iaHRtbF9mZDg3OGRmZWJmYTY0NDZmYWJiOGM5NzE4ZWEzMDA4MyIgc3R5bGU9IndpZHRoOiAxMDAuMCU7IGhlaWdodDogMTAwLjAlOyI+R2xlbmNhaXJuLCBOb3J0aCBZb3JrPC9kaXY+YClbMF07CiAgICAgICAgICAgIHBvcHVwXzdiMTI5NjdlNjMwYzRhZTRhNzAyNTU0NWY5ZmRmYzA3LnNldENvbnRlbnQoaHRtbF9mZDg3OGRmZWJmYTY0NDZmYWJiOGM5NzE4ZWEzMDA4Myk7CiAgICAgICAgCgogICAgICAgIGNpcmNsZV9tYXJrZXJfYWRkM2VlMDQyMGU3NGU2MWJiZTJkMzM5MTM0MjQxNTIuYmluZFBvcHVwKHBvcHVwXzdiMTI5NjdlNjMwYzRhZTRhNzAyNTU0NWY5ZmRmYzA3KQogICAgICAgIDsKCiAgICAgICAgCiAgICAKICAgIAogICAgICAgICAgICB2YXIgY2lyY2xlX21hcmtlcl83Y2Q5ODI5OTA0M2Q0Mjk4YWY1NzQxOGY4MGVlZGMyNSA9IEwuY2lyY2xlTWFya2VyKAogICAgICAgICAgICAgICAgWzQzLjY1MDk0MzIsIC03OS41NTQ3MjQ0MDAwMDAwMV0sCiAgICAgICAgICAgICAgICB7ImJ1YmJsaW5nTW91c2VFdmVudHMiOiB0cnVlLCAiY29sb3IiOiAiYmx1ZSIsICJkYXNoQXJyYXkiOiBudWxsLCAiZGFzaE9mZnNldCI6IG51bGwsICJmaWxsIjogdHJ1ZSwgImZpbGxDb2xvciI6ICIjMzE4NmNjIiwgImZpbGxPcGFjaXR5IjogMC43LCAiZmlsbFJ1bGUiOiAiZXZlbm9kZCIsICJsaW5lQ2FwIjogInJvdW5kIiwgImxpbmVKb2luIjogInJvdW5kIiwgIm9wYWNpdHkiOiAxLjAsICJyYWRpdXMiOiA1LCAic3Ryb2tlIjogdHJ1ZSwgIndlaWdodCI6IDN9CiAgICAgICAgICAgICkuYWRkVG8obWFwXzg4OGZiMTI4MzkyYzRlMTg4NDVhMTMyY2I0NWJlYzhmKTsKICAgICAgICAKICAgIAogICAgICAgIHZhciBwb3B1cF9hYWYzYjExZWI5ZGY0MGMzOTk2MDczOWI3MjNlZDJkYSA9IEwucG9wdXAoeyJtYXhXaWR0aCI6ICIxMDAlIn0pOwoKICAgICAgICAKICAgICAgICAgICAgdmFyIGh0bWxfMGVmZWNlZTZiNjkxNGVmYWFlNDU2OTI3Y2I2MmE2YmEgPSAkKGA8ZGl2IGlkPSJodG1sXzBlZmVjZWU2YjY5MTRlZmFhZTQ1NjkyN2NiNjJhNmJhIiBzdHlsZT0id2lkdGg6IDEwMC4wJTsgaGVpZ2h0OiAxMDAuMCU7Ij5DbG92ZXJkYWxlLCBJc2xpbmd0b24sIE1hcnRpbiBHcm92ZSwgUHJpbmNlc3MgR2FyZGVucywgV2VzdCBEZWFuZSBQYXJrLCBFdG9iaWNva2U8L2Rpdj5gKVswXTsKICAgICAgICAgICAgcG9wdXBfYWFmM2IxMWViOWRmNDBjMzk5NjA3MzliNzIzZWQyZGEuc2V0Q29udGVudChodG1sXzBlZmVjZWU2YjY5MTRlZmFhZTQ1NjkyN2NiNjJhNmJhKTsKICAgICAgICAKCiAgICAgICAgY2lyY2xlX21hcmtlcl83Y2Q5ODI5OTA0M2Q0Mjk4YWY1NzQxOGY4MGVlZGMyNS5iaW5kUG9wdXAocG9wdXBfYWFmM2IxMWViOWRmNDBjMzk5NjA3MzliNzIzZWQyZGEpCiAgICAgICAgOwoKICAgICAgICAKICAgIAogICAgCiAgICAgICAgICAgIHZhciBjaXJjbGVfbWFya2VyX2UyMTI1ZDYxNzJiZjQxMWE4YmZjMTczMjAxZDkwYWZjID0gTC5jaXJjbGVNYXJrZXIoCiAgICAgICAgICAgICAgICBbNDMuNzg0NTM1MSwgLTc5LjE2MDQ5NzA5OTk5OTk5XSwKICAgICAgICAgICAgICAgIHsiYnViYmxpbmdNb3VzZUV2ZW50cyI6IHRydWUsICJjb2xvciI6ICJibHVlIiwgImRhc2hBcnJheSI6IG51bGwsICJkYXNoT2Zmc2V0IjogbnVsbCwgImZpbGwiOiB0cnVlLCAiZmlsbENvbG9yIjogIiMzMTg2Y2MiLCAiZmlsbE9wYWNpdHkiOiAwLjcsICJmaWxsUnVsZSI6ICJldmVub2RkIiwgImxpbmVDYXAiOiAicm91bmQiLCAibGluZUpvaW4iOiAicm91bmQiLCAib3BhY2l0eSI6IDEuMCwgInJhZGl1cyI6IDUsICJzdHJva2UiOiB0cnVlLCAid2VpZ2h0IjogM30KICAgICAgICAgICAgKS5hZGRUbyhtYXBfODg4ZmIxMjgzOTJjNGUxODg0NWExMzJjYjQ1YmVjOGYpOwogICAgICAgIAogICAgCiAgICAgICAgdmFyIHBvcHVwXzVhZDhmNmNlNGI3NjRkNjE5MjRmZjdiMDBhNjI2YWE4ID0gTC5wb3B1cCh7Im1heFdpZHRoIjogIjEwMCUifSk7CgogICAgICAgIAogICAgICAgICAgICB2YXIgaHRtbF9mMzQwODhmZjEyZTA0NDlkOTE2Y2NlNDEzYWMwYTY5ZSA9ICQoYDxkaXYgaWQ9Imh0bWxfZjM0MDg4ZmYxMmUwNDQ5ZDkxNmNjZTQxM2FjMGE2OWUiIHN0eWxlPSJ3aWR0aDogMTAwLjAlOyBoZWlnaHQ6IDEwMC4wJTsiPkhpZ2hsYW5kIENyZWVrLCBSb3VnZSBIaWxsLCBQb3J0IFVuaW9uLCBTY2FyYm9yb3VnaDwvZGl2PmApWzBdOwogICAgICAgICAgICBwb3B1cF81YWQ4ZjZjZTRiNzY0ZDYxOTI0ZmY3YjAwYTYyNmFhOC5zZXRDb250ZW50KGh0bWxfZjM0MDg4ZmYxMmUwNDQ5ZDkxNmNjZTQxM2FjMGE2OWUpOwogICAgICAgIAoKICAgICAgICBjaXJjbGVfbWFya2VyX2UyMTI1ZDYxNzJiZjQxMWE4YmZjMTczMjAxZDkwYWZjLmJpbmRQb3B1cChwb3B1cF81YWQ4ZjZjZTRiNzY0ZDYxOTI0ZmY3YjAwYTYyNmFhOCkKICAgICAgICA7CgogICAgICAgIAogICAgCiAgICAKICAgICAgICAgICAgdmFyIGNpcmNsZV9tYXJrZXJfZDllMzAzMGNjYmU5NDQxMTlmOGI3OWViMTk2ZTk2YzIgPSBMLmNpcmNsZU1hcmtlcigKICAgICAgICAgICAgICAgIFs0My43MjU4OTk3MDAwMDAwMSwgLTc5LjM0MDkyM10sCiAgICAgICAgICAgICAgICB7ImJ1YmJsaW5nTW91c2VFdmVudHMiOiB0cnVlLCAiY29sb3IiOiAiYmx1ZSIsICJkYXNoQXJyYXkiOiBudWxsLCAiZGFzaE9mZnNldCI6IG51bGwsICJmaWxsIjogdHJ1ZSwgImZpbGxDb2xvciI6ICIjMzE4NmNjIiwgImZpbGxPcGFjaXR5IjogMC43LCAiZmlsbFJ1bGUiOiAiZXZlbm9kZCIsICJsaW5lQ2FwIjogInJvdW5kIiwgImxpbmVKb2luIjogInJvdW5kIiwgIm9wYWNpdHkiOiAxLjAsICJyYWRpdXMiOiA1LCAic3Ryb2tlIjogdHJ1ZSwgIndlaWdodCI6IDN9CiAgICAgICAgICAgICkuYWRkVG8obWFwXzg4OGZiMTI4MzkyYzRlMTg4NDVhMTMyY2I0NWJlYzhmKTsKICAgICAgICAKICAgIAogICAgICAgIHZhciBwb3B1cF9iMjZjZWZlY2NjNDU0MzM5YWZmNDA1NGFkYjEwOTc2ZSA9IEwucG9wdXAoeyJtYXhXaWR0aCI6ICIxMDAlIn0pOwoKICAgICAgICAKICAgICAgICAgICAgdmFyIGh0bWxfY2E4Y2IwZWY5ODBkNDlmYzg3OWUzNmZmYmNmMTJlYjYgPSAkKGA8ZGl2IGlkPSJodG1sX2NhOGNiMGVmOTgwZDQ5ZmM4NzllMzZmZmJjZjEyZWI2IiBzdHlsZT0id2lkdGg6IDEwMC4wJTsgaGVpZ2h0OiAxMDAuMCU7Ij5GbGVtaW5nZG9uIFBhcmssIERvbiBNaWxscyBTb3V0aCwgTm9ydGggWW9yazwvZGl2PmApWzBdOwogICAgICAgICAgICBwb3B1cF9iMjZjZWZlY2NjNDU0MzM5YWZmNDA1NGFkYjEwOTc2ZS5zZXRDb250ZW50KGh0bWxfY2E4Y2IwZWY5ODBkNDlmYzg3OWUzNmZmYmNmMTJlYjYpOwogICAgICAgIAoKICAgICAgICBjaXJjbGVfbWFya2VyX2Q5ZTMwMzBjY2JlOTQ0MTE5ZjhiNzllYjE5NmU5NmMyLmJpbmRQb3B1cChwb3B1cF9iMjZjZWZlY2NjNDU0MzM5YWZmNDA1NGFkYjEwOTc2ZSkKICAgICAgICA7CgogICAgICAgIAogICAgCiAgICAKICAgICAgICAgICAgdmFyIGNpcmNsZV9tYXJrZXJfNjA5NmFkNTNiYTdmNGU5Y2IyZWMxM2VhOGJhYWEyZWMgPSBMLmNpcmNsZU1hcmtlcigKICAgICAgICAgICAgICAgIFs0My42OTUzNDM5MDAwMDAwMDUsIC03OS4zMTgzODg3XSwKICAgICAgICAgICAgICAgIHsiYnViYmxpbmdNb3VzZUV2ZW50cyI6IHRydWUsICJjb2xvciI6ICJibHVlIiwgImRhc2hBcnJheSI6IG51bGwsICJkYXNoT2Zmc2V0IjogbnVsbCwgImZpbGwiOiB0cnVlLCAiZmlsbENvbG9yIjogIiMzMTg2Y2MiLCAiZmlsbE9wYWNpdHkiOiAwLjcsICJmaWxsUnVsZSI6ICJldmVub2RkIiwgImxpbmVDYXAiOiAicm91bmQiLCAibGluZUpvaW4iOiAicm91bmQiLCAib3BhY2l0eSI6IDEuMCwgInJhZGl1cyI6IDUsICJzdHJva2UiOiB0cnVlLCAid2VpZ2h0IjogM30KICAgICAgICAgICAgKS5hZGRUbyhtYXBfODg4ZmIxMjgzOTJjNGUxODg0NWExMzJjYjQ1YmVjOGYpOwogICAgICAgIAogICAgCiAgICAgICAgdmFyIHBvcHVwXzIwY2Q2MGZjNjI4ZjQ4ZjFiMWVmZjQzYzMwZTU4OGQ3ID0gTC5wb3B1cCh7Im1heFdpZHRoIjogIjEwMCUifSk7CgogICAgICAgIAogICAgICAgICAgICB2YXIgaHRtbF8wZjU5YTA0ODdhNGQ0OGIxOWZlY2FkNzA0NWMzNjlmMyA9ICQoYDxkaXYgaWQ9Imh0bWxfMGY1OWEwNDg3YTRkNDhiMTlmZWNhZDcwNDVjMzY5ZjMiIHN0eWxlPSJ3aWR0aDogMTAwLjAlOyBoZWlnaHQ6IDEwMC4wJTsiPldvb2RiaW5lIEhlaWdodHMsIEVhc3QgWW9yazwvZGl2PmApWzBdOwogICAgICAgICAgICBwb3B1cF8yMGNkNjBmYzYyOGY0OGYxYjFlZmY0M2MzMGU1ODhkNy5zZXRDb250ZW50KGh0bWxfMGY1OWEwNDg3YTRkNDhiMTlmZWNhZDcwNDVjMzY5ZjMpOwogICAgICAgIAoKICAgICAgICBjaXJjbGVfbWFya2VyXzYwOTZhZDUzYmE3ZjRlOWNiMmVjMTNlYThiYWFhMmVjLmJpbmRQb3B1cChwb3B1cF8yMGNkNjBmYzYyOGY0OGYxYjFlZmY0M2MzMGU1ODhkNykKICAgICAgICA7CgogICAgICAgIAogICAgCiAgICAKICAgICAgICAgICAgdmFyIGNpcmNsZV9tYXJrZXJfN2JkY2VjODZjMjdkNDE5Njk4MDQwMDc4OWJmZWYyZDkgPSBMLmNpcmNsZU1hcmtlcigKICAgICAgICAgICAgICAgIFs0My42NTE0OTM5LCAtNzkuMzc1NDE3OV0sCiAgICAgICAgICAgICAgICB7ImJ1YmJsaW5nTW91c2VFdmVudHMiOiB0cnVlLCAiY29sb3IiOiAiYmx1ZSIsICJkYXNoQXJyYXkiOiBudWxsLCAiZGFzaE9mZnNldCI6IG51bGwsICJmaWxsIjogdHJ1ZSwgImZpbGxDb2xvciI6ICIjMzE4NmNjIiwgImZpbGxPcGFjaXR5IjogMC43LCAiZmlsbFJ1bGUiOiAiZXZlbm9kZCIsICJsaW5lQ2FwIjogInJvdW5kIiwgImxpbmVKb2luIjogInJvdW5kIiwgIm9wYWNpdHkiOiAxLjAsICJyYWRpdXMiOiA1LCAic3Ryb2tlIjogdHJ1ZSwgIndlaWdodCI6IDN9CiAgICAgICAgICAgICkuYWRkVG8obWFwXzg4OGZiMTI4MzkyYzRlMTg4NDVhMTMyY2I0NWJlYzhmKTsKICAgICAgICAKICAgIAogICAgICAgIHZhciBwb3B1cF8yMWFkNTMzZmJkYTg0Mzc3YWNjMDM1MzE3MGZiZmMzNCA9IEwucG9wdXAoeyJtYXhXaWR0aCI6ICIxMDAlIn0pOwoKICAgICAgICAKICAgICAgICAgICAgdmFyIGh0bWxfZjdkOGQ0NmFmZTkxNGM1ZGE0Nzc0NGY1YTE1YjBmOTUgPSAkKGA8ZGl2IGlkPSJodG1sX2Y3ZDhkNDZhZmU5MTRjNWRhNDc3NDRmNWExNWIwZjk1IiBzdHlsZT0id2lkdGg6IDEwMC4wJTsgaGVpZ2h0OiAxMDAuMCU7Ij5TdC4gSmFtZXMgVG93biwgRG93bnRvd24gVG9yb250bzwvZGl2PmApWzBdOwogICAgICAgICAgICBwb3B1cF8yMWFkNTMzZmJkYTg0Mzc3YWNjMDM1MzE3MGZiZmMzNC5zZXRDb250ZW50KGh0bWxfZjdkOGQ0NmFmZTkxNGM1ZGE0Nzc0NGY1YTE1YjBmOTUpOwogICAgICAgIAoKICAgICAgICBjaXJjbGVfbWFya2VyXzdiZGNlYzg2YzI3ZDQxOTY5ODA0MDA3ODliZmVmMmQ5LmJpbmRQb3B1cChwb3B1cF8yMWFkNTMzZmJkYTg0Mzc3YWNjMDM1MzE3MGZiZmMzNCkKICAgICAgICA7CgogICAgICAgIAogICAgCiAgICAKICAgICAgICAgICAgdmFyIGNpcmNsZV9tYXJrZXJfZWNiMjVhOWYwNjRlNDlhYWFkMzAzYmY4YzU1Y2Q3Y2YgPSBMLmNpcmNsZU1hcmtlcigKICAgICAgICAgICAgICAgIFs0My42OTM3ODEzLCAtNzkuNDI4MTkxNDAwMDAwMDJdLAogICAgICAgICAgICAgICAgeyJidWJibGluZ01vdXNlRXZlbnRzIjogdHJ1ZSwgImNvbG9yIjogImJsdWUiLCAiZGFzaEFycmF5IjogbnVsbCwgImRhc2hPZmZzZXQiOiBudWxsLCAiZmlsbCI6IHRydWUsICJmaWxsQ29sb3IiOiAiIzMxODZjYyIsICJmaWxsT3BhY2l0eSI6IDAuNywgImZpbGxSdWxlIjogImV2ZW5vZGQiLCAibGluZUNhcCI6ICJyb3VuZCIsICJsaW5lSm9pbiI6ICJyb3VuZCIsICJvcGFjaXR5IjogMS4wLCAicmFkaXVzIjogNSwgInN0cm9rZSI6IHRydWUsICJ3ZWlnaHQiOiAzfQogICAgICAgICAgICApLmFkZFRvKG1hcF84ODhmYjEyODM5MmM0ZTE4ODQ1YTEzMmNiNDViZWM4Zik7CiAgICAgICAgCiAgICAKICAgICAgICB2YXIgcG9wdXBfZjM3MTBjYjUyNTdhNDZjZjg0ZTMzYmUyYzExMzMxNjggPSBMLnBvcHVwKHsibWF4V2lkdGgiOiAiMTAwJSJ9KTsKCiAgICAgICAgCiAgICAgICAgICAgIHZhciBodG1sXzczMjM2NGEyOWYwYjRjOGQ5NjAxNGJjZDAyMzA4NDk3ID0gJChgPGRpdiBpZD0iaHRtbF83MzIzNjRhMjlmMGI0YzhkOTYwMTRiY2QwMjMwODQ5NyIgc3R5bGU9IndpZHRoOiAxMDAuMCU7IGhlaWdodDogMTAwLjAlOyI+SHVtZXdvb2QtQ2VkYXJ2YWxlLCBZb3JrPC9kaXY+YClbMF07CiAgICAgICAgICAgIHBvcHVwX2YzNzEwY2I1MjU3YTQ2Y2Y4NGUzM2JlMmMxMTMzMTY4LnNldENvbnRlbnQoaHRtbF83MzIzNjRhMjlmMGI0YzhkOTYwMTRiY2QwMjMwODQ5Nyk7CiAgICAgICAgCgogICAgICAgIGNpcmNsZV9tYXJrZXJfZWNiMjVhOWYwNjRlNDlhYWFkMzAzYmY4YzU1Y2Q3Y2YuYmluZFBvcHVwKHBvcHVwX2YzNzEwY2I1MjU3YTQ2Y2Y4NGUzM2JlMmMxMTMzMTY4KQogICAgICAgIDsKCiAgICAgICAgCiAgICAKICAgIAogICAgICAgICAgICB2YXIgY2lyY2xlX21hcmtlcl8yMGY5YjQ2MTg4MWQ0NGQzODM4MjljNDA1ODYxZDg5MiA9IEwuY2lyY2xlTWFya2VyKAogICAgICAgICAgICAgICAgWzQzLjY0MzUxNTIsIC03OS41NzcyMDA3OTk5OTk5OV0sCiAgICAgICAgICAgICAgICB7ImJ1YmJsaW5nTW91c2VFdmVudHMiOiB0cnVlLCAiY29sb3IiOiAiYmx1ZSIsICJkYXNoQXJyYXkiOiBudWxsLCAiZGFzaE9mZnNldCI6IG51bGwsICJmaWxsIjogdHJ1ZSwgImZpbGxDb2xvciI6ICIjMzE4NmNjIiwgImZpbGxPcGFjaXR5IjogMC43LCAiZmlsbFJ1bGUiOiAiZXZlbm9kZCIsICJsaW5lQ2FwIjogInJvdW5kIiwgImxpbmVKb2luIjogInJvdW5kIiwgIm9wYWNpdHkiOiAxLjAsICJyYWRpdXMiOiA1LCAic3Ryb2tlIjogdHJ1ZSwgIndlaWdodCI6IDN9CiAgICAgICAgICAgICkuYWRkVG8obWFwXzg4OGZiMTI4MzkyYzRlMTg4NDVhMTMyY2I0NWJlYzhmKTsKICAgICAgICAKICAgIAogICAgICAgIHZhciBwb3B1cF84OTk2OWJiYjUzMzM0ZTU0OTRiNTk3MjI0MmRhNjZlMyA9IEwucG9wdXAoeyJtYXhXaWR0aCI6ICIxMDAlIn0pOwoKICAgICAgICAKICAgICAgICAgICAgdmFyIGh0bWxfMTg0YjBhN2ZkMzE1NDAxNTk0MmE1MWMzMjcyOGQ1ZGQgPSAkKGA8ZGl2IGlkPSJodG1sXzE4NGIwYTdmZDMxNTQwMTU5NDJhNTFjMzI3MjhkNWRkIiBzdHlsZT0id2lkdGg6IDEwMC4wJTsgaGVpZ2h0OiAxMDAuMCU7Ij5CbG9vcmRhbGUgR2FyZGVucywgRXJpbmdhdGUsIE1hcmtsYW5kIFdvb2QsIE9sZCBCdXJuaGFtdGhvcnBlLCBFdG9iaWNva2U8L2Rpdj5gKVswXTsKICAgICAgICAgICAgcG9wdXBfODk5NjliYmI1MzMzNGU1NDk0YjU5NzIyNDJkYTY2ZTMuc2V0Q29udGVudChodG1sXzE4NGIwYTdmZDMxNTQwMTU5NDJhNTFjMzI3MjhkNWRkKTsKICAgICAgICAKCiAgICAgICAgY2lyY2xlX21hcmtlcl8yMGY5YjQ2MTg4MWQ0NGQzODM4MjljNDA1ODYxZDg5Mi5iaW5kUG9wdXAocG9wdXBfODk5NjliYmI1MzMzNGU1NDk0YjU5NzIyNDJkYTY2ZTMpCiAgICAgICAgOwoKICAgICAgICAKICAgIAogICAgCiAgICAgICAgICAgIHZhciBjaXJjbGVfbWFya2VyXzIzZDg0YWY4YWM3YjQzNjc4NWE1YjZlYTY5MGVlZWI0ID0gTC5jaXJjbGVNYXJrZXIoCiAgICAgICAgICAgICAgICBbNDMuNzYzNTcyNiwgLTc5LjE4ODcxMTVdLAogICAgICAgICAgICAgICAgeyJidWJibGluZ01vdXNlRXZlbnRzIjogdHJ1ZSwgImNvbG9yIjogImJsdWUiLCAiZGFzaEFycmF5IjogbnVsbCwgImRhc2hPZmZzZXQiOiBudWxsLCAiZmlsbCI6IHRydWUsICJmaWxsQ29sb3IiOiAiIzMxODZjYyIsICJmaWxsT3BhY2l0eSI6IDAuNywgImZpbGxSdWxlIjogImV2ZW5vZGQiLCAibGluZUNhcCI6ICJyb3VuZCIsICJsaW5lSm9pbiI6ICJyb3VuZCIsICJvcGFjaXR5IjogMS4wLCAicmFkaXVzIjogNSwgInN0cm9rZSI6IHRydWUsICJ3ZWlnaHQiOiAzfQogICAgICAgICAgICApLmFkZFRvKG1hcF84ODhmYjEyODM5MmM0ZTE4ODQ1YTEzMmNiNDViZWM4Zik7CiAgICAgICAgCiAgICAKICAgICAgICB2YXIgcG9wdXBfNzJlZmQ0NmZiMDZmNDFjN2IxMzZiNTY1ZjJlYTRjZmYgPSBMLnBvcHVwKHsibWF4V2lkdGgiOiAiMTAwJSJ9KTsKCiAgICAgICAgCiAgICAgICAgICAgIHZhciBodG1sXzE2NDY2MDc4ZDQyODRlODk4Zjc1YzNjOTZlMTA4N2E4ID0gJChgPGRpdiBpZD0iaHRtbF8xNjQ2NjA3OGQ0Mjg0ZTg5OGY3NWMzYzk2ZTEwODdhOCIgc3R5bGU9IndpZHRoOiAxMDAuMCU7IGhlaWdodDogMTAwLjAlOyI+R3VpbGR3b29kLCBNb3JuaW5nc2lkZSwgV2VzdCBIaWxsLCBTY2FyYm9yb3VnaDwvZGl2PmApWzBdOwogICAgICAgICAgICBwb3B1cF83MmVmZDQ2ZmIwNmY0MWM3YjEzNmI1NjVmMmVhNGNmZi5zZXRDb250ZW50KGh0bWxfMTY0NjYwNzhkNDI4NGU4OThmNzVjM2M5NmUxMDg3YTgpOwogICAgICAgIAoKICAgICAgICBjaXJjbGVfbWFya2VyXzIzZDg0YWY4YWM3YjQzNjc4NWE1YjZlYTY5MGVlZWI0LmJpbmRQb3B1cChwb3B1cF83MmVmZDQ2ZmIwNmY0MWM3YjEzNmI1NjVmMmVhNGNmZikKICAgICAgICA7CgogICAgICAgIAogICAgCiAgICAKICAgICAgICAgICAgdmFyIGNpcmNsZV9tYXJrZXJfNjYyOWVmZjBlNTYyNGU3MGI1MDg2Njc5NDI1ZDdhOTAgPSBMLmNpcmNsZU1hcmtlcigKICAgICAgICAgICAgICAgIFs0My42NzYzNTczOTk5OTk5OSwgLTc5LjI5MzAzMTJdLAogICAgICAgICAgICAgICAgeyJidWJibGluZ01vdXNlRXZlbnRzIjogdHJ1ZSwgImNvbG9yIjogImJsdWUiLCAiZGFzaEFycmF5IjogbnVsbCwgImRhc2hPZmZzZXQiOiBudWxsLCAiZmlsbCI6IHRydWUsICJmaWxsQ29sb3IiOiAiIzMxODZjYyIsICJmaWxsT3BhY2l0eSI6IDAuNywgImZpbGxSdWxlIjogImV2ZW5vZGQiLCAibGluZUNhcCI6ICJyb3VuZCIsICJsaW5lSm9pbiI6ICJyb3VuZCIsICJvcGFjaXR5IjogMS4wLCAicmFkaXVzIjogNSwgInN0cm9rZSI6IHRydWUsICJ3ZWlnaHQiOiAzfQogICAgICAgICAgICApLmFkZFRvKG1hcF84ODhmYjEyODM5MmM0ZTE4ODQ1YTEzMmNiNDViZWM4Zik7CiAgICAgICAgCiAgICAKICAgICAgICB2YXIgcG9wdXBfN2YyZDlkZjViNTdlNDBmYmFjODk4N2ZmNGMyZDRiNmYgPSBMLnBvcHVwKHsibWF4V2lkdGgiOiAiMTAwJSJ9KTsKCiAgICAgICAgCiAgICAgICAgICAgIHZhciBodG1sXzk2Y2M3NDRmNjM0NjRkNjlhODFkYWQwZTZhNDkyNTY2ID0gJChgPGRpdiBpZD0iaHRtbF85NmNjNzQ0ZjYzNDY0ZDY5YTgxZGFkMGU2YTQ5MjU2NiIgc3R5bGU9IndpZHRoOiAxMDAuMCU7IGhlaWdodDogMTAwLjAlOyI+VGhlIEJlYWNoZXMsIEVhc3QgVG9yb250bzwvZGl2PmApWzBdOwogICAgICAgICAgICBwb3B1cF83ZjJkOWRmNWI1N2U0MGZiYWM4OTg3ZmY0YzJkNGI2Zi5zZXRDb250ZW50KGh0bWxfOTZjYzc0NGY2MzQ2NGQ2OWE4MWRhZDBlNmE0OTI1NjYpOwogICAgICAgIAoKICAgICAgICBjaXJjbGVfbWFya2VyXzY2MjllZmYwZTU2MjRlNzBiNTA4NjY3OTQyNWQ3YTkwLmJpbmRQb3B1cChwb3B1cF83ZjJkOWRmNWI1N2U0MGZiYWM4OTg3ZmY0YzJkNGI2ZikKICAgICAgICA7CgogICAgICAgIAogICAgCiAgICAKICAgICAgICAgICAgdmFyIGNpcmNsZV9tYXJrZXJfZTVmMDZkMjczZWUyNGUyNGExNWQ2ODllNDcwZjI0MjUgPSBMLmNpcmNsZU1hcmtlcigKICAgICAgICAgICAgICAgIFs0My42NDQ3NzA3OTk5OTk5OTYsIC03OS4zNzMzMDY0XSwKICAgICAgICAgICAgICAgIHsiYnViYmxpbmdNb3VzZUV2ZW50cyI6IHRydWUsICJjb2xvciI6ICJibHVlIiwgImRhc2hBcnJheSI6IG51bGwsICJkYXNoT2Zmc2V0IjogbnVsbCwgImZpbGwiOiB0cnVlLCAiZmlsbENvbG9yIjogIiMzMTg2Y2MiLCAiZmlsbE9wYWNpdHkiOiAwLjcsICJmaWxsUnVsZSI6ICJldmVub2RkIiwgImxpbmVDYXAiOiAicm91bmQiLCAibGluZUpvaW4iOiAicm91bmQiLCAib3BhY2l0eSI6IDEuMCwgInJhZGl1cyI6IDUsICJzdHJva2UiOiB0cnVlLCAid2VpZ2h0IjogM30KICAgICAgICAgICAgKS5hZGRUbyhtYXBfODg4ZmIxMjgzOTJjNGUxODg0NWExMzJjYjQ1YmVjOGYpOwogICAgICAgIAogICAgCiAgICAgICAgdmFyIHBvcHVwXzFkZDZjZjY1MTI1MjQ5MmZhNTU4ZWI0YmQwOTFjYzkxID0gTC5wb3B1cCh7Im1heFdpZHRoIjogIjEwMCUifSk7CgogICAgICAgIAogICAgICAgICAgICB2YXIgaHRtbF8zMTJlOWFhNmIwZTg0ODBhODU5MzNlNGMyYTZkMTVjNiA9ICQoYDxkaXYgaWQ9Imh0bWxfMzEyZTlhYTZiMGU4NDgwYTg1OTMzZTRjMmE2ZDE1YzYiIHN0eWxlPSJ3aWR0aDogMTAwLjAlOyBoZWlnaHQ6IDEwMC4wJTsiPkJlcmN6eSBQYXJrLCBEb3dudG93biBUb3JvbnRvPC9kaXY+YClbMF07CiAgICAgICAgICAgIHBvcHVwXzFkZDZjZjY1MTI1MjQ5MmZhNTU4ZWI0YmQwOTFjYzkxLnNldENvbnRlbnQoaHRtbF8zMTJlOWFhNmIwZTg0ODBhODU5MzNlNGMyYTZkMTVjNik7CiAgICAgICAgCgogICAgICAgIGNpcmNsZV9tYXJrZXJfZTVmMDZkMjczZWUyNGUyNGExNWQ2ODllNDcwZjI0MjUuYmluZFBvcHVwKHBvcHVwXzFkZDZjZjY1MTI1MjQ5MmZhNTU4ZWI0YmQwOTFjYzkxKQogICAgICAgIDsKCiAgICAgICAgCiAgICAKICAgIAogICAgICAgICAgICB2YXIgY2lyY2xlX21hcmtlcl9lYzdhMzUxMGRmYTc0YmMxOWQxMThhM2YwMzU0OGFmNyA9IEwuY2lyY2xlTWFya2VyKAogICAgICAgICAgICAgICAgWzQzLjY4OTAyNTYsIC03OS40NTM1MTJdLAogICAgICAgICAgICAgICAgeyJidWJibGluZ01vdXNlRXZlbnRzIjogdHJ1ZSwgImNvbG9yIjogImJsdWUiLCAiZGFzaEFycmF5IjogbnVsbCwgImRhc2hPZmZzZXQiOiBudWxsLCAiZmlsbCI6IHRydWUsICJmaWxsQ29sb3IiOiAiIzMxODZjYyIsICJmaWxsT3BhY2l0eSI6IDAuNywgImZpbGxSdWxlIjogImV2ZW5vZGQiLCAibGluZUNhcCI6ICJyb3VuZCIsICJsaW5lSm9pbiI6ICJyb3VuZCIsICJvcGFjaXR5IjogMS4wLCAicmFkaXVzIjogNSwgInN0cm9rZSI6IHRydWUsICJ3ZWlnaHQiOiAzfQogICAgICAgICAgICApLmFkZFRvKG1hcF84ODhmYjEyODM5MmM0ZTE4ODQ1YTEzMmNiNDViZWM4Zik7CiAgICAgICAgCiAgICAKICAgICAgICB2YXIgcG9wdXBfMWQxMWU2MmYzMDEyNDM3MWFhYmIxNjAwNTAwN2E1N2IgPSBMLnBvcHVwKHsibWF4V2lkdGgiOiAiMTAwJSJ9KTsKCiAgICAgICAgCiAgICAgICAgICAgIHZhciBodG1sXzQzNDc2NWJjOWZkMDQyMDNhNTA0ZjMzMWI3YjljYTBiID0gJChgPGRpdiBpZD0iaHRtbF80MzQ3NjViYzlmZDA0MjAzYTUwNGYzMzFiN2I5Y2EwYiIgc3R5bGU9IndpZHRoOiAxMDAuMCU7IGhlaWdodDogMTAwLjAlOyI+Q2FsZWRvbmlhLUZhaXJiYW5rcywgWW9yazwvZGl2PmApWzBdOwogICAgICAgICAgICBwb3B1cF8xZDExZTYyZjMwMTI0MzcxYWFiYjE2MDA1MDA3YTU3Yi5zZXRDb250ZW50KGh0bWxfNDM0NzY1YmM5ZmQwNDIwM2E1MDRmMzMxYjdiOWNhMGIpOwogICAgICAgIAoKICAgICAgICBjaXJjbGVfbWFya2VyX2VjN2EzNTEwZGZhNzRiYzE5ZDExOGEzZjAzNTQ4YWY3LmJpbmRQb3B1cChwb3B1cF8xZDExZTYyZjMwMTI0MzcxYWFiYjE2MDA1MDA3YTU3YikKICAgICAgICA7CgogICAgICAgIAogICAgCiAgICAKICAgICAgICAgICAgdmFyIGNpcmNsZV9tYXJrZXJfZjQxNDM0NGI4NTRiNDYzMDlmMTY5NGQ3ZWU5Njg1YjUgPSBMLmNpcmNsZU1hcmtlcigKICAgICAgICAgICAgICAgIFs0My43NzA5OTIxLCAtNzkuMjE2OTE3NDAwMDAwMDFdLAogICAgICAgICAgICAgICAgeyJidWJibGluZ01vdXNlRXZlbnRzIjogdHJ1ZSwgImNvbG9yIjogImJsdWUiLCAiZGFzaEFycmF5IjogbnVsbCwgImRhc2hPZmZzZXQiOiBudWxsLCAiZmlsbCI6IHRydWUsICJmaWxsQ29sb3IiOiAiIzMxODZjYyIsICJmaWxsT3BhY2l0eSI6IDAuNywgImZpbGxSdWxlIjogImV2ZW5vZGQiLCAibGluZUNhcCI6ICJyb3VuZCIsICJsaW5lSm9pbiI6ICJyb3VuZCIsICJvcGFjaXR5IjogMS4wLCAicmFkaXVzIjogNSwgInN0cm9rZSI6IHRydWUsICJ3ZWlnaHQiOiAzfQogICAgICAgICAgICApLmFkZFRvKG1hcF84ODhmYjEyODM5MmM0ZTE4ODQ1YTEzMmNiNDViZWM4Zik7CiAgICAgICAgCiAgICAKICAgICAgICB2YXIgcG9wdXBfYzE4Y2IwYjRlZTM1NGIyMGFjNjE1NmQwZGI5OTg4NDkgPSBMLnBvcHVwKHsibWF4V2lkdGgiOiAiMTAwJSJ9KTsKCiAgICAgICAgCiAgICAgICAgICAgIHZhciBodG1sXzk4ZmU3NGQ0MDM0ZTRjNWI5YjJjNzQ2Zjk2NjA4OTE1ID0gJChgPGRpdiBpZD0iaHRtbF85OGZlNzRkNDAzNGU0YzViOWIyYzc0NmY5NjYwODkxNSIgc3R5bGU9IndpZHRoOiAxMDAuMCU7IGhlaWdodDogMTAwLjAlOyI+V29idXJuLCBTY2FyYm9yb3VnaDwvZGl2PmApWzBdOwogICAgICAgICAgICBwb3B1cF9jMThjYjBiNGVlMzU0YjIwYWM2MTU2ZDBkYjk5ODg0OS5zZXRDb250ZW50KGh0bWxfOThmZTc0ZDQwMzRlNGM1YjliMmM3NDZmOTY2MDg5MTUpOwogICAgICAgIAoKICAgICAgICBjaXJjbGVfbWFya2VyX2Y0MTQzNDRiODU0YjQ2MzA5ZjE2OTRkN2VlOTY4NWI1LmJpbmRQb3B1cChwb3B1cF9jMThjYjBiNGVlMzU0YjIwYWM2MTU2ZDBkYjk5ODg0OSkKICAgICAgICA7CgogICAgICAgIAogICAgCiAgICAKICAgICAgICAgICAgdmFyIGNpcmNsZV9tYXJrZXJfODU3N2EwYWVlY2JmNGYwOTlkNzUwMmIyMGIwYmM1ZTMgPSBMLmNpcmNsZU1hcmtlcigKICAgICAgICAgICAgICAgIFs0My43MDkwNjA0LCAtNzkuMzYzNDUxN10sCiAgICAgICAgICAgICAgICB7ImJ1YmJsaW5nTW91c2VFdmVudHMiOiB0cnVlLCAiY29sb3IiOiAiYmx1ZSIsICJkYXNoQXJyYXkiOiBudWxsLCAiZGFzaE9mZnNldCI6IG51bGwsICJmaWxsIjogdHJ1ZSwgImZpbGxDb2xvciI6ICIjMzE4NmNjIiwgImZpbGxPcGFjaXR5IjogMC43LCAiZmlsbFJ1bGUiOiAiZXZlbm9kZCIsICJsaW5lQ2FwIjogInJvdW5kIiwgImxpbmVKb2luIjogInJvdW5kIiwgIm9wYWNpdHkiOiAxLjAsICJyYWRpdXMiOiA1LCAic3Ryb2tlIjogdHJ1ZSwgIndlaWdodCI6IDN9CiAgICAgICAgICAgICkuYWRkVG8obWFwXzg4OGZiMTI4MzkyYzRlMTg4NDVhMTMyY2I0NWJlYzhmKTsKICAgICAgICAKICAgIAogICAgICAgIHZhciBwb3B1cF82ZWFjMzNmYTQ4Zjc0ZGI1YTkzMzQ2NjA3MjdkMTA5OSA9IEwucG9wdXAoeyJtYXhXaWR0aCI6ICIxMDAlIn0pOwoKICAgICAgICAKICAgICAgICAgICAgdmFyIGh0bWxfOTZmYzlmN2I3Nzk2NDE1Y2IwNjgxMWMyYjRlODUzZDEgPSAkKGA8ZGl2IGlkPSJodG1sXzk2ZmM5ZjdiNzc5NjQxNWNiMDY4MTFjMmI0ZTg1M2QxIiBzdHlsZT0id2lkdGg6IDEwMC4wJTsgaGVpZ2h0OiAxMDAuMCU7Ij5MZWFzaWRlLCBFYXN0IFlvcms8L2Rpdj5gKVswXTsKICAgICAgICAgICAgcG9wdXBfNmVhYzMzZmE0OGY3NGRiNWE5MzM0NjYwNzI3ZDEwOTkuc2V0Q29udGVudChodG1sXzk2ZmM5ZjdiNzc5NjQxNWNiMDY4MTFjMmI0ZTg1M2QxKTsKICAgICAgICAKCiAgICAgICAgY2lyY2xlX21hcmtlcl84NTc3YTBhZWVjYmY0ZjA5OWQ3NTAyYjIwYjBiYzVlMy5iaW5kUG9wdXAocG9wdXBfNmVhYzMzZmE0OGY3NGRiNWE5MzM0NjYwNzI3ZDEwOTkpCiAgICAgICAgOwoKICAgICAgICAKICAgIAogICAgCiAgICAgICAgICAgIHZhciBjaXJjbGVfbWFya2VyXzQxNDNjOTFmNDIwYTRmM2E4ZjNlYWU0ZGJiZDkyMjAwID0gTC5jaXJjbGVNYXJrZXIoCiAgICAgICAgICAgICAgICBbNDMuNjU3OTUyNCwgLTc5LjM4NzM4MjZdLAogICAgICAgICAgICAgICAgeyJidWJibGluZ01vdXNlRXZlbnRzIjogdHJ1ZSwgImNvbG9yIjogImJsdWUiLCAiZGFzaEFycmF5IjogbnVsbCwgImRhc2hPZmZzZXQiOiBudWxsLCAiZmlsbCI6IHRydWUsICJmaWxsQ29sb3IiOiAiIzMxODZjYyIsICJmaWxsT3BhY2l0eSI6IDAuNywgImZpbGxSdWxlIjogImV2ZW5vZGQiLCAibGluZUNhcCI6ICJyb3VuZCIsICJsaW5lSm9pbiI6ICJyb3VuZCIsICJvcGFjaXR5IjogMS4wLCAicmFkaXVzIjogNSwgInN0cm9rZSI6IHRydWUsICJ3ZWlnaHQiOiAzfQogICAgICAgICAgICApLmFkZFRvKG1hcF84ODhmYjEyODM5MmM0ZTE4ODQ1YTEzMmNiNDViZWM4Zik7CiAgICAgICAgCiAgICAKICAgICAgICB2YXIgcG9wdXBfYTIxNTkwOWJjZGU1NDYwZWFlM2E1NjU1NDVhODU5MTggPSBMLnBvcHVwKHsibWF4V2lkdGgiOiAiMTAwJSJ9KTsKCiAgICAgICAgCiAgICAgICAgICAgIHZhciBodG1sXzIyMGMzZDlhYWFmMzRmZTI4ODBkZDljYzc2M2QzZDg2ID0gJChgPGRpdiBpZD0iaHRtbF8yMjBjM2Q5YWFhZjM0ZmUyODgwZGQ5Y2M3NjNkM2Q4NiIgc3R5bGU9IndpZHRoOiAxMDAuMCU7IGhlaWdodDogMTAwLjAlOyI+Q2VudHJhbCBCYXkgU3RyZWV0LCBEb3dudG93biBUb3JvbnRvPC9kaXY+YClbMF07CiAgICAgICAgICAgIHBvcHVwX2EyMTU5MDliY2RlNTQ2MGVhZTNhNTY1NTQ1YTg1OTE4LnNldENvbnRlbnQoaHRtbF8yMjBjM2Q5YWFhZjM0ZmUyODgwZGQ5Y2M3NjNkM2Q4Nik7CiAgICAgICAgCgogICAgICAgIGNpcmNsZV9tYXJrZXJfNDE0M2M5MWY0MjBhNGYzYThmM2VhZTRkYmJkOTIyMDAuYmluZFBvcHVwKHBvcHVwX2EyMTU5MDliY2RlNTQ2MGVhZTNhNTY1NTQ1YTg1OTE4KQogICAgICAgIDsKCiAgICAgICAgCiAgICAKICAgIAogICAgICAgICAgICB2YXIgY2lyY2xlX21hcmtlcl81YzNkN2JhZGY1Mzk0OTlmODdiMDYyMDRiYmM3ODEzZSA9IEwuY2lyY2xlTWFya2VyKAogICAgICAgICAgICAgICAgWzQzLjY2OTU0MiwgLTc5LjQyMjU2MzddLAogICAgICAgICAgICAgICAgeyJidWJibGluZ01vdXNlRXZlbnRzIjogdHJ1ZSwgImNvbG9yIjogImJsdWUiLCAiZGFzaEFycmF5IjogbnVsbCwgImRhc2hPZmZzZXQiOiBudWxsLCAiZmlsbCI6IHRydWUsICJmaWxsQ29sb3IiOiAiIzMxODZjYyIsICJmaWxsT3BhY2l0eSI6IDAuNywgImZpbGxSdWxlIjogImV2ZW5vZGQiLCAibGluZUNhcCI6ICJyb3VuZCIsICJsaW5lSm9pbiI6ICJyb3VuZCIsICJvcGFjaXR5IjogMS4wLCAicmFkaXVzIjogNSwgInN0cm9rZSI6IHRydWUsICJ3ZWlnaHQiOiAzfQogICAgICAgICAgICApLmFkZFRvKG1hcF84ODhmYjEyODM5MmM0ZTE4ODQ1YTEzMmNiNDViZWM4Zik7CiAgICAgICAgCiAgICAKICAgICAgICB2YXIgcG9wdXBfNzU5OGYxY2FjMTliNDMxNGIzY2M1MWNlZmM0ZTdkZmYgPSBMLnBvcHVwKHsibWF4V2lkdGgiOiAiMTAwJSJ9KTsKCiAgICAgICAgCiAgICAgICAgICAgIHZhciBodG1sX2NhNTVlMjZmYWFiYzQ3ZjZiNjFkOWUxZWYyM2NlMTk1ID0gJChgPGRpdiBpZD0iaHRtbF9jYTU1ZTI2ZmFhYmM0N2Y2YjYxZDllMWVmMjNjZTE5NSIgc3R5bGU9IndpZHRoOiAxMDAuMCU7IGhlaWdodDogMTAwLjAlOyI+Q2hyaXN0aWUsIERvd250b3duIFRvcm9udG88L2Rpdj5gKVswXTsKICAgICAgICAgICAgcG9wdXBfNzU5OGYxY2FjMTliNDMxNGIzY2M1MWNlZmM0ZTdkZmYuc2V0Q29udGVudChodG1sX2NhNTVlMjZmYWFiYzQ3ZjZiNjFkOWUxZWYyM2NlMTk1KTsKICAgICAgICAKCiAgICAgICAgY2lyY2xlX21hcmtlcl81YzNkN2JhZGY1Mzk0OTlmODdiMDYyMDRiYmM3ODEzZS5iaW5kUG9wdXAocG9wdXBfNzU5OGYxY2FjMTliNDMxNGIzY2M1MWNlZmM0ZTdkZmYpCiAgICAgICAgOwoKICAgICAgICAKICAgIAogICAgCiAgICAgICAgICAgIHZhciBjaXJjbGVfbWFya2VyXzZkYTY5N2RjZDZkODQ5OTZhZjdmNDU4NTMzNzcwY2U2ID0gTC5jaXJjbGVNYXJrZXIoCiAgICAgICAgICAgICAgICBbNDMuNzczMTM2LCAtNzkuMjM5NDc2MDk5OTk5OTldLAogICAgICAgICAgICAgICAgeyJidWJibGluZ01vdXNlRXZlbnRzIjogdHJ1ZSwgImNvbG9yIjogImJsdWUiLCAiZGFzaEFycmF5IjogbnVsbCwgImRhc2hPZmZzZXQiOiBudWxsLCAiZmlsbCI6IHRydWUsICJmaWxsQ29sb3IiOiAiIzMxODZjYyIsICJmaWxsT3BhY2l0eSI6IDAuNywgImZpbGxSdWxlIjogImV2ZW5vZGQiLCAibGluZUNhcCI6ICJyb3VuZCIsICJsaW5lSm9pbiI6ICJyb3VuZCIsICJvcGFjaXR5IjogMS4wLCAicmFkaXVzIjogNSwgInN0cm9rZSI6IHRydWUsICJ3ZWlnaHQiOiAzfQogICAgICAgICAgICApLmFkZFRvKG1hcF84ODhmYjEyODM5MmM0ZTE4ODQ1YTEzMmNiNDViZWM4Zik7CiAgICAgICAgCiAgICAKICAgICAgICB2YXIgcG9wdXBfY2UyYWNkNGNiN2ZlNDcxYWE1ZWVlN2EzZWJmOTg1YTUgPSBMLnBvcHVwKHsibWF4V2lkdGgiOiAiMTAwJSJ9KTsKCiAgICAgICAgCiAgICAgICAgICAgIHZhciBodG1sX2U3NjM2ZTFmYmM3MTQ2MTBhMGUzMDBlNGM1M2JmZGZhID0gJChgPGRpdiBpZD0iaHRtbF9lNzYzNmUxZmJjNzE0NjEwYTBlMzAwZTRjNTNiZmRmYSIgc3R5bGU9IndpZHRoOiAxMDAuMCU7IGhlaWdodDogMTAwLjAlOyI+Q2VkYXJicmFlLCBTY2FyYm9yb3VnaDwvZGl2PmApWzBdOwogICAgICAgICAgICBwb3B1cF9jZTJhY2Q0Y2I3ZmU0NzFhYTVlZWU3YTNlYmY5ODVhNS5zZXRDb250ZW50KGh0bWxfZTc2MzZlMWZiYzcxNDYxMGEwZTMwMGU0YzUzYmZkZmEpOwogICAgICAgIAoKICAgICAgICBjaXJjbGVfbWFya2VyXzZkYTY5N2RjZDZkODQ5OTZhZjdmNDU4NTMzNzcwY2U2LmJpbmRQb3B1cChwb3B1cF9jZTJhY2Q0Y2I3ZmU0NzFhYTVlZWU3YTNlYmY5ODVhNSkKICAgICAgICA7CgogICAgICAgIAogICAgCiAgICAKICAgICAgICAgICAgdmFyIGNpcmNsZV9tYXJrZXJfMzY3NGQwZGMxYTM3NDBlZTg1Njk2ZWQ4ODk2MTlhYTggPSBMLmNpcmNsZU1hcmtlcigKICAgICAgICAgICAgICAgIFs0My44MDM3NjIyLCAtNzkuMzYzNDUxN10sCiAgICAgICAgICAgICAgICB7ImJ1YmJsaW5nTW91c2VFdmVudHMiOiB0cnVlLCAiY29sb3IiOiAiYmx1ZSIsICJkYXNoQXJyYXkiOiBudWxsLCAiZGFzaE9mZnNldCI6IG51bGwsICJmaWxsIjogdHJ1ZSwgImZpbGxDb2xvciI6ICIjMzE4NmNjIiwgImZpbGxPcGFjaXR5IjogMC43LCAiZmlsbFJ1bGUiOiAiZXZlbm9kZCIsICJsaW5lQ2FwIjogInJvdW5kIiwgImxpbmVKb2luIjogInJvdW5kIiwgIm9wYWNpdHkiOiAxLjAsICJyYWRpdXMiOiA1LCAic3Ryb2tlIjogdHJ1ZSwgIndlaWdodCI6IDN9CiAgICAgICAgICAgICkuYWRkVG8obWFwXzg4OGZiMTI4MzkyYzRlMTg4NDVhMTMyY2I0NWJlYzhmKTsKICAgICAgICAKICAgIAogICAgICAgIHZhciBwb3B1cF82MjMwZDFjOTU1ZDU0ZWIyOWYxMzExZGIwNmZkMTQwMiA9IEwucG9wdXAoeyJtYXhXaWR0aCI6ICIxMDAlIn0pOwoKICAgICAgICAKICAgICAgICAgICAgdmFyIGh0bWxfNmVkYjIwNDJjOTI0NDkyNzlkMWI0NzY4OWNhYTgzNzIgPSAkKGA8ZGl2IGlkPSJodG1sXzZlZGIyMDQyYzkyNDQ5Mjc5ZDFiNDc2ODljYWE4MzcyIiBzdHlsZT0id2lkdGg6IDEwMC4wJTsgaGVpZ2h0OiAxMDAuMCU7Ij5IaWxsY3Jlc3QgVmlsbGFnZSwgTm9ydGggWW9yazwvZGl2PmApWzBdOwogICAgICAgICAgICBwb3B1cF82MjMwZDFjOTU1ZDU0ZWIyOWYxMzExZGIwNmZkMTQwMi5zZXRDb250ZW50KGh0bWxfNmVkYjIwNDJjOTI0NDkyNzlkMWI0NzY4OWNhYTgzNzIpOwogICAgICAgIAoKICAgICAgICBjaXJjbGVfbWFya2VyXzM2NzRkMGRjMWEzNzQwZWU4NTY5NmVkODg5NjE5YWE4LmJpbmRQb3B1cChwb3B1cF82MjMwZDFjOTU1ZDU0ZWIyOWYxMzExZGIwNmZkMTQwMikKICAgICAgICA7CgogICAgICAgIAogICAgCiAgICAKICAgICAgICAgICAgdmFyIGNpcmNsZV9tYXJrZXJfMTIwMWRiNTFiNGJlNGUzOGE3NWIxYjczODc1ZjVkNWQgPSBMLmNpcmNsZU1hcmtlcigKICAgICAgICAgICAgICAgIFs0My43NTQzMjgzLCAtNzkuNDQyMjU5M10sCiAgICAgICAgICAgICAgICB7ImJ1YmJsaW5nTW91c2VFdmVudHMiOiB0cnVlLCAiY29sb3IiOiAiYmx1ZSIsICJkYXNoQXJyYXkiOiBudWxsLCAiZGFzaE9mZnNldCI6IG51bGwsICJmaWxsIjogdHJ1ZSwgImZpbGxDb2xvciI6ICIjMzE4NmNjIiwgImZpbGxPcGFjaXR5IjogMC43LCAiZmlsbFJ1bGUiOiAiZXZlbm9kZCIsICJsaW5lQ2FwIjogInJvdW5kIiwgImxpbmVKb2luIjogInJvdW5kIiwgIm9wYWNpdHkiOiAxLjAsICJyYWRpdXMiOiA1LCAic3Ryb2tlIjogdHJ1ZSwgIndlaWdodCI6IDN9CiAgICAgICAgICAgICkuYWRkVG8obWFwXzg4OGZiMTI4MzkyYzRlMTg4NDVhMTMyY2I0NWJlYzhmKTsKICAgICAgICAKICAgIAogICAgICAgIHZhciBwb3B1cF8zOTdkODYwM2U0MzA0NjYzOGU5OTk2ZDZjYWQwOTZlNiA9IEwucG9wdXAoeyJtYXhXaWR0aCI6ICIxMDAlIn0pOwoKICAgICAgICAKICAgICAgICAgICAgdmFyIGh0bWxfZjI4NTUwMzliMTZmNDQ4ZGI4NGE0MGRiOWIyMzMzODggPSAkKGA8ZGl2IGlkPSJodG1sX2YyODU1MDM5YjE2ZjQ0OGRiODRhNDBkYjliMjMzMzg4IiBzdHlsZT0id2lkdGg6IDEwMC4wJTsgaGVpZ2h0OiAxMDAuMCU7Ij5CYXRodXJzdCBNYW5vciwgRG93bnN2aWV3IE5vcnRoLCBXaWxzb24gSGVpZ2h0cywgTm9ydGggWW9yazwvZGl2PmApWzBdOwogICAgICAgICAgICBwb3B1cF8zOTdkODYwM2U0MzA0NjYzOGU5OTk2ZDZjYWQwOTZlNi5zZXRDb250ZW50KGh0bWxfZjI4NTUwMzliMTZmNDQ4ZGI4NGE0MGRiOWIyMzMzODgpOwogICAgICAgIAoKICAgICAgICBjaXJjbGVfbWFya2VyXzEyMDFkYjUxYjRiZTRlMzhhNzViMWI3Mzg3NWY1ZDVkLmJpbmRQb3B1cChwb3B1cF8zOTdkODYwM2U0MzA0NjYzOGU5OTk2ZDZjYWQwOTZlNikKICAgICAgICA7CgogICAgICAgIAogICAgCiAgICAKICAgICAgICAgICAgdmFyIGNpcmNsZV9tYXJrZXJfZTFmYmJhMjc5OWJjNGJlYjhhZjFiOWU1ZjZiYjI2MGQgPSBMLmNpcmNsZU1hcmtlcigKICAgICAgICAgICAgICAgIFs0My43MDUzNjg5LCAtNzkuMzQ5MzcxOTAwMDAwMDFdLAogICAgICAgICAgICAgICAgeyJidWJibGluZ01vdXNlRXZlbnRzIjogdHJ1ZSwgImNvbG9yIjogImJsdWUiLCAiZGFzaEFycmF5IjogbnVsbCwgImRhc2hPZmZzZXQiOiBudWxsLCAiZmlsbCI6IHRydWUsICJmaWxsQ29sb3IiOiAiIzMxODZjYyIsICJmaWxsT3BhY2l0eSI6IDAuNywgImZpbGxSdWxlIjogImV2ZW5vZGQiLCAibGluZUNhcCI6ICJyb3VuZCIsICJsaW5lSm9pbiI6ICJyb3VuZCIsICJvcGFjaXR5IjogMS4wLCAicmFkaXVzIjogNSwgInN0cm9rZSI6IHRydWUsICJ3ZWlnaHQiOiAzfQogICAgICAgICAgICApLmFkZFRvKG1hcF84ODhmYjEyODM5MmM0ZTE4ODQ1YTEzMmNiNDViZWM4Zik7CiAgICAgICAgCiAgICAKICAgICAgICB2YXIgcG9wdXBfOWE3OGQwNzg4ZmIwNDcyZmFlMWUwMzM4MjYzNDFjNzkgPSBMLnBvcHVwKHsibWF4V2lkdGgiOiAiMTAwJSJ9KTsKCiAgICAgICAgCiAgICAgICAgICAgIHZhciBodG1sX2I4M2Q3NTE2NTg0ZDQwMjE4NDI4MDVlMTdhOWNhMDQzID0gJChgPGRpdiBpZD0iaHRtbF9iODNkNzUxNjU4NGQ0MDIxODQyODA1ZTE3YTljYTA0MyIgc3R5bGU9IndpZHRoOiAxMDAuMCU7IGhlaWdodDogMTAwLjAlOyI+VGhvcm5jbGlmZmUgUGFyaywgRWFzdCBZb3JrPC9kaXY+YClbMF07CiAgICAgICAgICAgIHBvcHVwXzlhNzhkMDc4OGZiMDQ3MmZhZTFlMDMzODI2MzQxYzc5LnNldENvbnRlbnQoaHRtbF9iODNkNzUxNjU4NGQ0MDIxODQyODA1ZTE3YTljYTA0Myk7CiAgICAgICAgCgogICAgICAgIGNpcmNsZV9tYXJrZXJfZTFmYmJhMjc5OWJjNGJlYjhhZjFiOWU1ZjZiYjI2MGQuYmluZFBvcHVwKHBvcHVwXzlhNzhkMDc4OGZiMDQ3MmZhZTFlMDMzODI2MzQxYzc5KQogICAgICAgIDsKCiAgICAgICAgCiAgICAKICAgIAogICAgICAgICAgICB2YXIgY2lyY2xlX21hcmtlcl9iN2FmMTM4Y2M0YWY0MDI1OGI3MDVmNWFkMmU4ZjdjNCA9IEwuY2lyY2xlTWFya2VyKAogICAgICAgICAgICAgICAgWzQzLjY1MDU3MTIwMDAwMDAxLCAtNzkuMzg0NTY3NV0sCiAgICAgICAgICAgICAgICB7ImJ1YmJsaW5nTW91c2VFdmVudHMiOiB0cnVlLCAiY29sb3IiOiAiYmx1ZSIsICJkYXNoQXJyYXkiOiBudWxsLCAiZGFzaE9mZnNldCI6IG51bGwsICJmaWxsIjogdHJ1ZSwgImZpbGxDb2xvciI6ICIjMzE4NmNjIiwgImZpbGxPcGFjaXR5IjogMC43LCAiZmlsbFJ1bGUiOiAiZXZlbm9kZCIsICJsaW5lQ2FwIjogInJvdW5kIiwgImxpbmVKb2luIjogInJvdW5kIiwgIm9wYWNpdHkiOiAxLjAsICJyYWRpdXMiOiA1LCAic3Ryb2tlIjogdHJ1ZSwgIndlaWdodCI6IDN9CiAgICAgICAgICAgICkuYWRkVG8obWFwXzg4OGZiMTI4MzkyYzRlMTg4NDVhMTMyY2I0NWJlYzhmKTsKICAgICAgICAKICAgIAogICAgICAgIHZhciBwb3B1cF9lOWE5MDUxZWYzM2E0MzQ5OGQxNDdlOTY0NGZkOWQ0NiA9IEwucG9wdXAoeyJtYXhXaWR0aCI6ICIxMDAlIn0pOwoKICAgICAgICAKICAgICAgICAgICAgdmFyIGh0bWxfMjU1YWM5MzBiNTM2NDQyM2E5NDMyMTYwYTk0ODU1NjQgPSAkKGA8ZGl2IGlkPSJodG1sXzI1NWFjOTMwYjUzNjQ0MjNhOTQzMjE2MGE5NDg1NTY0IiBzdHlsZT0id2lkdGg6IDEwMC4wJTsgaGVpZ2h0OiAxMDAuMCU7Ij5BZGVsYWlkZSwgS2luZywgUmljaG1vbmQsIERvd250b3duIFRvcm9udG88L2Rpdj5gKVswXTsKICAgICAgICAgICAgcG9wdXBfZTlhOTA1MWVmMzNhNDM0OThkMTQ3ZTk2NDRmZDlkNDYuc2V0Q29udGVudChodG1sXzI1NWFjOTMwYjUzNjQ0MjNhOTQzMjE2MGE5NDg1NTY0KTsKICAgICAgICAKCiAgICAgICAgY2lyY2xlX21hcmtlcl9iN2FmMTM4Y2M0YWY0MDI1OGI3MDVmNWFkMmU4ZjdjNC5iaW5kUG9wdXAocG9wdXBfZTlhOTA1MWVmMzNhNDM0OThkMTQ3ZTk2NDRmZDlkNDYpCiAgICAgICAgOwoKICAgICAgICAKICAgIAogICAgCiAgICAgICAgICAgIHZhciBjaXJjbGVfbWFya2VyXzQ1NjU1OTIyMWNiOTQ4YzVhNGYxNjYxYzAyNjRjZTkzID0gTC5jaXJjbGVNYXJrZXIoCiAgICAgICAgICAgICAgICBbNDMuNjY5MDA1MTAwMDAwMDEsIC03OS40NDIyNTkzXSwKICAgICAgICAgICAgICAgIHsiYnViYmxpbmdNb3VzZUV2ZW50cyI6IHRydWUsICJjb2xvciI6ICJibHVlIiwgImRhc2hBcnJheSI6IG51bGwsICJkYXNoT2Zmc2V0IjogbnVsbCwgImZpbGwiOiB0cnVlLCAiZmlsbENvbG9yIjogIiMzMTg2Y2MiLCAiZmlsbE9wYWNpdHkiOiAwLjcsICJmaWxsUnVsZSI6ICJldmVub2RkIiwgImxpbmVDYXAiOiAicm91bmQiLCAibGluZUpvaW4iOiAicm91bmQiLCAib3BhY2l0eSI6IDEuMCwgInJhZGl1cyI6IDUsICJzdHJva2UiOiB0cnVlLCAid2VpZ2h0IjogM30KICAgICAgICAgICAgKS5hZGRUbyhtYXBfODg4ZmIxMjgzOTJjNGUxODg0NWExMzJjYjQ1YmVjOGYpOwogICAgICAgIAogICAgCiAgICAgICAgdmFyIHBvcHVwX2EzMTVjMDdiY2Y1MTQ0OGZiMDIwYmI5YjgzYjdiNzU2ID0gTC5wb3B1cCh7Im1heFdpZHRoIjogIjEwMCUifSk7CgogICAgICAgIAogICAgICAgICAgICB2YXIgaHRtbF9hNjZlNjBhOWNkNzU0ZGFhYjM2YTdkMDZhMWFiN2ZiOSA9ICQoYDxkaXYgaWQ9Imh0bWxfYTY2ZTYwYTljZDc1NGRhYWIzNmE3ZDA2YTFhYjdmYjkiIHN0eWxlPSJ3aWR0aDogMTAwLjAlOyBoZWlnaHQ6IDEwMC4wJTsiPkRvdmVyY291cnQgVmlsbGFnZSwgRHVmZmVyaW4sIFdlc3QgVG9yb250bzwvZGl2PmApWzBdOwogICAgICAgICAgICBwb3B1cF9hMzE1YzA3YmNmNTE0NDhmYjAyMGJiOWI4M2I3Yjc1Ni5zZXRDb250ZW50KGh0bWxfYTY2ZTYwYTljZDc1NGRhYWIzNmE3ZDA2YTFhYjdmYjkpOwogICAgICAgIAoKICAgICAgICBjaXJjbGVfbWFya2VyXzQ1NjU1OTIyMWNiOTQ4YzVhNGYxNjYxYzAyNjRjZTkzLmJpbmRQb3B1cChwb3B1cF9hMzE1YzA3YmNmNTE0NDhmYjAyMGJiOWI4M2I3Yjc1NikKICAgICAgICA7CgogICAgICAgIAogICAgCiAgICAKICAgICAgICAgICAgdmFyIGNpcmNsZV9tYXJrZXJfMzgwNTE4ZWQ2MGJmNDNmNGJjMjQ5MzA2MjkxYmY4MjIgPSBMLmNpcmNsZU1hcmtlcigKICAgICAgICAgICAgICAgIFs0My43NDQ3MzQyLCAtNzkuMjM5NDc2MDk5OTk5OTldLAogICAgICAgICAgICAgICAgeyJidWJibGluZ01vdXNlRXZlbnRzIjogdHJ1ZSwgImNvbG9yIjogImJsdWUiLCAiZGFzaEFycmF5IjogbnVsbCwgImRhc2hPZmZzZXQiOiBudWxsLCAiZmlsbCI6IHRydWUsICJmaWxsQ29sb3IiOiAiIzMxODZjYyIsICJmaWxsT3BhY2l0eSI6IDAuNywgImZpbGxSdWxlIjogImV2ZW5vZGQiLCAibGluZUNhcCI6ICJyb3VuZCIsICJsaW5lSm9pbiI6ICJyb3VuZCIsICJvcGFjaXR5IjogMS4wLCAicmFkaXVzIjogNSwgInN0cm9rZSI6IHRydWUsICJ3ZWlnaHQiOiAzfQogICAgICAgICAgICApLmFkZFRvKG1hcF84ODhmYjEyODM5MmM0ZTE4ODQ1YTEzMmNiNDViZWM4Zik7CiAgICAgICAgCiAgICAKICAgICAgICB2YXIgcG9wdXBfMjMwZjc4NDE5YzgxNDZkYjk1YjMxNGFlNDc4NWMzMTggPSBMLnBvcHVwKHsibWF4V2lkdGgiOiAiMTAwJSJ9KTsKCiAgICAgICAgCiAgICAgICAgICAgIHZhciBodG1sXzAwNzU3MTJjNGI4MjQyODc4OTM1YTVlOGNhYjA4ZjE4ID0gJChgPGRpdiBpZD0iaHRtbF8wMDc1NzEyYzRiODI0Mjg3ODkzNWE1ZThjYWIwOGYxOCIgc3R5bGU9IndpZHRoOiAxMDAuMCU7IGhlaWdodDogMTAwLjAlOyI+U2NhcmJvcm91Z2ggVmlsbGFnZSwgU2NhcmJvcm91Z2g8L2Rpdj5gKVswXTsKICAgICAgICAgICAgcG9wdXBfMjMwZjc4NDE5YzgxNDZkYjk1YjMxNGFlNDc4NWMzMTguc2V0Q29udGVudChodG1sXzAwNzU3MTJjNGI4MjQyODc4OTM1YTVlOGNhYjA4ZjE4KTsKICAgICAgICAKCiAgICAgICAgY2lyY2xlX21hcmtlcl8zODA1MThlZDYwYmY0M2Y0YmMyNDkzMDYyOTFiZjgyMi5iaW5kUG9wdXAocG9wdXBfMjMwZjc4NDE5YzgxNDZkYjk1YjMxNGFlNDc4NWMzMTgpCiAgICAgICAgOwoKICAgICAgICAKICAgIAogICAgCiAgICAgICAgICAgIHZhciBjaXJjbGVfbWFya2VyXzRmZmZhMDRiZTg4ZjRmMzA5NGEwZjQ2OWMzMWZhNzJhID0gTC5jaXJjbGVNYXJrZXIoCiAgICAgICAgICAgICAgICBbNDMuNzc4NTE3NSwgLTc5LjM0NjU1NTddLAogICAgICAgICAgICAgICAgeyJidWJibGluZ01vdXNlRXZlbnRzIjogdHJ1ZSwgImNvbG9yIjogImJsdWUiLCAiZGFzaEFycmF5IjogbnVsbCwgImRhc2hPZmZzZXQiOiBudWxsLCAiZmlsbCI6IHRydWUsICJmaWxsQ29sb3IiOiAiIzMxODZjYyIsICJmaWxsT3BhY2l0eSI6IDAuNywgImZpbGxSdWxlIjogImV2ZW5vZGQiLCAibGluZUNhcCI6ICJyb3VuZCIsICJsaW5lSm9pbiI6ICJyb3VuZCIsICJvcGFjaXR5IjogMS4wLCAicmFkaXVzIjogNSwgInN0cm9rZSI6IHRydWUsICJ3ZWlnaHQiOiAzfQogICAgICAgICAgICApLmFkZFRvKG1hcF84ODhmYjEyODM5MmM0ZTE4ODQ1YTEzMmNiNDViZWM4Zik7CiAgICAgICAgCiAgICAKICAgICAgICB2YXIgcG9wdXBfZGQyYzc0Y2ZiNjMwNDE3YTk2YWI1NmQyYWE5NjhmZjAgPSBMLnBvcHVwKHsibWF4V2lkdGgiOiAiMTAwJSJ9KTsKCiAgICAgICAgCiAgICAgICAgICAgIHZhciBodG1sXzc0NGQ0MzEwMTE3MjQzM2FiZjllODU5YTBhNjFjODk1ID0gJChgPGRpdiBpZD0iaHRtbF83NDRkNDMxMDExNzI0MzNhYmY5ZTg1OWEwYTYxYzg5NSIgc3R5bGU9IndpZHRoOiAxMDAuMCU7IGhlaWdodDogMTAwLjAlOyI+RmFpcnZpZXcsIEhlbnJ5IEZhcm0sIE9yaW9sZSwgTm9ydGggWW9yazwvZGl2PmApWzBdOwogICAgICAgICAgICBwb3B1cF9kZDJjNzRjZmI2MzA0MTdhOTZhYjU2ZDJhYTk2OGZmMC5zZXRDb250ZW50KGh0bWxfNzQ0ZDQzMTAxMTcyNDMzYWJmOWU4NTlhMGE2MWM4OTUpOwogICAgICAgIAoKICAgICAgICBjaXJjbGVfbWFya2VyXzRmZmZhMDRiZTg4ZjRmMzA5NGEwZjQ2OWMzMWZhNzJhLmJpbmRQb3B1cChwb3B1cF9kZDJjNzRjZmI2MzA0MTdhOTZhYjU2ZDJhYTk2OGZmMCkKICAgICAgICA7CgogICAgICAgIAogICAgCiAgICAKICAgICAgICAgICAgdmFyIGNpcmNsZV9tYXJrZXJfN2FhYTk0ZmVkZmRjNDJjZjk1ZjQ5NzY0MDIzYzBlZTQgPSBMLmNpcmNsZU1hcmtlcigKICAgICAgICAgICAgICAgIFs0My43Njc5ODAzLCAtNzkuNDg3MjYxOTAwMDAwMDFdLAogICAgICAgICAgICAgICAgeyJidWJibGluZ01vdXNlRXZlbnRzIjogdHJ1ZSwgImNvbG9yIjogImJsdWUiLCAiZGFzaEFycmF5IjogbnVsbCwgImRhc2hPZmZzZXQiOiBudWxsLCAiZmlsbCI6IHRydWUsICJmaWxsQ29sb3IiOiAiIzMxODZjYyIsICJmaWxsT3BhY2l0eSI6IDAuNywgImZpbGxSdWxlIjogImV2ZW5vZGQiLCAibGluZUNhcCI6ICJyb3VuZCIsICJsaW5lSm9pbiI6ICJyb3VuZCIsICJvcGFjaXR5IjogMS4wLCAicmFkaXVzIjogNSwgInN0cm9rZSI6IHRydWUsICJ3ZWlnaHQiOiAzfQogICAgICAgICAgICApLmFkZFRvKG1hcF84ODhmYjEyODM5MmM0ZTE4ODQ1YTEzMmNiNDViZWM4Zik7CiAgICAgICAgCiAgICAKICAgICAgICB2YXIgcG9wdXBfYzhkYTEzNDk4YjFiNDNjNWIzZTVhZmExZWVlMjU3ZTcgPSBMLnBvcHVwKHsibWF4V2lkdGgiOiAiMTAwJSJ9KTsKCiAgICAgICAgCiAgICAgICAgICAgIHZhciBodG1sXzRlYmRkNzg4YmFlOTQ0NDFhNGIzMDRjYTllMzk0NzJhID0gJChgPGRpdiBpZD0iaHRtbF80ZWJkZDc4OGJhZTk0NDQxYTRiMzA0Y2E5ZTM5NDcyYSIgc3R5bGU9IndpZHRoOiAxMDAuMCU7IGhlaWdodDogMTAwLjAlOyI+Tm9ydGh3b29kIFBhcmssIFlvcmsgVW5pdmVyc2l0eSwgTm9ydGggWW9yazwvZGl2PmApWzBdOwogICAgICAgICAgICBwb3B1cF9jOGRhMTM0OThiMWI0M2M1YjNlNWFmYTFlZWUyNTdlNy5zZXRDb250ZW50KGh0bWxfNGViZGQ3ODhiYWU5NDQ0MWE0YjMwNGNhOWUzOTQ3MmEpOwogICAgICAgIAoKICAgICAgICBjaXJjbGVfbWFya2VyXzdhYWE5NGZlZGZkYzQyY2Y5NWY0OTc2NDAyM2MwZWU0LmJpbmRQb3B1cChwb3B1cF9jOGRhMTM0OThiMWI0M2M1YjNlNWFmYTFlZWUyNTdlNykKICAgICAgICA7CgogICAgICAgIAogICAgCiAgICAKICAgICAgICAgICAgdmFyIGNpcmNsZV9tYXJrZXJfYTJhMzRmMWY0MWMzNDc3YThjYzNjZGY1ZjE1NmIwMDEgPSBMLmNpcmNsZU1hcmtlcigKICAgICAgICAgICAgICAgIFs0My42ODUzNDcsIC03OS4zMzgxMDY1XSwKICAgICAgICAgICAgICAgIHsiYnViYmxpbmdNb3VzZUV2ZW50cyI6IHRydWUsICJjb2xvciI6ICJibHVlIiwgImRhc2hBcnJheSI6IG51bGwsICJkYXNoT2Zmc2V0IjogbnVsbCwgImZpbGwiOiB0cnVlLCAiZmlsbENvbG9yIjogIiMzMTg2Y2MiLCAiZmlsbE9wYWNpdHkiOiAwLjcsICJmaWxsUnVsZSI6ICJldmVub2RkIiwgImxpbmVDYXAiOiAicm91bmQiLCAibGluZUpvaW4iOiAicm91bmQiLCAib3BhY2l0eSI6IDEuMCwgInJhZGl1cyI6IDUsICJzdHJva2UiOiB0cnVlLCAid2VpZ2h0IjogM30KICAgICAgICAgICAgKS5hZGRUbyhtYXBfODg4ZmIxMjgzOTJjNGUxODg0NWExMzJjYjQ1YmVjOGYpOwogICAgICAgIAogICAgCiAgICAgICAgdmFyIHBvcHVwXzgxZTU2MmUxOGNlZTQ3YWRhMmI4OGNiZTMxMzIyNTMyID0gTC5wb3B1cCh7Im1heFdpZHRoIjogIjEwMCUifSk7CgogICAgICAgIAogICAgICAgICAgICB2YXIgaHRtbF9kZDAwODVkZjFhZjY0MDU2ODc3N2U2ZGFiMzg4MmY5NCA9ICQoYDxkaXYgaWQ9Imh0bWxfZGQwMDg1ZGYxYWY2NDA1Njg3NzdlNmRhYjM4ODJmOTQiIHN0eWxlPSJ3aWR0aDogMTAwLjAlOyBoZWlnaHQ6IDEwMC4wJTsiPkVhc3QgVG9yb250bywgRWFzdCBZb3JrPC9kaXY+YClbMF07CiAgICAgICAgICAgIHBvcHVwXzgxZTU2MmUxOGNlZTQ3YWRhMmI4OGNiZTMxMzIyNTMyLnNldENvbnRlbnQoaHRtbF9kZDAwODVkZjFhZjY0MDU2ODc3N2U2ZGFiMzg4MmY5NCk7CiAgICAgICAgCgogICAgICAgIGNpcmNsZV9tYXJrZXJfYTJhMzRmMWY0MWMzNDc3YThjYzNjZGY1ZjE1NmIwMDEuYmluZFBvcHVwKHBvcHVwXzgxZTU2MmUxOGNlZTQ3YWRhMmI4OGNiZTMxMzIyNTMyKQogICAgICAgIDsKCiAgICAgICAgCiAgICAKICAgIAogICAgICAgICAgICB2YXIgY2lyY2xlX21hcmtlcl80OTdhNmQyNDgwZmY0Yjk1YTg4MDk4ZDBiMjFmMWNmNCA9IEwuY2lyY2xlTWFya2VyKAogICAgICAgICAgICAgICAgWzQzLjY0MDgxNTcsIC03OS4zODE3NTIyOTk5OTk5OV0sCiAgICAgICAgICAgICAgICB7ImJ1YmJsaW5nTW91c2VFdmVudHMiOiB0cnVlLCAiY29sb3IiOiAiYmx1ZSIsICJkYXNoQXJyYXkiOiBudWxsLCAiZGFzaE9mZnNldCI6IG51bGwsICJmaWxsIjogdHJ1ZSwgImZpbGxDb2xvciI6ICIjMzE4NmNjIiwgImZpbGxPcGFjaXR5IjogMC43LCAiZmlsbFJ1bGUiOiAiZXZlbm9kZCIsICJsaW5lQ2FwIjogInJvdW5kIiwgImxpbmVKb2luIjogInJvdW5kIiwgIm9wYWNpdHkiOiAxLjAsICJyYWRpdXMiOiA1LCAic3Ryb2tlIjogdHJ1ZSwgIndlaWdodCI6IDN9CiAgICAgICAgICAgICkuYWRkVG8obWFwXzg4OGZiMTI4MzkyYzRlMTg4NDVhMTMyY2I0NWJlYzhmKTsKICAgICAgICAKICAgIAogICAgICAgIHZhciBwb3B1cF85ZGE3YjY4NGU1N2M0OTUxYjZjZjVhYjE5NWZlYmVmYSA9IEwucG9wdXAoeyJtYXhXaWR0aCI6ICIxMDAlIn0pOwoKICAgICAgICAKICAgICAgICAgICAgdmFyIGh0bWxfNWU3MmNiN2VkMDhjNGY0MThjZTE2OTM1YmVhYzk1NWEgPSAkKGA8ZGl2IGlkPSJodG1sXzVlNzJjYjdlZDA4YzRmNDE4Y2UxNjkzNWJlYWM5NTVhIiBzdHlsZT0id2lkdGg6IDEwMC4wJTsgaGVpZ2h0OiAxMDAuMCU7Ij5IYXJib3VyZnJvbnQgRWFzdCwgVG9yb250byBJc2xhbmRzLCBVbmlvbiBTdGF0aW9uLCBEb3dudG93biBUb3JvbnRvPC9kaXY+YClbMF07CiAgICAgICAgICAgIHBvcHVwXzlkYTdiNjg0ZTU3YzQ5NTFiNmNmNWFiMTk1ZmViZWZhLnNldENvbnRlbnQoaHRtbF81ZTcyY2I3ZWQwOGM0ZjQxOGNlMTY5MzViZWFjOTU1YSk7CiAgICAgICAgCgogICAgICAgIGNpcmNsZV9tYXJrZXJfNDk3YTZkMjQ4MGZmNGI5NWE4ODA5OGQwYjIxZjFjZjQuYmluZFBvcHVwKHBvcHVwXzlkYTdiNjg0ZTU3YzQ5NTFiNmNmNWFiMTk1ZmViZWZhKQogICAgICAgIDsKCiAgICAgICAgCiAgICAKICAgIAogICAgICAgICAgICB2YXIgY2lyY2xlX21hcmtlcl85YmQyZDhhMGI4NzI0NDJhOTE4ZjNlYjRlNmFmZmI3NiA9IEwuY2lyY2xlTWFya2VyKAogICAgICAgICAgICAgICAgWzQzLjY0NzkyNjcwMDAwMDAwNiwgLTc5LjQxOTc0OTddLAogICAgICAgICAgICAgICAgeyJidWJibGluZ01vdXNlRXZlbnRzIjogdHJ1ZSwgImNvbG9yIjogImJsdWUiLCAiZGFzaEFycmF5IjogbnVsbCwgImRhc2hPZmZzZXQiOiBudWxsLCAiZmlsbCI6IHRydWUsICJmaWxsQ29sb3IiOiAiIzMxODZjYyIsICJmaWxsT3BhY2l0eSI6IDAuNywgImZpbGxSdWxlIjogImV2ZW5vZGQiLCAibGluZUNhcCI6ICJyb3VuZCIsICJsaW5lSm9pbiI6ICJyb3VuZCIsICJvcGFjaXR5IjogMS4wLCAicmFkaXVzIjogNSwgInN0cm9rZSI6IHRydWUsICJ3ZWlnaHQiOiAzfQogICAgICAgICAgICApLmFkZFRvKG1hcF84ODhmYjEyODM5MmM0ZTE4ODQ1YTEzMmNiNDViZWM4Zik7CiAgICAgICAgCiAgICAKICAgICAgICB2YXIgcG9wdXBfMzc0ZWMwZDgwMzliNDZmYWI0YjRiZDEwZGFlMTU0MjMgPSBMLnBvcHVwKHsibWF4V2lkdGgiOiAiMTAwJSJ9KTsKCiAgICAgICAgCiAgICAgICAgICAgIHZhciBodG1sXzFlZWY4NWFjNjMzNjQzZWRiNmYxNmRkOTZiZmQ4NGFkID0gJChgPGRpdiBpZD0iaHRtbF8xZWVmODVhYzYzMzY0M2VkYjZmMTZkZDk2YmZkODRhZCIgc3R5bGU9IndpZHRoOiAxMDAuMCU7IGhlaWdodDogMTAwLjAlOyI+TGl0dGxlIFBvcnR1Z2FsLCBUcmluaXR5LCBXZXN0IFRvcm9udG88L2Rpdj5gKVswXTsKICAgICAgICAgICAgcG9wdXBfMzc0ZWMwZDgwMzliNDZmYWI0YjRiZDEwZGFlMTU0MjMuc2V0Q29udGVudChodG1sXzFlZWY4NWFjNjMzNjQzZWRiNmYxNmRkOTZiZmQ4NGFkKTsKICAgICAgICAKCiAgICAgICAgY2lyY2xlX21hcmtlcl85YmQyZDhhMGI4NzI0NDJhOTE4ZjNlYjRlNmFmZmI3Ni5iaW5kUG9wdXAocG9wdXBfMzc0ZWMwZDgwMzliNDZmYWI0YjRiZDEwZGFlMTU0MjMpCiAgICAgICAgOwoKICAgICAgICAKICAgIAogICAgCiAgICAgICAgICAgIHZhciBjaXJjbGVfbWFya2VyXzRlM2QwNzQ3OTI2MDQxY2VhMWM3Mzc4OGU2YzBiMGMwID0gTC5jaXJjbGVNYXJrZXIoCiAgICAgICAgICAgICAgICBbNDMuNzI3OTI5MiwgLTc5LjI2MjAyOTQwMDAwMDAyXSwKICAgICAgICAgICAgICAgIHsiYnViYmxpbmdNb3VzZUV2ZW50cyI6IHRydWUsICJjb2xvciI6ICJibHVlIiwgImRhc2hBcnJheSI6IG51bGwsICJkYXNoT2Zmc2V0IjogbnVsbCwgImZpbGwiOiB0cnVlLCAiZmlsbENvbG9yIjogIiMzMTg2Y2MiLCAiZmlsbE9wYWNpdHkiOiAwLjcsICJmaWxsUnVsZSI6ICJldmVub2RkIiwgImxpbmVDYXAiOiAicm91bmQiLCAibGluZUpvaW4iOiAicm91bmQiLCAib3BhY2l0eSI6IDEuMCwgInJhZGl1cyI6IDUsICJzdHJva2UiOiB0cnVlLCAid2VpZ2h0IjogM30KICAgICAgICAgICAgKS5hZGRUbyhtYXBfODg4ZmIxMjgzOTJjNGUxODg0NWExMzJjYjQ1YmVjOGYpOwogICAgICAgIAogICAgCiAgICAgICAgdmFyIHBvcHVwXzFlMmI4MzdhZDllMjRjN2E4M2ViMzFiZjg4ZGFhYzk5ID0gTC5wb3B1cCh7Im1heFdpZHRoIjogIjEwMCUifSk7CgogICAgICAgIAogICAgICAgICAgICB2YXIgaHRtbF8zMGVhNjMyZDQ3OTI0MTY0OTQzMmJhODFjYTk4Yjc5MSA9ICQoYDxkaXYgaWQ9Imh0bWxfMzBlYTYzMmQ0NzkyNDE2NDk0MzJiYTgxY2E5OGI3OTEiIHN0eWxlPSJ3aWR0aDogMTAwLjAlOyBoZWlnaHQ6IDEwMC4wJTsiPkVhc3QgQmlyY2htb3VudCBQYXJrLCBJb252aWV3LCBLZW5uZWR5IFBhcmssIFNjYXJib3JvdWdoPC9kaXY+YClbMF07CiAgICAgICAgICAgIHBvcHVwXzFlMmI4MzdhZDllMjRjN2E4M2ViMzFiZjg4ZGFhYzk5LnNldENvbnRlbnQoaHRtbF8zMGVhNjMyZDQ3OTI0MTY0OTQzMmJhODFjYTk4Yjc5MSk7CiAgICAgICAgCgogICAgICAgIGNpcmNsZV9tYXJrZXJfNGUzZDA3NDc5MjYwNDFjZWExYzczNzg4ZTZjMGIwYzAuYmluZFBvcHVwKHBvcHVwXzFlMmI4MzdhZDllMjRjN2E4M2ViMzFiZjg4ZGFhYzk5KQogICAgICAgIDsKCiAgICAgICAgCiAgICAKICAgIAogICAgICAgICAgICB2YXIgY2lyY2xlX21hcmtlcl9jMThiNWVkZjk0ZjU0ODEzYTg0NTkyNDQ1Mjg3M2M0YSA9IEwuY2lyY2xlTWFya2VyKAogICAgICAgICAgICAgICAgWzQzLjc4Njk0NzMsIC03OS4zODU5NzVdLAogICAgICAgICAgICAgICAgeyJidWJibGluZ01vdXNlRXZlbnRzIjogdHJ1ZSwgImNvbG9yIjogImJsdWUiLCAiZGFzaEFycmF5IjogbnVsbCwgImRhc2hPZmZzZXQiOiBudWxsLCAiZmlsbCI6IHRydWUsICJmaWxsQ29sb3IiOiAiIzMxODZjYyIsICJmaWxsT3BhY2l0eSI6IDAuNywgImZpbGxSdWxlIjogImV2ZW5vZGQiLCAibGluZUNhcCI6ICJyb3VuZCIsICJsaW5lSm9pbiI6ICJyb3VuZCIsICJvcGFjaXR5IjogMS4wLCAicmFkaXVzIjogNSwgInN0cm9rZSI6IHRydWUsICJ3ZWlnaHQiOiAzfQogICAgICAgICAgICApLmFkZFRvKG1hcF84ODhmYjEyODM5MmM0ZTE4ODQ1YTEzMmNiNDViZWM4Zik7CiAgICAgICAgCiAgICAKICAgICAgICB2YXIgcG9wdXBfZTNiMGU4MDFjMzE1NDYyZjljMWExMTEwNmU0MWE4YzUgPSBMLnBvcHVwKHsibWF4V2lkdGgiOiAiMTAwJSJ9KTsKCiAgICAgICAgCiAgICAgICAgICAgIHZhciBodG1sXzg2OTI2ZmRmYmU5MzRkZDlhYjFhMzVlNGE5NTEyMGMyID0gJChgPGRpdiBpZD0iaHRtbF84NjkyNmZkZmJlOTM0ZGQ5YWIxYTM1ZTRhOTUxMjBjMiIgc3R5bGU9IndpZHRoOiAxMDAuMCU7IGhlaWdodDogMTAwLjAlOyI+QmF5dmlldyBWaWxsYWdlLCBOb3J0aCBZb3JrPC9kaXY+YClbMF07CiAgICAgICAgICAgIHBvcHVwX2UzYjBlODAxYzMxNTQ2MmY5YzFhMTExMDZlNDFhOGM1LnNldENvbnRlbnQoaHRtbF84NjkyNmZkZmJlOTM0ZGQ5YWIxYTM1ZTRhOTUxMjBjMik7CiAgICAgICAgCgogICAgICAgIGNpcmNsZV9tYXJrZXJfYzE4YjVlZGY5NGY1NDgxM2E4NDU5MjQ0NTI4NzNjNGEuYmluZFBvcHVwKHBvcHVwX2UzYjBlODAxYzMxNTQ2MmY5YzFhMTExMDZlNDFhOGM1KQogICAgICAgIDsKCiAgICAgICAgCiAgICAKICAgIAogICAgICAgICAgICB2YXIgY2lyY2xlX21hcmtlcl8wMjI3ZDYzNmNmOWY0MWUyOTAyMzY5ZGVlZjdhNzMwYiA9IEwuY2lyY2xlTWFya2VyKAogICAgICAgICAgICAgICAgWzQzLjczNzQ3MzIwMDAwMDAwNCwgLTc5LjQ2NDc2MzI5OTk5OTk5XSwKICAgICAgICAgICAgICAgIHsiYnViYmxpbmdNb3VzZUV2ZW50cyI6IHRydWUsICJjb2xvciI6ICJibHVlIiwgImRhc2hBcnJheSI6IG51bGwsICJkYXNoT2Zmc2V0IjogbnVsbCwgImZpbGwiOiB0cnVlLCAiZmlsbENvbG9yIjogIiMzMTg2Y2MiLCAiZmlsbE9wYWNpdHkiOiAwLjcsICJmaWxsUnVsZSI6ICJldmVub2RkIiwgImxpbmVDYXAiOiAicm91bmQiLCAibGluZUpvaW4iOiAicm91bmQiLCAib3BhY2l0eSI6IDEuMCwgInJhZGl1cyI6IDUsICJzdHJva2UiOiB0cnVlLCAid2VpZ2h0IjogM30KICAgICAgICAgICAgKS5hZGRUbyhtYXBfODg4ZmIxMjgzOTJjNGUxODg0NWExMzJjYjQ1YmVjOGYpOwogICAgICAgIAogICAgCiAgICAgICAgdmFyIHBvcHVwXzRlYWFmNzQ5MmUwNjRlMzNhZGUzNTNkNGUwYTk3MzFhID0gTC5wb3B1cCh7Im1heFdpZHRoIjogIjEwMCUifSk7CgogICAgICAgIAogICAgICAgICAgICB2YXIgaHRtbF8wZGUxM2YyNjE2MGY0YjY3ODgzMTg3ZjU1NjZlNDdlOSA9ICQoYDxkaXYgaWQ9Imh0bWxfMGRlMTNmMjYxNjBmNGI2Nzg4MzE4N2Y1NTY2ZTQ3ZTkiIHN0eWxlPSJ3aWR0aDogMTAwLjAlOyBoZWlnaHQ6IDEwMC4wJTsiPkNGQiBUb3JvbnRvLCBEb3duc3ZpZXcgRWFzdCwgTm9ydGggWW9yazwvZGl2PmApWzBdOwogICAgICAgICAgICBwb3B1cF80ZWFhZjc0OTJlMDY0ZTMzYWRlMzUzZDRlMGE5NzMxYS5zZXRDb250ZW50KGh0bWxfMGRlMTNmMjYxNjBmNGI2Nzg4MzE4N2Y1NTY2ZTQ3ZTkpOwogICAgICAgIAoKICAgICAgICBjaXJjbGVfbWFya2VyXzAyMjdkNjM2Y2Y5ZjQxZTI5MDIzNjlkZWVmN2E3MzBiLmJpbmRQb3B1cChwb3B1cF80ZWFhZjc0OTJlMDY0ZTMzYWRlMzUzZDRlMGE5NzMxYSkKICAgICAgICA7CgogICAgICAgIAogICAgCiAgICAKICAgICAgICAgICAgdmFyIGNpcmNsZV9tYXJrZXJfMGVhZTdlYjUwNDZjNGY1Mjk5ODVhNTAwYzJjZGQ2OWMgPSBMLmNpcmNsZU1hcmtlcigKICAgICAgICAgICAgICAgIFs0My42Nzk1NTcxLCAtNzkuMzUyMTg4XSwKICAgICAgICAgICAgICAgIHsiYnViYmxpbmdNb3VzZUV2ZW50cyI6IHRydWUsICJjb2xvciI6ICJibHVlIiwgImRhc2hBcnJheSI6IG51bGwsICJkYXNoT2Zmc2V0IjogbnVsbCwgImZpbGwiOiB0cnVlLCAiZmlsbENvbG9yIjogIiMzMTg2Y2MiLCAiZmlsbE9wYWNpdHkiOiAwLjcsICJmaWxsUnVsZSI6ICJldmVub2RkIiwgImxpbmVDYXAiOiAicm91bmQiLCAibGluZUpvaW4iOiAicm91bmQiLCAib3BhY2l0eSI6IDEuMCwgInJhZGl1cyI6IDUsICJzdHJva2UiOiB0cnVlLCAid2VpZ2h0IjogM30KICAgICAgICAgICAgKS5hZGRUbyhtYXBfODg4ZmIxMjgzOTJjNGUxODg0NWExMzJjYjQ1YmVjOGYpOwogICAgICAgIAogICAgCiAgICAgICAgdmFyIHBvcHVwX2NiMDI0YTYwODgxNzRhOTViODdkOTQ1OTcwYTZiMWJmID0gTC5wb3B1cCh7Im1heFdpZHRoIjogIjEwMCUifSk7CgogICAgICAgIAogICAgICAgICAgICB2YXIgaHRtbF81MmJiZmNjODYzZjA0NDE2OWVhNmIzYjQyZmY4MjRkNyA9ICQoYDxkaXYgaWQ9Imh0bWxfNTJiYmZjYzg2M2YwNDQxNjllYTZiM2I0MmZmODI0ZDciIHN0eWxlPSJ3aWR0aDogMTAwLjAlOyBoZWlnaHQ6IDEwMC4wJTsiPlRoZSBEYW5mb3J0aCBXZXN0LCBSaXZlcmRhbGUsIEVhc3QgVG9yb250bzwvZGl2PmApWzBdOwogICAgICAgICAgICBwb3B1cF9jYjAyNGE2MDg4MTc0YTk1Yjg3ZDk0NTk3MGE2YjFiZi5zZXRDb250ZW50KGh0bWxfNTJiYmZjYzg2M2YwNDQxNjllYTZiM2I0MmZmODI0ZDcpOwogICAgICAgIAoKICAgICAgICBjaXJjbGVfbWFya2VyXzBlYWU3ZWI1MDQ2YzRmNTI5OTg1YTUwMGMyY2RkNjljLmJpbmRQb3B1cChwb3B1cF9jYjAyNGE2MDg4MTc0YTk1Yjg3ZDk0NTk3MGE2YjFiZikKICAgICAgICA7CgogICAgICAgIAogICAgCiAgICAKICAgICAgICAgICAgdmFyIGNpcmNsZV9tYXJrZXJfNzhmZjA3N2ZkMjQ1NDkxNjlmYzliMjBhNTJkZjc0NWYgPSBMLmNpcmNsZU1hcmtlcigKICAgICAgICAgICAgICAgIFs0My42NDcxNzY4LCAtNzkuMzgxNTc2NDAwMDAwMDFdLAogICAgICAgICAgICAgICAgeyJidWJibGluZ01vdXNlRXZlbnRzIjogdHJ1ZSwgImNvbG9yIjogImJsdWUiLCAiZGFzaEFycmF5IjogbnVsbCwgImRhc2hPZmZzZXQiOiBudWxsLCAiZmlsbCI6IHRydWUsICJmaWxsQ29sb3IiOiAiIzMxODZjYyIsICJmaWxsT3BhY2l0eSI6IDAuNywgImZpbGxSdWxlIjogImV2ZW5vZGQiLCAibGluZUNhcCI6ICJyb3VuZCIsICJsaW5lSm9pbiI6ICJyb3VuZCIsICJvcGFjaXR5IjogMS4wLCAicmFkaXVzIjogNSwgInN0cm9rZSI6IHRydWUsICJ3ZWlnaHQiOiAzfQogICAgICAgICAgICApLmFkZFRvKG1hcF84ODhmYjEyODM5MmM0ZTE4ODQ1YTEzMmNiNDViZWM4Zik7CiAgICAgICAgCiAgICAKICAgICAgICB2YXIgcG9wdXBfNDhlZjI0YzNlNzRlNDBhNTk5ZjQzODhmNGYzMjVmN2QgPSBMLnBvcHVwKHsibWF4V2lkdGgiOiAiMTAwJSJ9KTsKCiAgICAgICAgCiAgICAgICAgICAgIHZhciBodG1sX2VjMWNhZmIxMmIyNTRhYjk5NGMzMDJkNDlmYjk2OGZiID0gJChgPGRpdiBpZD0iaHRtbF9lYzFjYWZiMTJiMjU0YWI5OTRjMzAyZDQ5ZmI5NjhmYiIgc3R5bGU9IndpZHRoOiAxMDAuMCU7IGhlaWdodDogMTAwLjAlOyI+RGVzaWduIEV4Y2hhbmdlLCBUb3JvbnRvIERvbWluaW9uIENlbnRyZSwgRG93bnRvd24gVG9yb250bzwvZGl2PmApWzBdOwogICAgICAgICAgICBwb3B1cF80OGVmMjRjM2U3NGU0MGE1OTlmNDM4OGY0ZjMyNWY3ZC5zZXRDb250ZW50KGh0bWxfZWMxY2FmYjEyYjI1NGFiOTk0YzMwMmQ0OWZiOTY4ZmIpOwogICAgICAgIAoKICAgICAgICBjaXJjbGVfbWFya2VyXzc4ZmYwNzdmZDI0NTQ5MTY5ZmM5YjIwYTUyZGY3NDVmLmJpbmRQb3B1cChwb3B1cF80OGVmMjRjM2U3NGU0MGE1OTlmNDM4OGY0ZjMyNWY3ZCkKICAgICAgICA7CgogICAgICAgIAogICAgCiAgICAKICAgICAgICAgICAgdmFyIGNpcmNsZV9tYXJrZXJfNTgwOTBlYzVhODgzNDdhNTk5ZDYxNjVkMzFkMTUxZDYgPSBMLmNpcmNsZU1hcmtlcigKICAgICAgICAgICAgICAgIFs0My42MzY4NDcyLCAtNzkuNDI4MTkxNDAwMDAwMDJdLAogICAgICAgICAgICAgICAgeyJidWJibGluZ01vdXNlRXZlbnRzIjogdHJ1ZSwgImNvbG9yIjogImJsdWUiLCAiZGFzaEFycmF5IjogbnVsbCwgImRhc2hPZmZzZXQiOiBudWxsLCAiZmlsbCI6IHRydWUsICJmaWxsQ29sb3IiOiAiIzMxODZjYyIsICJmaWxsT3BhY2l0eSI6IDAuNywgImZpbGxSdWxlIjogImV2ZW5vZGQiLCAibGluZUNhcCI6ICJyb3VuZCIsICJsaW5lSm9pbiI6ICJyb3VuZCIsICJvcGFjaXR5IjogMS4wLCAicmFkaXVzIjogNSwgInN0cm9rZSI6IHRydWUsICJ3ZWlnaHQiOiAzfQogICAgICAgICAgICApLmFkZFRvKG1hcF84ODhmYjEyODM5MmM0ZTE4ODQ1YTEzMmNiNDViZWM4Zik7CiAgICAgICAgCiAgICAKICAgICAgICB2YXIgcG9wdXBfYjgyOTVkYjM3OTllNGEyZWIyZDcwZjdhYWZmZDkzNGMgPSBMLnBvcHVwKHsibWF4V2lkdGgiOiAiMTAwJSJ9KTsKCiAgICAgICAgCiAgICAgICAgICAgIHZhciBodG1sX2Y5NzBiYjU1NWYzYzQ5YWVhMTkwZGNjZmIyYjhmNzU5ID0gJChgPGRpdiBpZD0iaHRtbF9mOTcwYmI1NTVmM2M0OWFlYTE5MGRjY2ZiMmI4Zjc1OSIgc3R5bGU9IndpZHRoOiAxMDAuMCU7IGhlaWdodDogMTAwLjAlOyI+QnJvY2t0b24sIEV4aGliaXRpb24gUGxhY2UsIFBhcmtkYWxlIFZpbGxhZ2UsIFdlc3QgVG9yb250bzwvZGl2PmApWzBdOwogICAgICAgICAgICBwb3B1cF9iODI5NWRiMzc5OWU0YTJlYjJkNzBmN2FhZmZkOTM0Yy5zZXRDb250ZW50KGh0bWxfZjk3MGJiNTU1ZjNjNDlhZWExOTBkY2NmYjJiOGY3NTkpOwogICAgICAgIAoKICAgICAgICBjaXJjbGVfbWFya2VyXzU4MDkwZWM1YTg4MzQ3YTU5OWQ2MTY1ZDMxZDE1MWQ2LmJpbmRQb3B1cChwb3B1cF9iODI5NWRiMzc5OWU0YTJlYjJkNzBmN2FhZmZkOTM0YykKICAgICAgICA7CgogICAgICAgIAogICAgCiAgICAKICAgICAgICAgICAgdmFyIGNpcmNsZV9tYXJrZXJfNzk3ODZhZjNjMDNmNDkwNTllZWVjYmU1MjMwMmRhMGEgPSBMLmNpcmNsZU1hcmtlcigKICAgICAgICAgICAgICAgIFs0My43MTExMTE3MDAwMDAwMDQsIC03OS4yODQ1NzcyXSwKICAgICAgICAgICAgICAgIHsiYnViYmxpbmdNb3VzZUV2ZW50cyI6IHRydWUsICJjb2xvciI6ICJibHVlIiwgImRhc2hBcnJheSI6IG51bGwsICJkYXNoT2Zmc2V0IjogbnVsbCwgImZpbGwiOiB0cnVlLCAiZmlsbENvbG9yIjogIiMzMTg2Y2MiLCAiZmlsbE9wYWNpdHkiOiAwLjcsICJmaWxsUnVsZSI6ICJldmVub2RkIiwgImxpbmVDYXAiOiAicm91bmQiLCAibGluZUpvaW4iOiAicm91bmQiLCAib3BhY2l0eSI6IDEuMCwgInJhZGl1cyI6IDUsICJzdHJva2UiOiB0cnVlLCAid2VpZ2h0IjogM30KICAgICAgICAgICAgKS5hZGRUbyhtYXBfODg4ZmIxMjgzOTJjNGUxODg0NWExMzJjYjQ1YmVjOGYpOwogICAgICAgIAogICAgCiAgICAgICAgdmFyIHBvcHVwXzg4MTkxZmU5NmU5NTQ4NGQ5NzFlNGFkNGVhNWJjMDU5ID0gTC5wb3B1cCh7Im1heFdpZHRoIjogIjEwMCUifSk7CgogICAgICAgIAogICAgICAgICAgICB2YXIgaHRtbF83ZWE3Y2MxNTRhNDQ0MTNiODZmMTcyZDY4MDg5MTVjNyA9ICQoYDxkaXYgaWQ9Imh0bWxfN2VhN2NjMTU0YTQ0NDEzYjg2ZjE3MmQ2ODA4OTE1YzciIHN0eWxlPSJ3aWR0aDogMTAwLjAlOyBoZWlnaHQ6IDEwMC4wJTsiPkNsYWlybGVhLCBHb2xkZW4gTWlsZSwgT2FrcmlkZ2UsIFNjYXJib3JvdWdoPC9kaXY+YClbMF07CiAgICAgICAgICAgIHBvcHVwXzg4MTkxZmU5NmU5NTQ4NGQ5NzFlNGFkNGVhNWJjMDU5LnNldENvbnRlbnQoaHRtbF83ZWE3Y2MxNTRhNDQ0MTNiODZmMTcyZDY4MDg5MTVjNyk7CiAgICAgICAgCgogICAgICAgIGNpcmNsZV9tYXJrZXJfNzk3ODZhZjNjMDNmNDkwNTllZWVjYmU1MjMwMmRhMGEuYmluZFBvcHVwKHBvcHVwXzg4MTkxZmU5NmU5NTQ4NGQ5NzFlNGFkNGVhNWJjMDU5KQogICAgICAgIDsKCiAgICAgICAgCiAgICAKICAgIAogICAgICAgICAgICB2YXIgY2lyY2xlX21hcmtlcl8wM2JkNDA5ZTQwNzQ0MjQ1YmQzYzNlOGY0MjY1MzA4NSA9IEwuY2lyY2xlTWFya2VyKAogICAgICAgICAgICAgICAgWzQzLjc1NzQ5MDIsIC03OS4zNzQ3MTQwOTk5OTk5OV0sCiAgICAgICAgICAgICAgICB7ImJ1YmJsaW5nTW91c2VFdmVudHMiOiB0cnVlLCAiY29sb3IiOiAiYmx1ZSIsICJkYXNoQXJyYXkiOiBudWxsLCAiZGFzaE9mZnNldCI6IG51bGwsICJmaWxsIjogdHJ1ZSwgImZpbGxDb2xvciI6ICIjMzE4NmNjIiwgImZpbGxPcGFjaXR5IjogMC43LCAiZmlsbFJ1bGUiOiAiZXZlbm9kZCIsICJsaW5lQ2FwIjogInJvdW5kIiwgImxpbmVKb2luIjogInJvdW5kIiwgIm9wYWNpdHkiOiAxLjAsICJyYWRpdXMiOiA1LCAic3Ryb2tlIjogdHJ1ZSwgIndlaWdodCI6IDN9CiAgICAgICAgICAgICkuYWRkVG8obWFwXzg4OGZiMTI4MzkyYzRlMTg4NDVhMTMyY2I0NWJlYzhmKTsKICAgICAgICAKICAgIAogICAgICAgIHZhciBwb3B1cF9hYjIzN2FjMzM2Nzc0MWM0YmQ2Nzg0ODJlODkyOTE4YyA9IEwucG9wdXAoeyJtYXhXaWR0aCI6ICIxMDAlIn0pOwoKICAgICAgICAKICAgICAgICAgICAgdmFyIGh0bWxfMGY3ZDVmOTlhYjhkNDk1MDkyODliN2NkMTlhZDNjMGQgPSAkKGA8ZGl2IGlkPSJodG1sXzBmN2Q1Zjk5YWI4ZDQ5NTA5Mjg5YjdjZDE5YWQzYzBkIiBzdHlsZT0id2lkdGg6IDEwMC4wJTsgaGVpZ2h0OiAxMDAuMCU7Ij5TaWx2ZXIgSGlsbHMsIFlvcmsgTWlsbHMsIE5vcnRoIFlvcms8L2Rpdj5gKVswXTsKICAgICAgICAgICAgcG9wdXBfYWIyMzdhYzMzNjc3NDFjNGJkNjc4NDgyZTg5MjkxOGMuc2V0Q29udGVudChodG1sXzBmN2Q1Zjk5YWI4ZDQ5NTA5Mjg5YjdjZDE5YWQzYzBkKTsKICAgICAgICAKCiAgICAgICAgY2lyY2xlX21hcmtlcl8wM2JkNDA5ZTQwNzQ0MjQ1YmQzYzNlOGY0MjY1MzA4NS5iaW5kUG9wdXAocG9wdXBfYWIyMzdhYzMzNjc3NDFjNGJkNjc4NDgyZTg5MjkxOGMpCiAgICAgICAgOwoKICAgICAgICAKICAgIAogICAgCiAgICAgICAgICAgIHZhciBjaXJjbGVfbWFya2VyX2RiNmRjZDdmMjVkNDQ5YzA5OTQ2NmI0Y2RhOGUyOTU1ID0gTC5jaXJjbGVNYXJrZXIoCiAgICAgICAgICAgICAgICBbNDMuNzM5MDE0NiwgLTc5LjUwNjk0MzZdLAogICAgICAgICAgICAgICAgeyJidWJibGluZ01vdXNlRXZlbnRzIjogdHJ1ZSwgImNvbG9yIjogImJsdWUiLCAiZGFzaEFycmF5IjogbnVsbCwgImRhc2hPZmZzZXQiOiBudWxsLCAiZmlsbCI6IHRydWUsICJmaWxsQ29sb3IiOiAiIzMxODZjYyIsICJmaWxsT3BhY2l0eSI6IDAuNywgImZpbGxSdWxlIjogImV2ZW5vZGQiLCAibGluZUNhcCI6ICJyb3VuZCIsICJsaW5lSm9pbiI6ICJyb3VuZCIsICJvcGFjaXR5IjogMS4wLCAicmFkaXVzIjogNSwgInN0cm9rZSI6IHRydWUsICJ3ZWlnaHQiOiAzfQogICAgICAgICAgICApLmFkZFRvKG1hcF84ODhmYjEyODM5MmM0ZTE4ODQ1YTEzMmNiNDViZWM4Zik7CiAgICAgICAgCiAgICAKICAgICAgICB2YXIgcG9wdXBfYzIzOWNiYTQyNGQ5NDhkMGE5MjY2YTM1OTVjZGJlNjQgPSBMLnBvcHVwKHsibWF4V2lkdGgiOiAiMTAwJSJ9KTsKCiAgICAgICAgCiAgICAgICAgICAgIHZhciBodG1sXzY1MDUyY2U4OTE0YzRjMmFhMzAxN2Y3ZmFiNzEwODE4ID0gJChgPGRpdiBpZD0iaHRtbF82NTA1MmNlODkxNGM0YzJhYTMwMTdmN2ZhYjcxMDgxOCIgc3R5bGU9IndpZHRoOiAxMDAuMCU7IGhlaWdodDogMTAwLjAlOyI+RG93bnN2aWV3IFdlc3QsIE5vcnRoIFlvcms8L2Rpdj5gKVswXTsKICAgICAgICAgICAgcG9wdXBfYzIzOWNiYTQyNGQ5NDhkMGE5MjY2YTM1OTVjZGJlNjQuc2V0Q29udGVudChodG1sXzY1MDUyY2U4OTE0YzRjMmFhMzAxN2Y3ZmFiNzEwODE4KTsKICAgICAgICAKCiAgICAgICAgY2lyY2xlX21hcmtlcl9kYjZkY2Q3ZjI1ZDQ0OWMwOTk0NjZiNGNkYThlMjk1NS5iaW5kUG9wdXAocG9wdXBfYzIzOWNiYTQyNGQ5NDhkMGE5MjY2YTM1OTVjZGJlNjQpCiAgICAgICAgOwoKICAgICAgICAKICAgIAogICAgCiAgICAgICAgICAgIHZhciBjaXJjbGVfbWFya2VyX2YzMTgxMTEzMzc5MjQzZWNhMjBkNmQzODQyNTk0NjNiID0gTC5jaXJjbGVNYXJrZXIoCiAgICAgICAgICAgICAgICBbNDMuNjY4OTk4NSwgLTc5LjMxNTU3MTU5OTk5OTk4XSwKICAgICAgICAgICAgICAgIHsiYnViYmxpbmdNb3VzZUV2ZW50cyI6IHRydWUsICJjb2xvciI6ICJibHVlIiwgImRhc2hBcnJheSI6IG51bGwsICJkYXNoT2Zmc2V0IjogbnVsbCwgImZpbGwiOiB0cnVlLCAiZmlsbENvbG9yIjogIiMzMTg2Y2MiLCAiZmlsbE9wYWNpdHkiOiAwLjcsICJmaWxsUnVsZSI6ICJldmVub2RkIiwgImxpbmVDYXAiOiAicm91bmQiLCAibGluZUpvaW4iOiAicm91bmQiLCAib3BhY2l0eSI6IDEuMCwgInJhZGl1cyI6IDUsICJzdHJva2UiOiB0cnVlLCAid2VpZ2h0IjogM30KICAgICAgICAgICAgKS5hZGRUbyhtYXBfODg4ZmIxMjgzOTJjNGUxODg0NWExMzJjYjQ1YmVjOGYpOwogICAgICAgIAogICAgCiAgICAgICAgdmFyIHBvcHVwX2Q5OGUxZjQyNzFjNDRhMDA4NGU2MWE5MmRkNGJhOGQ3ID0gTC5wb3B1cCh7Im1heFdpZHRoIjogIjEwMCUifSk7CgogICAgICAgIAogICAgICAgICAgICB2YXIgaHRtbF9hNDMxZWRiYzBjZTg0ODZiODc4MzFiYTc3YzNiN2EwMiA9ICQoYDxkaXYgaWQ9Imh0bWxfYTQzMWVkYmMwY2U4NDg2Yjg3ODMxYmE3N2MzYjdhMDIiIHN0eWxlPSJ3aWR0aDogMTAwLjAlOyBoZWlnaHQ6IDEwMC4wJTsiPlRoZSBCZWFjaGVzIFdlc3QsIEluZGlhIEJhemFhciwgRWFzdCBUb3JvbnRvPC9kaXY+YClbMF07CiAgICAgICAgICAgIHBvcHVwX2Q5OGUxZjQyNzFjNDRhMDA4NGU2MWE5MmRkNGJhOGQ3LnNldENvbnRlbnQoaHRtbF9hNDMxZWRiYzBjZTg0ODZiODc4MzFiYTc3YzNiN2EwMik7CiAgICAgICAgCgogICAgICAgIGNpcmNsZV9tYXJrZXJfZjMxODExMTMzNzkyNDNlY2EyMGQ2ZDM4NDI1OTQ2M2IuYmluZFBvcHVwKHBvcHVwX2Q5OGUxZjQyNzFjNDRhMDA4NGU2MWE5MmRkNGJhOGQ3KQogICAgICAgIDsKCiAgICAgICAgCiAgICAKICAgIAogICAgICAgICAgICB2YXIgY2lyY2xlX21hcmtlcl84YmFiNzdiYzJkNzY0ZWE5ODRiNTQxNjcwNTRmNTQ3YSA9IEwuY2lyY2xlTWFya2VyKAogICAgICAgICAgICAgICAgWzQzLjY0ODE5ODUsIC03OS4zNzk4MTY5MDAwMDAwMV0sCiAgICAgICAgICAgICAgICB7ImJ1YmJsaW5nTW91c2VFdmVudHMiOiB0cnVlLCAiY29sb3IiOiAiYmx1ZSIsICJkYXNoQXJyYXkiOiBudWxsLCAiZGFzaE9mZnNldCI6IG51bGwsICJmaWxsIjogdHJ1ZSwgImZpbGxDb2xvciI6ICIjMzE4NmNjIiwgImZpbGxPcGFjaXR5IjogMC43LCAiZmlsbFJ1bGUiOiAiZXZlbm9kZCIsICJsaW5lQ2FwIjogInJvdW5kIiwgImxpbmVKb2luIjogInJvdW5kIiwgIm9wYWNpdHkiOiAxLjAsICJyYWRpdXMiOiA1LCAic3Ryb2tlIjogdHJ1ZSwgIndlaWdodCI6IDN9CiAgICAgICAgICAgICkuYWRkVG8obWFwXzg4OGZiMTI4MzkyYzRlMTg4NDVhMTMyY2I0NWJlYzhmKTsKICAgICAgICAKICAgIAogICAgICAgIHZhciBwb3B1cF9mMmYwNDM1N2VkNTY0MGIwYjEwY2M4ZTQxOTNlZjVhMCA9IEwucG9wdXAoeyJtYXhXaWR0aCI6ICIxMDAlIn0pOwoKICAgICAgICAKICAgICAgICAgICAgdmFyIGh0bWxfN2QzYWQyMmM0MmJhNGVjNTlmOTZhY2JhZDJkZDFjN2UgPSAkKGA8ZGl2IGlkPSJodG1sXzdkM2FkMjJjNDJiYTRlYzU5Zjk2YWNiYWQyZGQxYzdlIiBzdHlsZT0id2lkdGg6IDEwMC4wJTsgaGVpZ2h0OiAxMDAuMCU7Ij5Db21tZXJjZSBDb3VydCwgVmljdG9yaWEgSG90ZWwsIERvd250b3duIFRvcm9udG88L2Rpdj5gKVswXTsKICAgICAgICAgICAgcG9wdXBfZjJmMDQzNTdlZDU2NDBiMGIxMGNjOGU0MTkzZWY1YTAuc2V0Q29udGVudChodG1sXzdkM2FkMjJjNDJiYTRlYzU5Zjk2YWNiYWQyZGQxYzdlKTsKICAgICAgICAKCiAgICAgICAgY2lyY2xlX21hcmtlcl84YmFiNzdiYzJkNzY0ZWE5ODRiNTQxNjcwNTRmNTQ3YS5iaW5kUG9wdXAocG9wdXBfZjJmMDQzNTdlZDU2NDBiMGIxMGNjOGU0MTkzZWY1YTApCiAgICAgICAgOwoKICAgICAgICAKICAgIAogICAgCiAgICAgICAgICAgIHZhciBjaXJjbGVfbWFya2VyXzExODNjMDIwMTRkZjQzNDE4YjE5YWEzNzQxMTM0NjNhID0gTC5jaXJjbGVNYXJrZXIoCiAgICAgICAgICAgICAgICBbNDMuNzEzNzU2MjAwMDAwMDA2LCAtNzkuNDkwMDczOF0sCiAgICAgICAgICAgICAgICB7ImJ1YmJsaW5nTW91c2VFdmVudHMiOiB0cnVlLCAiY29sb3IiOiAiYmx1ZSIsICJkYXNoQXJyYXkiOiBudWxsLCAiZGFzaE9mZnNldCI6IG51bGwsICJmaWxsIjogdHJ1ZSwgImZpbGxDb2xvciI6ICIjMzE4NmNjIiwgImZpbGxPcGFjaXR5IjogMC43LCAiZmlsbFJ1bGUiOiAiZXZlbm9kZCIsICJsaW5lQ2FwIjogInJvdW5kIiwgImxpbmVKb2luIjogInJvdW5kIiwgIm9wYWNpdHkiOiAxLjAsICJyYWRpdXMiOiA1LCAic3Ryb2tlIjogdHJ1ZSwgIndlaWdodCI6IDN9CiAgICAgICAgICAgICkuYWRkVG8obWFwXzg4OGZiMTI4MzkyYzRlMTg4NDVhMTMyY2I0NWJlYzhmKTsKICAgICAgICAKICAgIAogICAgICAgIHZhciBwb3B1cF8yNjZkYzBiYzAxMzU0Y2ZlOGE3Yjk5MDY4NDRiYTBiOCA9IEwucG9wdXAoeyJtYXhXaWR0aCI6ICIxMDAlIn0pOwoKICAgICAgICAKICAgICAgICAgICAgdmFyIGh0bWxfNTlhYmRkNzk4NjA5NGYxZGEwMjgyMjhkN2YyNTM4YzIgPSAkKGA8ZGl2IGlkPSJodG1sXzU5YWJkZDc5ODYwOTRmMWRhMDI4MjI4ZDdmMjUzOGMyIiBzdHlsZT0id2lkdGg6IDEwMC4wJTsgaGVpZ2h0OiAxMDAuMCU7Ij5Eb3duc3ZpZXcsIE5vcnRoIFBhcmssIFVwd29vZCBQYXJrLCBOb3J0aCBZb3JrPC9kaXY+YClbMF07CiAgICAgICAgICAgIHBvcHVwXzI2NmRjMGJjMDEzNTRjZmU4YTdiOTkwNjg0NGJhMGI4LnNldENvbnRlbnQoaHRtbF81OWFiZGQ3OTg2MDk0ZjFkYTAyODIyOGQ3ZjI1MzhjMik7CiAgICAgICAgCgogICAgICAgIGNpcmNsZV9tYXJrZXJfMTE4M2MwMjAxNGRmNDM0MThiMTlhYTM3NDExMzQ2M2EuYmluZFBvcHVwKHBvcHVwXzI2NmRjMGJjMDEzNTRjZmU4YTdiOTkwNjg0NGJhMGI4KQogICAgICAgIDsKCiAgICAgICAgCiAgICAKICAgIAogICAgICAgICAgICB2YXIgY2lyY2xlX21hcmtlcl84ZTFhMzAzMmEzMjQ0YjEyOTBmMGZhZGI5ZGRkZmU1MyA9IEwuY2lyY2xlTWFya2VyKAogICAgICAgICAgICAgICAgWzQzLjc1NjMwMzMsIC03OS41NjU5NjMyOTk5OTk5OV0sCiAgICAgICAgICAgICAgICB7ImJ1YmJsaW5nTW91c2VFdmVudHMiOiB0cnVlLCAiY29sb3IiOiAiYmx1ZSIsICJkYXNoQXJyYXkiOiBudWxsLCAiZGFzaE9mZnNldCI6IG51bGwsICJmaWxsIjogdHJ1ZSwgImZpbGxDb2xvciI6ICIjMzE4NmNjIiwgImZpbGxPcGFjaXR5IjogMC43LCAiZmlsbFJ1bGUiOiAiZXZlbm9kZCIsICJsaW5lQ2FwIjogInJvdW5kIiwgImxpbmVKb2luIjogInJvdW5kIiwgIm9wYWNpdHkiOiAxLjAsICJyYWRpdXMiOiA1LCAic3Ryb2tlIjogdHJ1ZSwgIndlaWdodCI6IDN9CiAgICAgICAgICAgICkuYWRkVG8obWFwXzg4OGZiMTI4MzkyYzRlMTg4NDVhMTMyY2I0NWJlYzhmKTsKICAgICAgICAKICAgIAogICAgICAgIHZhciBwb3B1cF83OGJlMGUwNDhiNjI0YWQxYWJmY2Q4NTg3NWZiN2E5NCA9IEwucG9wdXAoeyJtYXhXaWR0aCI6ICIxMDAlIn0pOwoKICAgICAgICAKICAgICAgICAgICAgdmFyIGh0bWxfYzJjYWU3NmFiYzBiNGY1NWIwMGZjMmJiNGFkZWQ4NTcgPSAkKGA8ZGl2IGlkPSJodG1sX2MyY2FlNzZhYmMwYjRmNTViMDBmYzJiYjRhZGVkODU3IiBzdHlsZT0id2lkdGg6IDEwMC4wJTsgaGVpZ2h0OiAxMDAuMCU7Ij5IdW1iZXIgU3VtbWl0LCBOb3J0aCBZb3JrPC9kaXY+YClbMF07CiAgICAgICAgICAgIHBvcHVwXzc4YmUwZTA0OGI2MjRhZDFhYmZjZDg1ODc1ZmI3YTk0LnNldENvbnRlbnQoaHRtbF9jMmNhZTc2YWJjMGI0ZjU1YjAwZmMyYmI0YWRlZDg1Nyk7CiAgICAgICAgCgogICAgICAgIGNpcmNsZV9tYXJrZXJfOGUxYTMwMzJhMzI0NGIxMjkwZjBmYWRiOWRkZGZlNTMuYmluZFBvcHVwKHBvcHVwXzc4YmUwZTA0OGI2MjRhZDFhYmZjZDg1ODc1ZmI3YTk0KQogICAgICAgIDsKCiAgICAgICAgCiAgICAKICAgIAogICAgICAgICAgICB2YXIgY2lyY2xlX21hcmtlcl81OWEyZjBiMDEzYTk0MjIwODFmNGYxM2U3Y2VkMDg4ZCA9IEwuY2lyY2xlTWFya2VyKAogICAgICAgICAgICAgICAgWzQzLjcxNjMxNiwgLTc5LjIzOTQ3NjA5OTk5OTk5XSwKICAgICAgICAgICAgICAgIHsiYnViYmxpbmdNb3VzZUV2ZW50cyI6IHRydWUsICJjb2xvciI6ICJibHVlIiwgImRhc2hBcnJheSI6IG51bGwsICJkYXNoT2Zmc2V0IjogbnVsbCwgImZpbGwiOiB0cnVlLCAiZmlsbENvbG9yIjogIiMzMTg2Y2MiLCAiZmlsbE9wYWNpdHkiOiAwLjcsICJmaWxsUnVsZSI6ICJldmVub2RkIiwgImxpbmVDYXAiOiAicm91bmQiLCAibGluZUpvaW4iOiAicm91bmQiLCAib3BhY2l0eSI6IDEuMCwgInJhZGl1cyI6IDUsICJzdHJva2UiOiB0cnVlLCAid2VpZ2h0IjogM30KICAgICAgICAgICAgKS5hZGRUbyhtYXBfODg4ZmIxMjgzOTJjNGUxODg0NWExMzJjYjQ1YmVjOGYpOwogICAgICAgIAogICAgCiAgICAgICAgdmFyIHBvcHVwX2Q0NDhlODY4MzJkYTRmMWRiNmY1MmZlMzgxOGQxN2I0ID0gTC5wb3B1cCh7Im1heFdpZHRoIjogIjEwMCUifSk7CgogICAgICAgIAogICAgICAgICAgICB2YXIgaHRtbF8yNDMzYzAyMTU0NGI0Njk0YjdjODcxODRjMjBiNWRmZiA9ICQoYDxkaXYgaWQ9Imh0bWxfMjQzM2MwMjE1NDRiNDY5NGI3Yzg3MTg0YzIwYjVkZmYiIHN0eWxlPSJ3aWR0aDogMTAwLjAlOyBoZWlnaHQ6IDEwMC4wJTsiPkNsaWZmY3Jlc3QsIENsaWZmc2lkZSwgU2NhcmJvcm91Z2ggVmlsbGFnZSBXZXN0LCBTY2FyYm9yb3VnaDwvZGl2PmApWzBdOwogICAgICAgICAgICBwb3B1cF9kNDQ4ZTg2ODMyZGE0ZjFkYjZmNTJmZTM4MThkMTdiNC5zZXRDb250ZW50KGh0bWxfMjQzM2MwMjE1NDRiNDY5NGI3Yzg3MTg0YzIwYjVkZmYpOwogICAgICAgIAoKICAgICAgICBjaXJjbGVfbWFya2VyXzU5YTJmMGIwMTNhOTQyMjA4MWY0ZjEzZTdjZWQwODhkLmJpbmRQb3B1cChwb3B1cF9kNDQ4ZTg2ODMyZGE0ZjFkYjZmNTJmZTM4MThkMTdiNCkKICAgICAgICA7CgogICAgICAgIAogICAgCiAgICAKICAgICAgICAgICAgdmFyIGNpcmNsZV9tYXJrZXJfNDEyYmMyM2UwYTQzNDUyNzhkOGYyOWIzYmUwZDkyMWUgPSBMLmNpcmNsZU1hcmtlcigKICAgICAgICAgICAgICAgIFs0My43ODkwNTMsIC03OS40MDg0OTI3OTk5OTk5OV0sCiAgICAgICAgICAgICAgICB7ImJ1YmJsaW5nTW91c2VFdmVudHMiOiB0cnVlLCAiY29sb3IiOiAiYmx1ZSIsICJkYXNoQXJyYXkiOiBudWxsLCAiZGFzaE9mZnNldCI6IG51bGwsICJmaWxsIjogdHJ1ZSwgImZpbGxDb2xvciI6ICIjMzE4NmNjIiwgImZpbGxPcGFjaXR5IjogMC43LCAiZmlsbFJ1bGUiOiAiZXZlbm9kZCIsICJsaW5lQ2FwIjogInJvdW5kIiwgImxpbmVKb2luIjogInJvdW5kIiwgIm9wYWNpdHkiOiAxLjAsICJyYWRpdXMiOiA1LCAic3Ryb2tlIjogdHJ1ZSwgIndlaWdodCI6IDN9CiAgICAgICAgICAgICkuYWRkVG8obWFwXzg4OGZiMTI4MzkyYzRlMTg4NDVhMTMyY2I0NWJlYzhmKTsKICAgICAgICAKICAgIAogICAgICAgIHZhciBwb3B1cF82MDYyMDRlYjhmOGU0YWMxOTJlNGMzMzhhZDZkNDgyOCA9IEwucG9wdXAoeyJtYXhXaWR0aCI6ICIxMDAlIn0pOwoKICAgICAgICAKICAgICAgICAgICAgdmFyIGh0bWxfNWJhYzU1MDY1NWM0NDhlN2ExMjcwOTk3MTI5Mzk0ODcgPSAkKGA8ZGl2IGlkPSJodG1sXzViYWM1NTA2NTVjNDQ4ZTdhMTI3MDk5NzEyOTM5NDg3IiBzdHlsZT0id2lkdGg6IDEwMC4wJTsgaGVpZ2h0OiAxMDAuMCU7Ij5OZXd0b25icm9vaywgV2lsbG93ZGFsZSwgTm9ydGggWW9yazwvZGl2PmApWzBdOwogICAgICAgICAgICBwb3B1cF82MDYyMDRlYjhmOGU0YWMxOTJlNGMzMzhhZDZkNDgyOC5zZXRDb250ZW50KGh0bWxfNWJhYzU1MDY1NWM0NDhlN2ExMjcwOTk3MTI5Mzk0ODcpOwogICAgICAgIAoKICAgICAgICBjaXJjbGVfbWFya2VyXzQxMmJjMjNlMGE0MzQ1Mjc4ZDhmMjliM2JlMGQ5MjFlLmJpbmRQb3B1cChwb3B1cF82MDYyMDRlYjhmOGU0YWMxOTJlNGMzMzhhZDZkNDgyOCkKICAgICAgICA7CgogICAgICAgIAogICAgCiAgICAKICAgICAgICAgICAgdmFyIGNpcmNsZV9tYXJrZXJfYzAwZTE1MTc1NDE2NDM1NDhmZmZiNmQ0ZWU3ZWI1NTQgPSBMLmNpcmNsZU1hcmtlcigKICAgICAgICAgICAgICAgIFs0My43Mjg0OTY0LCAtNzkuNDk1Njk3NDAwMDAwMDFdLAogICAgICAgICAgICAgICAgeyJidWJibGluZ01vdXNlRXZlbnRzIjogdHJ1ZSwgImNvbG9yIjogImJsdWUiLCAiZGFzaEFycmF5IjogbnVsbCwgImRhc2hPZmZzZXQiOiBudWxsLCAiZmlsbCI6IHRydWUsICJmaWxsQ29sb3IiOiAiIzMxODZjYyIsICJmaWxsT3BhY2l0eSI6IDAuNywgImZpbGxSdWxlIjogImV2ZW5vZGQiLCAibGluZUNhcCI6ICJyb3VuZCIsICJsaW5lSm9pbiI6ICJyb3VuZCIsICJvcGFjaXR5IjogMS4wLCAicmFkaXVzIjogNSwgInN0cm9rZSI6IHRydWUsICJ3ZWlnaHQiOiAzfQogICAgICAgICAgICApLmFkZFRvKG1hcF84ODhmYjEyODM5MmM0ZTE4ODQ1YTEzMmNiNDViZWM4Zik7CiAgICAgICAgCiAgICAKICAgICAgICB2YXIgcG9wdXBfZGNhZmZjOGQ0MGIwNGUwMzkyZTVmZjE3MGEyMGY2MTggPSBMLnBvcHVwKHsibWF4V2lkdGgiOiAiMTAwJSJ9KTsKCiAgICAgICAgCiAgICAgICAgICAgIHZhciBodG1sXzQxZmI1MDllYjU4YzQ0M2ZhYzM0MzE5ZDgwYjVkMjBiID0gJChgPGRpdiBpZD0iaHRtbF80MWZiNTA5ZWI1OGM0NDNmYWMzNDMxOWQ4MGI1ZDIwYiIgc3R5bGU9IndpZHRoOiAxMDAuMCU7IGhlaWdodDogMTAwLjAlOyI+RG93bnN2aWV3IENlbnRyYWwsIE5vcnRoIFlvcms8L2Rpdj5gKVswXTsKICAgICAgICAgICAgcG9wdXBfZGNhZmZjOGQ0MGIwNGUwMzkyZTVmZjE3MGEyMGY2MTguc2V0Q29udGVudChodG1sXzQxZmI1MDllYjU4YzQ0M2ZhYzM0MzE5ZDgwYjVkMjBiKTsKICAgICAgICAKCiAgICAgICAgY2lyY2xlX21hcmtlcl9jMDBlMTUxNzU0MTY0MzU0OGZmZmI2ZDRlZTdlYjU1NC5iaW5kUG9wdXAocG9wdXBfZGNhZmZjOGQ0MGIwNGUwMzkyZTVmZjE3MGEyMGY2MTgpCiAgICAgICAgOwoKICAgICAgICAKICAgIAogICAgCiAgICAgICAgICAgIHZhciBjaXJjbGVfbWFya2VyXzE2N2Q0MGRiNDk5MzQzMjJhYzk1MzBhZDkyNWJjZWZkID0gTC5jaXJjbGVNYXJrZXIoCiAgICAgICAgICAgICAgICBbNDMuNjU5NTI1NSwgLTc5LjM0MDkyM10sCiAgICAgICAgICAgICAgICB7ImJ1YmJsaW5nTW91c2VFdmVudHMiOiB0cnVlLCAiY29sb3IiOiAiYmx1ZSIsICJkYXNoQXJyYXkiOiBudWxsLCAiZGFzaE9mZnNldCI6IG51bGwsICJmaWxsIjogdHJ1ZSwgImZpbGxDb2xvciI6ICIjMzE4NmNjIiwgImZpbGxPcGFjaXR5IjogMC43LCAiZmlsbFJ1bGUiOiAiZXZlbm9kZCIsICJsaW5lQ2FwIjogInJvdW5kIiwgImxpbmVKb2luIjogInJvdW5kIiwgIm9wYWNpdHkiOiAxLjAsICJyYWRpdXMiOiA1LCAic3Ryb2tlIjogdHJ1ZSwgIndlaWdodCI6IDN9CiAgICAgICAgICAgICkuYWRkVG8obWFwXzg4OGZiMTI4MzkyYzRlMTg4NDVhMTMyY2I0NWJlYzhmKTsKICAgICAgICAKICAgIAogICAgICAgIHZhciBwb3B1cF8xMTFjZWQ4MWMzOGY0YjYyYWIxNmQ5ZGVjNmFlNDUwZSA9IEwucG9wdXAoeyJtYXhXaWR0aCI6ICIxMDAlIn0pOwoKICAgICAgICAKICAgICAgICAgICAgdmFyIGh0bWxfMjg4Njk1MzBmMzAwNGJhNmFlNmRlYjc2YjcwZWM2MzIgPSAkKGA8ZGl2IGlkPSJodG1sXzI4ODY5NTMwZjMwMDRiYTZhZTZkZWI3NmI3MGVjNjMyIiBzdHlsZT0id2lkdGg6IDEwMC4wJTsgaGVpZ2h0OiAxMDAuMCU7Ij5TdHVkaW8gRGlzdHJpY3QsIEVhc3QgVG9yb250bzwvZGl2PmApWzBdOwogICAgICAgICAgICBwb3B1cF8xMTFjZWQ4MWMzOGY0YjYyYWIxNmQ5ZGVjNmFlNDUwZS5zZXRDb250ZW50KGh0bWxfMjg4Njk1MzBmMzAwNGJhNmFlNmRlYjc2YjcwZWM2MzIpOwogICAgICAgIAoKICAgICAgICBjaXJjbGVfbWFya2VyXzE2N2Q0MGRiNDk5MzQzMjJhYzk1MzBhZDkyNWJjZWZkLmJpbmRQb3B1cChwb3B1cF8xMTFjZWQ4MWMzOGY0YjYyYWIxNmQ5ZGVjNmFlNDUwZSkKICAgICAgICA7CgogICAgICAgIAogICAgCiAgICAKICAgICAgICAgICAgdmFyIGNpcmNsZV9tYXJrZXJfNDNjYjZlYjIzMzU2NDI1YWEyYTU0MTkwZWYxOWZjMDUgPSBMLmNpcmNsZU1hcmtlcigKICAgICAgICAgICAgICAgIFs0My43MzMyODI1LCAtNzkuNDE5NzQ5N10sCiAgICAgICAgICAgICAgICB7ImJ1YmJsaW5nTW91c2VFdmVudHMiOiB0cnVlLCAiY29sb3IiOiAiYmx1ZSIsICJkYXNoQXJyYXkiOiBudWxsLCAiZGFzaE9mZnNldCI6IG51bGwsICJmaWxsIjogdHJ1ZSwgImZpbGxDb2xvciI6ICIjMzE4NmNjIiwgImZpbGxPcGFjaXR5IjogMC43LCAiZmlsbFJ1bGUiOiAiZXZlbm9kZCIsICJsaW5lQ2FwIjogInJvdW5kIiwgImxpbmVKb2luIjogInJvdW5kIiwgIm9wYWNpdHkiOiAxLjAsICJyYWRpdXMiOiA1LCAic3Ryb2tlIjogdHJ1ZSwgIndlaWdodCI6IDN9CiAgICAgICAgICAgICkuYWRkVG8obWFwXzg4OGZiMTI4MzkyYzRlMTg4NDVhMTMyY2I0NWJlYzhmKTsKICAgICAgICAKICAgIAogICAgICAgIHZhciBwb3B1cF81NWMyNTdkYzUzMzI0YmNmYTk5YTQ0ZDU1YTM4N2JjYyA9IEwucG9wdXAoeyJtYXhXaWR0aCI6ICIxMDAlIn0pOwoKICAgICAgICAKICAgICAgICAgICAgdmFyIGh0bWxfYzBhMTFjMzQ1NGRiNGY0NzkxNjEwOTc5ZjU1OWFkMmUgPSAkKGA8ZGl2IGlkPSJodG1sX2MwYTExYzM0NTRkYjRmNDc5MTYxMDk3OWY1NTlhZDJlIiBzdHlsZT0id2lkdGg6IDEwMC4wJTsgaGVpZ2h0OiAxMDAuMCU7Ij5CZWRmb3JkIFBhcmssIExhd3JlbmNlIE1hbm9yIEVhc3QsIE5vcnRoIFlvcms8L2Rpdj5gKVswXTsKICAgICAgICAgICAgcG9wdXBfNTVjMjU3ZGM1MzMyNGJjZmE5OWE0NGQ1NWEzODdiY2Muc2V0Q29udGVudChodG1sX2MwYTExYzM0NTRkYjRmNDc5MTYxMDk3OWY1NTlhZDJlKTsKICAgICAgICAKCiAgICAgICAgY2lyY2xlX21hcmtlcl80M2NiNmViMjMzNTY0MjVhYTJhNTQxOTBlZjE5ZmMwNS5iaW5kUG9wdXAocG9wdXBfNTVjMjU3ZGM1MzMyNGJjZmE5OWE0NGQ1NWEzODdiY2MpCiAgICAgICAgOwoKICAgICAgICAKICAgIAogICAgCiAgICAgICAgICAgIHZhciBjaXJjbGVfbWFya2VyXzhhOGRjNTU2ZTIxZDRkMTliOTYwN2FkM2E5YTcwZjQ2ID0gTC5jaXJjbGVNYXJrZXIoCiAgICAgICAgICAgICAgICBbNDMuNjkxMTE1OCwgLTc5LjQ3NjAxMzI5OTk5OTk5XSwKICAgICAgICAgICAgICAgIHsiYnViYmxpbmdNb3VzZUV2ZW50cyI6IHRydWUsICJjb2xvciI6ICJibHVlIiwgImRhc2hBcnJheSI6IG51bGwsICJkYXNoT2Zmc2V0IjogbnVsbCwgImZpbGwiOiB0cnVlLCAiZmlsbENvbG9yIjogIiMzMTg2Y2MiLCAiZmlsbE9wYWNpdHkiOiAwLjcsICJmaWxsUnVsZSI6ICJldmVub2RkIiwgImxpbmVDYXAiOiAicm91bmQiLCAibGluZUpvaW4iOiAicm91bmQiLCAib3BhY2l0eSI6IDEuMCwgInJhZGl1cyI6IDUsICJzdHJva2UiOiB0cnVlLCAid2VpZ2h0IjogM30KICAgICAgICAgICAgKS5hZGRUbyhtYXBfODg4ZmIxMjgzOTJjNGUxODg0NWExMzJjYjQ1YmVjOGYpOwogICAgICAgIAogICAgCiAgICAgICAgdmFyIHBvcHVwX2NkZDRmZTNmZjQzZjRkZTI5NGFjMTZiZjUzMzYxZTgwID0gTC5wb3B1cCh7Im1heFdpZHRoIjogIjEwMCUifSk7CgogICAgICAgIAogICAgICAgICAgICB2YXIgaHRtbF9iMmRjYTAzZDNiOTI0ZGIxYjA4YTJkZDI1NWRmYjI2MiA9ICQoYDxkaXYgaWQ9Imh0bWxfYjJkY2EwM2QzYjkyNGRiMWIwOGEyZGQyNTVkZmIyNjIiIHN0eWxlPSJ3aWR0aDogMTAwLjAlOyBoZWlnaHQ6IDEwMC4wJTsiPkRlbCBSYXksIEtlZWxlc2RhbGUsIE1vdW50IERlbm5pcywgU2lsdmVydGhvcm4sIFlvcms8L2Rpdj5gKVswXTsKICAgICAgICAgICAgcG9wdXBfY2RkNGZlM2ZmNDNmNGRlMjk0YWMxNmJmNTMzNjFlODAuc2V0Q29udGVudChodG1sX2IyZGNhMDNkM2I5MjRkYjFiMDhhMmRkMjU1ZGZiMjYyKTsKICAgICAgICAKCiAgICAgICAgY2lyY2xlX21hcmtlcl84YThkYzU1NmUyMWQ0ZDE5Yjk2MDdhZDNhOWE3MGY0Ni5iaW5kUG9wdXAocG9wdXBfY2RkNGZlM2ZmNDNmNGRlMjk0YWMxNmJmNTMzNjFlODApCiAgICAgICAgOwoKICAgICAgICAKICAgIAogICAgCiAgICAgICAgICAgIHZhciBjaXJjbGVfbWFya2VyX2Y2NDZhZTRmOTVhNjRkZDI5OGUzZWJjN2MyODRmOTM3ID0gTC5jaXJjbGVNYXJrZXIoCiAgICAgICAgICAgICAgICBbNDMuNzI0NzY1OSwgLTc5LjUzMjI0MjQwMDAwMDAyXSwKICAgICAgICAgICAgICAgIHsiYnViYmxpbmdNb3VzZUV2ZW50cyI6IHRydWUsICJjb2xvciI6ICJibHVlIiwgImRhc2hBcnJheSI6IG51bGwsICJkYXNoT2Zmc2V0IjogbnVsbCwgImZpbGwiOiB0cnVlLCAiZmlsbENvbG9yIjogIiMzMTg2Y2MiLCAiZmlsbE9wYWNpdHkiOiAwLjcsICJmaWxsUnVsZSI6ICJldmVub2RkIiwgImxpbmVDYXAiOiAicm91bmQiLCAibGluZUpvaW4iOiAicm91bmQiLCAib3BhY2l0eSI6IDEuMCwgInJhZGl1cyI6IDUsICJzdHJva2UiOiB0cnVlLCAid2VpZ2h0IjogM30KICAgICAgICAgICAgKS5hZGRUbyhtYXBfODg4ZmIxMjgzOTJjNGUxODg0NWExMzJjYjQ1YmVjOGYpOwogICAgICAgIAogICAgCiAgICAgICAgdmFyIHBvcHVwX2IyNTNmYjU3YzY0ODQ1ZTE4MGRlMzcwMjFlMDViMTYxID0gTC5wb3B1cCh7Im1heFdpZHRoIjogIjEwMCUifSk7CgogICAgICAgIAogICAgICAgICAgICB2YXIgaHRtbF9lNGE3Y2EwYTJiYmE0M2QwOTExYTYxYmVhYjgzNDVkZSA9ICQoYDxkaXYgaWQ9Imh0bWxfZTRhN2NhMGEyYmJhNDNkMDkxMWE2MWJlYWI4MzQ1ZGUiIHN0eWxlPSJ3aWR0aDogMTAwLjAlOyBoZWlnaHQ6IDEwMC4wJTsiPkVtZXJ5LCBIdW1iZXJsZWEsIE5vcnRoIFlvcms8L2Rpdj5gKVswXTsKICAgICAgICAgICAgcG9wdXBfYjI1M2ZiNTdjNjQ4NDVlMTgwZGUzNzAyMWUwNWIxNjEuc2V0Q29udGVudChodG1sX2U0YTdjYTBhMmJiYTQzZDA5MTFhNjFiZWFiODM0NWRlKTsKICAgICAgICAKCiAgICAgICAgY2lyY2xlX21hcmtlcl9mNjQ2YWU0Zjk1YTY0ZGQyOThlM2ViYzdjMjg0ZjkzNy5iaW5kUG9wdXAocG9wdXBfYjI1M2ZiNTdjNjQ4NDVlMTgwZGUzNzAyMWUwNWIxNjEpCiAgICAgICAgOwoKICAgICAgICAKICAgIAogICAgCiAgICAgICAgICAgIHZhciBjaXJjbGVfbWFya2VyXzI2ZDc3MDM2MzI5MTQ5ODliODMwNDE5OTc1YjM4MWJhID0gTC5jaXJjbGVNYXJrZXIoCiAgICAgICAgICAgICAgICBbNDMuNjkyNjU3MDAwMDAwMDA0LCAtNzkuMjY0ODQ4MV0sCiAgICAgICAgICAgICAgICB7ImJ1YmJsaW5nTW91c2VFdmVudHMiOiB0cnVlLCAiY29sb3IiOiAiYmx1ZSIsICJkYXNoQXJyYXkiOiBudWxsLCAiZGFzaE9mZnNldCI6IG51bGwsICJmaWxsIjogdHJ1ZSwgImZpbGxDb2xvciI6ICIjMzE4NmNjIiwgImZpbGxPcGFjaXR5IjogMC43LCAiZmlsbFJ1bGUiOiAiZXZlbm9kZCIsICJsaW5lQ2FwIjogInJvdW5kIiwgImxpbmVKb2luIjogInJvdW5kIiwgIm9wYWNpdHkiOiAxLjAsICJyYWRpdXMiOiA1LCAic3Ryb2tlIjogdHJ1ZSwgIndlaWdodCI6IDN9CiAgICAgICAgICAgICkuYWRkVG8obWFwXzg4OGZiMTI4MzkyYzRlMTg4NDVhMTMyY2I0NWJlYzhmKTsKICAgICAgICAKICAgIAogICAgICAgIHZhciBwb3B1cF8xOTMwMTg3YzBjMTA0YzdhOGQyZDZlYTBlOGQzMzZjYiA9IEwucG9wdXAoeyJtYXhXaWR0aCI6ICIxMDAlIn0pOwoKICAgICAgICAKICAgICAgICAgICAgdmFyIGh0bWxfMzBlZDFkMzBkOGYwNDE3ZmE5ZTkwNTY2ZmQ1ZTY0NDAgPSAkKGA8ZGl2IGlkPSJodG1sXzMwZWQxZDMwZDhmMDQxN2ZhOWU5MDU2NmZkNWU2NDQwIiBzdHlsZT0id2lkdGg6IDEwMC4wJTsgaGVpZ2h0OiAxMDAuMCU7Ij5CaXJjaCBDbGlmZiwgQ2xpZmZzaWRlIFdlc3QsIFNjYXJib3JvdWdoPC9kaXY+YClbMF07CiAgICAgICAgICAgIHBvcHVwXzE5MzAxODdjMGMxMDRjN2E4ZDJkNmVhMGU4ZDMzNmNiLnNldENvbnRlbnQoaHRtbF8zMGVkMWQzMGQ4ZjA0MTdmYTllOTA1NjZmZDVlNjQ0MCk7CiAgICAgICAgCgogICAgICAgIGNpcmNsZV9tYXJrZXJfMjZkNzcwMzYzMjkxNDk4OWI4MzA0MTk5NzViMzgxYmEuYmluZFBvcHVwKHBvcHVwXzE5MzAxODdjMGMxMDRjN2E4ZDJkNmVhMGU4ZDMzNmNiKQogICAgICAgIDsKCiAgICAgICAgCiAgICAKICAgIAogICAgICAgICAgICB2YXIgY2lyY2xlX21hcmtlcl84MzY4YjdkZmQ0ODg0YzJkYjljOTliODNkNzc5NjI3ZiA9IEwuY2lyY2xlTWFya2VyKAogICAgICAgICAgICAgICAgWzQzLjc3MDExOTksIC03OS40MDg0OTI3OTk5OTk5OV0sCiAgICAgICAgICAgICAgICB7ImJ1YmJsaW5nTW91c2VFdmVudHMiOiB0cnVlLCAiY29sb3IiOiAiYmx1ZSIsICJkYXNoQXJyYXkiOiBudWxsLCAiZGFzaE9mZnNldCI6IG51bGwsICJmaWxsIjogdHJ1ZSwgImZpbGxDb2xvciI6ICIjMzE4NmNjIiwgImZpbGxPcGFjaXR5IjogMC43LCAiZmlsbFJ1bGUiOiAiZXZlbm9kZCIsICJsaW5lQ2FwIjogInJvdW5kIiwgImxpbmVKb2luIjogInJvdW5kIiwgIm9wYWNpdHkiOiAxLjAsICJyYWRpdXMiOiA1LCAic3Ryb2tlIjogdHJ1ZSwgIndlaWdodCI6IDN9CiAgICAgICAgICAgICkuYWRkVG8obWFwXzg4OGZiMTI4MzkyYzRlMTg4NDVhMTMyY2I0NWJlYzhmKTsKICAgICAgICAKICAgIAogICAgICAgIHZhciBwb3B1cF9iOGQ2YTVmYWMzOWY0MTZjYWQzMGNjYmFkMTZmNDc4YyA9IEwucG9wdXAoeyJtYXhXaWR0aCI6ICIxMDAlIn0pOwoKICAgICAgICAKICAgICAgICAgICAgdmFyIGh0bWxfMGE4MDA3MmI1MjNmNDcxMGI3NDFmZWI2YWJiOThmNDcgPSAkKGA8ZGl2IGlkPSJodG1sXzBhODAwNzJiNTIzZjQ3MTBiNzQxZmViNmFiYjk4ZjQ3IiBzdHlsZT0id2lkdGg6IDEwMC4wJTsgaGVpZ2h0OiAxMDAuMCU7Ij5XaWxsb3dkYWxlIFNvdXRoLCBOb3J0aCBZb3JrPC9kaXY+YClbMF07CiAgICAgICAgICAgIHBvcHVwX2I4ZDZhNWZhYzM5ZjQxNmNhZDMwY2NiYWQxNmY0NzhjLnNldENvbnRlbnQoaHRtbF8wYTgwMDcyYjUyM2Y0NzEwYjc0MWZlYjZhYmI5OGY0Nyk7CiAgICAgICAgCgogICAgICAgIGNpcmNsZV9tYXJrZXJfODM2OGI3ZGZkNDg4NGMyZGI5Yzk5YjgzZDc3OTYyN2YuYmluZFBvcHVwKHBvcHVwX2I4ZDZhNWZhYzM5ZjQxNmNhZDMwY2NiYWQxNmY0NzhjKQogICAgICAgIDsKCiAgICAgICAgCiAgICAKICAgIAogICAgICAgICAgICB2YXIgY2lyY2xlX21hcmtlcl9lMjg2OTRjMmUyY2Y0OGQwODQ4ZTAzMWNhMjg0YWVjOCA9IEwuY2lyY2xlTWFya2VyKAogICAgICAgICAgICAgICAgWzQzLjc2MTYzMTMsIC03OS41MjA5OTk0MDAwMDAwMV0sCiAgICAgICAgICAgICAgICB7ImJ1YmJsaW5nTW91c2VFdmVudHMiOiB0cnVlLCAiY29sb3IiOiAiYmx1ZSIsICJkYXNoQXJyYXkiOiBudWxsLCAiZGFzaE9mZnNldCI6IG51bGwsICJmaWxsIjogdHJ1ZSwgImZpbGxDb2xvciI6ICIjMzE4NmNjIiwgImZpbGxPcGFjaXR5IjogMC43LCAiZmlsbFJ1bGUiOiAiZXZlbm9kZCIsICJsaW5lQ2FwIjogInJvdW5kIiwgImxpbmVKb2luIjogInJvdW5kIiwgIm9wYWNpdHkiOiAxLjAsICJyYWRpdXMiOiA1LCAic3Ryb2tlIjogdHJ1ZSwgIndlaWdodCI6IDN9CiAgICAgICAgICAgICkuYWRkVG8obWFwXzg4OGZiMTI4MzkyYzRlMTg4NDVhMTMyY2I0NWJlYzhmKTsKICAgICAgICAKICAgIAogICAgICAgIHZhciBwb3B1cF9mOGU1MzI4NDIwN2M0NTI0YjU1NWYxZGJmZjdmNzIzNCA9IEwucG9wdXAoeyJtYXhXaWR0aCI6ICIxMDAlIn0pOwoKICAgICAgICAKICAgICAgICAgICAgdmFyIGh0bWxfMmU0ZjIyN2ZmNTA5NGEzZjg1NDA3NGFlMTMyMmQxOWMgPSAkKGA8ZGl2IGlkPSJodG1sXzJlNGYyMjdmZjUwOTRhM2Y4NTQwNzRhZTEzMjJkMTljIiBzdHlsZT0id2lkdGg6IDEwMC4wJTsgaGVpZ2h0OiAxMDAuMCU7Ij5Eb3duc3ZpZXcgTm9ydGh3ZXN0LCBOb3J0aCBZb3JrPC9kaXY+YClbMF07CiAgICAgICAgICAgIHBvcHVwX2Y4ZTUzMjg0MjA3YzQ1MjRiNTU1ZjFkYmZmN2Y3MjM0LnNldENvbnRlbnQoaHRtbF8yZTRmMjI3ZmY1MDk0YTNmODU0MDc0YWUxMzIyZDE5Yyk7CiAgICAgICAgCgogICAgICAgIGNpcmNsZV9tYXJrZXJfZTI4Njk0YzJlMmNmNDhkMDg0OGUwMzFjYTI4NGFlYzguYmluZFBvcHVwKHBvcHVwX2Y4ZTUzMjg0MjA3YzQ1MjRiNTU1ZjFkYmZmN2Y3MjM0KQogICAgICAgIDsKCiAgICAgICAgCiAgICAKICAgIAogICAgICAgICAgICB2YXIgY2lyY2xlX21hcmtlcl9kYzc0Nzc1MmJmZmI0NzdjYTRhOGQzYzRmYTM1OWNlYSA9IEwuY2lyY2xlTWFya2VyKAogICAgICAgICAgICAgICAgWzQzLjcyODAyMDUsIC03OS4zODg3OTAxXSwKICAgICAgICAgICAgICAgIHsiYnViYmxpbmdNb3VzZUV2ZW50cyI6IHRydWUsICJjb2xvciI6ICJibHVlIiwgImRhc2hBcnJheSI6IG51bGwsICJkYXNoT2Zmc2V0IjogbnVsbCwgImZpbGwiOiB0cnVlLCAiZmlsbENvbG9yIjogIiMzMTg2Y2MiLCAiZmlsbE9wYWNpdHkiOiAwLjcsICJmaWxsUnVsZSI6ICJldmVub2RkIiwgImxpbmVDYXAiOiAicm91bmQiLCAibGluZUpvaW4iOiAicm91bmQiLCAib3BhY2l0eSI6IDEuMCwgInJhZGl1cyI6IDUsICJzdHJva2UiOiB0cnVlLCAid2VpZ2h0IjogM30KICAgICAgICAgICAgKS5hZGRUbyhtYXBfODg4ZmIxMjgzOTJjNGUxODg0NWExMzJjYjQ1YmVjOGYpOwogICAgICAgIAogICAgCiAgICAgICAgdmFyIHBvcHVwXzkxNTEzMjFkZWQ3MjRiYzhiMDMwMmJkMDA2Mjg2OWM2ID0gTC5wb3B1cCh7Im1heFdpZHRoIjogIjEwMCUifSk7CgogICAgICAgIAogICAgICAgICAgICB2YXIgaHRtbF83ODNmM2Q1OTc3ZTE0Y2E2OTUwM2RiMDRkY2FhOGMzNCA9ICQoYDxkaXYgaWQ9Imh0bWxfNzgzZjNkNTk3N2UxNGNhNjk1MDNkYjA0ZGNhYThjMzQiIHN0eWxlPSJ3aWR0aDogMTAwLjAlOyBoZWlnaHQ6IDEwMC4wJTsiPkxhd3JlbmNlIFBhcmssIENlbnRyYWwgVG9yb250bzwvZGl2PmApWzBdOwogICAgICAgICAgICBwb3B1cF85MTUxMzIxZGVkNzI0YmM4YjAzMDJiZDAwNjI4NjljNi5zZXRDb250ZW50KGh0bWxfNzgzZjNkNTk3N2UxNGNhNjk1MDNkYjA0ZGNhYThjMzQpOwogICAgICAgIAoKICAgICAgICBjaXJjbGVfbWFya2VyX2RjNzQ3NzUyYmZmYjQ3N2NhNGE4ZDNjNGZhMzU5Y2VhLmJpbmRQb3B1cChwb3B1cF85MTUxMzIxZGVkNzI0YmM4YjAzMDJiZDAwNjI4NjljNikKICAgICAgICA7CgogICAgICAgIAogICAgCiAgICAKICAgICAgICAgICAgdmFyIGNpcmNsZV9tYXJrZXJfOGEyMWUyNTNkNjBiNDZlMzkwNzA2YTQzMzAzZjVjNmQgPSBMLmNpcmNsZU1hcmtlcigKICAgICAgICAgICAgICAgIFs0My43MTE2OTQ4LCAtNzkuNDE2OTM1NTk5OTk5OTldLAogICAgICAgICAgICAgICAgeyJidWJibGluZ01vdXNlRXZlbnRzIjogdHJ1ZSwgImNvbG9yIjogImJsdWUiLCAiZGFzaEFycmF5IjogbnVsbCwgImRhc2hPZmZzZXQiOiBudWxsLCAiZmlsbCI6IHRydWUsICJmaWxsQ29sb3IiOiAiIzMxODZjYyIsICJmaWxsT3BhY2l0eSI6IDAuNywgImZpbGxSdWxlIjogImV2ZW5vZGQiLCAibGluZUNhcCI6ICJyb3VuZCIsICJsaW5lSm9pbiI6ICJyb3VuZCIsICJvcGFjaXR5IjogMS4wLCAicmFkaXVzIjogNSwgInN0cm9rZSI6IHRydWUsICJ3ZWlnaHQiOiAzfQogICAgICAgICAgICApLmFkZFRvKG1hcF84ODhmYjEyODM5MmM0ZTE4ODQ1YTEzMmNiNDViZWM4Zik7CiAgICAgICAgCiAgICAKICAgICAgICB2YXIgcG9wdXBfZjU3Nzc4MWFlODMwNGQ2ZTk0MWUzNWI1YThmZmM4NjcgPSBMLnBvcHVwKHsibWF4V2lkdGgiOiAiMTAwJSJ9KTsKCiAgICAgICAgCiAgICAgICAgICAgIHZhciBodG1sXzc3NjAzNGEyMDQ2MzQ4MmVhNGQ4ZjZmYjVhMDJhYTRiID0gJChgPGRpdiBpZD0iaHRtbF83NzYwMzRhMjA0NjM0ODJlYTRkOGY2ZmI1YTAyYWE0YiIgc3R5bGU9IndpZHRoOiAxMDAuMCU7IGhlaWdodDogMTAwLjAlOyI+Um9zZWxhd24sIENlbnRyYWwgVG9yb250bzwvZGl2PmApWzBdOwogICAgICAgICAgICBwb3B1cF9mNTc3NzgxYWU4MzA0ZDZlOTQxZTM1YjVhOGZmYzg2Ny5zZXRDb250ZW50KGh0bWxfNzc2MDM0YTIwNDYzNDgyZWE0ZDhmNmZiNWEwMmFhNGIpOwogICAgICAgIAoKICAgICAgICBjaXJjbGVfbWFya2VyXzhhMjFlMjUzZDYwYjQ2ZTM5MDcwNmE0MzMwM2Y1YzZkLmJpbmRQb3B1cChwb3B1cF9mNTc3NzgxYWU4MzA0ZDZlOTQxZTM1YjVhOGZmYzg2NykKICAgICAgICA7CgogICAgICAgIAogICAgCiAgICAKICAgICAgICAgICAgdmFyIGNpcmNsZV9tYXJrZXJfNWU2MDVhZjhlMDUwNDRiMjk0YjViNjk3NTI2OTk0NWMgPSBMLmNpcmNsZU1hcmtlcigKICAgICAgICAgICAgICAgIFs0My42NzMxODUyOTk5OTk5OSwgLTc5LjQ4NzI2MTkwMDAwMDAxXSwKICAgICAgICAgICAgICAgIHsiYnViYmxpbmdNb3VzZUV2ZW50cyI6IHRydWUsICJjb2xvciI6ICJibHVlIiwgImRhc2hBcnJheSI6IG51bGwsICJkYXNoT2Zmc2V0IjogbnVsbCwgImZpbGwiOiB0cnVlLCAiZmlsbENvbG9yIjogIiMzMTg2Y2MiLCAiZmlsbE9wYWNpdHkiOiAwLjcsICJmaWxsUnVsZSI6ICJldmVub2RkIiwgImxpbmVDYXAiOiAicm91bmQiLCAibGluZUpvaW4iOiAicm91bmQiLCAib3BhY2l0eSI6IDEuMCwgInJhZGl1cyI6IDUsICJzdHJva2UiOiB0cnVlLCAid2VpZ2h0IjogM30KICAgICAgICAgICAgKS5hZGRUbyhtYXBfODg4ZmIxMjgzOTJjNGUxODg0NWExMzJjYjQ1YmVjOGYpOwogICAgICAgIAogICAgCiAgICAgICAgdmFyIHBvcHVwX2U3ODY1Mzg0NTg0ODRkZjc5MjcxMzdmOTBiYzY3OGNlID0gTC5wb3B1cCh7Im1heFdpZHRoIjogIjEwMCUifSk7CgogICAgICAgIAogICAgICAgICAgICB2YXIgaHRtbF82N2JmNDEwNWFkOGQ0ZTY4OWE5NzViZTIzZDgyMmYzZiA9ICQoYDxkaXYgaWQ9Imh0bWxfNjdiZjQxMDVhZDhkNGU2ODlhOTc1YmUyM2Q4MjJmM2YiIHN0eWxlPSJ3aWR0aDogMTAwLjAlOyBoZWlnaHQ6IDEwMC4wJTsiPlRoZSBKdW5jdGlvbiBOb3J0aCwgUnVubnltZWRlLCBZb3JrPC9kaXY+YClbMF07CiAgICAgICAgICAgIHBvcHVwX2U3ODY1Mzg0NTg0ODRkZjc5MjcxMzdmOTBiYzY3OGNlLnNldENvbnRlbnQoaHRtbF82N2JmNDEwNWFkOGQ0ZTY4OWE5NzViZTIzZDgyMmYzZik7CiAgICAgICAgCgogICAgICAgIGNpcmNsZV9tYXJrZXJfNWU2MDVhZjhlMDUwNDRiMjk0YjViNjk3NTI2OTk0NWMuYmluZFBvcHVwKHBvcHVwX2U3ODY1Mzg0NTg0ODRkZjc5MjcxMzdmOTBiYzY3OGNlKQogICAgICAgIDsKCiAgICAgICAgCiAgICAKICAgIAogICAgICAgICAgICB2YXIgY2lyY2xlX21hcmtlcl8yZjc2N2JlNTk4OTU0NDZkYTkwN2I0MGJmMDM1MDFkNiA9IEwuY2lyY2xlTWFya2VyKAogICAgICAgICAgICAgICAgWzQzLjcwNjg3NiwgLTc5LjUxODE4ODQwMDAwMDAxXSwKICAgICAgICAgICAgICAgIHsiYnViYmxpbmdNb3VzZUV2ZW50cyI6IHRydWUsICJjb2xvciI6ICJibHVlIiwgImRhc2hBcnJheSI6IG51bGwsICJkYXNoT2Zmc2V0IjogbnVsbCwgImZpbGwiOiB0cnVlLCAiZmlsbENvbG9yIjogIiMzMTg2Y2MiLCAiZmlsbE9wYWNpdHkiOiAwLjcsICJmaWxsUnVsZSI6ICJldmVub2RkIiwgImxpbmVDYXAiOiAicm91bmQiLCAibGluZUpvaW4iOiAicm91bmQiLCAib3BhY2l0eSI6IDEuMCwgInJhZGl1cyI6IDUsICJzdHJva2UiOiB0cnVlLCAid2VpZ2h0IjogM30KICAgICAgICAgICAgKS5hZGRUbyhtYXBfODg4ZmIxMjgzOTJjNGUxODg0NWExMzJjYjQ1YmVjOGYpOwogICAgICAgIAogICAgCiAgICAgICAgdmFyIHBvcHVwX2Y2ODMzNzA0ZTEwODQ5MWViNmI4MTEwNjhiOTlkYzA4ID0gTC5wb3B1cCh7Im1heFdpZHRoIjogIjEwMCUifSk7CgogICAgICAgIAogICAgICAgICAgICB2YXIgaHRtbF81YzQwYjkwZDg1OTM0MDkxYTMyMTE4ZTVmMmQzM2NlZCA9ICQoYDxkaXYgaWQ9Imh0bWxfNWM0MGI5MGQ4NTkzNDA5MWEzMjExOGU1ZjJkMzNjZWQiIHN0eWxlPSJ3aWR0aDogMTAwLjAlOyBoZWlnaHQ6IDEwMC4wJTsiPldlc3RvbiwgWW9yazwvZGl2PmApWzBdOwogICAgICAgICAgICBwb3B1cF9mNjgzMzcwNGUxMDg0OTFlYjZiODExMDY4Yjk5ZGMwOC5zZXRDb250ZW50KGh0bWxfNWM0MGI5MGQ4NTkzNDA5MWEzMjExOGU1ZjJkMzNjZWQpOwogICAgICAgIAoKICAgICAgICBjaXJjbGVfbWFya2VyXzJmNzY3YmU1OTg5NTQ0NmRhOTA3YjQwYmYwMzUwMWQ2LmJpbmRQb3B1cChwb3B1cF9mNjgzMzcwNGUxMDg0OTFlYjZiODExMDY4Yjk5ZGMwOCkKICAgICAgICA7CgogICAgICAgIAogICAgCiAgICAKICAgICAgICAgICAgdmFyIGNpcmNsZV9tYXJrZXJfZDVmYWVkMTI5YjcwNGYxYWI1N2FjNzQ4NGE5ODE0MDMgPSBMLmNpcmNsZU1hcmtlcigKICAgICAgICAgICAgICAgIFs0My43NTc0MDk2LCAtNzkuMjczMzA0MDAwMDAwMDFdLAogICAgICAgICAgICAgICAgeyJidWJibGluZ01vdXNlRXZlbnRzIjogdHJ1ZSwgImNvbG9yIjogImJsdWUiLCAiZGFzaEFycmF5IjogbnVsbCwgImRhc2hPZmZzZXQiOiBudWxsLCAiZmlsbCI6IHRydWUsICJmaWxsQ29sb3IiOiAiIzMxODZjYyIsICJmaWxsT3BhY2l0eSI6IDAuNywgImZpbGxSdWxlIjogImV2ZW5vZGQiLCAibGluZUNhcCI6ICJyb3VuZCIsICJsaW5lSm9pbiI6ICJyb3VuZCIsICJvcGFjaXR5IjogMS4wLCAicmFkaXVzIjogNSwgInN0cm9rZSI6IHRydWUsICJ3ZWlnaHQiOiAzfQogICAgICAgICAgICApLmFkZFRvKG1hcF84ODhmYjEyODM5MmM0ZTE4ODQ1YTEzMmNiNDViZWM4Zik7CiAgICAgICAgCiAgICAKICAgICAgICB2YXIgcG9wdXBfNWQ1YzY2YWM4ZWZjNGUzYjljNTAwMjhhNjAzMDMyZmIgPSBMLnBvcHVwKHsibWF4V2lkdGgiOiAiMTAwJSJ9KTsKCiAgICAgICAgCiAgICAgICAgICAgIHZhciBodG1sXzE1Y2U4MWNmMjhkYTQ5ZWFiZDgzNjNiMDM2ZTAzNzMwID0gJChgPGRpdiBpZD0iaHRtbF8xNWNlODFjZjI4ZGE0OWVhYmQ4MzYzYjAzNmUwMzczMCIgc3R5bGU9IndpZHRoOiAxMDAuMCU7IGhlaWdodDogMTAwLjAlOyI+RG9yc2V0IFBhcmssIFNjYXJib3JvdWdoIFRvd24gQ2VudHJlLCBXZXhmb3JkIEhlaWdodHMsIFNjYXJib3JvdWdoPC9kaXY+YClbMF07CiAgICAgICAgICAgIHBvcHVwXzVkNWM2NmFjOGVmYzRlM2I5YzUwMDI4YTYwMzAzMmZiLnNldENvbnRlbnQoaHRtbF8xNWNlODFjZjI4ZGE0OWVhYmQ4MzYzYjAzNmUwMzczMCk7CiAgICAgICAgCgogICAgICAgIGNpcmNsZV9tYXJrZXJfZDVmYWVkMTI5YjcwNGYxYWI1N2FjNzQ4NGE5ODE0MDMuYmluZFBvcHVwKHBvcHVwXzVkNWM2NmFjOGVmYzRlM2I5YzUwMDI4YTYwMzAzMmZiKQogICAgICAgIDsKCiAgICAgICAgCiAgICAKICAgIAogICAgICAgICAgICB2YXIgY2lyY2xlX21hcmtlcl8xZjQzYzIzZWNmZmQ0ZDEzYjVhM2VkZGQ3MjllNDM3YyA9IEwuY2lyY2xlTWFya2VyKAogICAgICAgICAgICAgICAgWzQzLjc1Mjc1ODI5OTk5OTk5NiwgLTc5LjQwMDA0OTNdLAogICAgICAgICAgICAgICAgeyJidWJibGluZ01vdXNlRXZlbnRzIjogdHJ1ZSwgImNvbG9yIjogImJsdWUiLCAiZGFzaEFycmF5IjogbnVsbCwgImRhc2hPZmZzZXQiOiBudWxsLCAiZmlsbCI6IHRydWUsICJmaWxsQ29sb3IiOiAiIzMxODZjYyIsICJmaWxsT3BhY2l0eSI6IDAuNywgImZpbGxSdWxlIjogImV2ZW5vZGQiLCAibGluZUNhcCI6ICJyb3VuZCIsICJsaW5lSm9pbiI6ICJyb3VuZCIsICJvcGFjaXR5IjogMS4wLCAicmFkaXVzIjogNSwgInN0cm9rZSI6IHRydWUsICJ3ZWlnaHQiOiAzfQogICAgICAgICAgICApLmFkZFRvKG1hcF84ODhmYjEyODM5MmM0ZTE4ODQ1YTEzMmNiNDViZWM4Zik7CiAgICAgICAgCiAgICAKICAgICAgICB2YXIgcG9wdXBfNDc3MGUyMGYyN2Y4NGQ2Mjk2Zjc3ZmVmNmVlM2IzZjEgPSBMLnBvcHVwKHsibWF4V2lkdGgiOiAiMTAwJSJ9KTsKCiAgICAgICAgCiAgICAgICAgICAgIHZhciBodG1sX2VlOWM4YjNiZWJkNTRjMTI5OGQ2NWZjOGJmNDE2ZWMwID0gJChgPGRpdiBpZD0iaHRtbF9lZTljOGIzYmViZDU0YzEyOThkNjVmYzhiZjQxNmVjMCIgc3R5bGU9IndpZHRoOiAxMDAuMCU7IGhlaWdodDogMTAwLjAlOyI+WW9yayBNaWxscyBXZXN0LCBOb3J0aCBZb3JrPC9kaXY+YClbMF07CiAgICAgICAgICAgIHBvcHVwXzQ3NzBlMjBmMjdmODRkNjI5NmY3N2ZlZjZlZTNiM2YxLnNldENvbnRlbnQoaHRtbF9lZTljOGIzYmViZDU0YzEyOThkNjVmYzhiZjQxNmVjMCk7CiAgICAgICAgCgogICAgICAgIGNpcmNsZV9tYXJrZXJfMWY0M2MyM2VjZmZkNGQxM2I1YTNlZGRkNzI5ZTQzN2MuYmluZFBvcHVwKHBvcHVwXzQ3NzBlMjBmMjdmODRkNjI5NmY3N2ZlZjZlZTNiM2YxKQogICAgICAgIDsKCiAgICAgICAgCiAgICAKICAgIAogICAgICAgICAgICB2YXIgY2lyY2xlX21hcmtlcl9lMDdkNjBjNWZhYzk0ZGM5ODNmN2JmZmFhZTkwNGYzYiA9IEwuY2lyY2xlTWFya2VyKAogICAgICAgICAgICAgICAgWzQzLjcxMjc1MTEsIC03OS4zOTAxOTc1XSwKICAgICAgICAgICAgICAgIHsiYnViYmxpbmdNb3VzZUV2ZW50cyI6IHRydWUsICJjb2xvciI6ICJibHVlIiwgImRhc2hBcnJheSI6IG51bGwsICJkYXNoT2Zmc2V0IjogbnVsbCwgImZpbGwiOiB0cnVlLCAiZmlsbENvbG9yIjogIiMzMTg2Y2MiLCAiZmlsbE9wYWNpdHkiOiAwLjcsICJmaWxsUnVsZSI6ICJldmVub2RkIiwgImxpbmVDYXAiOiAicm91bmQiLCAibGluZUpvaW4iOiAicm91bmQiLCAib3BhY2l0eSI6IDEuMCwgInJhZGl1cyI6IDUsICJzdHJva2UiOiB0cnVlLCAid2VpZ2h0IjogM30KICAgICAgICAgICAgKS5hZGRUbyhtYXBfODg4ZmIxMjgzOTJjNGUxODg0NWExMzJjYjQ1YmVjOGYpOwogICAgICAgIAogICAgCiAgICAgICAgdmFyIHBvcHVwX2FkMjA2YWQ2MzRlZjQxNWViOWQwYWMyMGJiZWRmNTU5ID0gTC5wb3B1cCh7Im1heFdpZHRoIjogIjEwMCUifSk7CgogICAgICAgIAogICAgICAgICAgICB2YXIgaHRtbF9jM2U4ZDAwZGNiZDg0OTRhYWEzYzkzNmRlZjE5N2IyNyA9ICQoYDxkaXYgaWQ9Imh0bWxfYzNlOGQwMGRjYmQ4NDk0YWFhM2M5MzZkZWYxOTdiMjciIHN0eWxlPSJ3aWR0aDogMTAwLjAlOyBoZWlnaHQ6IDEwMC4wJTsiPkRhdmlzdmlsbGUgTm9ydGgsIENlbnRyYWwgVG9yb250bzwvZGl2PmApWzBdOwogICAgICAgICAgICBwb3B1cF9hZDIwNmFkNjM0ZWY0MTVlYjlkMGFjMjBiYmVkZjU1OS5zZXRDb250ZW50KGh0bWxfYzNlOGQwMGRjYmQ4NDk0YWFhM2M5MzZkZWYxOTdiMjcpOwogICAgICAgIAoKICAgICAgICBjaXJjbGVfbWFya2VyX2UwN2Q2MGM1ZmFjOTRkYzk4M2Y3YmZmYWFlOTA0ZjNiLmJpbmRQb3B1cChwb3B1cF9hZDIwNmFkNjM0ZWY0MTVlYjlkMGFjMjBiYmVkZjU1OSkKICAgICAgICA7CgogICAgICAgIAogICAgCiAgICAKICAgICAgICAgICAgdmFyIGNpcmNsZV9tYXJrZXJfM2U2YzNjMTlmNDJlNDQwOWJiYTdkMjE4ZWQwNmFhZmEgPSBMLmNpcmNsZU1hcmtlcigKICAgICAgICAgICAgICAgIFs0My42OTY5NDc2LCAtNzkuNDExMzA3MjAwMDAwMDFdLAogICAgICAgICAgICAgICAgeyJidWJibGluZ01vdXNlRXZlbnRzIjogdHJ1ZSwgImNvbG9yIjogImJsdWUiLCAiZGFzaEFycmF5IjogbnVsbCwgImRhc2hPZmZzZXQiOiBudWxsLCAiZmlsbCI6IHRydWUsICJmaWxsQ29sb3IiOiAiIzMxODZjYyIsICJmaWxsT3BhY2l0eSI6IDAuNywgImZpbGxSdWxlIjogImV2ZW5vZGQiLCAibGluZUNhcCI6ICJyb3VuZCIsICJsaW5lSm9pbiI6ICJyb3VuZCIsICJvcGFjaXR5IjogMS4wLCAicmFkaXVzIjogNSwgInN0cm9rZSI6IHRydWUsICJ3ZWlnaHQiOiAzfQogICAgICAgICAgICApLmFkZFRvKG1hcF84ODhmYjEyODM5MmM0ZTE4ODQ1YTEzMmNiNDViZWM4Zik7CiAgICAgICAgCiAgICAKICAgICAgICB2YXIgcG9wdXBfZjAxNTQ5NjkyZjA0NDAxYTg2MDgwM2U3MWUzM2MwMmMgPSBMLnBvcHVwKHsibWF4V2lkdGgiOiAiMTAwJSJ9KTsKCiAgICAgICAgCiAgICAgICAgICAgIHZhciBodG1sXzEwZmU0MTk4Y2RhNjQ4ZGQ4ZWI5OWMzOTgxMjEyMDYxID0gJChgPGRpdiBpZD0iaHRtbF8xMGZlNDE5OGNkYTY0OGRkOGViOTljMzk4MTIxMjA2MSIgc3R5bGU9IndpZHRoOiAxMDAuMCU7IGhlaWdodDogMTAwLjAlOyI+Rm9yZXN0IEhpbGwgTm9ydGgsIEZvcmVzdCBIaWxsIFdlc3QsIENlbnRyYWwgVG9yb250bzwvZGl2PmApWzBdOwogICAgICAgICAgICBwb3B1cF9mMDE1NDk2OTJmMDQ0MDFhODYwODAzZTcxZTMzYzAyYy5zZXRDb250ZW50KGh0bWxfMTBmZTQxOThjZGE2NDhkZDhlYjk5YzM5ODEyMTIwNjEpOwogICAgICAgIAoKICAgICAgICBjaXJjbGVfbWFya2VyXzNlNmMzYzE5ZjQyZTQ0MDliYmE3ZDIxOGVkMDZhYWZhLmJpbmRQb3B1cChwb3B1cF9mMDE1NDk2OTJmMDQ0MDFhODYwODAzZTcxZTMzYzAyYykKICAgICAgICA7CgogICAgICAgIAogICAgCiAgICAKICAgICAgICAgICAgdmFyIGNpcmNsZV9tYXJrZXJfNDY3NDQ5OTMwMTU2NDgyMGE4ZTVhODkyNmMyOWY0ZGIgPSBMLmNpcmNsZU1hcmtlcigKICAgICAgICAgICAgICAgIFs0My42NjE2MDgzLCAtNzkuNDY0NzYzMjk5OTk5OTldLAogICAgICAgICAgICAgICAgeyJidWJibGluZ01vdXNlRXZlbnRzIjogdHJ1ZSwgImNvbG9yIjogImJsdWUiLCAiZGFzaEFycmF5IjogbnVsbCwgImRhc2hPZmZzZXQiOiBudWxsLCAiZmlsbCI6IHRydWUsICJmaWxsQ29sb3IiOiAiIzMxODZjYyIsICJmaWxsT3BhY2l0eSI6IDAuNywgImZpbGxSdWxlIjogImV2ZW5vZGQiLCAibGluZUNhcCI6ICJyb3VuZCIsICJsaW5lSm9pbiI6ICJyb3VuZCIsICJvcGFjaXR5IjogMS4wLCAicmFkaXVzIjogNSwgInN0cm9rZSI6IHRydWUsICJ3ZWlnaHQiOiAzfQogICAgICAgICAgICApLmFkZFRvKG1hcF84ODhmYjEyODM5MmM0ZTE4ODQ1YTEzMmNiNDViZWM4Zik7CiAgICAgICAgCiAgICAKICAgICAgICB2YXIgcG9wdXBfYzRkNjQxYjE5ZTM3NGMzZWFlNTY5YTQ3ZDU3YmFhMGEgPSBMLnBvcHVwKHsibWF4V2lkdGgiOiAiMTAwJSJ9KTsKCiAgICAgICAgCiAgICAgICAgICAgIHZhciBodG1sXzAxYzQ1ODFmN2IzMDQyZjA4ZmNjM2UzNGZmNWFkMDE4ID0gJChgPGRpdiBpZD0iaHRtbF8wMWM0NTgxZjdiMzA0MmYwOGZjYzNlMzRmZjVhZDAxOCIgc3R5bGU9IndpZHRoOiAxMDAuMCU7IGhlaWdodDogMTAwLjAlOyI+SGlnaCBQYXJrLCBUaGUgSnVuY3Rpb24gU291dGgsIFdlc3QgVG9yb250bzwvZGl2PmApWzBdOwogICAgICAgICAgICBwb3B1cF9jNGQ2NDFiMTllMzc0YzNlYWU1NjlhNDdkNTdiYWEwYS5zZXRDb250ZW50KGh0bWxfMDFjNDU4MWY3YjMwNDJmMDhmY2MzZTM0ZmY1YWQwMTgpOwogICAgICAgIAoKICAgICAgICBjaXJjbGVfbWFya2VyXzQ2NzQ0OTkzMDE1NjQ4MjBhOGU1YTg5MjZjMjlmNGRiLmJpbmRQb3B1cChwb3B1cF9jNGQ2NDFiMTllMzc0YzNlYWU1NjlhNDdkNTdiYWEwYSkKICAgICAgICA7CgogICAgICAgIAogICAgCiAgICAKICAgICAgICAgICAgdmFyIGNpcmNsZV9tYXJrZXJfOWI1MTUyNTVlNzdiNGE3MmFmNmIwZjI3ZmM1MjRhZTIgPSBMLmNpcmNsZU1hcmtlcigKICAgICAgICAgICAgICAgIFs0My42OTYzMTksIC03OS41MzIyNDI0MDAwMDAwMl0sCiAgICAgICAgICAgICAgICB7ImJ1YmJsaW5nTW91c2VFdmVudHMiOiB0cnVlLCAiY29sb3IiOiAiYmx1ZSIsICJkYXNoQXJyYXkiOiBudWxsLCAiZGFzaE9mZnNldCI6IG51bGwsICJmaWxsIjogdHJ1ZSwgImZpbGxDb2xvciI6ICIjMzE4NmNjIiwgImZpbGxPcGFjaXR5IjogMC43LCAiZmlsbFJ1bGUiOiAiZXZlbm9kZCIsICJsaW5lQ2FwIjogInJvdW5kIiwgImxpbmVKb2luIjogInJvdW5kIiwgIm9wYWNpdHkiOiAxLjAsICJyYWRpdXMiOiA1LCAic3Ryb2tlIjogdHJ1ZSwgIndlaWdodCI6IDN9CiAgICAgICAgICAgICkuYWRkVG8obWFwXzg4OGZiMTI4MzkyYzRlMTg4NDVhMTMyY2I0NWJlYzhmKTsKICAgICAgICAKICAgIAogICAgICAgIHZhciBwb3B1cF9lOWNhZTA4OGY1NTE0MzkxYWI4MGM4YmExNTA1Y2E2ZiA9IEwucG9wdXAoeyJtYXhXaWR0aCI6ICIxMDAlIn0pOwoKICAgICAgICAKICAgICAgICAgICAgdmFyIGh0bWxfZmI5YTY2ZDhlNGUxNDU4Y2JlMTcxNjEyNjJhMTdlMzggPSAkKGA8ZGl2IGlkPSJodG1sX2ZiOWE2NmQ4ZTRlMTQ1OGNiZTE3MTYxMjYyYTE3ZTM4IiBzdHlsZT0id2lkdGg6IDEwMC4wJTsgaGVpZ2h0OiAxMDAuMCU7Ij5XZXN0bW91bnQsIEV0b2JpY29rZTwvZGl2PmApWzBdOwogICAgICAgICAgICBwb3B1cF9lOWNhZTA4OGY1NTE0MzkxYWI4MGM4YmExNTA1Y2E2Zi5zZXRDb250ZW50KGh0bWxfZmI5YTY2ZDhlNGUxNDU4Y2JlMTcxNjEyNjJhMTdlMzgpOwogICAgICAgIAoKICAgICAgICBjaXJjbGVfbWFya2VyXzliNTE1MjU1ZTc3YjRhNzJhZjZiMGYyN2ZjNTI0YWUyLmJpbmRQb3B1cChwb3B1cF9lOWNhZTA4OGY1NTE0MzkxYWI4MGM4YmExNTA1Y2E2ZikKICAgICAgICA7CgogICAgICAgIAogICAgCiAgICAKICAgICAgICAgICAgdmFyIGNpcmNsZV9tYXJrZXJfNWFmZGZlN2JkMTk1NDMzY2I5Nzc1MTgyNDgxODExMWUgPSBMLmNpcmNsZU1hcmtlcigKICAgICAgICAgICAgICAgIFs0My43NTAwNzE1MDAwMDAwMDQsIC03OS4yOTU4NDkxXSwKICAgICAgICAgICAgICAgIHsiYnViYmxpbmdNb3VzZUV2ZW50cyI6IHRydWUsICJjb2xvciI6ICJibHVlIiwgImRhc2hBcnJheSI6IG51bGwsICJkYXNoT2Zmc2V0IjogbnVsbCwgImZpbGwiOiB0cnVlLCAiZmlsbENvbG9yIjogIiMzMTg2Y2MiLCAiZmlsbE9wYWNpdHkiOiAwLjcsICJmaWxsUnVsZSI6ICJldmVub2RkIiwgImxpbmVDYXAiOiAicm91bmQiLCAibGluZUpvaW4iOiAicm91bmQiLCAib3BhY2l0eSI6IDEuMCwgInJhZGl1cyI6IDUsICJzdHJva2UiOiB0cnVlLCAid2VpZ2h0IjogM30KICAgICAgICAgICAgKS5hZGRUbyhtYXBfODg4ZmIxMjgzOTJjNGUxODg0NWExMzJjYjQ1YmVjOGYpOwogICAgICAgIAogICAgCiAgICAgICAgdmFyIHBvcHVwXzA0ZjdkZDUzZDdjNDRhZDI5YzhhNDIyM2FjMDQ0ODJmID0gTC5wb3B1cCh7Im1heFdpZHRoIjogIjEwMCUifSk7CgogICAgICAgIAogICAgICAgICAgICB2YXIgaHRtbF83NmMzNjFiN2FjZmM0MTBjODUwYTRmZGNjOWFlYmNiYSA9ICQoYDxkaXYgaWQ9Imh0bWxfNzZjMzYxYjdhY2ZjNDEwYzg1MGE0ZmRjYzlhZWJjYmEiIHN0eWxlPSJ3aWR0aDogMTAwLjAlOyBoZWlnaHQ6IDEwMC4wJTsiPk1hcnl2YWxlLCBXZXhmb3JkLCBTY2FyYm9yb3VnaDwvZGl2PmApWzBdOwogICAgICAgICAgICBwb3B1cF8wNGY3ZGQ1M2Q3YzQ0YWQyOWM4YTQyMjNhYzA0NDgyZi5zZXRDb250ZW50KGh0bWxfNzZjMzYxYjdhY2ZjNDEwYzg1MGE0ZmRjYzlhZWJjYmEpOwogICAgICAgIAoKICAgICAgICBjaXJjbGVfbWFya2VyXzVhZmRmZTdiZDE5NTQzM2NiOTc3NTE4MjQ4MTgxMTFlLmJpbmRQb3B1cChwb3B1cF8wNGY3ZGQ1M2Q3YzQ0YWQyOWM4YTQyMjNhYzA0NDgyZikKICAgICAgICA7CgogICAgICAgIAogICAgCiAgICAKICAgICAgICAgICAgdmFyIGNpcmNsZV9tYXJrZXJfYjE2Y2I2NGNjZDZhNDJmZmIwODY0ZGUxNGE2Y2VmNDcgPSBMLmNpcmNsZU1hcmtlcigKICAgICAgICAgICAgICAgIFs0My43ODI3MzY0LCAtNzkuNDQyMjU5M10sCiAgICAgICAgICAgICAgICB7ImJ1YmJsaW5nTW91c2VFdmVudHMiOiB0cnVlLCAiY29sb3IiOiAiYmx1ZSIsICJkYXNoQXJyYXkiOiBudWxsLCAiZGFzaE9mZnNldCI6IG51bGwsICJmaWxsIjogdHJ1ZSwgImZpbGxDb2xvciI6ICIjMzE4NmNjIiwgImZpbGxPcGFjaXR5IjogMC43LCAiZmlsbFJ1bGUiOiAiZXZlbm9kZCIsICJsaW5lQ2FwIjogInJvdW5kIiwgImxpbmVKb2luIjogInJvdW5kIiwgIm9wYWNpdHkiOiAxLjAsICJyYWRpdXMiOiA1LCAic3Ryb2tlIjogdHJ1ZSwgIndlaWdodCI6IDN9CiAgICAgICAgICAgICkuYWRkVG8obWFwXzg4OGZiMTI4MzkyYzRlMTg4NDVhMTMyY2I0NWJlYzhmKTsKICAgICAgICAKICAgIAogICAgICAgIHZhciBwb3B1cF9iMWIzZjEzMmQyMDM0ZmViYjdhYTJkYWNkZjQyZTBlNyA9IEwucG9wdXAoeyJtYXhXaWR0aCI6ICIxMDAlIn0pOwoKICAgICAgICAKICAgICAgICAgICAgdmFyIGh0bWxfMGQ4ODVkMDQzYjJlNGUwMzlhMDg5ZjBiZmU3NzJhZDEgPSAkKGA8ZGl2IGlkPSJodG1sXzBkODg1ZDA0M2IyZTRlMDM5YTA4OWYwYmZlNzcyYWQxIiBzdHlsZT0id2lkdGg6IDEwMC4wJTsgaGVpZ2h0OiAxMDAuMCU7Ij5XaWxsb3dkYWxlIFdlc3QsIE5vcnRoIFlvcms8L2Rpdj5gKVswXTsKICAgICAgICAgICAgcG9wdXBfYjFiM2YxMzJkMjAzNGZlYmI3YWEyZGFjZGY0MmUwZTcuc2V0Q29udGVudChodG1sXzBkODg1ZDA0M2IyZTRlMDM5YTA4OWYwYmZlNzcyYWQxKTsKICAgICAgICAKCiAgICAgICAgY2lyY2xlX21hcmtlcl9iMTZjYjY0Y2NkNmE0MmZmYjA4NjRkZTE0YTZjZWY0Ny5iaW5kUG9wdXAocG9wdXBfYjFiM2YxMzJkMjAzNGZlYmI3YWEyZGFjZGY0MmUwZTcpCiAgICAgICAgOwoKICAgICAgICAKICAgIAogICAgCiAgICAgICAgICAgIHZhciBjaXJjbGVfbWFya2VyXzM0ZjBmMGExZmRiNDRkNDY5MmM0Y2ZlZDA0OTgyMjQ2ID0gTC5jaXJjbGVNYXJrZXIoCiAgICAgICAgICAgICAgICBbNDMuNzE1MzgzNCwgLTc5LjQwNTY3ODQwMDAwMDAxXSwKICAgICAgICAgICAgICAgIHsiYnViYmxpbmdNb3VzZUV2ZW50cyI6IHRydWUsICJjb2xvciI6ICJibHVlIiwgImRhc2hBcnJheSI6IG51bGwsICJkYXNoT2Zmc2V0IjogbnVsbCwgImZpbGwiOiB0cnVlLCAiZmlsbENvbG9yIjogIiMzMTg2Y2MiLCAiZmlsbE9wYWNpdHkiOiAwLjcsICJmaWxsUnVsZSI6ICJldmVub2RkIiwgImxpbmVDYXAiOiAicm91bmQiLCAibGluZUpvaW4iOiAicm91bmQiLCAib3BhY2l0eSI6IDEuMCwgInJhZGl1cyI6IDUsICJzdHJva2UiOiB0cnVlLCAid2VpZ2h0IjogM30KICAgICAgICAgICAgKS5hZGRUbyhtYXBfODg4ZmIxMjgzOTJjNGUxODg0NWExMzJjYjQ1YmVjOGYpOwogICAgICAgIAogICAgCiAgICAgICAgdmFyIHBvcHVwX2IxOThlYzA0ZTE5ODRjNzViZjlkYzljYTViOTg2ZWRmID0gTC5wb3B1cCh7Im1heFdpZHRoIjogIjEwMCUifSk7CgogICAgICAgIAogICAgICAgICAgICB2YXIgaHRtbF8xNTY3YjMyMTkzMTE0NTA1YjE1YTNjZjljOWZjYmNlZCA9ICQoYDxkaXYgaWQ9Imh0bWxfMTU2N2IzMjE5MzExNDUwNWIxNWEzY2Y5YzlmY2JjZWQiIHN0eWxlPSJ3aWR0aDogMTAwLjAlOyBoZWlnaHQ6IDEwMC4wJTsiPk5vcnRoIFRvcm9udG8gV2VzdCwgQ2VudHJhbCBUb3JvbnRvPC9kaXY+YClbMF07CiAgICAgICAgICAgIHBvcHVwX2IxOThlYzA0ZTE5ODRjNzViZjlkYzljYTViOTg2ZWRmLnNldENvbnRlbnQoaHRtbF8xNTY3YjMyMTkzMTE0NTA1YjE1YTNjZjljOWZjYmNlZCk7CiAgICAgICAgCgogICAgICAgIGNpcmNsZV9tYXJrZXJfMzRmMGYwYTFmZGI0NGQ0NjkyYzRjZmVkMDQ5ODIyNDYuYmluZFBvcHVwKHBvcHVwX2IxOThlYzA0ZTE5ODRjNzViZjlkYzljYTViOTg2ZWRmKQogICAgICAgIDsKCiAgICAgICAgCiAgICAKICAgIAogICAgICAgICAgICB2YXIgY2lyY2xlX21hcmtlcl80ZmMwNTIwNDEwOTg0NmM1YTU4NjgyMzJkY2IwNmJhZSA9IEwuY2lyY2xlTWFya2VyKAogICAgICAgICAgICAgICAgWzQzLjY3MjcwOTcsIC03OS40MDU2Nzg0MDAwMDAwMV0sCiAgICAgICAgICAgICAgICB7ImJ1YmJsaW5nTW91c2VFdmVudHMiOiB0cnVlLCAiY29sb3IiOiAiYmx1ZSIsICJkYXNoQXJyYXkiOiBudWxsLCAiZGFzaE9mZnNldCI6IG51bGwsICJmaWxsIjogdHJ1ZSwgImZpbGxDb2xvciI6ICIjMzE4NmNjIiwgImZpbGxPcGFjaXR5IjogMC43LCAiZmlsbFJ1bGUiOiAiZXZlbm9kZCIsICJsaW5lQ2FwIjogInJvdW5kIiwgImxpbmVKb2luIjogInJvdW5kIiwgIm9wYWNpdHkiOiAxLjAsICJyYWRpdXMiOiA1LCAic3Ryb2tlIjogdHJ1ZSwgIndlaWdodCI6IDN9CiAgICAgICAgICAgICkuYWRkVG8obWFwXzg4OGZiMTI4MzkyYzRlMTg4NDVhMTMyY2I0NWJlYzhmKTsKICAgICAgICAKICAgIAogICAgICAgIHZhciBwb3B1cF84ZGQwMDliZWI1YjM0NWYzYmZmMjgwMjJiZjNlZGVkZSA9IEwucG9wdXAoeyJtYXhXaWR0aCI6ICIxMDAlIn0pOwoKICAgICAgICAKICAgICAgICAgICAgdmFyIGh0bWxfYzQ4YWRmMjkwNmNjNGE4ZGJjYWNiZTg0ZmFiYmZhZjIgPSAkKGA8ZGl2IGlkPSJodG1sX2M0OGFkZjI5MDZjYzRhOGRiY2FjYmU4NGZhYmJmYWYyIiBzdHlsZT0id2lkdGg6IDEwMC4wJTsgaGVpZ2h0OiAxMDAuMCU7Ij5UaGUgQW5uZXgsIE5vcnRoIE1pZHRvd24sIFlvcmt2aWxsZSwgQ2VudHJhbCBUb3JvbnRvPC9kaXY+YClbMF07CiAgICAgICAgICAgIHBvcHVwXzhkZDAwOWJlYjViMzQ1ZjNiZmYyODAyMmJmM2VkZWRlLnNldENvbnRlbnQoaHRtbF9jNDhhZGYyOTA2Y2M0YThkYmNhY2JlODRmYWJiZmFmMik7CiAgICAgICAgCgogICAgICAgIGNpcmNsZV9tYXJrZXJfNGZjMDUyMDQxMDk4NDZjNWE1ODY4MjMyZGNiMDZiYWUuYmluZFBvcHVwKHBvcHVwXzhkZDAwOWJlYjViMzQ1ZjNiZmYyODAyMmJmM2VkZWRlKQogICAgICAgIDsKCiAgICAgICAgCiAgICAKICAgIAogICAgICAgICAgICB2YXIgY2lyY2xlX21hcmtlcl83NzFmOWRmOWYxM2Y0OWQ1YTIyZGRiYmUzNDIyYzcxMCA9IEwuY2lyY2xlTWFya2VyKAogICAgICAgICAgICAgICAgWzQzLjY0ODk1OTcsIC03OS40NTYzMjVdLAogICAgICAgICAgICAgICAgeyJidWJibGluZ01vdXNlRXZlbnRzIjogdHJ1ZSwgImNvbG9yIjogImJsdWUiLCAiZGFzaEFycmF5IjogbnVsbCwgImRhc2hPZmZzZXQiOiBudWxsLCAiZmlsbCI6IHRydWUsICJmaWxsQ29sb3IiOiAiIzMxODZjYyIsICJmaWxsT3BhY2l0eSI6IDAuNywgImZpbGxSdWxlIjogImV2ZW5vZGQiLCAibGluZUNhcCI6ICJyb3VuZCIsICJsaW5lSm9pbiI6ICJyb3VuZCIsICJvcGFjaXR5IjogMS4wLCAicmFkaXVzIjogNSwgInN0cm9rZSI6IHRydWUsICJ3ZWlnaHQiOiAzfQogICAgICAgICAgICApLmFkZFRvKG1hcF84ODhmYjEyODM5MmM0ZTE4ODQ1YTEzMmNiNDViZWM4Zik7CiAgICAgICAgCiAgICAKICAgICAgICB2YXIgcG9wdXBfY2Q5Y2QxZDUwZjJlNDc4YzlmZjBlZDhkZmE3ZGY5NmQgPSBMLnBvcHVwKHsibWF4V2lkdGgiOiAiMTAwJSJ9KTsKCiAgICAgICAgCiAgICAgICAgICAgIHZhciBodG1sXzM5OGMwZmY1YjQ5MTRhNTJiOTNkNzI5NThmYTllYzNhID0gJChgPGRpdiBpZD0iaHRtbF8zOThjMGZmNWI0OTE0YTUyYjkzZDcyOTU4ZmE5ZWMzYSIgc3R5bGU9IndpZHRoOiAxMDAuMCU7IGhlaWdodDogMTAwLjAlOyI+UGFya2RhbGUsIFJvbmNlc3ZhbGxlcywgV2VzdCBUb3JvbnRvPC9kaXY+YClbMF07CiAgICAgICAgICAgIHBvcHVwX2NkOWNkMWQ1MGYyZTQ3OGM5ZmYwZWQ4ZGZhN2RmOTZkLnNldENvbnRlbnQoaHRtbF8zOThjMGZmNWI0OTE0YTUyYjkzZDcyOTU4ZmE5ZWMzYSk7CiAgICAgICAgCgogICAgICAgIGNpcmNsZV9tYXJrZXJfNzcxZjlkZjlmMTNmNDlkNWEyMmRkYmJlMzQyMmM3MTAuYmluZFBvcHVwKHBvcHVwX2NkOWNkMWQ1MGYyZTQ3OGM5ZmYwZWQ4ZGZhN2RmOTZkKQogICAgICAgIDsKCiAgICAgICAgCiAgICAKICAgIAogICAgICAgICAgICB2YXIgY2lyY2xlX21hcmtlcl83ODcyYjcyMDdlM2U0YzlmOWUwNGZiMDExYWU5YTFjMSA9IEwuY2lyY2xlTWFya2VyKAogICAgICAgICAgICAgICAgWzQzLjYzNjk2NTYsIC03OS42MTU4MTg5OTk5OTk5OV0sCiAgICAgICAgICAgICAgICB7ImJ1YmJsaW5nTW91c2VFdmVudHMiOiB0cnVlLCAiY29sb3IiOiAiYmx1ZSIsICJkYXNoQXJyYXkiOiBudWxsLCAiZGFzaE9mZnNldCI6IG51bGwsICJmaWxsIjogdHJ1ZSwgImZpbGxDb2xvciI6ICIjMzE4NmNjIiwgImZpbGxPcGFjaXR5IjogMC43LCAiZmlsbFJ1bGUiOiAiZXZlbm9kZCIsICJsaW5lQ2FwIjogInJvdW5kIiwgImxpbmVKb2luIjogInJvdW5kIiwgIm9wYWNpdHkiOiAxLjAsICJyYWRpdXMiOiA1LCAic3Ryb2tlIjogdHJ1ZSwgIndlaWdodCI6IDN9CiAgICAgICAgICAgICkuYWRkVG8obWFwXzg4OGZiMTI4MzkyYzRlMTg4NDVhMTMyY2I0NWJlYzhmKTsKICAgICAgICAKICAgIAogICAgICAgIHZhciBwb3B1cF85NjM1OWZiMDNlMTU0YzUzYjAzZDVkNGYxZDlkOTc0MiA9IEwucG9wdXAoeyJtYXhXaWR0aCI6ICIxMDAlIn0pOwoKICAgICAgICAKICAgICAgICAgICAgdmFyIGh0bWxfYjg2MjlmMjE5MzFkNGZkYjk0Mzg0OWE4MGQ3ZjljY2EgPSAkKGA8ZGl2IGlkPSJodG1sX2I4NjI5ZjIxOTMxZDRmZGI5NDM4NDlhODBkN2Y5Y2NhIiBzdHlsZT0id2lkdGg6IDEwMC4wJTsgaGVpZ2h0OiAxMDAuMCU7Ij5DYW5hZGEgUG9zdCBHYXRld2F5IFByb2Nlc3NpbmcgQ2VudHJlLCBNaXNzaXNzYXVnYTwvZGl2PmApWzBdOwogICAgICAgICAgICBwb3B1cF85NjM1OWZiMDNlMTU0YzUzYjAzZDVkNGYxZDlkOTc0Mi5zZXRDb250ZW50KGh0bWxfYjg2MjlmMjE5MzFkNGZkYjk0Mzg0OWE4MGQ3ZjljY2EpOwogICAgICAgIAoKICAgICAgICBjaXJjbGVfbWFya2VyXzc4NzJiNzIwN2UzZTRjOWY5ZTA0ZmIwMTFhZTlhMWMxLmJpbmRQb3B1cChwb3B1cF85NjM1OWZiMDNlMTU0YzUzYjAzZDVkNGYxZDlkOTc0MikKICAgICAgICA7CgogICAgICAgIAogICAgCiAgICAKICAgICAgICAgICAgdmFyIGNpcmNsZV9tYXJrZXJfYzczY2YwODUwYzI1NGU1OThmMGQ4NTM2NDZiZDZhNjIgPSBMLmNpcmNsZU1hcmtlcigKICAgICAgICAgICAgICAgIFs0My42ODg5MDU0LCAtNzkuNTU0NzI0NDAwMDAwMDFdLAogICAgICAgICAgICAgICAgeyJidWJibGluZ01vdXNlRXZlbnRzIjogdHJ1ZSwgImNvbG9yIjogImJsdWUiLCAiZGFzaEFycmF5IjogbnVsbCwgImRhc2hPZmZzZXQiOiBudWxsLCAiZmlsbCI6IHRydWUsICJmaWxsQ29sb3IiOiAiIzMxODZjYyIsICJmaWxsT3BhY2l0eSI6IDAuNywgImZpbGxSdWxlIjogImV2ZW5vZGQiLCAibGluZUNhcCI6ICJyb3VuZCIsICJsaW5lSm9pbiI6ICJyb3VuZCIsICJvcGFjaXR5IjogMS4wLCAicmFkaXVzIjogNSwgInN0cm9rZSI6IHRydWUsICJ3ZWlnaHQiOiAzfQogICAgICAgICAgICApLmFkZFRvKG1hcF84ODhmYjEyODM5MmM0ZTE4ODQ1YTEzMmNiNDViZWM4Zik7CiAgICAgICAgCiAgICAKICAgICAgICB2YXIgcG9wdXBfZDE2ZmE4ZGRiNjRhNDAxY2FjMTMwNjYzNmNlMWNjMzIgPSBMLnBvcHVwKHsibWF4V2lkdGgiOiAiMTAwJSJ9KTsKCiAgICAgICAgCiAgICAgICAgICAgIHZhciBodG1sX2ViNjY0MDQxODBmZjQ5YjJhNWU4Mjg0MjU1YWJiMzY5ID0gJChgPGRpdiBpZD0iaHRtbF9lYjY2NDA0MTgwZmY0OWIyYTVlODI4NDI1NWFiYjM2OSIgc3R5bGU9IndpZHRoOiAxMDAuMCU7IGhlaWdodDogMTAwLjAlOyI+S2luZ3N2aWV3IFZpbGxhZ2UsIE1hcnRpbiBHcm92ZSBHYXJkZW5zLCBSaWNodmlldyBHYXJkZW5zLCBTdC4gUGhpbGxpcHMsIEV0b2JpY29rZTwvZGl2PmApWzBdOwogICAgICAgICAgICBwb3B1cF9kMTZmYThkZGI2NGE0MDFjYWMxMzA2NjM2Y2UxY2MzMi5zZXRDb250ZW50KGh0bWxfZWI2NjQwNDE4MGZmNDliMmE1ZTgyODQyNTVhYmIzNjkpOwogICAgICAgIAoKICAgICAgICBjaXJjbGVfbWFya2VyX2M3M2NmMDg1MGMyNTRlNTk4ZjBkODUzNjQ2YmQ2YTYyLmJpbmRQb3B1cChwb3B1cF9kMTZmYThkZGI2NGE0MDFjYWMxMzA2NjM2Y2UxY2MzMikKICAgICAgICA7CgogICAgICAgIAogICAgCiAgICAKICAgICAgICAgICAgdmFyIGNpcmNsZV9tYXJrZXJfMDAzMmFlNjI4M2JhNGY3MWE2YjljN2ZjNDJjNjhiZjEgPSBMLmNpcmNsZU1hcmtlcigKICAgICAgICAgICAgICAgIFs0My43OTQyMDAzLCAtNzkuMjYyMDI5NDAwMDAwMDJdLAogICAgICAgICAgICAgICAgeyJidWJibGluZ01vdXNlRXZlbnRzIjogdHJ1ZSwgImNvbG9yIjogImJsdWUiLCAiZGFzaEFycmF5IjogbnVsbCwgImRhc2hPZmZzZXQiOiBudWxsLCAiZmlsbCI6IHRydWUsICJmaWxsQ29sb3IiOiAiIzMxODZjYyIsICJmaWxsT3BhY2l0eSI6IDAuNywgImZpbGxSdWxlIjogImV2ZW5vZGQiLCAibGluZUNhcCI6ICJyb3VuZCIsICJsaW5lSm9pbiI6ICJyb3VuZCIsICJvcGFjaXR5IjogMS4wLCAicmFkaXVzIjogNSwgInN0cm9rZSI6IHRydWUsICJ3ZWlnaHQiOiAzfQogICAgICAgICAgICApLmFkZFRvKG1hcF84ODhmYjEyODM5MmM0ZTE4ODQ1YTEzMmNiNDViZWM4Zik7CiAgICAgICAgCiAgICAKICAgICAgICB2YXIgcG9wdXBfZWY3MjUwMWE3NDhlNDIyOThjNjFmNWI1YmNiNTU0YWUgPSBMLnBvcHVwKHsibWF4V2lkdGgiOiAiMTAwJSJ9KTsKCiAgICAgICAgCiAgICAgICAgICAgIHZhciBodG1sXzY4MDBiNzg5NjNmYTQ2YmQ4NzZkMTNlY2YzNDFjNGM3ID0gJChgPGRpdiBpZD0iaHRtbF82ODAwYjc4OTYzZmE0NmJkODc2ZDEzZWNmMzQxYzRjNyIgc3R5bGU9IndpZHRoOiAxMDAuMCU7IGhlaWdodDogMTAwLjAlOyI+QWdpbmNvdXJ0LCBTY2FyYm9yb3VnaDwvZGl2PmApWzBdOwogICAgICAgICAgICBwb3B1cF9lZjcyNTAxYTc0OGU0MjI5OGM2MWY1YjViY2I1NTRhZS5zZXRDb250ZW50KGh0bWxfNjgwMGI3ODk2M2ZhNDZiZDg3NmQxM2VjZjM0MWM0YzcpOwogICAgICAgIAoKICAgICAgICBjaXJjbGVfbWFya2VyXzAwMzJhZTYyODNiYTRmNzFhNmI5YzdmYzQyYzY4YmYxLmJpbmRQb3B1cChwb3B1cF9lZjcyNTAxYTc0OGU0MjI5OGM2MWY1YjViY2I1NTRhZSkKICAgICAgICA7CgogICAgICAgIAogICAgCiAgICAKICAgICAgICAgICAgdmFyIGNpcmNsZV9tYXJrZXJfNDJjMjk3NjRhMTFlNDM1MTkyZTRhYjI5Y2Y2NjE4MjkgPSBMLmNpcmNsZU1hcmtlcigKICAgICAgICAgICAgICAgIFs0My43MDQzMjQ0LCAtNzkuMzg4NzkwMV0sCiAgICAgICAgICAgICAgICB7ImJ1YmJsaW5nTW91c2VFdmVudHMiOiB0cnVlLCAiY29sb3IiOiAiYmx1ZSIsICJkYXNoQXJyYXkiOiBudWxsLCAiZGFzaE9mZnNldCI6IG51bGwsICJmaWxsIjogdHJ1ZSwgImZpbGxDb2xvciI6ICIjMzE4NmNjIiwgImZpbGxPcGFjaXR5IjogMC43LCAiZmlsbFJ1bGUiOiAiZXZlbm9kZCIsICJsaW5lQ2FwIjogInJvdW5kIiwgImxpbmVKb2luIjogInJvdW5kIiwgIm9wYWNpdHkiOiAxLjAsICJyYWRpdXMiOiA1LCAic3Ryb2tlIjogdHJ1ZSwgIndlaWdodCI6IDN9CiAgICAgICAgICAgICkuYWRkVG8obWFwXzg4OGZiMTI4MzkyYzRlMTg4NDVhMTMyY2I0NWJlYzhmKTsKICAgICAgICAKICAgIAogICAgICAgIHZhciBwb3B1cF85OTVlYTg4NDE1OTg0MzljOTQ2MDk1ZjU5YThkN2FlNyA9IEwucG9wdXAoeyJtYXhXaWR0aCI6ICIxMDAlIn0pOwoKICAgICAgICAKICAgICAgICAgICAgdmFyIGh0bWxfY2ViNmY5NTc2YzVlNDljMWFmZjA0NTBjODUzODVkM2IgPSAkKGA8ZGl2IGlkPSJodG1sX2NlYjZmOTU3NmM1ZTQ5YzFhZmYwNDUwYzg1Mzg1ZDNiIiBzdHlsZT0id2lkdGg6IDEwMC4wJTsgaGVpZ2h0OiAxMDAuMCU7Ij5EYXZpc3ZpbGxlLCBDZW50cmFsIFRvcm9udG88L2Rpdj5gKVswXTsKICAgICAgICAgICAgcG9wdXBfOTk1ZWE4ODQxNTk4NDM5Yzk0NjA5NWY1OWE4ZDdhZTcuc2V0Q29udGVudChodG1sX2NlYjZmOTU3NmM1ZTQ5YzFhZmYwNDUwYzg1Mzg1ZDNiKTsKICAgICAgICAKCiAgICAgICAgY2lyY2xlX21hcmtlcl80MmMyOTc2NGExMWU0MzUxOTJlNGFiMjljZjY2MTgyOS5iaW5kUG9wdXAocG9wdXBfOTk1ZWE4ODQxNTk4NDM5Yzk0NjA5NWY1OWE4ZDdhZTcpCiAgICAgICAgOwoKICAgICAgICAKICAgIAogICAgCiAgICAgICAgICAgIHZhciBjaXJjbGVfbWFya2VyX2FmY2JmMDNmYjNiNzRlYjM5MDljMGZmYjhmNDQzZGI3ID0gTC5jaXJjbGVNYXJrZXIoCiAgICAgICAgICAgICAgICBbNDMuNjYyNjk1NiwgLTc5LjQwMDA0OTNdLAogICAgICAgICAgICAgICAgeyJidWJibGluZ01vdXNlRXZlbnRzIjogdHJ1ZSwgImNvbG9yIjogImJsdWUiLCAiZGFzaEFycmF5IjogbnVsbCwgImRhc2hPZmZzZXQiOiBudWxsLCAiZmlsbCI6IHRydWUsICJmaWxsQ29sb3IiOiAiIzMxODZjYyIsICJmaWxsT3BhY2l0eSI6IDAuNywgImZpbGxSdWxlIjogImV2ZW5vZGQiLCAibGluZUNhcCI6ICJyb3VuZCIsICJsaW5lSm9pbiI6ICJyb3VuZCIsICJvcGFjaXR5IjogMS4wLCAicmFkaXVzIjogNSwgInN0cm9rZSI6IHRydWUsICJ3ZWlnaHQiOiAzfQogICAgICAgICAgICApLmFkZFRvKG1hcF84ODhmYjEyODM5MmM0ZTE4ODQ1YTEzMmNiNDViZWM4Zik7CiAgICAgICAgCiAgICAKICAgICAgICB2YXIgcG9wdXBfOTc4Yzg5ODk4ZWFhNDkxOGFiNTcyZGM2ODI4ZGU5MmYgPSBMLnBvcHVwKHsibWF4V2lkdGgiOiAiMTAwJSJ9KTsKCiAgICAgICAgCiAgICAgICAgICAgIHZhciBodG1sXzI2M2RiYmViNzNhOTQxMjg5YWNhMjA1OGZjMWJjZTM1ID0gJChgPGRpdiBpZD0iaHRtbF8yNjNkYmJlYjczYTk0MTI4OWFjYTIwNThmYzFiY2UzNSIgc3R5bGU9IndpZHRoOiAxMDAuMCU7IGhlaWdodDogMTAwLjAlOyI+SGFyYm9yZCwgVW5pdmVyc2l0eSBvZiBUb3JvbnRvLCBEb3dudG93biBUb3JvbnRvPC9kaXY+YClbMF07CiAgICAgICAgICAgIHBvcHVwXzk3OGM4OTg5OGVhYTQ5MThhYjU3MmRjNjgyOGRlOTJmLnNldENvbnRlbnQoaHRtbF8yNjNkYmJlYjczYTk0MTI4OWFjYTIwNThmYzFiY2UzNSk7CiAgICAgICAgCgogICAgICAgIGNpcmNsZV9tYXJrZXJfYWZjYmYwM2ZiM2I3NGViMzkwOWMwZmZiOGY0NDNkYjcuYmluZFBvcHVwKHBvcHVwXzk3OGM4OTg5OGVhYTQ5MThhYjU3MmRjNjgyOGRlOTJmKQogICAgICAgIDsKCiAgICAgICAgCiAgICAKICAgIAogICAgICAgICAgICB2YXIgY2lyY2xlX21hcmtlcl9jOWJhZDUyZGI0OTQ0ZThkOWI4MDI2YjFhNDg1OGQ3MyA9IEwuY2lyY2xlTWFya2VyKAogICAgICAgICAgICAgICAgWzQzLjY1MTU3MDYsIC03OS40ODQ0NDk5XSwKICAgICAgICAgICAgICAgIHsiYnViYmxpbmdNb3VzZUV2ZW50cyI6IHRydWUsICJjb2xvciI6ICJibHVlIiwgImRhc2hBcnJheSI6IG51bGwsICJkYXNoT2Zmc2V0IjogbnVsbCwgImZpbGwiOiB0cnVlLCAiZmlsbENvbG9yIjogIiMzMTg2Y2MiLCAiZmlsbE9wYWNpdHkiOiAwLjcsICJmaWxsUnVsZSI6ICJldmVub2RkIiwgImxpbmVDYXAiOiAicm91bmQiLCAibGluZUpvaW4iOiAicm91bmQiLCAib3BhY2l0eSI6IDEuMCwgInJhZGl1cyI6IDUsICJzdHJva2UiOiB0cnVlLCAid2VpZ2h0IjogM30KICAgICAgICAgICAgKS5hZGRUbyhtYXBfODg4ZmIxMjgzOTJjNGUxODg0NWExMzJjYjQ1YmVjOGYpOwogICAgICAgIAogICAgCiAgICAgICAgdmFyIHBvcHVwXzQ1MDg3YTY0ZmRjMDQ2OGVhNTk2MjczY2U1MTU5NzgyID0gTC5wb3B1cCh7Im1heFdpZHRoIjogIjEwMCUifSk7CgogICAgICAgIAogICAgICAgICAgICB2YXIgaHRtbF8yYWViOWFiYzE0NWU0NzNmYWNiNTNkZGRmNmY1MGEwMyA9ICQoYDxkaXYgaWQ9Imh0bWxfMmFlYjlhYmMxNDVlNDczZmFjYjUzZGRkZjZmNTBhMDMiIHN0eWxlPSJ3aWR0aDogMTAwLjAlOyBoZWlnaHQ6IDEwMC4wJTsiPlJ1bm55bWVkZSwgU3dhbnNlYSwgV2VzdCBUb3JvbnRvPC9kaXY+YClbMF07CiAgICAgICAgICAgIHBvcHVwXzQ1MDg3YTY0ZmRjMDQ2OGVhNTk2MjczY2U1MTU5NzgyLnNldENvbnRlbnQoaHRtbF8yYWViOWFiYzE0NWU0NzNmYWNiNTNkZGRmNmY1MGEwMyk7CiAgICAgICAgCgogICAgICAgIGNpcmNsZV9tYXJrZXJfYzliYWQ1MmRiNDk0NGU4ZDliODAyNmIxYTQ4NThkNzMuYmluZFBvcHVwKHBvcHVwXzQ1MDg3YTY0ZmRjMDQ2OGVhNTk2MjczY2U1MTU5NzgyKQogICAgICAgIDsKCiAgICAgICAgCiAgICAKICAgIAogICAgICAgICAgICB2YXIgY2lyY2xlX21hcmtlcl8xZDM0ZDNmNTc4ODk0MWM4ODA0MTlkNGRjYWMzNGFiNiA9IEwuY2lyY2xlTWFya2VyKAogICAgICAgICAgICAgICAgWzQzLjc4MTYzNzUsIC03OS4zMDQzMDIxXSwKICAgICAgICAgICAgICAgIHsiYnViYmxpbmdNb3VzZUV2ZW50cyI6IHRydWUsICJjb2xvciI6ICJibHVlIiwgImRhc2hBcnJheSI6IG51bGwsICJkYXNoT2Zmc2V0IjogbnVsbCwgImZpbGwiOiB0cnVlLCAiZmlsbENvbG9yIjogIiMzMTg2Y2MiLCAiZmlsbE9wYWNpdHkiOiAwLjcsICJmaWxsUnVsZSI6ICJldmVub2RkIiwgImxpbmVDYXAiOiAicm91bmQiLCAibGluZUpvaW4iOiAicm91bmQiLCAib3BhY2l0eSI6IDEuMCwgInJhZGl1cyI6IDUsICJzdHJva2UiOiB0cnVlLCAid2VpZ2h0IjogM30KICAgICAgICAgICAgKS5hZGRUbyhtYXBfODg4ZmIxMjgzOTJjNGUxODg0NWExMzJjYjQ1YmVjOGYpOwogICAgICAgIAogICAgCiAgICAgICAgdmFyIHBvcHVwX2YyN2Q4NzdjYTJjZTQyZmU5ZjU4YWY5MTAyMzA1YjM4ID0gTC5wb3B1cCh7Im1heFdpZHRoIjogIjEwMCUifSk7CgogICAgICAgIAogICAgICAgICAgICB2YXIgaHRtbF80Y2U4OTk0NmQwNjY0YzIwYTAxNGRhMDM0NTg4ZDk4YyA9ICQoYDxkaXYgaWQ9Imh0bWxfNGNlODk5NDZkMDY2NGMyMGEwMTRkYTAzNDU4OGQ5OGMiIHN0eWxlPSJ3aWR0aDogMTAwLjAlOyBoZWlnaHQ6IDEwMC4wJTsiPkNsYXJrcyBDb3JuZXJzLCBTdWxsaXZhbiwgVGFtIE8mIzM5O1NoYW50ZXIsIFNjYXJib3JvdWdoPC9kaXY+YClbMF07CiAgICAgICAgICAgIHBvcHVwX2YyN2Q4NzdjYTJjZTQyZmU5ZjU4YWY5MTAyMzA1YjM4LnNldENvbnRlbnQoaHRtbF80Y2U4OTk0NmQwNjY0YzIwYTAxNGRhMDM0NTg4ZDk4Yyk7CiAgICAgICAgCgogICAgICAgIGNpcmNsZV9tYXJrZXJfMWQzNGQzZjU3ODg5NDFjODgwNDE5ZDRkY2FjMzRhYjYuYmluZFBvcHVwKHBvcHVwX2YyN2Q4NzdjYTJjZTQyZmU5ZjU4YWY5MTAyMzA1YjM4KQogICAgICAgIDsKCiAgICAgICAgCiAgICAKICAgIAogICAgICAgICAgICB2YXIgY2lyY2xlX21hcmtlcl8zMzZhZWUxYjM3NTA0NmI2YWY2MzJlZTY4ODUyMzk5YiA9IEwuY2lyY2xlTWFya2VyKAogICAgICAgICAgICAgICAgWzQzLjY4OTU3NDMsIC03OS4zODMxNTk5MDAwMDAwMV0sCiAgICAgICAgICAgICAgICB7ImJ1YmJsaW5nTW91c2VFdmVudHMiOiB0cnVlLCAiY29sb3IiOiAiYmx1ZSIsICJkYXNoQXJyYXkiOiBudWxsLCAiZGFzaE9mZnNldCI6IG51bGwsICJmaWxsIjogdHJ1ZSwgImZpbGxDb2xvciI6ICIjMzE4NmNjIiwgImZpbGxPcGFjaXR5IjogMC43LCAiZmlsbFJ1bGUiOiAiZXZlbm9kZCIsICJsaW5lQ2FwIjogInJvdW5kIiwgImxpbmVKb2luIjogInJvdW5kIiwgIm9wYWNpdHkiOiAxLjAsICJyYWRpdXMiOiA1LCAic3Ryb2tlIjogdHJ1ZSwgIndlaWdodCI6IDN9CiAgICAgICAgICAgICkuYWRkVG8obWFwXzg4OGZiMTI4MzkyYzRlMTg4NDVhMTMyY2I0NWJlYzhmKTsKICAgICAgICAKICAgIAogICAgICAgIHZhciBwb3B1cF9hYzYxYTJkMDRlYTg0NDE3OWFlZTMwZDBiZWExYzcwNSA9IEwucG9wdXAoeyJtYXhXaWR0aCI6ICIxMDAlIn0pOwoKICAgICAgICAKICAgICAgICAgICAgdmFyIGh0bWxfMjdmZmE3YzlkMzVjNDdiMWEwY2Q4NjNhM2I4OTE0ZTggPSAkKGA8ZGl2IGlkPSJodG1sXzI3ZmZhN2M5ZDM1YzQ3YjFhMGNkODYzYTNiODkxNGU4IiBzdHlsZT0id2lkdGg6IDEwMC4wJTsgaGVpZ2h0OiAxMDAuMCU7Ij5Nb29yZSBQYXJrLCBTdW1tZXJoaWxsIEVhc3QsIENlbnRyYWwgVG9yb250bzwvZGl2PmApWzBdOwogICAgICAgICAgICBwb3B1cF9hYzYxYTJkMDRlYTg0NDE3OWFlZTMwZDBiZWExYzcwNS5zZXRDb250ZW50KGh0bWxfMjdmZmE3YzlkMzVjNDdiMWEwY2Q4NjNhM2I4OTE0ZTgpOwogICAgICAgIAoKICAgICAgICBjaXJjbGVfbWFya2VyXzMzNmFlZTFiMzc1MDQ2YjZhZjYzMmVlNjg4NTIzOTliLmJpbmRQb3B1cChwb3B1cF9hYzYxYTJkMDRlYTg0NDE3OWFlZTMwZDBiZWExYzcwNSkKICAgICAgICA7CgogICAgICAgIAogICAgCiAgICAKICAgICAgICAgICAgdmFyIGNpcmNsZV9tYXJrZXJfM2ZlN2IwMTI3ZjUzNDllZjgyMjk5YWFhOTJmMGY1NDMgPSBMLmNpcmNsZU1hcmtlcigKICAgICAgICAgICAgICAgIFs0My42NTMyMDU3LCAtNzkuNDAwMDQ5M10sCiAgICAgICAgICAgICAgICB7ImJ1YmJsaW5nTW91c2VFdmVudHMiOiB0cnVlLCAiY29sb3IiOiAiYmx1ZSIsICJkYXNoQXJyYXkiOiBudWxsLCAiZGFzaE9mZnNldCI6IG51bGwsICJmaWxsIjogdHJ1ZSwgImZpbGxDb2xvciI6ICIjMzE4NmNjIiwgImZpbGxPcGFjaXR5IjogMC43LCAiZmlsbFJ1bGUiOiAiZXZlbm9kZCIsICJsaW5lQ2FwIjogInJvdW5kIiwgImxpbmVKb2luIjogInJvdW5kIiwgIm9wYWNpdHkiOiAxLjAsICJyYWRpdXMiOiA1LCAic3Ryb2tlIjogdHJ1ZSwgIndlaWdodCI6IDN9CiAgICAgICAgICAgICkuYWRkVG8obWFwXzg4OGZiMTI4MzkyYzRlMTg4NDVhMTMyY2I0NWJlYzhmKTsKICAgICAgICAKICAgIAogICAgICAgIHZhciBwb3B1cF8wNWJkNTRjOTBhMjg0MDVkODRlMjQyYWFhZWU4NmUzOCA9IEwucG9wdXAoeyJtYXhXaWR0aCI6ICIxMDAlIn0pOwoKICAgICAgICAKICAgICAgICAgICAgdmFyIGh0bWxfYWFhNDM5ZGYyZDQzNGU0NTg2ZjcwYjhiOWYwMzhhNzQgPSAkKGA8ZGl2IGlkPSJodG1sX2FhYTQzOWRmMmQ0MzRlNDU4NmY3MGI4YjlmMDM4YTc0IiBzdHlsZT0id2lkdGg6IDEwMC4wJTsgaGVpZ2h0OiAxMDAuMCU7Ij5DaGluYXRvd24sIEdyYW5nZSBQYXJrLCBLZW5zaW5ndG9uIE1hcmtldCwgRG93bnRvd24gVG9yb250bzwvZGl2PmApWzBdOwogICAgICAgICAgICBwb3B1cF8wNWJkNTRjOTBhMjg0MDVkODRlMjQyYWFhZWU4NmUzOC5zZXRDb250ZW50KGh0bWxfYWFhNDM5ZGYyZDQzNGU0NTg2ZjcwYjhiOWYwMzhhNzQpOwogICAgICAgIAoKICAgICAgICBjaXJjbGVfbWFya2VyXzNmZTdiMDEyN2Y1MzQ5ZWY4MjI5OWFhYTkyZjBmNTQzLmJpbmRQb3B1cChwb3B1cF8wNWJkNTRjOTBhMjg0MDVkODRlMjQyYWFhZWU4NmUzOCkKICAgICAgICA7CgogICAgICAgIAogICAgCiAgICAKICAgICAgICAgICAgdmFyIGNpcmNsZV9tYXJrZXJfODZlMGEyZTJmMDI1NGE3Zjk3N2NkYTZiYzQyMjdjYTYgPSBMLmNpcmNsZU1hcmtlcigKICAgICAgICAgICAgICAgIFs0My44MTUyNTIyLCAtNzkuMjg0NTc3Ml0sCiAgICAgICAgICAgICAgICB7ImJ1YmJsaW5nTW91c2VFdmVudHMiOiB0cnVlLCAiY29sb3IiOiAiYmx1ZSIsICJkYXNoQXJyYXkiOiBudWxsLCAiZGFzaE9mZnNldCI6IG51bGwsICJmaWxsIjogdHJ1ZSwgImZpbGxDb2xvciI6ICIjMzE4NmNjIiwgImZpbGxPcGFjaXR5IjogMC43LCAiZmlsbFJ1bGUiOiAiZXZlbm9kZCIsICJsaW5lQ2FwIjogInJvdW5kIiwgImxpbmVKb2luIjogInJvdW5kIiwgIm9wYWNpdHkiOiAxLjAsICJyYWRpdXMiOiA1LCAic3Ryb2tlIjogdHJ1ZSwgIndlaWdodCI6IDN9CiAgICAgICAgICAgICkuYWRkVG8obWFwXzg4OGZiMTI4MzkyYzRlMTg4NDVhMTMyY2I0NWJlYzhmKTsKICAgICAgICAKICAgIAogICAgICAgIHZhciBwb3B1cF81MzA5Yzg2YjBmYWI0MTYyYmExNWE2NTNkN2Q4NDI0MiA9IEwucG9wdXAoeyJtYXhXaWR0aCI6ICIxMDAlIn0pOwoKICAgICAgICAKICAgICAgICAgICAgdmFyIGh0bWxfZmE1MzIwZGFhYjZlNGZjZjk2YjJjY2Y2OWIxMTFmODMgPSAkKGA8ZGl2IGlkPSJodG1sX2ZhNTMyMGRhYWI2ZTRmY2Y5NmIyY2NmNjliMTExZjgzIiBzdHlsZT0id2lkdGg6IDEwMC4wJTsgaGVpZ2h0OiAxMDAuMCU7Ij5BZ2luY291cnQgTm9ydGgsIEwmIzM5O0Ftb3JlYXV4IEVhc3QsIE1pbGxpa2VuLCBTdGVlbGVzIEVhc3QsIFNjYXJib3JvdWdoPC9kaXY+YClbMF07CiAgICAgICAgICAgIHBvcHVwXzUzMDljODZiMGZhYjQxNjJiYTE1YTY1M2Q3ZDg0MjQyLnNldENvbnRlbnQoaHRtbF9mYTUzMjBkYWFiNmU0ZmNmOTZiMmNjZjY5YjExMWY4Myk7CiAgICAgICAgCgogICAgICAgIGNpcmNsZV9tYXJrZXJfODZlMGEyZTJmMDI1NGE3Zjk3N2NkYTZiYzQyMjdjYTYuYmluZFBvcHVwKHBvcHVwXzUzMDljODZiMGZhYjQxNjJiYTE1YTY1M2Q3ZDg0MjQyKQogICAgICAgIDsKCiAgICAgICAgCiAgICAKICAgIAogICAgICAgICAgICB2YXIgY2lyY2xlX21hcmtlcl8wMjU1ODhiZDhhYmE0YzM3OGEyOGY5ZjA3ZGU0YmY4NSA9IEwuY2lyY2xlTWFya2VyKAogICAgICAgICAgICAgICAgWzQzLjY4NjQxMjI5OTk5OTk5LCAtNzkuNDAwMDQ5M10sCiAgICAgICAgICAgICAgICB7ImJ1YmJsaW5nTW91c2VFdmVudHMiOiB0cnVlLCAiY29sb3IiOiAiYmx1ZSIsICJkYXNoQXJyYXkiOiBudWxsLCAiZGFzaE9mZnNldCI6IG51bGwsICJmaWxsIjogdHJ1ZSwgImZpbGxDb2xvciI6ICIjMzE4NmNjIiwgImZpbGxPcGFjaXR5IjogMC43LCAiZmlsbFJ1bGUiOiAiZXZlbm9kZCIsICJsaW5lQ2FwIjogInJvdW5kIiwgImxpbmVKb2luIjogInJvdW5kIiwgIm9wYWNpdHkiOiAxLjAsICJyYWRpdXMiOiA1LCAic3Ryb2tlIjogdHJ1ZSwgIndlaWdodCI6IDN9CiAgICAgICAgICAgICkuYWRkVG8obWFwXzg4OGZiMTI4MzkyYzRlMTg4NDVhMTMyY2I0NWJlYzhmKTsKICAgICAgICAKICAgIAogICAgICAgIHZhciBwb3B1cF82NTNjYTBmMjY0NTM0MjA3OTc5OWFmNmE0NjhkNzA2MCA9IEwucG9wdXAoeyJtYXhXaWR0aCI6ICIxMDAlIn0pOwoKICAgICAgICAKICAgICAgICAgICAgdmFyIGh0bWxfNTQ2M2VkMmIxYTc0NDQyZGEyMzg4YTliN2MzNTczZTEgPSAkKGA8ZGl2IGlkPSJodG1sXzU0NjNlZDJiMWE3NDQ0MmRhMjM4OGE5YjdjMzU3M2UxIiBzdHlsZT0id2lkdGg6IDEwMC4wJTsgaGVpZ2h0OiAxMDAuMCU7Ij5EZWVyIFBhcmssIEZvcmVzdCBIaWxsIFNFLCBSYXRobmVsbHksIFNvdXRoIEhpbGwsIFN1bW1lcmhpbGwgV2VzdCwgQ2VudHJhbCBUb3JvbnRvPC9kaXY+YClbMF07CiAgICAgICAgICAgIHBvcHVwXzY1M2NhMGYyNjQ1MzQyMDc5Nzk5YWY2YTQ2OGQ3MDYwLnNldENvbnRlbnQoaHRtbF81NDYzZWQyYjFhNzQ0NDJkYTIzODhhOWI3YzM1NzNlMSk7CiAgICAgICAgCgogICAgICAgIGNpcmNsZV9tYXJrZXJfMDI1NTg4YmQ4YWJhNGMzNzhhMjhmOWYwN2RlNGJmODUuYmluZFBvcHVwKHBvcHVwXzY1M2NhMGYyNjQ1MzQyMDc5Nzk5YWY2YTQ2OGQ3MDYwKQogICAgICAgIDsKCiAgICAgICAgCiAgICAKICAgIAogICAgICAgICAgICB2YXIgY2lyY2xlX21hcmtlcl9iNGMwZTg1OWI3YzI0YTc0YTVhNzE5MmUzNzdhOGI0NCA9IEwuY2lyY2xlTWFya2VyKAogICAgICAgICAgICAgICAgWzQzLjYyODk0NjcsIC03OS4zOTQ0MTk5XSwKICAgICAgICAgICAgICAgIHsiYnViYmxpbmdNb3VzZUV2ZW50cyI6IHRydWUsICJjb2xvciI6ICJibHVlIiwgImRhc2hBcnJheSI6IG51bGwsICJkYXNoT2Zmc2V0IjogbnVsbCwgImZpbGwiOiB0cnVlLCAiZmlsbENvbG9yIjogIiMzMTg2Y2MiLCAiZmlsbE9wYWNpdHkiOiAwLjcsICJmaWxsUnVsZSI6ICJldmVub2RkIiwgImxpbmVDYXAiOiAicm91bmQiLCAibGluZUpvaW4iOiAicm91bmQiLCAib3BhY2l0eSI6IDEuMCwgInJhZGl1cyI6IDUsICJzdHJva2UiOiB0cnVlLCAid2VpZ2h0IjogM30KICAgICAgICAgICAgKS5hZGRUbyhtYXBfODg4ZmIxMjgzOTJjNGUxODg0NWExMzJjYjQ1YmVjOGYpOwogICAgICAgIAogICAgCiAgICAgICAgdmFyIHBvcHVwX2I5ZWE1NTMwMTRjZjQ2OGM4MjA3NzdlYWU0Y2EwMDIwID0gTC5wb3B1cCh7Im1heFdpZHRoIjogIjEwMCUifSk7CgogICAgICAgIAogICAgICAgICAgICB2YXIgaHRtbF8xMGRlNWU3YTAzOTE0Y2MxODFhODUwYjYwNGI0ZmJiYiA9ICQoYDxkaXYgaWQ9Imh0bWxfMTBkZTVlN2EwMzkxNGNjMTgxYTg1MGI2MDRiNGZiYmIiIHN0eWxlPSJ3aWR0aDogMTAwLjAlOyBoZWlnaHQ6IDEwMC4wJTsiPkNOIFRvd2VyLCBCYXRodXJzdCBRdWF5LCBJc2xhbmQgYWlycG9ydCwgSGFyYm91cmZyb250IFdlc3QsIEtpbmcgYW5kIFNwYWRpbmEsIFJhaWx3YXkgTGFuZHMsIFNvdXRoIE5pYWdhcmEsIERvd250b3duIFRvcm9udG88L2Rpdj5gKVswXTsKICAgICAgICAgICAgcG9wdXBfYjllYTU1MzAxNGNmNDY4YzgyMDc3N2VhZTRjYTAwMjAuc2V0Q29udGVudChodG1sXzEwZGU1ZTdhMDM5MTRjYzE4MWE4NTBiNjA0YjRmYmJiKTsKICAgICAgICAKCiAgICAgICAgY2lyY2xlX21hcmtlcl9iNGMwZTg1OWI3YzI0YTc0YTVhNzE5MmUzNzdhOGI0NC5iaW5kUG9wdXAocG9wdXBfYjllYTU1MzAxNGNmNDY4YzgyMDc3N2VhZTRjYTAwMjApCiAgICAgICAgOwoKICAgICAgICAKICAgIAogICAgCiAgICAgICAgICAgIHZhciBjaXJjbGVfbWFya2VyX2VhMWRkYmFiMmIzNjQ3ZWViZjlhZDEzOWM5ZGQ5YzljID0gTC5jaXJjbGVNYXJrZXIoCiAgICAgICAgICAgICAgICBbNDMuNjA1NjQ2NiwgLTc5LjUwMTMyMDcwMDAwMDAxXSwKICAgICAgICAgICAgICAgIHsiYnViYmxpbmdNb3VzZUV2ZW50cyI6IHRydWUsICJjb2xvciI6ICJibHVlIiwgImRhc2hBcnJheSI6IG51bGwsICJkYXNoT2Zmc2V0IjogbnVsbCwgImZpbGwiOiB0cnVlLCAiZmlsbENvbG9yIjogIiMzMTg2Y2MiLCAiZmlsbE9wYWNpdHkiOiAwLjcsICJmaWxsUnVsZSI6ICJldmVub2RkIiwgImxpbmVDYXAiOiAicm91bmQiLCAibGluZUpvaW4iOiAicm91bmQiLCAib3BhY2l0eSI6IDEuMCwgInJhZGl1cyI6IDUsICJzdHJva2UiOiB0cnVlLCAid2VpZ2h0IjogM30KICAgICAgICAgICAgKS5hZGRUbyhtYXBfODg4ZmIxMjgzOTJjNGUxODg0NWExMzJjYjQ1YmVjOGYpOwogICAgICAgIAogICAgCiAgICAgICAgdmFyIHBvcHVwX2RjNjJiOWI2YzQ1YzQyMjY4YzliMTY4NDgzMzYwOTMxID0gTC5wb3B1cCh7Im1heFdpZHRoIjogIjEwMCUifSk7CgogICAgICAgIAogICAgICAgICAgICB2YXIgaHRtbF82NDI1MTg0ZmQwODQ0YTU3YWU0ZWM2MjFhYmZkZTdhMyA9ICQoYDxkaXYgaWQ9Imh0bWxfNjQyNTE4NGZkMDg0NGE1N2FlNGVjNjIxYWJmZGU3YTMiIHN0eWxlPSJ3aWR0aDogMTAwLjAlOyBoZWlnaHQ6IDEwMC4wJTsiPkh1bWJlciBCYXkgU2hvcmVzLCBNaW1pY28gU291dGgsIE5ldyBUb3JvbnRvLCBFdG9iaWNva2U8L2Rpdj5gKVswXTsKICAgICAgICAgICAgcG9wdXBfZGM2MmI5YjZjNDVjNDIyNjhjOWIxNjg0ODMzNjA5MzEuc2V0Q29udGVudChodG1sXzY0MjUxODRmZDA4NDRhNTdhZTRlYzYyMWFiZmRlN2EzKTsKICAgICAgICAKCiAgICAgICAgY2lyY2xlX21hcmtlcl9lYTFkZGJhYjJiMzY0N2VlYmY5YWQxMzljOWRkOWM5Yy5iaW5kUG9wdXAocG9wdXBfZGM2MmI5YjZjNDVjNDIyNjhjOWIxNjg0ODMzNjA5MzEpCiAgICAgICAgOwoKICAgICAgICAKICAgIAogICAgCiAgICAgICAgICAgIHZhciBjaXJjbGVfbWFya2VyXzI1OGU5NzRjYTk4NjRhODE4YzFlOTE1YmUzNGIwZTY2ID0gTC5jaXJjbGVNYXJrZXIoCiAgICAgICAgICAgICAgICBbNDMuNzM5NDE2Mzk5OTk5OTk2LCAtNzkuNTg4NDM2OV0sCiAgICAgICAgICAgICAgICB7ImJ1YmJsaW5nTW91c2VFdmVudHMiOiB0cnVlLCAiY29sb3IiOiAiYmx1ZSIsICJkYXNoQXJyYXkiOiBudWxsLCAiZGFzaE9mZnNldCI6IG51bGwsICJmaWxsIjogdHJ1ZSwgImZpbGxDb2xvciI6ICIjMzE4NmNjIiwgImZpbGxPcGFjaXR5IjogMC43LCAiZmlsbFJ1bGUiOiAiZXZlbm9kZCIsICJsaW5lQ2FwIjogInJvdW5kIiwgImxpbmVKb2luIjogInJvdW5kIiwgIm9wYWNpdHkiOiAxLjAsICJyYWRpdXMiOiA1LCAic3Ryb2tlIjogdHJ1ZSwgIndlaWdodCI6IDN9CiAgICAgICAgICAgICkuYWRkVG8obWFwXzg4OGZiMTI4MzkyYzRlMTg4NDVhMTMyY2I0NWJlYzhmKTsKICAgICAgICAKICAgIAogICAgICAgIHZhciBwb3B1cF80MjAxMThhYTNjZDc0ZmJiOTk3MTE4Y2QxMDA4Y2EwNyA9IEwucG9wdXAoeyJtYXhXaWR0aCI6ICIxMDAlIn0pOwoKICAgICAgICAKICAgICAgICAgICAgdmFyIGh0bWxfZjc5ODRmYTk5MjJkNGMxZDkyOGRiODBhMDg0OTNmMWYgPSAkKGA8ZGl2IGlkPSJodG1sX2Y3OTg0ZmE5OTIyZDRjMWQ5MjhkYjgwYTA4NDkzZjFmIiBzdHlsZT0id2lkdGg6IDEwMC4wJTsgaGVpZ2h0OiAxMDAuMCU7Ij5BbGJpb24gR2FyZGVucywgQmVhdW1vbmQgSGVpZ2h0cywgSHVtYmVyZ2F0ZSwgSmFtZXN0b3duLCBNb3VudCBPbGl2ZSwgU2lsdmVyc3RvbmUsIFNvdXRoIFN0ZWVsZXMsIFRoaXN0bGV0b3duLCBFdG9iaWNva2U8L2Rpdj5gKVswXTsKICAgICAgICAgICAgcG9wdXBfNDIwMTE4YWEzY2Q3NGZiYjk5NzExOGNkMTAwOGNhMDcuc2V0Q29udGVudChodG1sX2Y3OTg0ZmE5OTIyZDRjMWQ5MjhkYjgwYTA4NDkzZjFmKTsKICAgICAgICAKCiAgICAgICAgY2lyY2xlX21hcmtlcl8yNThlOTc0Y2E5ODY0YTgxOGMxZTkxNWJlMzRiMGU2Ni5iaW5kUG9wdXAocG9wdXBfNDIwMTE4YWEzY2Q3NGZiYjk5NzExOGNkMTAwOGNhMDcpCiAgICAgICAgOwoKICAgICAgICAKICAgIAogICAgCiAgICAgICAgICAgIHZhciBjaXJjbGVfbWFya2VyX2E4OGZiNzBmYTUwNDQ1ZDg5YzA2MDI4MzFjYzljOTYzID0gTC5jaXJjbGVNYXJrZXIoCiAgICAgICAgICAgICAgICBbNDMuNzk5NTI1MjAwMDAwMDA1LCAtNzkuMzE4Mzg4N10sCiAgICAgICAgICAgICAgICB7ImJ1YmJsaW5nTW91c2VFdmVudHMiOiB0cnVlLCAiY29sb3IiOiAiYmx1ZSIsICJkYXNoQXJyYXkiOiBudWxsLCAiZGFzaE9mZnNldCI6IG51bGwsICJmaWxsIjogdHJ1ZSwgImZpbGxDb2xvciI6ICIjMzE4NmNjIiwgImZpbGxPcGFjaXR5IjogMC43LCAiZmlsbFJ1bGUiOiAiZXZlbm9kZCIsICJsaW5lQ2FwIjogInJvdW5kIiwgImxpbmVKb2luIjogInJvdW5kIiwgIm9wYWNpdHkiOiAxLjAsICJyYWRpdXMiOiA1LCAic3Ryb2tlIjogdHJ1ZSwgIndlaWdodCI6IDN9CiAgICAgICAgICAgICkuYWRkVG8obWFwXzg4OGZiMTI4MzkyYzRlMTg4NDVhMTMyY2I0NWJlYzhmKTsKICAgICAgICAKICAgIAogICAgICAgIHZhciBwb3B1cF9hZTNmZjAyMTI5MjA0NGQzOTQ3MTNhOTllYmJmY2ZkNSA9IEwucG9wdXAoeyJtYXhXaWR0aCI6ICIxMDAlIn0pOwoKICAgICAgICAKICAgICAgICAgICAgdmFyIGh0bWxfNjY2M2UyZWZmYTczNGE5M2JiZDQyMGFlNDI4MDg5MmEgPSAkKGA8ZGl2IGlkPSJodG1sXzY2NjNlMmVmZmE3MzRhOTNiYmQ0MjBhZTQyODA4OTJhIiBzdHlsZT0id2lkdGg6IDEwMC4wJTsgaGVpZ2h0OiAxMDAuMCU7Ij5MJiMzOTtBbW9yZWF1eCBXZXN0LCBTY2FyYm9yb3VnaDwvZGl2PmApWzBdOwogICAgICAgICAgICBwb3B1cF9hZTNmZjAyMTI5MjA0NGQzOTQ3MTNhOTllYmJmY2ZkNS5zZXRDb250ZW50KGh0bWxfNjY2M2UyZWZmYTczNGE5M2JiZDQyMGFlNDI4MDg5MmEpOwogICAgICAgIAoKICAgICAgICBjaXJjbGVfbWFya2VyX2E4OGZiNzBmYTUwNDQ1ZDg5YzA2MDI4MzFjYzljOTYzLmJpbmRQb3B1cChwb3B1cF9hZTNmZjAyMTI5MjA0NGQzOTQ3MTNhOTllYmJmY2ZkNSkKICAgICAgICA7CgogICAgICAgIAogICAgCiAgICAKICAgICAgICAgICAgdmFyIGNpcmNsZV9tYXJrZXJfNzhkZmE0NDM2MjUwNGYyMTk2OGFiMGMwZmQ4MTI2Y2EgPSBMLmNpcmNsZU1hcmtlcigKICAgICAgICAgICAgICAgIFs0My42Nzk1NjI2LCAtNzkuMzc3NTI5NDAwMDAwMDFdLAogICAgICAgICAgICAgICAgeyJidWJibGluZ01vdXNlRXZlbnRzIjogdHJ1ZSwgImNvbG9yIjogImJsdWUiLCAiZGFzaEFycmF5IjogbnVsbCwgImRhc2hPZmZzZXQiOiBudWxsLCAiZmlsbCI6IHRydWUsICJmaWxsQ29sb3IiOiAiIzMxODZjYyIsICJmaWxsT3BhY2l0eSI6IDAuNywgImZpbGxSdWxlIjogImV2ZW5vZGQiLCAibGluZUNhcCI6ICJyb3VuZCIsICJsaW5lSm9pbiI6ICJyb3VuZCIsICJvcGFjaXR5IjogMS4wLCAicmFkaXVzIjogNSwgInN0cm9rZSI6IHRydWUsICJ3ZWlnaHQiOiAzfQogICAgICAgICAgICApLmFkZFRvKG1hcF84ODhmYjEyODM5MmM0ZTE4ODQ1YTEzMmNiNDViZWM4Zik7CiAgICAgICAgCiAgICAKICAgICAgICB2YXIgcG9wdXBfMDAyYjI5MGYxMDY4NGNkZmE5MmEyZjhiOGY3MjZkMzkgPSBMLnBvcHVwKHsibWF4V2lkdGgiOiAiMTAwJSJ9KTsKCiAgICAgICAgCiAgICAgICAgICAgIHZhciBodG1sX2RhYTA0MmYzZDI3NDQ4N2VhNTQ5ZWM4OGYxZDM4OTM4ID0gJChgPGRpdiBpZD0iaHRtbF9kYWEwNDJmM2QyNzQ0ODdlYTU0OWVjODhmMWQzODkzOCIgc3R5bGU9IndpZHRoOiAxMDAuMCU7IGhlaWdodDogMTAwLjAlOyI+Um9zZWRhbGUsIERvd250b3duIFRvcm9udG88L2Rpdj5gKVswXTsKICAgICAgICAgICAgcG9wdXBfMDAyYjI5MGYxMDY4NGNkZmE5MmEyZjhiOGY3MjZkMzkuc2V0Q29udGVudChodG1sX2RhYTA0MmYzZDI3NDQ4N2VhNTQ5ZWM4OGYxZDM4OTM4KTsKICAgICAgICAKCiAgICAgICAgY2lyY2xlX21hcmtlcl83OGRmYTQ0MzYyNTA0ZjIxOTY4YWIwYzBmZDgxMjZjYS5iaW5kUG9wdXAocG9wdXBfMDAyYjI5MGYxMDY4NGNkZmE5MmEyZjhiOGY3MjZkMzkpCiAgICAgICAgOwoKICAgICAgICAKICAgIAogICAgCiAgICAgICAgICAgIHZhciBjaXJjbGVfbWFya2VyXzU0MjY3YjY4NDYxODRjOWZhNjVkY2I5ZGQxZWM5YmNjID0gTC5jaXJjbGVNYXJrZXIoCiAgICAgICAgICAgICAgICBbNDMuNjQ2NDM1MiwgLTc5LjM3NDg0NTk5OTk5OTk5XSwKICAgICAgICAgICAgICAgIHsiYnViYmxpbmdNb3VzZUV2ZW50cyI6IHRydWUsICJjb2xvciI6ICJibHVlIiwgImRhc2hBcnJheSI6IG51bGwsICJkYXNoT2Zmc2V0IjogbnVsbCwgImZpbGwiOiB0cnVlLCAiZmlsbENvbG9yIjogIiMzMTg2Y2MiLCAiZmlsbE9wYWNpdHkiOiAwLjcsICJmaWxsUnVsZSI6ICJldmVub2RkIiwgImxpbmVDYXAiOiAicm91bmQiLCAibGluZUpvaW4iOiAicm91bmQiLCAib3BhY2l0eSI6IDEuMCwgInJhZGl1cyI6IDUsICJzdHJva2UiOiB0cnVlLCAid2VpZ2h0IjogM30KICAgICAgICAgICAgKS5hZGRUbyhtYXBfODg4ZmIxMjgzOTJjNGUxODg0NWExMzJjYjQ1YmVjOGYpOwogICAgICAgIAogICAgCiAgICAgICAgdmFyIHBvcHVwX2FhMzE0MWEzZTRkNzQyNDc4YmJhNjkwZDE0NTllNmQ3ID0gTC5wb3B1cCh7Im1heFdpZHRoIjogIjEwMCUifSk7CgogICAgICAgIAogICAgICAgICAgICB2YXIgaHRtbF9hNjFhZjM4NzA5NmU0NTkxOGM3ZjZjZDczM2I4NzhjMSA9ICQoYDxkaXYgaWQ9Imh0bWxfYTYxYWYzODcwOTZlNDU5MThjN2Y2Y2Q3MzNiODc4YzEiIHN0eWxlPSJ3aWR0aDogMTAwLjAlOyBoZWlnaHQ6IDEwMC4wJTsiPlN0biBBIFBPIEJveGVzIDI1IFRoZSBFc3BsYW5hZGUsIERvd250b3duIFRvcm9udG88L2Rpdj5gKVswXTsKICAgICAgICAgICAgcG9wdXBfYWEzMTQxYTNlNGQ3NDI0NzhiYmE2OTBkMTQ1OWU2ZDcuc2V0Q29udGVudChodG1sX2E2MWFmMzg3MDk2ZTQ1OTE4YzdmNmNkNzMzYjg3OGMxKTsKICAgICAgICAKCiAgICAgICAgY2lyY2xlX21hcmtlcl81NDI2N2I2ODQ2MTg0YzlmYTY1ZGNiOWRkMWVjOWJjYy5iaW5kUG9wdXAocG9wdXBfYWEzMTQxYTNlNGQ3NDI0NzhiYmE2OTBkMTQ1OWU2ZDcpCiAgICAgICAgOwoKICAgICAgICAKICAgIAogICAgCiAgICAgICAgICAgIHZhciBjaXJjbGVfbWFya2VyX2NiMWIxYTdjYWFjNDRmM2RhN2Q5ZWExYWZjYmI2ZGVhID0gTC5jaXJjbGVNYXJrZXIoCiAgICAgICAgICAgICAgICBbNDMuNjAyNDEzNzAwMDAwMDEsIC03OS41NDM0ODQwOTk5OTk5OV0sCiAgICAgICAgICAgICAgICB7ImJ1YmJsaW5nTW91c2VFdmVudHMiOiB0cnVlLCAiY29sb3IiOiAiYmx1ZSIsICJkYXNoQXJyYXkiOiBudWxsLCAiZGFzaE9mZnNldCI6IG51bGwsICJmaWxsIjogdHJ1ZSwgImZpbGxDb2xvciI6ICIjMzE4NmNjIiwgImZpbGxPcGFjaXR5IjogMC43LCAiZmlsbFJ1bGUiOiAiZXZlbm9kZCIsICJsaW5lQ2FwIjogInJvdW5kIiwgImxpbmVKb2luIjogInJvdW5kIiwgIm9wYWNpdHkiOiAxLjAsICJyYWRpdXMiOiA1LCAic3Ryb2tlIjogdHJ1ZSwgIndlaWdodCI6IDN9CiAgICAgICAgICAgICkuYWRkVG8obWFwXzg4OGZiMTI4MzkyYzRlMTg4NDVhMTMyY2I0NWJlYzhmKTsKICAgICAgICAKICAgIAogICAgICAgIHZhciBwb3B1cF9hYzUyMTJhNTg4ODc0NWJlOGUwMmRkZjdlNzBhNGUxZSA9IEwucG9wdXAoeyJtYXhXaWR0aCI6ICIxMDAlIn0pOwoKICAgICAgICAKICAgICAgICAgICAgdmFyIGh0bWxfYjg0YWE1MjYyNTA0NDYwMmI0OTFiNGYzMGIwZmJlNWUgPSAkKGA8ZGl2IGlkPSJodG1sX2I4NGFhNTI2MjUwNDQ2MDJiNDkxYjRmMzBiMGZiZTVlIiBzdHlsZT0id2lkdGg6IDEwMC4wJTsgaGVpZ2h0OiAxMDAuMCU7Ij5BbGRlcndvb2QsIExvbmcgQnJhbmNoLCBFdG9iaWNva2U8L2Rpdj5gKVswXTsKICAgICAgICAgICAgcG9wdXBfYWM1MjEyYTU4ODg3NDViZThlMDJkZGY3ZTcwYTRlMWUuc2V0Q29udGVudChodG1sX2I4NGFhNTI2MjUwNDQ2MDJiNDkxYjRmMzBiMGZiZTVlKTsKICAgICAgICAKCiAgICAgICAgY2lyY2xlX21hcmtlcl9jYjFiMWE3Y2FhYzQ0ZjNkYTdkOWVhMWFmY2JiNmRlYS5iaW5kUG9wdXAocG9wdXBfYWM1MjEyYTU4ODg3NDViZThlMDJkZGY3ZTcwYTRlMWUpCiAgICAgICAgOwoKICAgICAgICAKICAgIAogICAgCiAgICAgICAgICAgIHZhciBjaXJjbGVfbWFya2VyXzk5NjU5ZmU1ZDFiYjQxYzE5YzEzZmFmY2Q3NThiZDY4ID0gTC5jaXJjbGVNYXJrZXIoCiAgICAgICAgICAgICAgICBbNDMuNzA2NzQ4Mjk5OTk5OTk0LCAtNzkuNTk0MDU0NF0sCiAgICAgICAgICAgICAgICB7ImJ1YmJsaW5nTW91c2VFdmVudHMiOiB0cnVlLCAiY29sb3IiOiAiYmx1ZSIsICJkYXNoQXJyYXkiOiBudWxsLCAiZGFzaE9mZnNldCI6IG51bGwsICJmaWxsIjogdHJ1ZSwgImZpbGxDb2xvciI6ICIjMzE4NmNjIiwgImZpbGxPcGFjaXR5IjogMC43LCAiZmlsbFJ1bGUiOiAiZXZlbm9kZCIsICJsaW5lQ2FwIjogInJvdW5kIiwgImxpbmVKb2luIjogInJvdW5kIiwgIm9wYWNpdHkiOiAxLjAsICJyYWRpdXMiOiA1LCAic3Ryb2tlIjogdHJ1ZSwgIndlaWdodCI6IDN9CiAgICAgICAgICAgICkuYWRkVG8obWFwXzg4OGZiMTI4MzkyYzRlMTg4NDVhMTMyY2I0NWJlYzhmKTsKICAgICAgICAKICAgIAogICAgICAgIHZhciBwb3B1cF81NTlhYWQxMjIyODA0NGFiODk4NGVkZTFmMWVhMjY1OSA9IEwucG9wdXAoeyJtYXhXaWR0aCI6ICIxMDAlIn0pOwoKICAgICAgICAKICAgICAgICAgICAgdmFyIGh0bWxfNmFjOWNhMWYyMmU5NDg4NzhkM2Y0ZDNhMGU0ODgwNzIgPSAkKGA8ZGl2IGlkPSJodG1sXzZhYzljYTFmMjJlOTQ4ODc4ZDNmNGQzYTBlNDg4MDcyIiBzdHlsZT0id2lkdGg6IDEwMC4wJTsgaGVpZ2h0OiAxMDAuMCU7Ij5Ob3J0aHdlc3QsIEV0b2JpY29rZTwvZGl2PmApWzBdOwogICAgICAgICAgICBwb3B1cF81NTlhYWQxMjIyODA0NGFiODk4NGVkZTFmMWVhMjY1OS5zZXRDb250ZW50KGh0bWxfNmFjOWNhMWYyMmU5NDg4NzhkM2Y0ZDNhMGU0ODgwNzIpOwogICAgICAgIAoKICAgICAgICBjaXJjbGVfbWFya2VyXzk5NjU5ZmU1ZDFiYjQxYzE5YzEzZmFmY2Q3NThiZDY4LmJpbmRQb3B1cChwb3B1cF81NTlhYWQxMjIyODA0NGFiODk4NGVkZTFmMWVhMjY1OSkKICAgICAgICA7CgogICAgICAgIAogICAgCiAgICAKICAgICAgICAgICAgdmFyIGNpcmNsZV9tYXJrZXJfMDA0YzFiZDNhYjliNGZhMGJlMDgwZTg0Y2E1MTRjNzggPSBMLmNpcmNsZU1hcmtlcigKICAgICAgICAgICAgICAgIFs0My44MzYxMjQ3MDAwMDAwMDYsIC03OS4yMDU2MzYwOTk5OTk5OV0sCiAgICAgICAgICAgICAgICB7ImJ1YmJsaW5nTW91c2VFdmVudHMiOiB0cnVlLCAiY29sb3IiOiAiYmx1ZSIsICJkYXNoQXJyYXkiOiBudWxsLCAiZGFzaE9mZnNldCI6IG51bGwsICJmaWxsIjogdHJ1ZSwgImZpbGxDb2xvciI6ICIjMzE4NmNjIiwgImZpbGxPcGFjaXR5IjogMC43LCAiZmlsbFJ1bGUiOiAiZXZlbm9kZCIsICJsaW5lQ2FwIjogInJvdW5kIiwgImxpbmVKb2luIjogInJvdW5kIiwgIm9wYWNpdHkiOiAxLjAsICJyYWRpdXMiOiA1LCAic3Ryb2tlIjogdHJ1ZSwgIndlaWdodCI6IDN9CiAgICAgICAgICAgICkuYWRkVG8obWFwXzg4OGZiMTI4MzkyYzRlMTg4NDVhMTMyY2I0NWJlYzhmKTsKICAgICAgICAKICAgIAogICAgICAgIHZhciBwb3B1cF82ODRkN2MyOWE2NmE0NDViOWIwYTg2ZWVjMTAxNmQ1YiA9IEwucG9wdXAoeyJtYXhXaWR0aCI6ICIxMDAlIn0pOwoKICAgICAgICAKICAgICAgICAgICAgdmFyIGh0bWxfMmJhY2Y3YzRjZmRmNDFhZTlmNzE5ZDgxYjBhOTkwY2IgPSAkKGA8ZGl2IGlkPSJodG1sXzJiYWNmN2M0Y2ZkZjQxYWU5ZjcxOWQ4MWIwYTk5MGNiIiBzdHlsZT0id2lkdGg6IDEwMC4wJTsgaGVpZ2h0OiAxMDAuMCU7Ij5VcHBlciBSb3VnZSwgU2NhcmJvcm91Z2g8L2Rpdj5gKVswXTsKICAgICAgICAgICAgcG9wdXBfNjg0ZDdjMjlhNjZhNDQ1YjliMGE4NmVlYzEwMTZkNWIuc2V0Q29udGVudChodG1sXzJiYWNmN2M0Y2ZkZjQxYWU5ZjcxOWQ4MWIwYTk5MGNiKTsKICAgICAgICAKCiAgICAgICAgY2lyY2xlX21hcmtlcl8wMDRjMWJkM2FiOWI0ZmEwYmUwODBlODRjYTUxNGM3OC5iaW5kUG9wdXAocG9wdXBfNjg0ZDdjMjlhNjZhNDQ1YjliMGE4NmVlYzEwMTZkNWIpCiAgICAgICAgOwoKICAgICAgICAKICAgIAogICAgCiAgICAgICAgICAgIHZhciBjaXJjbGVfbWFya2VyXzcyNDI0ZTE1MzZkNzRkNTc5ZTE1ZTRjOGZmNGY3ZGViID0gTC5jaXJjbGVNYXJrZXIoCiAgICAgICAgICAgICAgICBbNDMuNjY3OTY3LCAtNzkuMzY3Njc1M10sCiAgICAgICAgICAgICAgICB7ImJ1YmJsaW5nTW91c2VFdmVudHMiOiB0cnVlLCAiY29sb3IiOiAiYmx1ZSIsICJkYXNoQXJyYXkiOiBudWxsLCAiZGFzaE9mZnNldCI6IG51bGwsICJmaWxsIjogdHJ1ZSwgImZpbGxDb2xvciI6ICIjMzE4NmNjIiwgImZpbGxPcGFjaXR5IjogMC43LCAiZmlsbFJ1bGUiOiAiZXZlbm9kZCIsICJsaW5lQ2FwIjogInJvdW5kIiwgImxpbmVKb2luIjogInJvdW5kIiwgIm9wYWNpdHkiOiAxLjAsICJyYWRpdXMiOiA1LCAic3Ryb2tlIjogdHJ1ZSwgIndlaWdodCI6IDN9CiAgICAgICAgICAgICkuYWRkVG8obWFwXzg4OGZiMTI4MzkyYzRlMTg4NDVhMTMyY2I0NWJlYzhmKTsKICAgICAgICAKICAgIAogICAgICAgIHZhciBwb3B1cF8yOWNiNTZkZTY3MGM0ZGI0ODA1ODI3YWQ4YjJjYThkZCA9IEwucG9wdXAoeyJtYXhXaWR0aCI6ICIxMDAlIn0pOwoKICAgICAgICAKICAgICAgICAgICAgdmFyIGh0bWxfMzBiYzY4ZThmMWQ0NGE2ODliMmM0YjFhOWNkYzJjMmMgPSAkKGA8ZGl2IGlkPSJodG1sXzMwYmM2OGU4ZjFkNDRhNjg5YjJjNGIxYTljZGMyYzJjIiBzdHlsZT0id2lkdGg6IDEwMC4wJTsgaGVpZ2h0OiAxMDAuMCU7Ij5DYWJiYWdldG93biwgU3QuIEphbWVzIFRvd24sIERvd250b3duIFRvcm9udG88L2Rpdj5gKVswXTsKICAgICAgICAgICAgcG9wdXBfMjljYjU2ZGU2NzBjNGRiNDgwNTgyN2FkOGIyY2E4ZGQuc2V0Q29udGVudChodG1sXzMwYmM2OGU4ZjFkNDRhNjg5YjJjNGIxYTljZGMyYzJjKTsKICAgICAgICAKCiAgICAgICAgY2lyY2xlX21hcmtlcl83MjQyNGUxNTM2ZDc0ZDU3OWUxNWU0YzhmZjRmN2RlYi5iaW5kUG9wdXAocG9wdXBfMjljYjU2ZGU2NzBjNGRiNDgwNTgyN2FkOGIyY2E4ZGQpCiAgICAgICAgOwoKICAgICAgICAKICAgIAogICAgCiAgICAgICAgICAgIHZhciBjaXJjbGVfbWFya2VyXzRhN2Y4NjE5ZWQzZjQwMjJiODhiYzZhNzk3ODk1OTgzID0gTC5jaXJjbGVNYXJrZXIoCiAgICAgICAgICAgICAgICBbNDMuNjQ4NDI5MiwgLTc5LjM4MjI4MDJdLAogICAgICAgICAgICAgICAgeyJidWJibGluZ01vdXNlRXZlbnRzIjogdHJ1ZSwgImNvbG9yIjogImJsdWUiLCAiZGFzaEFycmF5IjogbnVsbCwgImRhc2hPZmZzZXQiOiBudWxsLCAiZmlsbCI6IHRydWUsICJmaWxsQ29sb3IiOiAiIzMxODZjYyIsICJmaWxsT3BhY2l0eSI6IDAuNywgImZpbGxSdWxlIjogImV2ZW5vZGQiLCAibGluZUNhcCI6ICJyb3VuZCIsICJsaW5lSm9pbiI6ICJyb3VuZCIsICJvcGFjaXR5IjogMS4wLCAicmFkaXVzIjogNSwgInN0cm9rZSI6IHRydWUsICJ3ZWlnaHQiOiAzfQogICAgICAgICAgICApLmFkZFRvKG1hcF84ODhmYjEyODM5MmM0ZTE4ODQ1YTEzMmNiNDViZWM4Zik7CiAgICAgICAgCiAgICAKICAgICAgICB2YXIgcG9wdXBfNDJiMzY5OTYzZWY5NDU1ZWExNDcxZDM3YzUwNzU1MDAgPSBMLnBvcHVwKHsibWF4V2lkdGgiOiAiMTAwJSJ9KTsKCiAgICAgICAgCiAgICAgICAgICAgIHZhciBodG1sXzFmZTJlODRlZjg5ZDQ0ZTg4MmRkOTlkMTEyMmEzYmI2ID0gJChgPGRpdiBpZD0iaHRtbF8xZmUyZTg0ZWY4OWQ0NGU4ODJkZDk5ZDExMjJhM2JiNiIgc3R5bGU9IndpZHRoOiAxMDAuMCU7IGhlaWdodDogMTAwLjAlOyI+Rmlyc3QgQ2FuYWRpYW4gUGxhY2UsIFVuZGVyZ3JvdW5kIGNpdHksIERvd250b3duIFRvcm9udG88L2Rpdj5gKVswXTsKICAgICAgICAgICAgcG9wdXBfNDJiMzY5OTYzZWY5NDU1ZWExNDcxZDM3YzUwNzU1MDAuc2V0Q29udGVudChodG1sXzFmZTJlODRlZjg5ZDQ0ZTg4MmRkOTlkMTEyMmEzYmI2KTsKICAgICAgICAKCiAgICAgICAgY2lyY2xlX21hcmtlcl80YTdmODYxOWVkM2Y0MDIyYjg4YmM2YTc5Nzg5NTk4My5iaW5kUG9wdXAocG9wdXBfNDJiMzY5OTYzZWY5NDU1ZWExNDcxZDM3YzUwNzU1MDApCiAgICAgICAgOwoKICAgICAgICAKICAgIAogICAgCiAgICAgICAgICAgIHZhciBjaXJjbGVfbWFya2VyXzVkYjljNjc1OTMzNzRkMWE4MTUzZWZlY2QyZmY1ZGQ2ID0gTC5jaXJjbGVNYXJrZXIoCiAgICAgICAgICAgICAgICBbNDMuNjUzNjUzNjAwMDAwMDA1LCAtNzkuNTA2OTQzNl0sCiAgICAgICAgICAgICAgICB7ImJ1YmJsaW5nTW91c2VFdmVudHMiOiB0cnVlLCAiY29sb3IiOiAiYmx1ZSIsICJkYXNoQXJyYXkiOiBudWxsLCAiZGFzaE9mZnNldCI6IG51bGwsICJmaWxsIjogdHJ1ZSwgImZpbGxDb2xvciI6ICIjMzE4NmNjIiwgImZpbGxPcGFjaXR5IjogMC43LCAiZmlsbFJ1bGUiOiAiZXZlbm9kZCIsICJsaW5lQ2FwIjogInJvdW5kIiwgImxpbmVKb2luIjogInJvdW5kIiwgIm9wYWNpdHkiOiAxLjAsICJyYWRpdXMiOiA1LCAic3Ryb2tlIjogdHJ1ZSwgIndlaWdodCI6IDN9CiAgICAgICAgICAgICkuYWRkVG8obWFwXzg4OGZiMTI4MzkyYzRlMTg4NDVhMTMyY2I0NWJlYzhmKTsKICAgICAgICAKICAgIAogICAgICAgIHZhciBwb3B1cF9mOTVlZjc5NTRjMWQ0MTM1YTJjZTQ4ZTA5NWJhYzAyYyA9IEwucG9wdXAoeyJtYXhXaWR0aCI6ICIxMDAlIn0pOwoKICAgICAgICAKICAgICAgICAgICAgdmFyIGh0bWxfODg3MDg4ODlmMGE5NDM1NjhlMzBmZGQxNzY4NmIwNGEgPSAkKGA8ZGl2IGlkPSJodG1sXzg4NzA4ODg5ZjBhOTQzNTY4ZTMwZmRkMTc2ODZiMDRhIiBzdHlsZT0id2lkdGg6IDEwMC4wJTsgaGVpZ2h0OiAxMDAuMCU7Ij5UaGUgS2luZ3N3YXksIE1vbnRnb21lcnkgUm9hZCwgT2xkIE1pbGwgTm9ydGgsIEV0b2JpY29rZTwvZGl2PmApWzBdOwogICAgICAgICAgICBwb3B1cF9mOTVlZjc5NTRjMWQ0MTM1YTJjZTQ4ZTA5NWJhYzAyYy5zZXRDb250ZW50KGh0bWxfODg3MDg4ODlmMGE5NDM1NjhlMzBmZGQxNzY4NmIwNGEpOwogICAgICAgIAoKICAgICAgICBjaXJjbGVfbWFya2VyXzVkYjljNjc1OTMzNzRkMWE4MTUzZWZlY2QyZmY1ZGQ2LmJpbmRQb3B1cChwb3B1cF9mOTVlZjc5NTRjMWQ0MTM1YTJjZTQ4ZTA5NWJhYzAyYykKICAgICAgICA7CgogICAgICAgIAogICAgCiAgICAKICAgICAgICAgICAgdmFyIGNpcmNsZV9tYXJrZXJfODc3MjgxZjhlMzM5NGI4YmE4NmNlNDllMTE0MDJmYzQgPSBMLmNpcmNsZU1hcmtlcigKICAgICAgICAgICAgICAgIFs0My42NjU4NTk5LCAtNzkuMzgzMTU5OTAwMDAwMDFdLAogICAgICAgICAgICAgICAgeyJidWJibGluZ01vdXNlRXZlbnRzIjogdHJ1ZSwgImNvbG9yIjogImJsdWUiLCAiZGFzaEFycmF5IjogbnVsbCwgImRhc2hPZmZzZXQiOiBudWxsLCAiZmlsbCI6IHRydWUsICJmaWxsQ29sb3IiOiAiIzMxODZjYyIsICJmaWxsT3BhY2l0eSI6IDAuNywgImZpbGxSdWxlIjogImV2ZW5vZGQiLCAibGluZUNhcCI6ICJyb3VuZCIsICJsaW5lSm9pbiI6ICJyb3VuZCIsICJvcGFjaXR5IjogMS4wLCAicmFkaXVzIjogNSwgInN0cm9rZSI6IHRydWUsICJ3ZWlnaHQiOiAzfQogICAgICAgICAgICApLmFkZFRvKG1hcF84ODhmYjEyODM5MmM0ZTE4ODQ1YTEzMmNiNDViZWM4Zik7CiAgICAgICAgCiAgICAKICAgICAgICB2YXIgcG9wdXBfNTYzYWU0NGM1OTRjNDYzMjkyYjhiYWI1YzMzZjI4NzYgPSBMLnBvcHVwKHsibWF4V2lkdGgiOiAiMTAwJSJ9KTsKCiAgICAgICAgCiAgICAgICAgICAgIHZhciBodG1sX2ExMDRlZTA4Y2E1MjQ2YjliZGUzNTRhN2M4ZTk5ZWY2ID0gJChgPGRpdiBpZD0iaHRtbF9hMTA0ZWUwOGNhNTI0NmI5YmRlMzU0YTdjOGU5OWVmNiIgc3R5bGU9IndpZHRoOiAxMDAuMCU7IGhlaWdodDogMTAwLjAlOyI+Q2h1cmNoIGFuZCBXZWxsZXNsZXksIERvd250b3duIFRvcm9udG88L2Rpdj5gKVswXTsKICAgICAgICAgICAgcG9wdXBfNTYzYWU0NGM1OTRjNDYzMjkyYjhiYWI1YzMzZjI4NzYuc2V0Q29udGVudChodG1sX2ExMDRlZTA4Y2E1MjQ2YjliZGUzNTRhN2M4ZTk5ZWY2KTsKICAgICAgICAKCiAgICAgICAgY2lyY2xlX21hcmtlcl84NzcyODFmOGUzMzk0YjhiYTg2Y2U0OWUxMTQwMmZjNC5iaW5kUG9wdXAocG9wdXBfNTYzYWU0NGM1OTRjNDYzMjkyYjhiYWI1YzMzZjI4NzYpCiAgICAgICAgOwoKICAgICAgICAKICAgIAogICAgCiAgICAgICAgICAgIHZhciBjaXJjbGVfbWFya2VyX2VlMjMzMDI5MjNjZDQ4M2U4YThkZWJmMzQxMWJhM2MxID0gTC5jaXJjbGVNYXJrZXIoCiAgICAgICAgICAgICAgICBbNDMuNjYyNzQzOSwgLTc5LjMyMTU1OF0sCiAgICAgICAgICAgICAgICB7ImJ1YmJsaW5nTW91c2VFdmVudHMiOiB0cnVlLCAiY29sb3IiOiAiYmx1ZSIsICJkYXNoQXJyYXkiOiBudWxsLCAiZGFzaE9mZnNldCI6IG51bGwsICJmaWxsIjogdHJ1ZSwgImZpbGxDb2xvciI6ICIjMzE4NmNjIiwgImZpbGxPcGFjaXR5IjogMC43LCAiZmlsbFJ1bGUiOiAiZXZlbm9kZCIsICJsaW5lQ2FwIjogInJvdW5kIiwgImxpbmVKb2luIjogInJvdW5kIiwgIm9wYWNpdHkiOiAxLjAsICJyYWRpdXMiOiA1LCAic3Ryb2tlIjogdHJ1ZSwgIndlaWdodCI6IDN9CiAgICAgICAgICAgICkuYWRkVG8obWFwXzg4OGZiMTI4MzkyYzRlMTg4NDVhMTMyY2I0NWJlYzhmKTsKICAgICAgICAKICAgIAogICAgICAgIHZhciBwb3B1cF9kZGE5NTMxMmVkZGM0MjJmOWQ1YzM2YWE2ZTExMWEyOSA9IEwucG9wdXAoeyJtYXhXaWR0aCI6ICIxMDAlIn0pOwoKICAgICAgICAKICAgICAgICAgICAgdmFyIGh0bWxfZjI1MzVlMjBhODcwNGEyZmJhNGM1ZGFiODZhYTlkNDkgPSAkKGA8ZGl2IGlkPSJodG1sX2YyNTM1ZTIwYTg3MDRhMmZiYTRjNWRhYjg2YWE5ZDQ5IiBzdHlsZT0id2lkdGg6IDEwMC4wJTsgaGVpZ2h0OiAxMDAuMCU7Ij5CdXNpbmVzcyBSZXBseSBNYWlsIFByb2Nlc3NpbmcgQ2VudHJlIDk2OSBFYXN0ZXJuLCBFYXN0IFRvcm9udG88L2Rpdj5gKVswXTsKICAgICAgICAgICAgcG9wdXBfZGRhOTUzMTJlZGRjNDIyZjlkNWMzNmFhNmUxMTFhMjkuc2V0Q29udGVudChodG1sX2YyNTM1ZTIwYTg3MDRhMmZiYTRjNWRhYjg2YWE5ZDQ5KTsKICAgICAgICAKCiAgICAgICAgY2lyY2xlX21hcmtlcl9lZTIzMzAyOTIzY2Q0ODNlOGE4ZGViZjM0MTFiYTNjMS5iaW5kUG9wdXAocG9wdXBfZGRhOTUzMTJlZGRjNDIyZjlkNWMzNmFhNmUxMTFhMjkpCiAgICAgICAgOwoKICAgICAgICAKICAgIAogICAgCiAgICAgICAgICAgIHZhciBjaXJjbGVfbWFya2VyX2NhYjFjZDgzNmM2ZDRkY2VhMjk4ZmM5NzYwNzg3ZTY4ID0gTC5jaXJjbGVNYXJrZXIoCiAgICAgICAgICAgICAgICBbNDMuNjM2MjU3OSwgLTc5LjQ5ODUwOTA5OTk5OTk5XSwKICAgICAgICAgICAgICAgIHsiYnViYmxpbmdNb3VzZUV2ZW50cyI6IHRydWUsICJjb2xvciI6ICJibHVlIiwgImRhc2hBcnJheSI6IG51bGwsICJkYXNoT2Zmc2V0IjogbnVsbCwgImZpbGwiOiB0cnVlLCAiZmlsbENvbG9yIjogIiMzMTg2Y2MiLCAiZmlsbE9wYWNpdHkiOiAwLjcsICJmaWxsUnVsZSI6ICJldmVub2RkIiwgImxpbmVDYXAiOiAicm91bmQiLCAibGluZUpvaW4iOiAicm91bmQiLCAib3BhY2l0eSI6IDEuMCwgInJhZGl1cyI6IDUsICJzdHJva2UiOiB0cnVlLCAid2VpZ2h0IjogM30KICAgICAgICAgICAgKS5hZGRUbyhtYXBfODg4ZmIxMjgzOTJjNGUxODg0NWExMzJjYjQ1YmVjOGYpOwogICAgICAgIAogICAgCiAgICAgICAgdmFyIHBvcHVwX2RhODM5NDRiZGZiMjRlNzA4MTQ0ZTBkMGJlZjUyYWNiID0gTC5wb3B1cCh7Im1heFdpZHRoIjogIjEwMCUifSk7CgogICAgICAgIAogICAgICAgICAgICB2YXIgaHRtbF9hNGY0ZDkxYmEwZGQ0NDQ4ODZmYTExOGIwZjhmMWNjNSA9ICQoYDxkaXYgaWQ9Imh0bWxfYTRmNGQ5MWJhMGRkNDQ0ODg2ZmExMThiMGY4ZjFjYzUiIHN0eWxlPSJ3aWR0aDogMTAwLjAlOyBoZWlnaHQ6IDEwMC4wJTsiPkh1bWJlciBCYXksIEtpbmcmIzM5O3MgTWlsbCBQYXJrLCBLaW5nc3dheSBQYXJrIFNvdXRoIEVhc3QsIE1pbWljbyBORSwgT2xkIE1pbGwgU291dGgsIFRoZSBRdWVlbnN3YXkgRWFzdCwgUm95YWwgWW9yayBTb3V0aCBFYXN0LCBTdW5ueWxlYSwgRXRvYmljb2tlPC9kaXY+YClbMF07CiAgICAgICAgICAgIHBvcHVwX2RhODM5NDRiZGZiMjRlNzA4MTQ0ZTBkMGJlZjUyYWNiLnNldENvbnRlbnQoaHRtbF9hNGY0ZDkxYmEwZGQ0NDQ4ODZmYTExOGIwZjhmMWNjNSk7CiAgICAgICAgCgogICAgICAgIGNpcmNsZV9tYXJrZXJfY2FiMWNkODM2YzZkNGRjZWEyOThmYzk3NjA3ODdlNjguYmluZFBvcHVwKHBvcHVwX2RhODM5NDRiZGZiMjRlNzA4MTQ0ZTBkMGJlZjUyYWNiKQogICAgICAgIDsKCiAgICAgICAgCiAgICAKICAgIAogICAgICAgICAgICB2YXIgY2lyY2xlX21hcmtlcl8xNjkxZTRiN2UwZWY0OWQzYmU5NzhiMzZhZmFhY2UxMyA9IEwuY2lyY2xlTWFya2VyKAogICAgICAgICAgICAgICAgWzQzLjYyODg0MDgsIC03OS41MjA5OTk0MDAwMDAwMV0sCiAgICAgICAgICAgICAgICB7ImJ1YmJsaW5nTW91c2VFdmVudHMiOiB0cnVlLCAiY29sb3IiOiAiYmx1ZSIsICJkYXNoQXJyYXkiOiBudWxsLCAiZGFzaE9mZnNldCI6IG51bGwsICJmaWxsIjogdHJ1ZSwgImZpbGxDb2xvciI6ICIjMzE4NmNjIiwgImZpbGxPcGFjaXR5IjogMC43LCAiZmlsbFJ1bGUiOiAiZXZlbm9kZCIsICJsaW5lQ2FwIjogInJvdW5kIiwgImxpbmVKb2luIjogInJvdW5kIiwgIm9wYWNpdHkiOiAxLjAsICJyYWRpdXMiOiA1LCAic3Ryb2tlIjogdHJ1ZSwgIndlaWdodCI6IDN9CiAgICAgICAgICAgICkuYWRkVG8obWFwXzg4OGZiMTI4MzkyYzRlMTg4NDVhMTMyY2I0NWJlYzhmKTsKICAgICAgICAKICAgIAogICAgICAgIHZhciBwb3B1cF8xMmJhZGRhMzhhMGE0YzNhYTQ2NWMxNDk2MjM3MjhkZCA9IEwucG9wdXAoeyJtYXhXaWR0aCI6ICIxMDAlIn0pOwoKICAgICAgICAKICAgICAgICAgICAgdmFyIGh0bWxfYTgwOTY3OWRiYTc1NGYyMGJjNjVhMTczOGNkYWRkY2MgPSAkKGA8ZGl2IGlkPSJodG1sX2E4MDk2NzlkYmE3NTRmMjBiYzY1YTE3MzhjZGFkZGNjIiBzdHlsZT0id2lkdGg6IDEwMC4wJTsgaGVpZ2h0OiAxMDAuMCU7Ij5LaW5nc3dheSBQYXJrIFNvdXRoIFdlc3QsIE1pbWljbyBOVywgVGhlIFF1ZWVuc3dheSBXZXN0LCBSb3lhbCBZb3JrIFNvdXRoIFdlc3QsIFNvdXRoIG9mIEJsb29yLCBFdG9iaWNva2U8L2Rpdj5gKVswXTsKICAgICAgICAgICAgcG9wdXBfMTJiYWRkYTM4YTBhNGMzYWE0NjVjMTQ5NjIzNzI4ZGQuc2V0Q29udGVudChodG1sX2E4MDk2NzlkYmE3NTRmMjBiYzY1YTE3MzhjZGFkZGNjKTsKICAgICAgICAKCiAgICAgICAgY2lyY2xlX21hcmtlcl8xNjkxZTRiN2UwZWY0OWQzYmU5NzhiMzZhZmFhY2UxMy5iaW5kUG9wdXAocG9wdXBfMTJiYWRkYTM4YTBhNGMzYWE0NjVjMTQ5NjIzNzI4ZGQpCiAgICAgICAgOwoKICAgICAgICAKICAgIAo8L3NjcmlwdD4= onload=\"this.contentDocument.open();this.contentDocument.write(atob(this.getAttribute('data-html')));this.contentDocument.close();\" allowfullscreen webkitallowfullscreen mozallowfullscreen></iframe></div></div>"
      ],
      "text/plain": [
       "<folium.folium.Map at 0x141e2c22f48>"
      ]
     },
     "execution_count": 102,
     "metadata": {},
     "output_type": "execute_result"
    }
   ],
   "source": [
    "# add markers to map\n",
    "for lat, lng, borough, neighborhood in zip(new_df['Latitude'], new_df['Longitude'], new_df['Borough'], new_df['Neighbourhood']):\n",
    "    label = '{}, {}'.format(neighborhood, borough)\n",
    "    label = folium.Popup(label, parse_html=True)\n",
    "    folium.CircleMarker(\n",
    "        [lat, lng],\n",
    "        radius=5,\n",
    "        popup=label,\n",
    "        color='blue',\n",
    "        fill=True,\n",
    "        fill_color='#3186cc',\n",
    "        fill_opacity=0.7,\n",
    "        parse_html=False).add_to(map_toronto)  \n",
    "    \n",
    "map_toronto"
   ]
  },
  {
   "cell_type": "code",
   "execution_count": null,
   "metadata": {},
   "outputs": [],
   "source": []
  }
 ],
 "metadata": {
  "kernelspec": {
   "display_name": "Python 3",
   "language": "python",
   "name": "python3"
  },
  "language_info": {
   "codemirror_mode": {
    "name": "ipython",
    "version": 3
   },
   "file_extension": ".py",
   "mimetype": "text/x-python",
   "name": "python",
   "nbconvert_exporter": "python",
   "pygments_lexer": "ipython3",
   "version": "3.7.6"
  }
 },
 "nbformat": 4,
 "nbformat_minor": 4
}
