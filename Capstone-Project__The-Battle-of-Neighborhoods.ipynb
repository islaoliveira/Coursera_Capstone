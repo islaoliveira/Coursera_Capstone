{
 "cells": [
  {
   "cell_type": "markdown",
   "metadata": {},
   "source": [
    "# Capstone Project - The Battle of Neighborhoods"
   ]
  },
  {
   "cell_type": "markdown",
   "metadata": {},
   "source": [
    "## 1) Description of the project"
   ]
  },
  {
   "cell_type": "markdown",
   "metadata": {},
   "source": [
    "The purpose of this project is to help people in exploring better facilities around their neighborhood. It will help people making smart and efficient decision on selecting great neighborhood out of numbers of other neighborhoods in Scarborough, Toranto.\n",
    "\n",
    "Lots of people are migrating to various states of Canada and needed lots of research for good housing prices and reputated schools for their children. This project is for those people who are looking for better neighborhoods. For ease of accessing to Cafe, School, Super market, medical shops, grocery shops, mall, theatre, hospital, like minded people, etc.\n",
    "\n",
    "This project aim to create an analysis of features for a people migrating to Scarborough to search a best neighborhood as a comparative analysis between neighborhoods. The features include median housing price and better school according to ratings, crime rates of that particular area, road connectivity, weather conditions, good management for emergency, water resources both freash and waste water and excrement conveyed in sewers and recreational facilities.\n",
    "\n",
    "It will help people to get awareness of the area and neighborhood before moving to a new city, state, country or place for their work or to start a new fresh life."
   ]
  },
  {
   "cell_type": "markdown",
   "metadata": {},
   "source": [
    "## 2) Description of the data"
   ]
  },
  {
   "cell_type": "markdown",
   "metadata": {},
   "source": [
    "Data Link: https://en.wikipedia.org/wiki/List_of_postal_codes_of_Canada:_M\n",
    "\n",
    "I will use Scarborough dataset which will be scrapped from wikipedia. Dataset consisting of latitude and longitude, zip codes.\n",
    "\n",
    "**Foursquare API Data:**\n",
    "\n",
    "We will need data about different venues in different neighborhoods of that specific borough. In order to gain that information we will use \"Foursquare\" locational information. Foursquare is a location data provider with information about all manner of venues and events within an area of interest. Such information includes venue names, locations, menus and even photos. As such, the foursquare location platform will be used as the sole data source since all the stated required information can be obtained through the API.\n",
    "\n",
    "After finding the list of neighborhoods, we then connect to the Foursquare API to gather information about venues inside each and every neighborhood. For each neighborhood, we have chosen the radius to be 100 meter.\n",
    "\n",
    "The data retrieved from Foursquare contained information of venues within a specified distance of the longitude and latitude of the postcodes. The information obtained per venue as follows:\n",
    "\n",
    "1. Neighborhood\n",
    "2. Neighborhood Latitude\n",
    "3. Neighborhood Longitude\n",
    "4. Venue\n",
    "5. Name of the venue e.g. the name of a store or restaurant\n",
    "6. Venue Latitude\n",
    "7. Venue Longitude\n",
    "8. Venue Category"
   ]
  },
  {
   "cell_type": "markdown",
   "metadata": {},
   "source": [
    "## 3. Data Extraction and Cleaning"
   ]
  },
  {
   "cell_type": "markdown",
   "metadata": {},
   "source": [
    "Let's import all the libraries:"
   ]
  },
  {
   "cell_type": "code",
   "execution_count": 1,
   "metadata": {},
   "outputs": [
    {
     "name": "stdout",
     "output_type": "stream",
     "text": [
      "Libraries imported.\n"
     ]
    }
   ],
   "source": [
    "import pandas as pd\n",
    "import requests\n",
    "import numpy as np\n",
    "import geocoder\n",
    "import folium\n",
    "import requests \n",
    "import matplotlib.cm as cm\n",
    "import matplotlib.colors as colors\n",
    "import json\n",
    "import xml\n",
    "import matplotlib.pyplot as plt\n",
    "%matplotlib inline\n",
    "import warnings\n",
    "warnings.filterwarnings(\"ignore\")\n",
    "\n",
    "from pandas.io.json import json_normalize \n",
    "from sklearn.cluster import KMeans\n",
    "from geopy.geocoders import Nominatim \n",
    "from bs4 import BeautifulSoup\n",
    "\n",
    "pd.set_option('display.max_columns', None)\n",
    "pd.set_option('display.max_rows', None)\n",
    "\n",
    "print(\"Libraries imported.\")"
   ]
  },
  {
   "cell_type": "markdown",
   "metadata": {},
   "source": [
    " - Using BeautifulSoup Scraping List of Postal Codes of Given Wikipedia Page. Link: https://en.wikipedia.org/wiki/List_of_postal_codes_of_Canada:_M"
   ]
  },
  {
   "cell_type": "code",
   "execution_count": 3,
   "metadata": {},
   "outputs": [],
   "source": [
    "url = \"https://en.wikipedia.org/wiki/List_of_postal_codes_of_Canada:_M\"\n",
    "extracting_data = requests.get(url).text\n",
    "wiki_data = BeautifulSoup(extracting_data, 'lxml')\n",
    "\n",
    "column_names = ['Postalcode','Borough','Neighborhood']\n",
    "toronto = pd.DataFrame(columns = column_names)\n",
    "\n",
    "content = wiki_data.find('div', class_='mw-parser-output')\n",
    "table = content.table.tbody\n",
    "postcode = 0\n",
    "borough = 0\n",
    "neighborhood = 0\n",
    "\n",
    "for tr in table.find_all('tr'):\n",
    "    i = 0\n",
    "    for td in tr.find_all('td'):\n",
    "        if i == 0:\n",
    "            postcode = td.text\n",
    "            i = i + 1\n",
    "        elif i == 1:\n",
    "            borough = td.text\n",
    "            i = i + 1\n",
    "        elif i == 2: \n",
    "            neighborhood = td.text.strip('\\n').replace(']','')\n",
    "    toronto = toronto.append({'Postalcode': postcode,'Borough': borough,'Neighborhood': neighborhood},ignore_index=True)"
   ]
  },
  {
   "cell_type": "markdown",
   "metadata": {},
   "source": [
    " - Clean dataframe "
   ]
  },
  {
   "cell_type": "code",
   "execution_count": 4,
   "metadata": {},
   "outputs": [],
   "source": [
    "toronto = toronto[toronto.Borough!='Not assigned\\n']\n",
    "toronto = toronto[toronto.Borough!= 0]\n",
    "toronto.reset_index(drop = True, inplace = True)\n",
    "i = 0\n",
    "for i in range(0,toronto.shape[0]):\n",
    "    if toronto.iloc[i][2] == 'Not assigned\\n':\n",
    "        toronto.iloc[i][2] = toronto.iloc[i][1]\n",
    "        i = i+1"
   ]
  },
  {
   "cell_type": "markdown",
   "metadata": {},
   "source": [
    " - Group all neighborhoods with the same postal code\n",
    "\n",
    " - Remove \"\\n\" at the end of each string in the Neighborhood column"
   ]
  },
  {
   "cell_type": "code",
   "execution_count": 5,
   "metadata": {},
   "outputs": [
    {
     "data": {
      "text/html": [
       "<div>\n",
       "<style scoped>\n",
       "    .dataframe tbody tr th:only-of-type {\n",
       "        vertical-align: middle;\n",
       "    }\n",
       "\n",
       "    .dataframe tbody tr th {\n",
       "        vertical-align: top;\n",
       "    }\n",
       "\n",
       "    .dataframe thead th {\n",
       "        text-align: right;\n",
       "    }\n",
       "</style>\n",
       "<table border=\"1\" class=\"dataframe\">\n",
       "  <thead>\n",
       "    <tr style=\"text-align: right;\">\n",
       "      <th></th>\n",
       "      <th>Postalcode</th>\n",
       "      <th>Borough</th>\n",
       "      <th>Neighborhood</th>\n",
       "    </tr>\n",
       "  </thead>\n",
       "  <tbody>\n",
       "    <tr>\n",
       "      <th>0</th>\n",
       "      <td>M1B</td>\n",
       "      <td>Scarborough</td>\n",
       "      <td>Malvern, Rouge</td>\n",
       "    </tr>\n",
       "    <tr>\n",
       "      <th>1</th>\n",
       "      <td>M1C</td>\n",
       "      <td>Scarborough</td>\n",
       "      <td>Rouge Hill, Port Union, Highland Creek</td>\n",
       "    </tr>\n",
       "    <tr>\n",
       "      <th>2</th>\n",
       "      <td>M1E</td>\n",
       "      <td>Scarborough</td>\n",
       "      <td>Guildwood, Morningside, West Hill</td>\n",
       "    </tr>\n",
       "    <tr>\n",
       "      <th>3</th>\n",
       "      <td>M1G</td>\n",
       "      <td>Scarborough</td>\n",
       "      <td>Woburn</td>\n",
       "    </tr>\n",
       "    <tr>\n",
       "      <th>4</th>\n",
       "      <td>M1H</td>\n",
       "      <td>Scarborough</td>\n",
       "      <td>Cedarbrae</td>\n",
       "    </tr>\n",
       "  </tbody>\n",
       "</table>\n",
       "</div>"
      ],
      "text/plain": [
       "  Postalcode      Borough                            Neighborhood\n",
       "0        M1B  Scarborough                          Malvern, Rouge\n",
       "1        M1C  Scarborough  Rouge Hill, Port Union, Highland Creek\n",
       "2        M1E  Scarborough       Guildwood, Morningside, West Hill\n",
       "3        M1G  Scarborough                                  Woburn\n",
       "4        M1H  Scarborough                               Cedarbrae"
      ]
     },
     "execution_count": 5,
     "metadata": {},
     "output_type": "execute_result"
    }
   ],
   "source": [
    "df = toronto.groupby(['Postalcode','Borough'])['Neighborhood'].apply(', '.join).reset_index()\n",
    "\n",
    "df[\"Postalcode\"] = df[\"Postalcode\"].str.replace(\"\\n\",\"\")\n",
    "df[\"Neighborhood\"] = df[\"Neighborhood\"].str.replace(\"\\n\",\"\")\n",
    "df[\"Borough\"] = df[\"Borough\"].str.replace(\"\\n\",\"\")\n",
    "df.head()"
   ]
  },
  {
   "cell_type": "code",
   "execution_count": 6,
   "metadata": {},
   "outputs": [
    {
     "data": {
      "text/html": [
       "<div>\n",
       "<style scoped>\n",
       "    .dataframe tbody tr th:only-of-type {\n",
       "        vertical-align: middle;\n",
       "    }\n",
       "\n",
       "    .dataframe tbody tr th {\n",
       "        vertical-align: top;\n",
       "    }\n",
       "\n",
       "    .dataframe thead th {\n",
       "        text-align: right;\n",
       "    }\n",
       "</style>\n",
       "<table border=\"1\" class=\"dataframe\">\n",
       "  <thead>\n",
       "    <tr style=\"text-align: right;\">\n",
       "      <th></th>\n",
       "      <th>Postalcode</th>\n",
       "      <th>Borough</th>\n",
       "      <th>Neighborhood</th>\n",
       "    </tr>\n",
       "  </thead>\n",
       "  <tbody>\n",
       "    <tr>\n",
       "      <th>count</th>\n",
       "      <td>103</td>\n",
       "      <td>103</td>\n",
       "      <td>103</td>\n",
       "    </tr>\n",
       "    <tr>\n",
       "      <th>unique</th>\n",
       "      <td>103</td>\n",
       "      <td>10</td>\n",
       "      <td>99</td>\n",
       "    </tr>\n",
       "    <tr>\n",
       "      <th>top</th>\n",
       "      <td>M5L</td>\n",
       "      <td>North York</td>\n",
       "      <td>Downsview</td>\n",
       "    </tr>\n",
       "    <tr>\n",
       "      <th>freq</th>\n",
       "      <td>1</td>\n",
       "      <td>24</td>\n",
       "      <td>4</td>\n",
       "    </tr>\n",
       "  </tbody>\n",
       "</table>\n",
       "</div>"
      ],
      "text/plain": [
       "       Postalcode     Borough Neighborhood\n",
       "count         103         103          103\n",
       "unique        103          10           99\n",
       "top           M5L  North York    Downsview\n",
       "freq            1          24            4"
      ]
     },
     "execution_count": 6,
     "metadata": {},
     "output_type": "execute_result"
    }
   ],
   "source": [
    "df.describe()"
   ]
  },
  {
   "cell_type": "code",
   "execution_count": 7,
   "metadata": {},
   "outputs": [
    {
     "data": {
      "text/html": [
       "<div>\n",
       "<style scoped>\n",
       "    .dataframe tbody tr th:only-of-type {\n",
       "        vertical-align: middle;\n",
       "    }\n",
       "\n",
       "    .dataframe tbody tr th {\n",
       "        vertical-align: top;\n",
       "    }\n",
       "\n",
       "    .dataframe thead th {\n",
       "        text-align: right;\n",
       "    }\n",
       "</style>\n",
       "<table border=\"1\" class=\"dataframe\">\n",
       "  <thead>\n",
       "    <tr style=\"text-align: right;\">\n",
       "      <th></th>\n",
       "      <th>Postalcode</th>\n",
       "      <th>Borough</th>\n",
       "      <th>Neighborhood</th>\n",
       "    </tr>\n",
       "  </thead>\n",
       "  <tbody>\n",
       "    <tr>\n",
       "      <th>0</th>\n",
       "      <td>M1B</td>\n",
       "      <td>Scarborough</td>\n",
       "      <td>Malvern, Rouge</td>\n",
       "    </tr>\n",
       "    <tr>\n",
       "      <th>1</th>\n",
       "      <td>M1C</td>\n",
       "      <td>Scarborough</td>\n",
       "      <td>Rouge Hill, Port Union, Highland Creek</td>\n",
       "    </tr>\n",
       "    <tr>\n",
       "      <th>2</th>\n",
       "      <td>M1E</td>\n",
       "      <td>Scarborough</td>\n",
       "      <td>Guildwood, Morningside, West Hill</td>\n",
       "    </tr>\n",
       "    <tr>\n",
       "      <th>3</th>\n",
       "      <td>M1G</td>\n",
       "      <td>Scarborough</td>\n",
       "      <td>Woburn</td>\n",
       "    </tr>\n",
       "    <tr>\n",
       "      <th>4</th>\n",
       "      <td>M1H</td>\n",
       "      <td>Scarborough</td>\n",
       "      <td>Cedarbrae</td>\n",
       "    </tr>\n",
       "  </tbody>\n",
       "</table>\n",
       "</div>"
      ],
      "text/plain": [
       "  Postalcode      Borough                            Neighborhood\n",
       "0        M1B  Scarborough                          Malvern, Rouge\n",
       "1        M1C  Scarborough  Rouge Hill, Port Union, Highland Creek\n",
       "2        M1E  Scarborough       Guildwood, Morningside, West Hill\n",
       "3        M1G  Scarborough                                  Woburn\n",
       "4        M1H  Scarborough                               Cedarbrae"
      ]
     },
     "execution_count": 7,
     "metadata": {},
     "output_type": "execute_result"
    }
   ],
   "source": [
    "df = df.dropna()\n",
    "empty = 'Not assigned'\n",
    "df = df[(df.Postalcode != empty ) & (df.Borough != empty) & (df.Neighborhood != empty)]\n",
    "df.head()"
   ]
  },
  {
   "cell_type": "code",
   "execution_count": 8,
   "metadata": {},
   "outputs": [
    {
     "data": {
      "text/html": [
       "<div>\n",
       "<style scoped>\n",
       "    .dataframe tbody tr th:only-of-type {\n",
       "        vertical-align: middle;\n",
       "    }\n",
       "\n",
       "    .dataframe tbody tr th {\n",
       "        vertical-align: top;\n",
       "    }\n",
       "\n",
       "    .dataframe thead th {\n",
       "        text-align: right;\n",
       "    }\n",
       "</style>\n",
       "<table border=\"1\" class=\"dataframe\">\n",
       "  <thead>\n",
       "    <tr style=\"text-align: right;\">\n",
       "      <th></th>\n",
       "      <th>Postalcode</th>\n",
       "      <th>Borough</th>\n",
       "      <th>Neighborhood</th>\n",
       "    </tr>\n",
       "  </thead>\n",
       "  <tbody>\n",
       "    <tr>\n",
       "      <th>count</th>\n",
       "      <td>103</td>\n",
       "      <td>103</td>\n",
       "      <td>103</td>\n",
       "    </tr>\n",
       "    <tr>\n",
       "      <th>unique</th>\n",
       "      <td>103</td>\n",
       "      <td>10</td>\n",
       "      <td>99</td>\n",
       "    </tr>\n",
       "    <tr>\n",
       "      <th>top</th>\n",
       "      <td>M5L</td>\n",
       "      <td>North York</td>\n",
       "      <td>Downsview</td>\n",
       "    </tr>\n",
       "    <tr>\n",
       "      <th>freq</th>\n",
       "      <td>1</td>\n",
       "      <td>24</td>\n",
       "      <td>4</td>\n",
       "    </tr>\n",
       "  </tbody>\n",
       "</table>\n",
       "</div>"
      ],
      "text/plain": [
       "       Postalcode     Borough Neighborhood\n",
       "count         103         103          103\n",
       "unique        103          10           99\n",
       "top           M5L  North York    Downsview\n",
       "freq            1          24            4"
      ]
     },
     "execution_count": 8,
     "metadata": {},
     "output_type": "execute_result"
    }
   ],
   "source": [
    "def neighborhood_list(grouped):    \n",
    "    return ', '.join(sorted(grouped['Neighborhood'].tolist()))\n",
    "                    \n",
    "grp = df.groupby(['Postalcode', 'Borough'])\n",
    "df_2 = grp.apply(neighborhood_list).reset_index(name='Neighborhood')\n",
    "df_2.describe()"
   ]
  },
  {
   "cell_type": "code",
   "execution_count": 9,
   "metadata": {},
   "outputs": [
    {
     "name": "stdout",
     "output_type": "stream",
     "text": [
      "(103, 3)\n"
     ]
    },
    {
     "data": {
      "text/html": [
       "<div>\n",
       "<style scoped>\n",
       "    .dataframe tbody tr th:only-of-type {\n",
       "        vertical-align: middle;\n",
       "    }\n",
       "\n",
       "    .dataframe tbody tr th {\n",
       "        vertical-align: top;\n",
       "    }\n",
       "\n",
       "    .dataframe thead th {\n",
       "        text-align: right;\n",
       "    }\n",
       "</style>\n",
       "<table border=\"1\" class=\"dataframe\">\n",
       "  <thead>\n",
       "    <tr style=\"text-align: right;\">\n",
       "      <th></th>\n",
       "      <th>Postalcode</th>\n",
       "      <th>Borough</th>\n",
       "      <th>Neighborhood</th>\n",
       "    </tr>\n",
       "  </thead>\n",
       "  <tbody>\n",
       "    <tr>\n",
       "      <th>0</th>\n",
       "      <td>M1B</td>\n",
       "      <td>Scarborough</td>\n",
       "      <td>Malvern, Rouge</td>\n",
       "    </tr>\n",
       "    <tr>\n",
       "      <th>1</th>\n",
       "      <td>M1C</td>\n",
       "      <td>Scarborough</td>\n",
       "      <td>Rouge Hill, Port Union, Highland Creek</td>\n",
       "    </tr>\n",
       "    <tr>\n",
       "      <th>2</th>\n",
       "      <td>M1E</td>\n",
       "      <td>Scarborough</td>\n",
       "      <td>Guildwood, Morningside, West Hill</td>\n",
       "    </tr>\n",
       "    <tr>\n",
       "      <th>3</th>\n",
       "      <td>M1G</td>\n",
       "      <td>Scarborough</td>\n",
       "      <td>Woburn</td>\n",
       "    </tr>\n",
       "    <tr>\n",
       "      <th>4</th>\n",
       "      <td>M1H</td>\n",
       "      <td>Scarborough</td>\n",
       "      <td>Cedarbrae</td>\n",
       "    </tr>\n",
       "  </tbody>\n",
       "</table>\n",
       "</div>"
      ],
      "text/plain": [
       "  Postalcode      Borough                            Neighborhood\n",
       "0        M1B  Scarborough                          Malvern, Rouge\n",
       "1        M1C  Scarborough  Rouge Hill, Port Union, Highland Creek\n",
       "2        M1E  Scarborough       Guildwood, Morningside, West Hill\n",
       "3        M1G  Scarborough                                  Woburn\n",
       "4        M1H  Scarborough                               Cedarbrae"
      ]
     },
     "execution_count": 9,
     "metadata": {},
     "output_type": "execute_result"
    }
   ],
   "source": [
    "print(df_2.shape)\n",
    "df_2.head()"
   ]
  },
  {
   "cell_type": "code",
   "execution_count": 10,
   "metadata": {},
   "outputs": [
    {
     "data": {
      "text/plain": [
       "[43.709020000000066, -79.36348999999996]"
      ]
     },
     "execution_count": 10,
     "metadata": {},
     "output_type": "execute_result"
    }
   ],
   "source": [
    "def get_latilong(postal_code):\n",
    "    lati_long_coords = None\n",
    "    while(lati_long_coords is None):\n",
    "        g = geocoder.arcgis('{}, Toronto, Ontario'.format(postal_code))\n",
    "        lati_long_coords = g.latlng\n",
    "    return lati_long_coords\n",
    "    \n",
    "get_latilong('M4G')"
   ]
  },
  {
   "cell_type": "markdown",
   "metadata": {},
   "source": [
    " - Retrieving Postalcode co-ordinates\n",
    " - Adding columns Latitude & Longitude"
   ]
  },
  {
   "cell_type": "code",
   "execution_count": 11,
   "metadata": {},
   "outputs": [],
   "source": [
    "postal_codes = df_2['Postalcode']    \n",
    "coords = [ get_latilong(postal_code) for postal_code in postal_codes.tolist() ]\n",
    "\n",
    "df_coords = pd.DataFrame(coords, columns=['Latitude', 'Longitude'])\n",
    "df_2['Latitude'] = df_coords['Latitude']\n",
    "df_2['Longitude'] = df_coords['Longitude']"
   ]
  },
  {
   "cell_type": "code",
   "execution_count": 12,
   "metadata": {},
   "outputs": [
    {
     "data": {
      "text/html": [
       "<div>\n",
       "<style scoped>\n",
       "    .dataframe tbody tr th:only-of-type {\n",
       "        vertical-align: middle;\n",
       "    }\n",
       "\n",
       "    .dataframe tbody tr th {\n",
       "        vertical-align: top;\n",
       "    }\n",
       "\n",
       "    .dataframe thead th {\n",
       "        text-align: right;\n",
       "    }\n",
       "</style>\n",
       "<table border=\"1\" class=\"dataframe\">\n",
       "  <thead>\n",
       "    <tr style=\"text-align: right;\">\n",
       "      <th></th>\n",
       "      <th>Postalcode</th>\n",
       "      <th>Borough</th>\n",
       "      <th>Neighborhood</th>\n",
       "      <th>Latitude</th>\n",
       "      <th>Longitude</th>\n",
       "    </tr>\n",
       "  </thead>\n",
       "  <tbody>\n",
       "    <tr>\n",
       "      <th>0</th>\n",
       "      <td>M1B</td>\n",
       "      <td>Scarborough</td>\n",
       "      <td>Malvern, Rouge</td>\n",
       "      <td>43.81139</td>\n",
       "      <td>-79.19662</td>\n",
       "    </tr>\n",
       "    <tr>\n",
       "      <th>1</th>\n",
       "      <td>M1C</td>\n",
       "      <td>Scarborough</td>\n",
       "      <td>Rouge Hill, Port Union, Highland Creek</td>\n",
       "      <td>43.78574</td>\n",
       "      <td>-79.15875</td>\n",
       "    </tr>\n",
       "    <tr>\n",
       "      <th>2</th>\n",
       "      <td>M1E</td>\n",
       "      <td>Scarborough</td>\n",
       "      <td>Guildwood, Morningside, West Hill</td>\n",
       "      <td>43.76575</td>\n",
       "      <td>-79.17470</td>\n",
       "    </tr>\n",
       "    <tr>\n",
       "      <th>3</th>\n",
       "      <td>M1G</td>\n",
       "      <td>Scarborough</td>\n",
       "      <td>Woburn</td>\n",
       "      <td>43.76812</td>\n",
       "      <td>-79.21761</td>\n",
       "    </tr>\n",
       "    <tr>\n",
       "      <th>4</th>\n",
       "      <td>M1H</td>\n",
       "      <td>Scarborough</td>\n",
       "      <td>Cedarbrae</td>\n",
       "      <td>43.76944</td>\n",
       "      <td>-79.23892</td>\n",
       "    </tr>\n",
       "    <tr>\n",
       "      <th>5</th>\n",
       "      <td>M1J</td>\n",
       "      <td>Scarborough</td>\n",
       "      <td>Scarborough Village</td>\n",
       "      <td>43.74446</td>\n",
       "      <td>-79.23117</td>\n",
       "    </tr>\n",
       "    <tr>\n",
       "      <th>6</th>\n",
       "      <td>M1K</td>\n",
       "      <td>Scarborough</td>\n",
       "      <td>Kennedy Park, Ionview, East Birchmount Park</td>\n",
       "      <td>43.72582</td>\n",
       "      <td>-79.26461</td>\n",
       "    </tr>\n",
       "    <tr>\n",
       "      <th>7</th>\n",
       "      <td>M1L</td>\n",
       "      <td>Scarborough</td>\n",
       "      <td>Golden Mile, Clairlea, Oakridge</td>\n",
       "      <td>43.71289</td>\n",
       "      <td>-79.28506</td>\n",
       "    </tr>\n",
       "    <tr>\n",
       "      <th>8</th>\n",
       "      <td>M1M</td>\n",
       "      <td>Scarborough</td>\n",
       "      <td>Cliffside, Cliffcrest, Scarborough Village West</td>\n",
       "      <td>43.72360</td>\n",
       "      <td>-79.23496</td>\n",
       "    </tr>\n",
       "    <tr>\n",
       "      <th>9</th>\n",
       "      <td>M1N</td>\n",
       "      <td>Scarborough</td>\n",
       "      <td>Birch Cliff, Cliffside West</td>\n",
       "      <td>43.69510</td>\n",
       "      <td>-79.26466</td>\n",
       "    </tr>\n",
       "  </tbody>\n",
       "</table>\n",
       "</div>"
      ],
      "text/plain": [
       "  Postalcode      Borough                                     Neighborhood  \\\n",
       "0        M1B  Scarborough                                   Malvern, Rouge   \n",
       "1        M1C  Scarborough           Rouge Hill, Port Union, Highland Creek   \n",
       "2        M1E  Scarborough                Guildwood, Morningside, West Hill   \n",
       "3        M1G  Scarborough                                           Woburn   \n",
       "4        M1H  Scarborough                                        Cedarbrae   \n",
       "5        M1J  Scarborough                              Scarborough Village   \n",
       "6        M1K  Scarborough      Kennedy Park, Ionview, East Birchmount Park   \n",
       "7        M1L  Scarborough                  Golden Mile, Clairlea, Oakridge   \n",
       "8        M1M  Scarborough  Cliffside, Cliffcrest, Scarborough Village West   \n",
       "9        M1N  Scarborough                      Birch Cliff, Cliffside West   \n",
       "\n",
       "   Latitude  Longitude  \n",
       "0  43.81139  -79.19662  \n",
       "1  43.78574  -79.15875  \n",
       "2  43.76575  -79.17470  \n",
       "3  43.76812  -79.21761  \n",
       "4  43.76944  -79.23892  \n",
       "5  43.74446  -79.23117  \n",
       "6  43.72582  -79.26461  \n",
       "7  43.71289  -79.28506  \n",
       "8  43.72360  -79.23496  \n",
       "9  43.69510  -79.26466  "
      ]
     },
     "execution_count": 12,
     "metadata": {},
     "output_type": "execute_result"
    }
   ],
   "source": [
    "df_2[df_2.Postalcode == 'M5G']\n",
    "df_2.head(10)"
   ]
  },
  {
   "cell_type": "code",
   "execution_count": 13,
   "metadata": {},
   "outputs": [
    {
     "name": "stdout",
     "output_type": "stream",
     "text": [
      "The Geograpical Co-ordinate of Seattle,Washington are 43.773077, -79.257774.\n"
     ]
    }
   ],
   "source": [
    "address = 'Scarborough,Toronto'\n",
    "\n",
    "geolocator = Nominatim(user_agent=\"neigh_app\")\n",
    "location = geolocator.geocode(address)\n",
    "latitude_x = location.latitude\n",
    "longitude_y = location.longitude\n",
    "print('The Geograpical Co-ordinate of Seattle,Washington are {}, {}.'.format(latitude_x, longitude_y))"
   ]
  },
  {
   "cell_type": "markdown",
   "metadata": {},
   "source": [
    "## 4. Map of Scarborough"
   ]
  },
  {
   "cell_type": "code",
   "execution_count": 14,
   "metadata": {},
   "outputs": [
    {
     "data": {
      "text/html": [
       "<div style=\"width:100%;\"><div style=\"position:relative;width:100%;height:0;padding-bottom:60%;\"><span style=\"color:#565656\">Make this Notebook Trusted to load map: File -> Trust Notebook</span><iframe src=\"about:blank\" style=\"position:absolute;width:100%;height:100%;left:0;top:0;border:none !important;\" data-html=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 onload=\"this.contentDocument.open();this.contentDocument.write(atob(this.getAttribute('data-html')));this.contentDocument.close();\" allowfullscreen webkitallowfullscreen mozallowfullscreen></iframe></div></div>"
      ],
      "text/plain": [
       "<folium.folium.Map at 0x177d4f48148>"
      ]
     },
     "execution_count": 14,
     "metadata": {},
     "output_type": "execute_result"
    }
   ],
   "source": [
    "map_Scarborough = folium.Map(location=[latitude_x, longitude_y], zoom_start=10)\n",
    "\n",
    "for lat, lng, nei in zip(df_2['Latitude'], df_2['Longitude'], df_2['Neighborhood']):\n",
    "    \n",
    "    label = '{}'.format(nei)\n",
    "    label = folium.Popup(label, parse_html=True)\n",
    "    folium.CircleMarker(\n",
    "        [lat, lng],\n",
    "        radius=5,\n",
    "        popup=label,\n",
    "        color='blue',\n",
    "        fill=True,\n",
    "        fill_color='#3186cc',\n",
    "        fill_opacity=0.7,\n",
    "        parse_html=False).add_to(map_Scarborough)  \n",
    "    \n",
    "map_Scarborough"
   ]
  },
  {
   "cell_type": "code",
   "execution_count": 15,
   "metadata": {},
   "outputs": [
    {
     "name": "stdout",
     "output_type": "stream",
     "text": [
      "The Geograpical Co-ordinate of Neighborhood_1 are 43.773077, -79.257774.\n"
     ]
    }
   ],
   "source": [
    "address = 'Scarborough,Toronto'\n",
    "\n",
    "geolocator = Nominatim(user_agent=\"neigh_app\")\n",
    "location = geolocator.geocode(address)\n",
    "latitude_n1 = location.latitude\n",
    "longitude_n1 = location.longitude\n",
    "print('The Geograpical Co-ordinate of Neighborhood_1 are {}, {}.'.format(latitude_x, longitude_y))"
   ]
  },
  {
   "cell_type": "code",
   "execution_count": 16,
   "metadata": {},
   "outputs": [
    {
     "name": "stdout",
     "output_type": "stream",
     "text": [
      "Your credentails:\n",
      "CLIENT_ID: DPBYY4JUY3DU20ALPSUV4ONY2K1GOJJKJ1NIHBB32XEMOVYY\n",
      "CLIENT_SECRET: 1MV443TYEP4HUO0WDUW5NQ5W10L2Y4G05NWG11WIR3NUGC5B\n"
     ]
    }
   ],
   "source": [
    "# @hiddel_cell\n",
    "CLIENT_ID = 'DPBYY4JUY3DU20ALPSUV4ONY2K1GOJJKJ1NIHBB32XEMOVYY' # my Foursquare ID\n",
    "CLIENT_SECRET = '1MV443TYEP4HUO0WDUW5NQ5W10L2Y4G05NWG11WIR3NUGC5B' # my Foursquare Secret\n",
    "VERSION = '20180604'\n",
    "LIMIT = 30\n",
    "print('Your credentails:')\n",
    "print('CLIENT_ID: '+CLIENT_ID)\n",
    "print('CLIENT_SECRET: '+CLIENT_SECRET)"
   ]
  },
  {
   "cell_type": "code",
   "execution_count": 17,
   "metadata": {},
   "outputs": [],
   "source": [
    "radius = 700 \n",
    "LIMIT = 100\n",
    "url = 'https://api.foursquare.com/v2/venues/explore?&client_id={}&client_secret={}&v={}&ll={},{}&radius={}&limit={}'.format(\n",
    "    CLIENT_ID, \n",
    "    CLIENT_SECRET, \n",
    "    VERSION, \n",
    "    latitude_n1, \n",
    "   longitude_n1, \n",
    "    radius, \n",
    "   LIMIT)\n",
    "results = requests.get(url).json()"
   ]
  },
  {
   "cell_type": "code",
   "execution_count": 18,
   "metadata": {},
   "outputs": [
    {
     "data": {
      "text/plain": [
       "Index(['referralId', 'reasons.count', 'reasons.items', 'venue.id',\n",
       "       'venue.name', 'venue.location.address', 'venue.location.crossStreet',\n",
       "       'venue.location.lat', 'venue.location.lng',\n",
       "       'venue.location.labeledLatLngs', 'venue.location.distance',\n",
       "       'venue.location.postalCode', 'venue.location.cc', 'venue.location.city',\n",
       "       'venue.location.state', 'venue.location.country',\n",
       "       'venue.location.formattedAddress', 'venue.categories',\n",
       "       'venue.photos.count', 'venue.photos.groups',\n",
       "       'venue.location.neighborhood', 'venue.venuePage.id'],\n",
       "      dtype='object')"
      ]
     },
     "execution_count": 18,
     "metadata": {},
     "output_type": "execute_result"
    }
   ],
   "source": [
    "venues=results['response']['groups'][0]['items']\n",
    "nearby_venues = json_normalize(venues)\n",
    "nearby_venues.columns"
   ]
  },
  {
   "cell_type": "code",
   "execution_count": 19,
   "metadata": {},
   "outputs": [],
   "source": [
    "def get_category_type(row):\n",
    "    try:\n",
    "        categories_list = row['categories']\n",
    "    except:\n",
    "        categories_list = row['venue.categories']\n",
    "        \n",
    "    if len(categories_list) == 0:\n",
    "        return None\n",
    "    else:\n",
    "        return categories_list[0]['name']"
   ]
  },
  {
   "cell_type": "markdown",
   "metadata": {},
   "source": [
    "## 5. Nearby Venues/Locations"
   ]
  },
  {
   "cell_type": "code",
   "execution_count": 20,
   "metadata": {},
   "outputs": [
    {
     "data": {
      "text/html": [
       "<div>\n",
       "<style scoped>\n",
       "    .dataframe tbody tr th:only-of-type {\n",
       "        vertical-align: middle;\n",
       "    }\n",
       "\n",
       "    .dataframe tbody tr th {\n",
       "        vertical-align: top;\n",
       "    }\n",
       "\n",
       "    .dataframe thead th {\n",
       "        text-align: right;\n",
       "    }\n",
       "</style>\n",
       "<table border=\"1\" class=\"dataframe\">\n",
       "  <thead>\n",
       "    <tr style=\"text-align: right;\">\n",
       "      <th></th>\n",
       "      <th>venue.name</th>\n",
       "      <th>venue.categories</th>\n",
       "      <th>venue.location.lat</th>\n",
       "      <th>venue.location.lng</th>\n",
       "    </tr>\n",
       "  </thead>\n",
       "  <tbody>\n",
       "    <tr>\n",
       "      <th>0</th>\n",
       "      <td>SEPHORA</td>\n",
       "      <td>[{'id': '4bf58dd8d48988d10c951735', 'name': 'C...</td>\n",
       "      <td>43.775017</td>\n",
       "      <td>-79.258109</td>\n",
       "    </tr>\n",
       "    <tr>\n",
       "      <th>1</th>\n",
       "      <td>Disney Store</td>\n",
       "      <td>[{'id': '4bf58dd8d48988d1f3941735', 'name': 'T...</td>\n",
       "      <td>43.775537</td>\n",
       "      <td>-79.256833</td>\n",
       "    </tr>\n",
       "    <tr>\n",
       "      <th>2</th>\n",
       "      <td>American Eagle Store</td>\n",
       "      <td>[{'id': '4bf58dd8d48988d103951735', 'name': 'C...</td>\n",
       "      <td>43.776012</td>\n",
       "      <td>-79.258334</td>\n",
       "    </tr>\n",
       "    <tr>\n",
       "      <th>3</th>\n",
       "      <td>St. Andrews Fish &amp; Chips</td>\n",
       "      <td>[{'id': '4edd64a0c7ddd24ca188df1a', 'name': 'F...</td>\n",
       "      <td>43.771865</td>\n",
       "      <td>-79.252645</td>\n",
       "    </tr>\n",
       "    <tr>\n",
       "      <th>4</th>\n",
       "      <td>Tommy Hilfiger</td>\n",
       "      <td>[{'id': '4bf58dd8d48988d103951735', 'name': 'C...</td>\n",
       "      <td>43.776015</td>\n",
       "      <td>-79.257369</td>\n",
       "    </tr>\n",
       "  </tbody>\n",
       "</table>\n",
       "</div>"
      ],
      "text/plain": [
       "                 venue.name  \\\n",
       "0                   SEPHORA   \n",
       "1              Disney Store   \n",
       "2      American Eagle Store   \n",
       "3  St. Andrews Fish & Chips   \n",
       "4            Tommy Hilfiger   \n",
       "\n",
       "                                    venue.categories  venue.location.lat  \\\n",
       "0  [{'id': '4bf58dd8d48988d10c951735', 'name': 'C...           43.775017   \n",
       "1  [{'id': '4bf58dd8d48988d1f3941735', 'name': 'T...           43.775537   \n",
       "2  [{'id': '4bf58dd8d48988d103951735', 'name': 'C...           43.776012   \n",
       "3  [{'id': '4edd64a0c7ddd24ca188df1a', 'name': 'F...           43.771865   \n",
       "4  [{'id': '4bf58dd8d48988d103951735', 'name': 'C...           43.776015   \n",
       "\n",
       "   venue.location.lng  \n",
       "0          -79.258109  \n",
       "1          -79.256833  \n",
       "2          -79.258334  \n",
       "3          -79.252645  \n",
       "4          -79.257369  "
      ]
     },
     "execution_count": 20,
     "metadata": {},
     "output_type": "execute_result"
    }
   ],
   "source": [
    "filtered_columns = ['venue.name', 'venue.categories', 'venue.location.lat', 'venue.location.lng']\n",
    "nearby_venues =nearby_venues.loc[:, filtered_columns]\n",
    "nearby_venues.head()"
   ]
  },
  {
   "cell_type": "markdown",
   "metadata": {},
   "source": [
    "## 6. Categories of Nearby Venues/Locations"
   ]
  },
  {
   "cell_type": "code",
   "execution_count": 21,
   "metadata": {},
   "outputs": [
    {
     "data": {
      "text/html": [
       "<div>\n",
       "<style scoped>\n",
       "    .dataframe tbody tr th:only-of-type {\n",
       "        vertical-align: middle;\n",
       "    }\n",
       "\n",
       "    .dataframe tbody tr th {\n",
       "        vertical-align: top;\n",
       "    }\n",
       "\n",
       "    .dataframe thead th {\n",
       "        text-align: right;\n",
       "    }\n",
       "</style>\n",
       "<table border=\"1\" class=\"dataframe\">\n",
       "  <thead>\n",
       "    <tr style=\"text-align: right;\">\n",
       "      <th></th>\n",
       "      <th>name</th>\n",
       "      <th>categories</th>\n",
       "      <th>lat</th>\n",
       "      <th>lng</th>\n",
       "    </tr>\n",
       "  </thead>\n",
       "  <tbody>\n",
       "    <tr>\n",
       "      <th>0</th>\n",
       "      <td>SEPHORA</td>\n",
       "      <td>Cosmetics Shop</td>\n",
       "      <td>43.775017</td>\n",
       "      <td>-79.258109</td>\n",
       "    </tr>\n",
       "    <tr>\n",
       "      <th>1</th>\n",
       "      <td>Disney Store</td>\n",
       "      <td>Toy / Game Store</td>\n",
       "      <td>43.775537</td>\n",
       "      <td>-79.256833</td>\n",
       "    </tr>\n",
       "    <tr>\n",
       "      <th>2</th>\n",
       "      <td>American Eagle Store</td>\n",
       "      <td>Clothing Store</td>\n",
       "      <td>43.776012</td>\n",
       "      <td>-79.258334</td>\n",
       "    </tr>\n",
       "    <tr>\n",
       "      <th>3</th>\n",
       "      <td>St. Andrews Fish &amp; Chips</td>\n",
       "      <td>Fish &amp; Chips Shop</td>\n",
       "      <td>43.771865</td>\n",
       "      <td>-79.252645</td>\n",
       "    </tr>\n",
       "    <tr>\n",
       "      <th>4</th>\n",
       "      <td>Tommy Hilfiger</td>\n",
       "      <td>Clothing Store</td>\n",
       "      <td>43.776015</td>\n",
       "      <td>-79.257369</td>\n",
       "    </tr>\n",
       "  </tbody>\n",
       "</table>\n",
       "</div>"
      ],
      "text/plain": [
       "                       name         categories        lat        lng\n",
       "0                   SEPHORA     Cosmetics Shop  43.775017 -79.258109\n",
       "1              Disney Store   Toy / Game Store  43.775537 -79.256833\n",
       "2      American Eagle Store     Clothing Store  43.776012 -79.258334\n",
       "3  St. Andrews Fish & Chips  Fish & Chips Shop  43.771865 -79.252645\n",
       "4            Tommy Hilfiger     Clothing Store  43.776015 -79.257369"
      ]
     },
     "execution_count": 21,
     "metadata": {},
     "output_type": "execute_result"
    }
   ],
   "source": [
    "nearby_venues['venue.categories'] = nearby_venues.apply(get_category_type, axis=1)\n",
    "\n",
    "# Clean columns\n",
    "nearby_venues.columns = [col.split(\".\")[-1] for col in nearby_venues.columns]\n",
    "nearby_venues.head(5)"
   ]
  },
  {
   "cell_type": "code",
   "execution_count": 22,
   "metadata": {},
   "outputs": [
    {
     "data": {
      "text/plain": [
       "Clothing Store      7\n",
       "Coffee Shop         6\n",
       "Restaurant          4\n",
       "Food Court          2\n",
       "Pharmacy            2\n",
       "Sandwich Place      2\n",
       "Gas Station         2\n",
       "Intersection        2\n",
       "Department Store    2\n",
       "Shopping Mall       1\n",
       "Name: categories, dtype: int64"
      ]
     },
     "execution_count": 22,
     "metadata": {},
     "output_type": "execute_result"
    }
   ],
   "source": [
    "# Top 10 Categories\n",
    "a=pd.Series(nearby_venues.categories)\n",
    "a.value_counts()[:10]"
   ]
  },
  {
   "cell_type": "code",
   "execution_count": 23,
   "metadata": {},
   "outputs": [],
   "source": [
    "def getNearbyVenues(names, latitudes, longitudes, radius=700):\n",
    "    \n",
    "    venues_list=[]\n",
    "    for name, lat, lng in zip(names, latitudes, longitudes):\n",
    "        print(name)\n",
    "            \n",
    "        url = 'https://api.foursquare.com/v2/venues/explore?&client_id={}&client_secret={}&v={}&ll={},{}&radius={}&limit={}'.format(\n",
    "            CLIENT_ID, \n",
    "            CLIENT_SECRET, \n",
    "            VERSION, \n",
    "            lat, \n",
    "            lng, \n",
    "            radius, \n",
    "            LIMIT)\n",
    "            \n",
    "        # making GET request\n",
    "        venue_results = requests.get(url).json()[\"response\"]['groups'][0]['items']\n",
    "        \n",
    "        # return only relevant information for each nearby venue\n",
    "        venues_list.append([(\n",
    "            name, \n",
    "            lat, \n",
    "            lng, \n",
    "            v['venue']['name'], \n",
    "            v['venue']['location']['lat'], \n",
    "            v['venue']['location']['lng'],  \n",
    "            v['venue']['categories'][0]['name']) for v in venue_results])\n",
    "\n",
    "    nearby_venues = pd.DataFrame([item for venue_list in venues_list for item in venue_list])\n",
    "    nearby_venues.columns = ['Neighborhood', \n",
    "                  'Neighborhood Latitude', \n",
    "                  'Neighborhood Longitude', \n",
    "                  'Venue', \n",
    "                  'Venue Latitude', \n",
    "                  'Venue Longitude', \n",
    "                  'Venue Category']\n",
    "    \n",
    "    return(nearby_venues)"
   ]
  },
  {
   "cell_type": "code",
   "execution_count": null,
   "metadata": {},
   "outputs": [
    {
     "name": "stdout",
     "output_type": "stream",
     "text": [
      "Malvern, Rouge\n",
      "Rouge Hill, Port Union, Highland Creek\n",
      "Guildwood, Morningside, West Hill\n",
      "Woburn\n",
      "Cedarbrae\n",
      "Scarborough Village\n",
      "Kennedy Park, Ionview, East Birchmount Park\n",
      "Golden Mile, Clairlea, Oakridge\n",
      "Cliffside, Cliffcrest, Scarborough Village West\n",
      "Birch Cliff, Cliffside West\n",
      "Dorset Park, Wexford Heights, Scarborough Town Centre\n",
      "Wexford, Maryvale\n",
      "Agincourt\n",
      "Clarks Corners, Tam O'Shanter, Sullivan\n",
      "Milliken, Agincourt North, Steeles East, L'Amoreaux East\n",
      "Steeles West, L'Amoreaux West\n",
      "Upper Rouge\n",
      "Hillcrest Village\n",
      "Fairview, Henry Farm, Oriole\n",
      "Bayview Village\n",
      "York Mills, Silver Hills\n",
      "Willowdale, Newtonbrook\n",
      "Willowdale, Willowdale East\n",
      "York Mills West\n",
      "Willowdale, Willowdale West\n",
      "Parkwoods\n",
      "Don Mills\n",
      "Don Mills\n",
      "Bathurst Manor, Wilson Heights, Downsview North\n",
      "Northwood Park, York University\n",
      "Downsview\n",
      "Downsview\n",
      "Downsview\n",
      "Downsview\n",
      "Victoria Village\n",
      "Parkview Hill, Woodbine Gardens\n",
      "Woodbine Heights\n",
      "The Beaches\n",
      "Leaside\n",
      "Thorncliffe Park\n",
      "East Toronto, Broadview North (Old East York)\n",
      "The Danforth West, Riverdale\n",
      "India Bazaar, The Beaches West\n",
      "Studio District\n",
      "Lawrence Park\n",
      "Davisville North\n",
      "North Toronto West,  Lawrence Park\n",
      "Davisville\n",
      "Moore Park, Summerhill East\n",
      "Summerhill West, Rathnelly, South Hill, Forest Hill SE, Deer Park\n",
      "Rosedale\n",
      "St. James Town, Cabbagetown\n",
      "Church and Wellesley\n",
      "Regent Park, Harbourfront\n",
      "Garden District, Ryerson\n",
      "St. James Town\n",
      "Berczy Park\n",
      "Central Bay Street\n",
      "Richmond, Adelaide, King\n",
      "Harbourfront East, Union Station, Toronto Islands\n",
      "Toronto Dominion Centre, Design Exchange\n",
      "Commerce Court, Victoria Hotel\n",
      "Bedford Park, Lawrence Manor East\n",
      "Roselawn\n",
      "Forest Hill North & West, Forest Hill Road Park\n",
      "The Annex, North Midtown, Yorkville\n",
      "University of Toronto, Harbord\n",
      "Kensington Market, Chinatown, Grange Park\n",
      "CN Tower, King and Spadina, Railway Lands, Harbourfront West, Bathurst Quay, South Niagara, Island airport\n",
      "Stn A PO Boxes\n",
      "First Canadian Place, Underground city\n",
      "Lawrence Manor, Lawrence Heights\n",
      "Glencairn\n",
      "Humewood-Cedarvale\n",
      "Caledonia-Fairbanks\n"
     ]
    }
   ],
   "source": [
    "# Nearby Venues\n",
    "Scarborough_venues = getNearbyVenues(names=df_2['Neighborhood'],\n",
    "                                   latitudes=df_2['Latitude'],\n",
    "                                   longitudes=df_2['Longitude']\n",
    "                                  )"
   ]
  },
  {
   "cell_type": "code",
   "execution_count": null,
   "metadata": {},
   "outputs": [],
   "source": [
    "print('There are {} uniques categories.'.format(len(Scarborough_venues['Venue Category'].unique())))\n",
    "Scarborough_venues.groupby('Neighborhood').count().head()"
   ]
  },
  {
   "cell_type": "markdown",
   "metadata": {},
   "source": [
    "### One Hot Encoding of Features"
   ]
  },
  {
   "cell_type": "code",
   "execution_count": null,
   "metadata": {},
   "outputs": [],
   "source": [
    "# One hot encoding\n",
    "Scarborough_onehot = pd.get_dummies(Scarborough_venues[['Venue Category']], prefix=\"\", prefix_sep=\"\")\n",
    "\n",
    "# Add neighborhood column back to dataframe\n",
    "Scarborough_onehot['Neighborhood'] = Scarborough_venues['Neighborhood'] \n",
    "\n",
    "# Move neighborhood column to the first column\n",
    "fixed_columns = [Scarborough_onehot.columns[-1]] + list(Scarborough_onehot.columns[:-1])\n",
    "Scarborough_onehot = Scarborough_onehot[fixed_columns]\n",
    "Scarborough_grouped = Scarborough_onehot.groupby('Neighborhood').mean().reset_index()\n",
    "Scarborough_onehot.head(5)"
   ]
  },
  {
   "cell_type": "code",
   "execution_count": null,
   "metadata": {},
   "outputs": [],
   "source": [
    "num_top_venues = 5\n",
    "for hood in Scarborough_grouped['Neighborhood']:\n",
    "    print(\"---- \"+hood+\" ----\")\n",
    "    temp =Scarborough_grouped[Scarborough_grouped['Neighborhood'] == hood].T.reset_index()\n",
    "    temp.columns = ['venue','freq']\n",
    "    temp = temp.iloc[1:]\n",
    "    temp['freq'] = temp['freq'].astype(float)\n",
    "    temp = temp.round({'freq': 2})\n",
    "    print(temp.sort_values('freq', ascending=False).reset_index(drop=True).head(num_top_venues))\n",
    "    print('\\n')"
   ]
  },
  {
   "cell_type": "code",
   "execution_count": null,
   "metadata": {},
   "outputs": [],
   "source": [
    "def return_most_common_venues(row, num_top_venues):\n",
    "    row_categories = row.iloc[1:]\n",
    "    row_categories_sorted = row_categories.sort_values(ascending=False)\n",
    "    \n",
    "    return row_categories_sorted.index.values[0:num_top_venues]"
   ]
  },
  {
   "cell_type": "markdown",
   "metadata": {},
   "source": [
    "### Most common venues near neighborhood"
   ]
  },
  {
   "cell_type": "code",
   "execution_count": null,
   "metadata": {},
   "outputs": [],
   "source": [
    "import numpy as np\n",
    "num_top_venues = 10\n",
    "\n",
    "indicators = ['st', 'nd', 'rd']\n",
    "\n",
    "columns = ['Neighborhood']\n",
    "for ind in np.arange(num_top_venues):\n",
    "    try:\n",
    "        columns.append('{}{} Most Common Venue'.format(ind+1, indicators[ind]))\n",
    "    except:\n",
    "        columns.append('{}th Most Common Venue'.format(ind+1))\n",
    "\n",
    "neighborhoods_venues_sorted = pd.DataFrame(columns=columns)\n",
    "neighborhoods_venues_sorted['Neighborhood'] = Scarborough_grouped['Neighborhood']\n",
    "\n",
    "for ind in np.arange(Scarborough_grouped.shape[0]):\n",
    "    neighborhoods_venues_sorted.iloc[ind, 1:] = return_most_common_venues(Scarborough_grouped.iloc[ind, :], num_top_venues)\n",
    "\n",
    "neighborhoods_venues_sorted.head()"
   ]
  },
  {
   "cell_type": "markdown",
   "metadata": {},
   "source": [
    "### K-Means Clustering Approach"
   ]
  },
  {
   "cell_type": "code",
   "execution_count": null,
   "metadata": {},
   "outputs": [],
   "source": [
    "# Using K-Means to cluster neighborhood into 3 clusters\n",
    "Scarborough_grouped_clustering = Scarborough_grouped.drop('Neighborhood', 1)\n",
    "kmeans = KMeans(n_clusters=3, random_state=0).fit(Scarborough_grouped_clustering)\n",
    "kmeans.labels_"
   ]
  },
  {
   "cell_type": "code",
   "execution_count": null,
   "metadata": {},
   "outputs": [],
   "source": [
    "neighborhoods_venues_sorted.insert(0, 'Cluster Labels', kmeans.labels_)\n",
    "\n",
    "Scarborough_merged =df_2.iloc[:16,:]\n",
    "\n",
    "# merge toronto_grouped with toronto_data to add latitude/longitude for each neighborhood\n",
    "Scarborough_merged = Scarborough_merged.join(neighborhoods_venues_sorted.set_index('Neighborhood'), on='Neighborhood')\n",
    "\n",
    "Scarborough_merged.head()# check the last columns!"
   ]
  },
  {
   "cell_type": "markdown",
   "metadata": {},
   "source": [
    "### Map of Clusters"
   ]
  },
  {
   "cell_type": "code",
   "execution_count": null,
   "metadata": {},
   "outputs": [],
   "source": [
    "kclusters = 10\n",
    "\n",
    "# create map\n",
    "map_clusters = folium.Map(location=[latitude_x, longitude_y], zoom_start=11)\n",
    "\n",
    "# set color scheme for the clusters\n",
    "x = np.arange(kclusters)\n",
    "colors_array = cm.rainbow(np.linspace(0, 1, kclusters))\n",
    "rainbow = [colors.rgb2hex(i) for i in colors_array]\n",
    "print(rainbow)\n",
    "# add markers to the map\n",
    "\n",
    "markers_colors = []\n",
    "for lat, lon, nei , cluster in zip(Scarborough_merged['Latitude'], \n",
    "                                   Scarborough_merged['Longitude'], \n",
    "                                   Scarborough_merged['Neighborhood'], \n",
    "                                   Scarborough_merged['Cluster Labels']):\n",
    "    label = folium.Popup(str(nei) + ' Cluster ' + str(cluster), parse_html=True)\n",
    "    folium.CircleMarker(\n",
    "        [lat, lon],\n",
    "        radius=5,\n",
    "        popup=label,\n",
    "        color=rainbow[cluster-1],\n",
    "        fill=True,\n",
    "        fill_color=rainbow[cluster-1],\n",
    "        fill_opacity=0.7).add_to(map_clusters)\n",
    "       \n",
    "map_clusters"
   ]
  },
  {
   "cell_type": "code",
   "execution_count": null,
   "metadata": {},
   "outputs": [],
   "source": [
    "df1=Scarborough_merged.loc[Scarborough_merged['Cluster Labels'] == 0,Scarborough_merged.columns[[2] + list(range(5, Scarborough_merged.shape[1]))]]\n",
    "df2=Scarborough_merged.loc[Scarborough_merged['Cluster Labels'] == 1,Scarborough_merged.columns[[2] + list(range(5, Scarborough_merged.shape[1]))]]\n",
    "df3=Scarborough_merged.loc[Scarborough_merged['Cluster Labels'] == 2,Scarborough_merged.columns[[2] + list(range(5, Scarborough_merged.shape[1]))]]"
   ]
  },
  {
   "cell_type": "code",
   "execution_count": null,
   "metadata": {},
   "outputs": [],
   "source": [
    "Scarborough_Avg_HousingPrice=pd.DataFrame({\"Neighborhood\":df_2[\"Neighborhood\"],\n",
    "                                      \"Average_Housing_Price\":[335000.0,286600.0,175000.0,225900.0,219400.0,\n",
    "                                                               573900.0,225000.0,370500.0,370500.0,433500.0,279200.0,\n",
    "                                                               279200.0,225000.0,370500.,255400.0,433500.0,433500.0,\n",
    "                                                               435000.0,289500.0,265000.0,285900.0,239400.0,\n",
    "                                                               589900.0,295000.0,380500.0,378500.0,438500.0,229200.0,\n",
    "                                                               229200.0,365000.0,388500.,285400.0,493500.0,477500.0,378000.0,316600.0,195000.0,225900.0,219400.0,\n",
    "                                                               573900.0,367000.0,370500.0,370500.0,363500.0,279200.0,\n",
    "                                                               279200.0,271000.0,370500.,255400.0,383500.0,433500.0,335000.0,286600.0,185000.0,225900.0,219400.0,\n",
    "                                                               573900.0,329000.0,370500.0,370500.0,533500.0,279200.0,\n",
    "                                                               279200.0,375000.0,370500.,255400.0,493500.0,433500.0,335000.0,286600.0,165000.0,225900.0,219400.0,\n",
    "                                                               573900.0,425000.0,370500.0,370500.0,433500.0,279200.0,\n",
    "                                                               279200.0,195000.0,370500.,255400.0,403500.0,433500.0,335000.0,286600.0,187000.0,225900.0,219400.0,\n",
    "                                                               573900.0,325000.0,370500.0,370500.0,333500.0,279200.0,\n",
    "                                                               279200.0,289000.0,370500.,255400.0,413500.0,433500.0,254800.0\n",
    "                                                              \n",
    "                                                              \n",
    "                                                              ]})"
   ]
  },
  {
   "cell_type": "code",
   "execution_count": null,
   "metadata": {},
   "outputs": [],
   "source": [
    "Scarborough_Avg_HousingPrice.set_index('Neighborhood',inplace=True,drop=True)"
   ]
  },
  {
   "cell_type": "code",
   "execution_count": null,
   "metadata": {},
   "outputs": [],
   "source": [
    "Scarborough_Avg_HousingPrice.plot(kind='bar',figsize=(24,18),alpha=0.75)"
   ]
  },
  {
   "cell_type": "markdown",
   "metadata": {},
   "source": [
    "### School Rating by Clusters"
   ]
  },
  {
   "cell_type": "code",
   "execution_count": null,
   "metadata": {},
   "outputs": [],
   "source": [
    "clusters=pd.DataFrame({\"Cluster1\":df1[\"Neighborhood\"],\n",
    "                      \"Cluster2\":df2[\"Neighborhood\"],\n",
    "                      \"Cluster4\":df3[\"Neighborhood\"]})\n",
    "clusters = clusters.replace(np.nan, '', regex=True)"
   ]
  },
  {
   "cell_type": "code",
   "execution_count": null,
   "metadata": {},
   "outputs": [],
   "source": [
    "new_Scarborough=Scarborough_merged.set_index(\"Neighborhood\",drop=True)\n",
    "#Source:https://www.greatschools.org\n",
    "Scarborough_school_ratings=pd.DataFrame({\"Neighborhood\":df[\"Neighborhood\"],\n",
    "                                      \"Top School Rating\":[7,9,5,8,10,10,7,10,1,2,1,2,7,2,3,2,6,\n",
    "                                                           5,4,8,9,9,6,6,4,5,4,6,8,10,8,9,6,2,\n",
    "                                                           10,2,5,8,9,6,6,10,8,9,1,2,3,4,5,6,9,\n",
    "                                                           8,5,9,6,9,6,4,8,10,2,5,6,3,9,8,7,\n",
    "                                                           7,8,5,8,9,1,5,4,7,2,3,6,6,9,4,8,7,\n",
    "                                                           4,8,9,2,6,4,7,5,10,4,6,8,9,7,5,6,5,8,7\n",
    "                                                           ]})"
   ]
  },
  {
   "cell_type": "code",
   "execution_count": null,
   "metadata": {},
   "outputs": [],
   "source": [
    "Scarborough_school_ratings.set_index('Neighborhood',inplace=True,drop=True)"
   ]
  },
  {
   "cell_type": "code",
   "execution_count": null,
   "metadata": {},
   "outputs": [],
   "source": [
    "Scarborough_school_ratings.plot(kind='bar',figsize=(16,10),color='green',alpha=0.75);"
   ]
  },
  {
   "cell_type": "markdown",
   "metadata": {},
   "source": [
    "Conclusion: In this project, using k-means cluster algorithm I separated the neighborhood into 10(Ten) different clusters and for 103 different lattitude and logitude from dataset, which have very-similar neighborhoods around them. Using the charts above results presented to a particular neighborhood based on average house prices and school rating have been made."
   ]
  },
  {
   "cell_type": "code",
   "execution_count": null,
   "metadata": {},
   "outputs": [],
   "source": []
  }
 ],
 "metadata": {
  "kernelspec": {
   "display_name": "Python 3",
   "language": "python",
   "name": "python3"
  },
  "language_info": {
   "codemirror_mode": {
    "name": "ipython",
    "version": 3
   },
   "file_extension": ".py",
   "mimetype": "text/x-python",
   "name": "python",
   "nbconvert_exporter": "python",
   "pygments_lexer": "ipython3",
   "version": "3.7.6"
  }
 },
 "nbformat": 4,
 "nbformat_minor": 2
}
