{
 "cells": [
  {
   "cell_type": "markdown",
   "metadata": {},
   "source": [
    "# Segmenting and Clustering Neighborhoods in Toronto"
   ]
  },
  {
   "cell_type": "markdown",
   "metadata": {},
   "source": [
    "## Part 1"
   ]
  },
  {
   "cell_type": "code",
   "execution_count": 14,
   "metadata": {},
   "outputs": [],
   "source": [
    "import pandas as pd\n",
    "import numpy as np"
   ]
  },
  {
   "cell_type": "code",
   "execution_count": 15,
   "metadata": {},
   "outputs": [
    {
     "data": {
      "text/html": [
       "<div>\n",
       "<style scoped>\n",
       "    .dataframe tbody tr th:only-of-type {\n",
       "        vertical-align: middle;\n",
       "    }\n",
       "\n",
       "    .dataframe tbody tr th {\n",
       "        vertical-align: top;\n",
       "    }\n",
       "\n",
       "    .dataframe thead th {\n",
       "        text-align: right;\n",
       "    }\n",
       "</style>\n",
       "<table border=\"1\" class=\"dataframe\">\n",
       "  <thead>\n",
       "    <tr style=\"text-align: right;\">\n",
       "      <th></th>\n",
       "      <th>Postcode</th>\n",
       "      <th>Borough</th>\n",
       "      <th>Neighbourhood</th>\n",
       "    </tr>\n",
       "  </thead>\n",
       "  <tbody>\n",
       "    <tr>\n",
       "      <th>0</th>\n",
       "      <td>M1A</td>\n",
       "      <td>Not assigned</td>\n",
       "      <td>Not assigned</td>\n",
       "    </tr>\n",
       "    <tr>\n",
       "      <th>1</th>\n",
       "      <td>M2A</td>\n",
       "      <td>Not assigned</td>\n",
       "      <td>Not assigned</td>\n",
       "    </tr>\n",
       "    <tr>\n",
       "      <th>2</th>\n",
       "      <td>M3A</td>\n",
       "      <td>North York</td>\n",
       "      <td>Parkwoods</td>\n",
       "    </tr>\n",
       "    <tr>\n",
       "      <th>3</th>\n",
       "      <td>M4A</td>\n",
       "      <td>North York</td>\n",
       "      <td>Victoria Village</td>\n",
       "    </tr>\n",
       "    <tr>\n",
       "      <th>4</th>\n",
       "      <td>M5A</td>\n",
       "      <td>Downtown Toronto</td>\n",
       "      <td>Harbourfront</td>\n",
       "    </tr>\n",
       "  </tbody>\n",
       "</table>\n",
       "</div>"
      ],
      "text/plain": [
       "  Postcode           Borough     Neighbourhood\n",
       "0      M1A      Not assigned      Not assigned\n",
       "1      M2A      Not assigned      Not assigned\n",
       "2      M3A        North York         Parkwoods\n",
       "3      M4A        North York  Victoria Village\n",
       "4      M5A  Downtown Toronto      Harbourfront"
      ]
     },
     "execution_count": 15,
     "metadata": {},
     "output_type": "execute_result"
    }
   ],
   "source": [
    "raw_df = pd.read_html('https://en.wikipedia.org/w/index.php?title=List_of_postal_codes_of_Canada:_M&direction=next&oldid=942655364')\n",
    "df=raw_df[0]\n",
    "df.head(5)"
   ]
  },
  {
   "cell_type": "code",
   "execution_count": 16,
   "metadata": {},
   "outputs": [
    {
     "data": {
      "text/html": [
       "<div>\n",
       "<style scoped>\n",
       "    .dataframe tbody tr th:only-of-type {\n",
       "        vertical-align: middle;\n",
       "    }\n",
       "\n",
       "    .dataframe tbody tr th {\n",
       "        vertical-align: top;\n",
       "    }\n",
       "\n",
       "    .dataframe thead th {\n",
       "        text-align: right;\n",
       "    }\n",
       "</style>\n",
       "<table border=\"1\" class=\"dataframe\">\n",
       "  <thead>\n",
       "    <tr style=\"text-align: right;\">\n",
       "      <th></th>\n",
       "      <th>Postcode</th>\n",
       "      <th>Borough</th>\n",
       "      <th>Neighbourhood</th>\n",
       "    </tr>\n",
       "  </thead>\n",
       "  <tbody>\n",
       "    <tr>\n",
       "      <th>0</th>\n",
       "      <td>M3A</td>\n",
       "      <td>North York</td>\n",
       "      <td>Parkwoods</td>\n",
       "    </tr>\n",
       "    <tr>\n",
       "      <th>1</th>\n",
       "      <td>M4A</td>\n",
       "      <td>North York</td>\n",
       "      <td>Victoria Village</td>\n",
       "    </tr>\n",
       "    <tr>\n",
       "      <th>2</th>\n",
       "      <td>M5A</td>\n",
       "      <td>Downtown Toronto</td>\n",
       "      <td>Harbourfront</td>\n",
       "    </tr>\n",
       "    <tr>\n",
       "      <th>3</th>\n",
       "      <td>M6A</td>\n",
       "      <td>North York</td>\n",
       "      <td>Lawrence Heights</td>\n",
       "    </tr>\n",
       "    <tr>\n",
       "      <th>4</th>\n",
       "      <td>M6A</td>\n",
       "      <td>North York</td>\n",
       "      <td>Lawrence Manor</td>\n",
       "    </tr>\n",
       "  </tbody>\n",
       "</table>\n",
       "</div>"
      ],
      "text/plain": [
       "  Postcode           Borough     Neighbourhood\n",
       "0      M3A        North York         Parkwoods\n",
       "1      M4A        North York  Victoria Village\n",
       "2      M5A  Downtown Toronto      Harbourfront\n",
       "3      M6A        North York  Lawrence Heights\n",
       "4      M6A        North York    Lawrence Manor"
      ]
     },
     "execution_count": 16,
     "metadata": {},
     "output_type": "execute_result"
    }
   ],
   "source": [
    "df_cleaned = df[df['Borough'] != 'Not assigned'].reset_index(drop=True)\n",
    "df_cleaned.head(5)"
   ]
  },
  {
   "cell_type": "code",
   "execution_count": 17,
   "metadata": {},
   "outputs": [
    {
     "data": {
      "text/html": [
       "<div>\n",
       "<style scoped>\n",
       "    .dataframe tbody tr th:only-of-type {\n",
       "        vertical-align: middle;\n",
       "    }\n",
       "\n",
       "    .dataframe tbody tr th {\n",
       "        vertical-align: top;\n",
       "    }\n",
       "\n",
       "    .dataframe thead th {\n",
       "        text-align: right;\n",
       "    }\n",
       "</style>\n",
       "<table border=\"1\" class=\"dataframe\">\n",
       "  <thead>\n",
       "    <tr style=\"text-align: right;\">\n",
       "      <th></th>\n",
       "      <th>Postcode</th>\n",
       "      <th>Borough</th>\n",
       "      <th>Neighbourhood</th>\n",
       "    </tr>\n",
       "  </thead>\n",
       "  <tbody>\n",
       "    <tr>\n",
       "      <th>0</th>\n",
       "      <td>M3A</td>\n",
       "      <td>North York</td>\n",
       "      <td>Parkwoods</td>\n",
       "    </tr>\n",
       "    <tr>\n",
       "      <th>1</th>\n",
       "      <td>M4A</td>\n",
       "      <td>North York</td>\n",
       "      <td>Victoria Village</td>\n",
       "    </tr>\n",
       "    <tr>\n",
       "      <th>2</th>\n",
       "      <td>M5A</td>\n",
       "      <td>Downtown Toronto</td>\n",
       "      <td>Harbourfront</td>\n",
       "    </tr>\n",
       "    <tr>\n",
       "      <th>3</th>\n",
       "      <td>M6A</td>\n",
       "      <td>North York</td>\n",
       "      <td>Lawrence Heights, Lawrence Manor</td>\n",
       "    </tr>\n",
       "    <tr>\n",
       "      <th>4</th>\n",
       "      <td>M7A</td>\n",
       "      <td>Downtown Toronto</td>\n",
       "      <td>Queen's Park</td>\n",
       "    </tr>\n",
       "  </tbody>\n",
       "</table>\n",
       "</div>"
      ],
      "text/plain": [
       "  Postcode           Borough                     Neighbourhood\n",
       "0      M3A        North York                         Parkwoods\n",
       "1      M4A        North York                  Victoria Village\n",
       "2      M5A  Downtown Toronto                      Harbourfront\n",
       "3      M6A        North York  Lawrence Heights, Lawrence Manor\n",
       "4      M7A  Downtown Toronto                      Queen's Park"
      ]
     },
     "execution_count": 17,
     "metadata": {},
     "output_type": "execute_result"
    }
   ],
   "source": [
    "df_cleaned = df_cleaned.groupby(['Postcode', 'Borough'], sort = False).agg(lambda x: ', '.join(x))\n",
    "df_cleaned = df_cleaned.reset_index()\n",
    "df_cleaned.head(5)"
   ]
  },
  {
   "cell_type": "code",
   "execution_count": 18,
   "metadata": {},
   "outputs": [
    {
     "data": {
      "text/plain": [
       "(103, 3)"
      ]
     },
     "execution_count": 18,
     "metadata": {},
     "output_type": "execute_result"
    }
   ],
   "source": [
    "df_cleaned.shape"
   ]
  },
  {
   "cell_type": "markdown",
   "metadata": {},
   "source": [
    "## Part 2"
   ]
  },
  {
   "cell_type": "code",
   "execution_count": 19,
   "metadata": {},
   "outputs": [
    {
     "data": {
      "text/html": [
       "<div>\n",
       "<style scoped>\n",
       "    .dataframe tbody tr th:only-of-type {\n",
       "        vertical-align: middle;\n",
       "    }\n",
       "\n",
       "    .dataframe tbody tr th {\n",
       "        vertical-align: top;\n",
       "    }\n",
       "\n",
       "    .dataframe thead th {\n",
       "        text-align: right;\n",
       "    }\n",
       "</style>\n",
       "<table border=\"1\" class=\"dataframe\">\n",
       "  <thead>\n",
       "    <tr style=\"text-align: right;\">\n",
       "      <th></th>\n",
       "      <th>Postal Code</th>\n",
       "      <th>Latitude</th>\n",
       "      <th>Longitude</th>\n",
       "    </tr>\n",
       "  </thead>\n",
       "  <tbody>\n",
       "    <tr>\n",
       "      <th>0</th>\n",
       "      <td>M1B</td>\n",
       "      <td>43.806686</td>\n",
       "      <td>-79.194353</td>\n",
       "    </tr>\n",
       "    <tr>\n",
       "      <th>1</th>\n",
       "      <td>M1C</td>\n",
       "      <td>43.784535</td>\n",
       "      <td>-79.160497</td>\n",
       "    </tr>\n",
       "    <tr>\n",
       "      <th>2</th>\n",
       "      <td>M1E</td>\n",
       "      <td>43.763573</td>\n",
       "      <td>-79.188711</td>\n",
       "    </tr>\n",
       "    <tr>\n",
       "      <th>3</th>\n",
       "      <td>M1G</td>\n",
       "      <td>43.770992</td>\n",
       "      <td>-79.216917</td>\n",
       "    </tr>\n",
       "    <tr>\n",
       "      <th>4</th>\n",
       "      <td>M1H</td>\n",
       "      <td>43.773136</td>\n",
       "      <td>-79.239476</td>\n",
       "    </tr>\n",
       "  </tbody>\n",
       "</table>\n",
       "</div>"
      ],
      "text/plain": [
       "  Postal Code   Latitude  Longitude\n",
       "0         M1B  43.806686 -79.194353\n",
       "1         M1C  43.784535 -79.160497\n",
       "2         M1E  43.763573 -79.188711\n",
       "3         M1G  43.770992 -79.216917\n",
       "4         M1H  43.773136 -79.239476"
      ]
     },
     "execution_count": 19,
     "metadata": {},
     "output_type": "execute_result"
    }
   ],
   "source": [
    "location = pd.read_csv('http://cocl.us/Geospatial_data')\n",
    "location.head()"
   ]
  },
  {
   "cell_type": "code",
   "execution_count": 20,
   "metadata": {},
   "outputs": [
    {
     "data": {
      "text/html": [
       "<div>\n",
       "<style scoped>\n",
       "    .dataframe tbody tr th:only-of-type {\n",
       "        vertical-align: middle;\n",
       "    }\n",
       "\n",
       "    .dataframe tbody tr th {\n",
       "        vertical-align: top;\n",
       "    }\n",
       "\n",
       "    .dataframe thead th {\n",
       "        text-align: right;\n",
       "    }\n",
       "</style>\n",
       "<table border=\"1\" class=\"dataframe\">\n",
       "  <thead>\n",
       "    <tr style=\"text-align: right;\">\n",
       "      <th></th>\n",
       "      <th>Postcode</th>\n",
       "      <th>Borough</th>\n",
       "      <th>Neighbourhood</th>\n",
       "      <th>Latitude</th>\n",
       "      <th>Longitude</th>\n",
       "    </tr>\n",
       "  </thead>\n",
       "  <tbody>\n",
       "    <tr>\n",
       "      <th>0</th>\n",
       "      <td>M3A</td>\n",
       "      <td>North York</td>\n",
       "      <td>Parkwoods</td>\n",
       "      <td>43.753259</td>\n",
       "      <td>-79.329656</td>\n",
       "    </tr>\n",
       "    <tr>\n",
       "      <th>1</th>\n",
       "      <td>M4A</td>\n",
       "      <td>North York</td>\n",
       "      <td>Victoria Village</td>\n",
       "      <td>43.725882</td>\n",
       "      <td>-79.315572</td>\n",
       "    </tr>\n",
       "    <tr>\n",
       "      <th>2</th>\n",
       "      <td>M5A</td>\n",
       "      <td>Downtown Toronto</td>\n",
       "      <td>Harbourfront</td>\n",
       "      <td>43.654260</td>\n",
       "      <td>-79.360636</td>\n",
       "    </tr>\n",
       "    <tr>\n",
       "      <th>3</th>\n",
       "      <td>M6A</td>\n",
       "      <td>North York</td>\n",
       "      <td>Lawrence Heights, Lawrence Manor</td>\n",
       "      <td>43.718518</td>\n",
       "      <td>-79.464763</td>\n",
       "    </tr>\n",
       "    <tr>\n",
       "      <th>4</th>\n",
       "      <td>M7A</td>\n",
       "      <td>Downtown Toronto</td>\n",
       "      <td>Queen's Park</td>\n",
       "      <td>43.662301</td>\n",
       "      <td>-79.389494</td>\n",
       "    </tr>\n",
       "    <tr>\n",
       "      <th>5</th>\n",
       "      <td>M9A</td>\n",
       "      <td>Etobicoke</td>\n",
       "      <td>Islington Avenue</td>\n",
       "      <td>43.667856</td>\n",
       "      <td>-79.532242</td>\n",
       "    </tr>\n",
       "    <tr>\n",
       "      <th>6</th>\n",
       "      <td>M1B</td>\n",
       "      <td>Scarborough</td>\n",
       "      <td>Rouge, Malvern</td>\n",
       "      <td>43.806686</td>\n",
       "      <td>-79.194353</td>\n",
       "    </tr>\n",
       "    <tr>\n",
       "      <th>7</th>\n",
       "      <td>M3B</td>\n",
       "      <td>North York</td>\n",
       "      <td>Don Mills North</td>\n",
       "      <td>43.745906</td>\n",
       "      <td>-79.352188</td>\n",
       "    </tr>\n",
       "    <tr>\n",
       "      <th>8</th>\n",
       "      <td>M4B</td>\n",
       "      <td>East York</td>\n",
       "      <td>Woodbine Gardens, Parkview Hill</td>\n",
       "      <td>43.706397</td>\n",
       "      <td>-79.309937</td>\n",
       "    </tr>\n",
       "    <tr>\n",
       "      <th>9</th>\n",
       "      <td>M5B</td>\n",
       "      <td>Downtown Toronto</td>\n",
       "      <td>Ryerson, Garden District</td>\n",
       "      <td>43.657162</td>\n",
       "      <td>-79.378937</td>\n",
       "    </tr>\n",
       "  </tbody>\n",
       "</table>\n",
       "</div>"
      ],
      "text/plain": [
       "  Postcode           Borough                     Neighbourhood   Latitude  \\\n",
       "0      M3A        North York                         Parkwoods  43.753259   \n",
       "1      M4A        North York                  Victoria Village  43.725882   \n",
       "2      M5A  Downtown Toronto                      Harbourfront  43.654260   \n",
       "3      M6A        North York  Lawrence Heights, Lawrence Manor  43.718518   \n",
       "4      M7A  Downtown Toronto                      Queen's Park  43.662301   \n",
       "5      M9A         Etobicoke                  Islington Avenue  43.667856   \n",
       "6      M1B       Scarborough                    Rouge, Malvern  43.806686   \n",
       "7      M3B        North York                   Don Mills North  43.745906   \n",
       "8      M4B         East York   Woodbine Gardens, Parkview Hill  43.706397   \n",
       "9      M5B  Downtown Toronto          Ryerson, Garden District  43.657162   \n",
       "\n",
       "   Longitude  \n",
       "0 -79.329656  \n",
       "1 -79.315572  \n",
       "2 -79.360636  \n",
       "3 -79.464763  \n",
       "4 -79.389494  \n",
       "5 -79.532242  \n",
       "6 -79.194353  \n",
       "7 -79.352188  \n",
       "8 -79.309937  \n",
       "9 -79.378937  "
      ]
     },
     "execution_count": 20,
     "metadata": {},
     "output_type": "execute_result"
    }
   ],
   "source": [
    "df_w_location = df_cleaned.merge(location,left_on='Postcode',right_on='Postal Code')\n",
    "new_df = df_w_location.drop(['Postal Code'], axis = 1)\n",
    "new_df.head(10)"
   ]
  },
  {
   "cell_type": "markdown",
   "metadata": {},
   "source": [
    "## Part 3"
   ]
  },
  {
   "cell_type": "code",
   "execution_count": 21,
   "metadata": {},
   "outputs": [
    {
     "data": {
      "text/plain": [
       "array(['North York', 'Downtown Toronto', 'Etobicoke', 'Scarborough',\n",
       "       'East York', 'York', 'East Toronto', 'West Toronto',\n",
       "       'Central Toronto', 'Mississauga'], dtype=object)"
      ]
     },
     "execution_count": 21,
     "metadata": {},
     "output_type": "execute_result"
    }
   ],
   "source": [
    "new_df['Borough'].unique()"
   ]
  },
  {
   "cell_type": "code",
   "execution_count": 22,
   "metadata": {},
   "outputs": [
    {
     "data": {
      "text/html": [
       "<div>\n",
       "<style scoped>\n",
       "    .dataframe tbody tr th:only-of-type {\n",
       "        vertical-align: middle;\n",
       "    }\n",
       "\n",
       "    .dataframe tbody tr th {\n",
       "        vertical-align: top;\n",
       "    }\n",
       "\n",
       "    .dataframe thead th {\n",
       "        text-align: right;\n",
       "    }\n",
       "</style>\n",
       "<table border=\"1\" class=\"dataframe\">\n",
       "  <thead>\n",
       "    <tr style=\"text-align: right;\">\n",
       "      <th></th>\n",
       "      <th>Postcode</th>\n",
       "      <th>Borough</th>\n",
       "      <th>Neighbourhood</th>\n",
       "      <th>Latitude</th>\n",
       "      <th>Longitude</th>\n",
       "    </tr>\n",
       "  </thead>\n",
       "  <tbody>\n",
       "    <tr>\n",
       "      <th>2</th>\n",
       "      <td>M5A</td>\n",
       "      <td>Downtown Toronto</td>\n",
       "      <td>Harbourfront</td>\n",
       "      <td>43.654260</td>\n",
       "      <td>-79.360636</td>\n",
       "    </tr>\n",
       "    <tr>\n",
       "      <th>4</th>\n",
       "      <td>M7A</td>\n",
       "      <td>Downtown Toronto</td>\n",
       "      <td>Queen's Park</td>\n",
       "      <td>43.662301</td>\n",
       "      <td>-79.389494</td>\n",
       "    </tr>\n",
       "    <tr>\n",
       "      <th>9</th>\n",
       "      <td>M5B</td>\n",
       "      <td>Downtown Toronto</td>\n",
       "      <td>Ryerson, Garden District</td>\n",
       "      <td>43.657162</td>\n",
       "      <td>-79.378937</td>\n",
       "    </tr>\n",
       "    <tr>\n",
       "      <th>15</th>\n",
       "      <td>M5C</td>\n",
       "      <td>Downtown Toronto</td>\n",
       "      <td>St. James Town</td>\n",
       "      <td>43.651494</td>\n",
       "      <td>-79.375418</td>\n",
       "    </tr>\n",
       "    <tr>\n",
       "      <th>19</th>\n",
       "      <td>M4E</td>\n",
       "      <td>East Toronto</td>\n",
       "      <td>The Beaches</td>\n",
       "      <td>43.676357</td>\n",
       "      <td>-79.293031</td>\n",
       "    </tr>\n",
       "  </tbody>\n",
       "</table>\n",
       "</div>"
      ],
      "text/plain": [
       "   Postcode           Borough             Neighbourhood   Latitude  Longitude\n",
       "2       M5A  Downtown Toronto              Harbourfront  43.654260 -79.360636\n",
       "4       M7A  Downtown Toronto              Queen's Park  43.662301 -79.389494\n",
       "9       M5B  Downtown Toronto  Ryerson, Garden District  43.657162 -79.378937\n",
       "15      M5C  Downtown Toronto            St. James Town  43.651494 -79.375418\n",
       "19      M4E      East Toronto               The Beaches  43.676357 -79.293031"
      ]
     },
     "execution_count": 22,
     "metadata": {},
     "output_type": "execute_result"
    }
   ],
   "source": [
    "new_df[new_df['Borough'].astype(str).str.contains('Toronto')].head()"
   ]
  },
  {
   "cell_type": "code",
   "execution_count": 23,
   "metadata": {},
   "outputs": [
    {
     "data": {
      "text/html": [
       "<div>\n",
       "<style scoped>\n",
       "    .dataframe tbody tr th:only-of-type {\n",
       "        vertical-align: middle;\n",
       "    }\n",
       "\n",
       "    .dataframe tbody tr th {\n",
       "        vertical-align: top;\n",
       "    }\n",
       "\n",
       "    .dataframe thead th {\n",
       "        text-align: right;\n",
       "    }\n",
       "</style>\n",
       "<table border=\"1\" class=\"dataframe\">\n",
       "  <thead>\n",
       "    <tr style=\"text-align: right;\">\n",
       "      <th></th>\n",
       "      <th>Postcode</th>\n",
       "      <th>Borough</th>\n",
       "      <th>Neighbourhood</th>\n",
       "      <th>Latitude</th>\n",
       "      <th>Longitude</th>\n",
       "    </tr>\n",
       "  </thead>\n",
       "  <tbody>\n",
       "    <tr>\n",
       "      <th>0</th>\n",
       "      <td>M3A</td>\n",
       "      <td>North York</td>\n",
       "      <td>Parkwoods</td>\n",
       "      <td>43.753259</td>\n",
       "      <td>-79.329656</td>\n",
       "    </tr>\n",
       "    <tr>\n",
       "      <th>1</th>\n",
       "      <td>M4A</td>\n",
       "      <td>North York</td>\n",
       "      <td>Victoria Village</td>\n",
       "      <td>43.725882</td>\n",
       "      <td>-79.315572</td>\n",
       "    </tr>\n",
       "    <tr>\n",
       "      <th>2</th>\n",
       "      <td>M5A</td>\n",
       "      <td>Downtown Toronto</td>\n",
       "      <td>Harbourfront</td>\n",
       "      <td>43.654260</td>\n",
       "      <td>-79.360636</td>\n",
       "    </tr>\n",
       "    <tr>\n",
       "      <th>3</th>\n",
       "      <td>M6A</td>\n",
       "      <td>North York</td>\n",
       "      <td>Lawrence Heights, Lawrence Manor</td>\n",
       "      <td>43.718518</td>\n",
       "      <td>-79.464763</td>\n",
       "    </tr>\n",
       "    <tr>\n",
       "      <th>4</th>\n",
       "      <td>M7A</td>\n",
       "      <td>Downtown Toronto</td>\n",
       "      <td>Queen's Park</td>\n",
       "      <td>43.662301</td>\n",
       "      <td>-79.389494</td>\n",
       "    </tr>\n",
       "  </tbody>\n",
       "</table>\n",
       "</div>"
      ],
      "text/plain": [
       "  Postcode           Borough                     Neighbourhood   Latitude  \\\n",
       "0      M3A        North York                         Parkwoods  43.753259   \n",
       "1      M4A        North York                  Victoria Village  43.725882   \n",
       "2      M5A  Downtown Toronto                      Harbourfront  43.654260   \n",
       "3      M6A        North York  Lawrence Heights, Lawrence Manor  43.718518   \n",
       "4      M7A  Downtown Toronto                      Queen's Park  43.662301   \n",
       "\n",
       "   Longitude  \n",
       "0 -79.329656  \n",
       "1 -79.315572  \n",
       "2 -79.360636  \n",
       "3 -79.464763  \n",
       "4 -79.389494  "
      ]
     },
     "execution_count": 23,
     "metadata": {},
     "output_type": "execute_result"
    }
   ],
   "source": [
    "new_df.reset_index()\n",
    "new_df.head()"
   ]
  },
  {
   "cell_type": "code",
   "execution_count": 24,
   "metadata": {},
   "outputs": [],
   "source": [
    "import folium"
   ]
  },
  {
   "cell_type": "code",
   "execution_count": 25,
   "metadata": {},
   "outputs": [],
   "source": [
    "latitude = 43.651070\n",
    "longitude = -79.347015\n",
    "map_toronto = folium.Map(location=[latitude, longitude], zoom_start=11)"
   ]
  },
  {
   "cell_type": "code",
   "execution_count": 26,
   "metadata": {},
   "outputs": [
    {
     "data": {
      "text/html": [
       "<div style=\"width:100%;\"><div style=\"position:relative;width:100%;height:0;padding-bottom:60%;\"><span style=\"color:#565656\">Make this Notebook Trusted to load map: File -> Trust Notebook</span><iframe src=\"about:blank\" style=\"position:absolute;width:100%;height:100%;left:0;top:0;border:none !important;\" data-html=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 onload=\"this.contentDocument.open();this.contentDocument.write(atob(this.getAttribute('data-html')));this.contentDocument.close();\" allowfullscreen webkitallowfullscreen mozallowfullscreen></iframe></div></div>"
      ],
      "text/plain": [
       "<folium.folium.Map at 0x1a674769048>"
      ]
     },
     "execution_count": 26,
     "metadata": {},
     "output_type": "execute_result"
    }
   ],
   "source": [
    "# add markers to map\n",
    "for lat, lng, borough, neighborhood in zip(new_df['Latitude'], new_df['Longitude'], new_df['Borough'], new_df['Neighbourhood']):\n",
    "    label = '{}, {}'.format(neighborhood, borough)\n",
    "    label = folium.Popup(label, parse_html=True)\n",
    "    folium.CircleMarker(\n",
    "        [lat, lng],\n",
    "        radius=5,\n",
    "        popup=label,\n",
    "        color='blue',\n",
    "        fill=True,\n",
    "        fill_color='#3186cc',\n",
    "        fill_opacity=0.7,\n",
    "        parse_html=False).add_to(map_toronto)  \n",
    "    \n",
    "map_toronto"
   ]
  },
  {
   "cell_type": "code",
   "execution_count": null,
   "metadata": {},
   "outputs": [],
   "source": []
  }
 ],
 "metadata": {
  "kernelspec": {
   "display_name": "Python 3",
   "language": "python",
   "name": "python3"
  },
  "language_info": {
   "codemirror_mode": {
    "name": "ipython",
    "version": 3
   },
   "file_extension": ".py",
   "mimetype": "text/x-python",
   "name": "python",
   "nbconvert_exporter": "python",
   "pygments_lexer": "ipython3",
   "version": "3.7.6"
  }
 },
 "nbformat": 4,
 "nbformat_minor": 4
}
